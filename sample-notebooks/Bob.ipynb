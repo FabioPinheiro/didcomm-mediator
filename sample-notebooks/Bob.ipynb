{
 "cells": [
  {
   "cell_type": "code",
   "execution_count": 1,
   "metadata": {},
   "outputs": [],
   "source": [
    "import json\n",
    "import base64\n",
    "import qrcode\n",
    "import requests\n",
    "import datetime\n",
    "import uuid\n",
    "import matplotlib.pyplot as plt\n",
    "from pymongo import MongoClient\n",
    "from typing import Optional, List\n",
    "from didcomm.common.types import DID, VerificationMethodType, VerificationMaterial, VerificationMaterialFormat\n",
    "from didcomm.did_doc.did_doc import DIDDoc, VerificationMethod, DIDCommService\n",
    "from didcomm.did_doc.did_resolver import DIDResolver\n",
    "from didcomm.message import Message, FromPrior\n",
    "from didcomm.secrets.secrets_resolver_demo import SecretsResolverDemo\n",
    "from didcomm.unpack import unpack, UnpackResult\n",
    "from didcomm.message import Attachment, AttachmentDataJson, AttachmentDataLinks\n",
    "from didcomm.common.resolvers import ResolversConfig\n",
    "from didcomm.pack_encrypted import pack_encrypted, PackEncryptedConfig, PackEncryptedResult\n",
    "from peerdid.core.did_doc_types import DIDCommServicePeerDID\n",
    "from didcomm.secrets.secrets_util import generate_x25519_keys_as_jwk_dict, generate_ed25519_keys_as_jwk_dict, jwk_to_secret\n",
    "from peerdid import peer_did\n",
    "from peerdid.did_doc import DIDDocPeerDID\n",
    "from peerdid.types import VerificationMaterialAuthentication, VerificationMethodTypeAuthentication, VerificationMaterialAgreement, VerificationMethodTypeAgreement, VerificationMaterialFormatPeerDID"
   ]
  },
  {
   "cell_type": "code",
   "execution_count": 2,
   "metadata": {},
   "outputs": [],
   "source": [
    "secrets_resolver = SecretsResolverDemo()"
   ]
  },
  {
   "cell_type": "code",
   "execution_count": 3,
   "metadata": {},
   "outputs": [],
   "source": [
    "class DIDResolverPeerDID(DIDResolver):\n",
    "    async def resolve(self, did: DID) -> DIDDoc:\n",
    "        did_doc_json = peer_did.resolve_peer_did(did, format = VerificationMaterialFormatPeerDID.JWK)\n",
    "        did_doc = DIDDocPeerDID.from_json(did_doc_json)\n",
    "\n",
    "        return DIDDoc(\n",
    "            did=did_doc.did,\n",
    "            key_agreement_kids = did_doc.agreement_kids,\n",
    "            authentication_kids = did_doc.auth_kids,\n",
    "            verification_methods = [\n",
    "                VerificationMethod(\n",
    "                    id = m.id,\n",
    "                    type = VerificationMethodType.JSON_WEB_KEY_2020,\n",
    "                    controller = m.controller,\n",
    "                    verification_material = VerificationMaterial(\n",
    "                        format = VerificationMaterialFormat.JWK,\n",
    "                        value = json.dumps(m.ver_material.value)\n",
    "                    )\n",
    "                )\n",
    "                for m in did_doc.authentication + did_doc.key_agreement\n",
    "            ],\n",
    "             didcomm_services = []\n",
    "#                 DIDCommService(\n",
    "#                     id = s.id,\n",
    "#                     service_endpoint = s.service_endpoint[0][\"uri\"] if \"uri\" in s.service_endpoint[0] else s.service_endpoint[0],\n",
    "#                     routing_keys = s.routing_keys,\n",
    "#                     accept = s.accept\n",
    "#                 )\n",
    "#                 for s in did_doc.service\n",
    "#                 if isinstance(s, DIDCommServicePeerDID)\n",
    "#             ] if did_doc.service else []\n",
    "        )"
   ]
  },
  {
   "cell_type": "code",
   "execution_count": 4,
   "metadata": {},
   "outputs": [],
   "source": [
    "async def create_peer_did(self,\n",
    "                        auth_keys_count: int = 1,\n",
    "                        agreement_keys_count: int = 1,\n",
    "                        service_endpoint: Optional[str] = None,\n",
    "                        service_routing_keys: Optional[List[str]] = None\n",
    "                        ) -> str:\n",
    "        # 1. generate keys in JWK format\n",
    "        agreem_keys = [generate_x25519_keys_as_jwk_dict() for _ in range(agreement_keys_count)]\n",
    "        auth_keys = [generate_ed25519_keys_as_jwk_dict() for _ in range(auth_keys_count)]\n",
    "\n",
    "        # 2. prepare the keys for peer DID lib\n",
    "        agreem_keys_peer_did = [\n",
    "            VerificationMaterialAgreement(\n",
    "                type=VerificationMethodTypeAgreement.JSON_WEB_KEY_2020,\n",
    "                format=VerificationMaterialFormatPeerDID.JWK,\n",
    "                value=k[1],\n",
    "            )\n",
    "            for k in agreem_keys\n",
    "        ]\n",
    "        auth_keys_peer_did = [\n",
    "            VerificationMaterialAuthentication(\n",
    "                type=VerificationMethodTypeAuthentication.JSON_WEB_KEY_2020,\n",
    "                format=VerificationMaterialFormatPeerDID.JWK,\n",
    "                value=k[1],\n",
    "            )\n",
    "            for k in auth_keys\n",
    "        ]\n",
    "\n",
    "        # 3. generate service\n",
    "        service = None\n",
    "        if service_endpoint:\n",
    "            service = json.dumps(\n",
    "                DIDCommServicePeerDID(\n",
    "                    id=\"new-id\",\n",
    "                    service_endpoint=service_endpoint, \n",
    "                    routing_keys=service_routing_keys,\n",
    "                    accept=[\"didcomm/v2\"]\n",
    "                ).to_dict()\n",
    "            )\n",
    "\n",
    "        # 4. call peer DID lib\n",
    "        # if we have just one key (auth), then use numalg0 algorithm\n",
    "        # otherwise use numalg2 algorithm\n",
    "        if len(auth_keys_peer_did) == 1 and not agreem_keys_peer_did and not service:\n",
    "            did = peer_did.create_peer_did_numalgo_0(auth_keys_peer_did[0])\n",
    "        else:\n",
    "            did = peer_did.create_peer_did_numalgo_2(\n",
    "                encryption_keys=agreem_keys_peer_did,\n",
    "                signing_keys=auth_keys_peer_did,\n",
    "                service=service,\n",
    "            )\n",
    "\n",
    "        # 5. set KIDs as in DID DOC for secrets and store the secret in the secrets resolver\n",
    "        did_doc = DIDDocPeerDID.from_json(peer_did.resolve_peer_did(did))\n",
    "        for auth_key, kid in zip(auth_keys, did_doc.auth_kids):\n",
    "            private_key = auth_key[0]\n",
    "            private_key[\"kid\"] = kid\n",
    "            await secrets_resolver.add_key(jwk_to_secret(private_key))\n",
    "\n",
    "        for agreem_key, kid in zip(agreem_keys, did_doc.agreement_kids):\n",
    "            private_key = agreem_key[0]\n",
    "            private_key[\"kid\"] = kid\n",
    "            await secrets_resolver.add_key(jwk_to_secret(private_key))\n",
    "\n",
    "        return did\n"
   ]
  },
  {
   "cell_type": "markdown",
   "metadata": {},
   "source": [
    "### Get OOB get somehow Alice DID (not covered here) --> Copy did from Alice notebook"
   ]
  },
  {
   "cell_type": "code",
   "execution_count": 144,
   "metadata": {},
   "outputs": [],
   "source": [
    "alice_did = \"did:peer:2.Ez6LSoe8LEj83WTJyDDX84RcBiNwVYsCvWC5VRn36o52YYD9s.Vz6Mkv7uSy4itVedBmkUXEYTum4AcE9xp3XVYKWUgZkZJyvFJ.SeyJpZCI6Im5ldy1pZCIsInQiOiJkbSIsInMiOiJkaWQ6cGVlcjoyLkV6NkxTZWVoYmVvSGdndkdZNkI1Vml5THJuRG5HZHNqSk1QMTg2VmtiaG5OWWFUaFouVno2TWtmNWpkN0tkMmhWdG1jMmNrUmhrblJ6aFpkZ2F5OFF2eXR1c1VUWDl4eHI3Vi5TZXlKcFpDSTZJbTVsZHkxcFpDSXNJblFpT2lKa2JTSXNJbk1pT2lKb2RIUndjem92TDIxbFpHbGhkRzl5TG5KdmIzUnphV1F1WTJ4dmRXUWlMQ0poSWpwYkltUnBaR052YlcwdmRqSWlYWDAiLCJhIjpbImRpZGNvbW0vdjIiXX0\""
   ]
  },
  {
   "cell_type": "markdown",
   "metadata": {},
   "source": [
    "### Get mediator DID from Alice DID and endpoint from mediator DID"
   ]
  },
  {
   "cell_type": "code",
   "execution_count": 145,
   "metadata": {},
   "outputs": [
    {
     "name": "stdout",
     "output_type": "stream",
     "text": [
      "{'id': 'did:peer:2.Ez6LSoe8LEj83WTJyDDX84RcBiNwVYsCvWC5VRn36o52YYD9s.Vz6Mkv7uSy4itVedBmkUXEYTum4AcE9xp3XVYKWUgZkZJyvFJ.SeyJpZCI6Im5ldy1pZCIsInQiOiJkbSIsInMiOiJkaWQ6cGVlcjoyLkV6NkxTZWVoYmVvSGdndkdZNkI1Vml5THJuRG5HZHNqSk1QMTg2VmtiaG5OWWFUaFouVno2TWtmNWpkN0tkMmhWdG1jMmNrUmhrblJ6aFpkZ2F5OFF2eXR1c1VUWDl4eHI3Vi5TZXlKcFpDSTZJbTVsZHkxcFpDSXNJblFpT2lKa2JTSXNJbk1pT2lKb2RIUndjem92TDIxbFpHbGhkRzl5TG5KdmIzUnphV1F1WTJ4dmRXUWlMQ0poSWpwYkltUnBaR052YlcwdmRqSWlYWDAiLCJhIjpbImRpZGNvbW0vdjIiXX0', 'authentication': [{'id': 'did:peer:2.Ez6LSoe8LEj83WTJyDDX84RcBiNwVYsCvWC5VRn36o52YYD9s.Vz6Mkv7uSy4itVedBmkUXEYTum4AcE9xp3XVYKWUgZkZJyvFJ.SeyJpZCI6Im5ldy1pZCIsInQiOiJkbSIsInMiOiJkaWQ6cGVlcjoyLkV6NkxTZWVoYmVvSGdndkdZNkI1Vml5THJuRG5HZHNqSk1QMTg2VmtiaG5OWWFUaFouVno2TWtmNWpkN0tkMmhWdG1jMmNrUmhrblJ6aFpkZ2F5OFF2eXR1c1VUWDl4eHI3Vi5TZXlKcFpDSTZJbTVsZHkxcFpDSXNJblFpT2lKa2JTSXNJbk1pT2lKb2RIUndjem92TDIxbFpHbGhkRzl5TG5KdmIzUnphV1F1WTJ4dmRXUWlMQ0poSWpwYkltUnBaR052YlcwdmRqSWlYWDAiLCJhIjpbImRpZGNvbW0vdjIiXX0#6Mkv7uSy4itVedBmkUXEYTum4AcE9xp3XVYKWUgZkZJyvFJ', 'type': 'Ed25519VerificationKey2020', 'controller': 'did:peer:2.Ez6LSoe8LEj83WTJyDDX84RcBiNwVYsCvWC5VRn36o52YYD9s.Vz6Mkv7uSy4itVedBmkUXEYTum4AcE9xp3XVYKWUgZkZJyvFJ.SeyJpZCI6Im5ldy1pZCIsInQiOiJkbSIsInMiOiJkaWQ6cGVlcjoyLkV6NkxTZWVoYmVvSGdndkdZNkI1Vml5THJuRG5HZHNqSk1QMTg2VmtiaG5OWWFUaFouVno2TWtmNWpkN0tkMmhWdG1jMmNrUmhrblJ6aFpkZ2F5OFF2eXR1c1VUWDl4eHI3Vi5TZXlKcFpDSTZJbTVsZHkxcFpDSXNJblFpT2lKa2JTSXNJbk1pT2lKb2RIUndjem92TDIxbFpHbGhkRzl5TG5KdmIzUnphV1F1WTJ4dmRXUWlMQ0poSWpwYkltUnBaR052YlcwdmRqSWlYWDAiLCJhIjpbImRpZGNvbW0vdjIiXX0', 'publicKeyMultibase': 'z6Mkv7uSy4itVedBmkUXEYTum4AcE9xp3XVYKWUgZkZJyvFJ'}], 'keyAgreement': [{'id': 'did:peer:2.Ez6LSoe8LEj83WTJyDDX84RcBiNwVYsCvWC5VRn36o52YYD9s.Vz6Mkv7uSy4itVedBmkUXEYTum4AcE9xp3XVYKWUgZkZJyvFJ.SeyJpZCI6Im5ldy1pZCIsInQiOiJkbSIsInMiOiJkaWQ6cGVlcjoyLkV6NkxTZWVoYmVvSGdndkdZNkI1Vml5THJuRG5HZHNqSk1QMTg2VmtiaG5OWWFUaFouVno2TWtmNWpkN0tkMmhWdG1jMmNrUmhrblJ6aFpkZ2F5OFF2eXR1c1VUWDl4eHI3Vi5TZXlKcFpDSTZJbTVsZHkxcFpDSXNJblFpT2lKa2JTSXNJbk1pT2lKb2RIUndjem92TDIxbFpHbGhkRzl5TG5KdmIzUnphV1F1WTJ4dmRXUWlMQ0poSWpwYkltUnBaR052YlcwdmRqSWlYWDAiLCJhIjpbImRpZGNvbW0vdjIiXX0#6LSoe8LEj83WTJyDDX84RcBiNwVYsCvWC5VRn36o52YYD9s', 'type': 'X25519KeyAgreementKey2020', 'controller': 'did:peer:2.Ez6LSoe8LEj83WTJyDDX84RcBiNwVYsCvWC5VRn36o52YYD9s.Vz6Mkv7uSy4itVedBmkUXEYTum4AcE9xp3XVYKWUgZkZJyvFJ.SeyJpZCI6Im5ldy1pZCIsInQiOiJkbSIsInMiOiJkaWQ6cGVlcjoyLkV6NkxTZWVoYmVvSGdndkdZNkI1Vml5THJuRG5HZHNqSk1QMTg2VmtiaG5OWWFUaFouVno2TWtmNWpkN0tkMmhWdG1jMmNrUmhrblJ6aFpkZ2F5OFF2eXR1c1VUWDl4eHI3Vi5TZXlKcFpDSTZJbTVsZHkxcFpDSXNJblFpT2lKa2JTSXNJbk1pT2lKb2RIUndjem92TDIxbFpHbGhkRzl5TG5KdmIzUnphV1F1WTJ4dmRXUWlMQ0poSWpwYkltUnBaR052YlcwdmRqSWlYWDAiLCJhIjpbImRpZGNvbW0vdjIiXX0', 'publicKeyMultibase': 'z6LSoe8LEj83WTJyDDX84RcBiNwVYsCvWC5VRn36o52YYD9s'}], 'service': [{'id': 'did:peer:2.Ez6LSoe8LEj83WTJyDDX84RcBiNwVYsCvWC5VRn36o52YYD9s.Vz6Mkv7uSy4itVedBmkUXEYTum4AcE9xp3XVYKWUgZkZJyvFJ.SeyJpZCI6Im5ldy1pZCIsInQiOiJkbSIsInMiOiJkaWQ6cGVlcjoyLkV6NkxTZWVoYmVvSGdndkdZNkI1Vml5THJuRG5HZHNqSk1QMTg2VmtiaG5OWWFUaFouVno2TWtmNWpkN0tkMmhWdG1jMmNrUmhrblJ6aFpkZ2F5OFF2eXR1c1VUWDl4eHI3Vi5TZXlKcFpDSTZJbTVsZHkxcFpDSXNJblFpT2lKa2JTSXNJbk1pT2lKb2RIUndjem92TDIxbFpHbGhkRzl5TG5KdmIzUnphV1F1WTJ4dmRXUWlMQ0poSWpwYkltUnBaR052YlcwdmRqSWlYWDAiLCJhIjpbImRpZGNvbW0vdjIiXX0#didcommmessaging-0', 'type': 'DIDCommMessaging', 'serviceEndpoint': 'did:peer:2.Ez6LSeehbeoHggvGY6B5ViyLrnDnGdsjJMP186VkbhnNYaThZ.Vz6Mkf5jd7Kd2hVtmc2ckRhknRzhZdgay8QvytusUTX9xxr7V.SeyJpZCI6Im5ldy1pZCIsInQiOiJkbSIsInMiOiJodHRwczovL21lZGlhdG9yLnJvb3RzaWQuY2xvdWQiLCJhIjpbImRpZGNvbW0vdjIiXX0', 'accept': ['didcomm/v2']}]}\n",
      "did:peer:2.Ez6LSeehbeoHggvGY6B5ViyLrnDnGdsjJMP186VkbhnNYaThZ.Vz6Mkf5jd7Kd2hVtmc2ckRhknRzhZdgay8QvytusUTX9xxr7V.SeyJpZCI6Im5ldy1pZCIsInQiOiJkbSIsInMiOiJodHRwczovL21lZGlhdG9yLnJvb3RzaWQuY2xvdWQiLCJhIjpbImRpZGNvbW0vdjIiXX0\n"
     ]
    }
   ],
   "source": [
    "alice_did_doc = json.loads(peer_did.resolve_peer_did(alice_did))\n",
    "print(alice_did_doc)\n",
    "#mediator_did = alice_did_doc[\"service\"][0][\"serviceEndpoint\"][0][\"uri\"]\n",
    "mediator_did = alice_did_doc[\"service\"][0][\"serviceEndpoint\"]\n",
    "print(mediator_did)"
   ]
  },
  {
   "cell_type": "code",
   "execution_count": 146,
   "metadata": {},
   "outputs": [
    {
     "name": "stdout",
     "output_type": "stream",
     "text": [
      "https://mediator.rootsid.cloud\n"
     ]
    }
   ],
   "source": [
    "mediator_did_doc = json.loads(peer_did.resolve_peer_did(mediator_did))\n",
    "mediator_endpoint = mediator_did_doc[\"service\"][0][\"serviceEndpoint\"]\n",
    "print(mediator_endpoint)"
   ]
  },
  {
   "cell_type": "markdown",
   "metadata": {},
   "source": [
    "### BOB creates DID and a basic msg to Bob"
   ]
  },
  {
   "cell_type": "code",
   "execution_count": 147,
   "metadata": {},
   "outputs": [
    {
     "name": "stdout",
     "output_type": "stream",
     "text": [
      "Bob's DID: did:peer:2.Ez6LSnCoABhsjFWajaMQWpC1S3ZdBpHFBppMTrB4aBoY7fNni.Vz6MkhxSEtrjiMc44XRKYYpLGywJTTsvtzoYBhQ3Hqdv2PzMS.SeyJpZCI6Im5ldy1pZCIsInQiOiJkbSIsInMiOiJodHRwczovL3d3dy5leGFtcGxlLmNvbS9ib2IiLCJhIjpbImRpZGNvbW0vdjIiXX0\n"
     ]
    }
   ],
   "source": [
    "bob_did_to_alice = await create_peer_did(1,1, service_endpoint=\"https://www.example.com/bob\" )\n",
    "print(\"Bob's DID:\", bob_did_to_alice)"
   ]
  },
  {
   "cell_type": "code",
   "execution_count": 148,
   "metadata": {},
   "outputs": [],
   "source": [
    "\n",
    "bob_basic_message = Message(\n",
    "    id = str(uuid.uuid4()),\n",
    "    type=\"https://didcomm.org/basicmessage/2.0/message\",\n",
    "    body={\"content\": \"Hola Alice\"},\n",
    "    created_time= int(datetime.datetime.now().timestamp())            \n",
    ")"
   ]
  },
  {
   "cell_type": "code",
   "execution_count": 149,
   "metadata": {},
   "outputs": [],
   "source": [
    "bob_basic_message_packed = await pack_encrypted(\n",
    "    resolvers_config = ResolversConfig(\n",
    "        secrets_resolver = secrets_resolver,\n",
    "        did_resolver = DIDResolverPeerDID()\n",
    "    ),\n",
    "    message = bob_basic_message,\n",
    "    frm = bob_did_to_alice,\n",
    "    to = alice_did,\n",
    "    sign_frm = None,\n",
    "    pack_config = PackEncryptedConfig(protect_sender_id=False)\n",
    ")"
   ]
  },
  {
   "cell_type": "code",
   "execution_count": 150,
   "metadata": {
    "scrolled": true
   },
   "outputs": [
    {
     "name": "stdout",
     "output_type": "stream",
     "text": [
      "eyJ0eXAiOiJhcHBsaWNhdGlvbi9kaWRjb21tLWVuY3J5cHRlZCtqc29uIiwiYWxnIjoiRUNESC0xUFUrQTI1NktXIiwiZW5jIjoiQTI1NkNCQy1IUzUxMiIsImFwdSI6IlpHbGtPbkJsWlhJNk1pNUZlalpNVTI1RGIwRkNhSE5xUmxkaGFtRk5VVmR3UXpGVE0xcGtRbkJJUmtKd2NFMVVja0kwWVVKdldUZG1UbTVwTGxaNk5rMXJhSGhUUlhSeWFtbE5ZelEwV0ZKTFdWbHdURWQ1ZDBwVVZITjJkSHB2V1VKb1VUTkljV1IyTWxCNlRWTXVVMlY1U25CYVEwazJTVzAxYkdSNU1YQmFRMGx6U1c1UmFVOXBTbXRpVTBselNXNU5hVTlwU205a1NGSjNZM3B2ZGt3elpETmtlVFZzWlVkR2RHTkhlR3hNYlU1MllsTTVhV0l5U1dsTVEwcG9TV3B3WWtsdFVuQmFSMDUyWWxjd2RtUnFTV2xZV0RBak5reFRia052UVVKb2MycEdWMkZxWVUxUlYzQkRNVk16V21SQ2NFaEdRbkJ3VFZSeVFqUmhRbTlaTjJaT2JtayIsImFwdiI6IkRDTFVKdnRZQm55dHlqRkgwUUFyejU0VDcxNllPWnY4Tk9Fay1SWGdPZE0iLCJza2lkIjoiZGlkOnBlZXI6Mi5FejZMU25Db0FCaHNqRldhamFNUVdwQzFTM1pkQnBIRkJwcE1UckI0YUJvWTdmTm5pLlZ6Nk1raHhTRXRyamlNYzQ0WFJLWVlwTEd5d0pUVHN2dHpvWUJoUTNIcWR2MlB6TVMuU2V5SnBaQ0k2SW01bGR5MXBaQ0lzSW5RaU9pSmtiU0lzSW5NaU9pSm9kSFJ3Y3pvdkwzZDNkeTVsZUdGdGNHeGxMbU52YlM5aWIySWlMQ0poSWpwYkltUnBaR052YlcwdmRqSWlYWDAjNkxTbkNvQUJoc2pGV2FqYU1RV3BDMVMzWmRCcEhGQnBwTVRyQjRhQm9ZN2ZObmkiLCJlcGsiOnsiY3J2IjoiWDI1NTE5IiwieCI6Ii1aV09laDZteEhmcU5WSWhsdXFsa1Q4cUk4UzR6ZVdTNlU2RXhDQkp1MTAiLCJrdHkiOiJPS1AifX0\n"
     ]
    }
   ],
   "source": [
    "print(json.loads(bob_basic_message_packed.packed_msg)[\"protected\"])"
   ]
  },
  {
   "cell_type": "markdown",
   "metadata": {},
   "source": [
    "### Bobs cread DID and msg routed via Mediator"
   ]
  },
  {
   "cell_type": "code",
   "execution_count": 151,
   "metadata": {},
   "outputs": [],
   "source": [
    "bob_did_to_mediator = await create_peer_did(1,1, service_endpoint=\"https://www.example.com/bob\")"
   ]
  },
  {
   "cell_type": "code",
   "execution_count": 152,
   "metadata": {},
   "outputs": [],
   "source": [
    "bob_routed_message = Message(\n",
    "    id = str(uuid.uuid4()),\n",
    "    type=\"https://didcomm.org/routing/2.0/forward\",\n",
    "    body={\"next\": alice_did},\n",
    "    to=[mediator_did],\n",
    "    attachments=[Attachment(\n",
    "            data=AttachmentDataJson(json=json.loads(bob_basic_message_packed.packed_msg))\n",
    "        )]\n",
    ")"
   ]
  },
  {
   "cell_type": "code",
   "execution_count": 153,
   "metadata": {},
   "outputs": [],
   "source": [
    "bob_routed_message_packed = await pack_encrypted(\n",
    "    resolvers_config = ResolversConfig(\n",
    "        secrets_resolver = secrets_resolver,\n",
    "        did_resolver = DIDResolverPeerDID()\n",
    "    ),\n",
    "    message = bob_routed_message,\n",
    "    frm = bob_did_to_mediator,\n",
    "    to = mediator_did,\n",
    "    sign_frm = None,\n",
    "    pack_config = PackEncryptedConfig(protect_sender_id=False)\n",
    ")"
   ]
  },
  {
   "cell_type": "markdown",
   "metadata": {},
   "source": [
    "### Sending to Mediator"
   ]
  },
  {
   "cell_type": "code",
   "execution_count": 156,
   "metadata": {},
   "outputs": [],
   "source": [
    "headers = {\"Content-Type\": \"application/didcomm-encrypted+json\"}\n",
    "resp = requests.post(mediator_endpoint, headers=headers, data = bob_routed_message_packed.packed_msg)\n"
   ]
  },
  {
   "cell_type": "code",
   "execution_count": 157,
   "metadata": {},
   "outputs": [
    {
     "name": "stdout",
     "output_type": "stream",
     "text": [
      "<Response [202]>\n"
     ]
    }
   ],
   "source": [
    "print(resp)"
   ]
  },
  {
   "cell_type": "code",
   "execution_count": null,
   "metadata": {},
   "outputs": [],
   "source": []
  }
 ],
 "metadata": {
  "kernelspec": {
   "display_name": "Python 3 (ipykernel)",
   "language": "python",
   "name": "python3"
  },
  "language_info": {
   "codemirror_mode": {
    "name": "ipython",
    "version": 3
   },
   "file_extension": ".py",
   "mimetype": "text/x-python",
   "name": "python",
   "nbconvert_exporter": "python",
   "pygments_lexer": "ipython3",
   "version": "3.9.13"
  }
 },
 "nbformat": 4,
 "nbformat_minor": 2
}
