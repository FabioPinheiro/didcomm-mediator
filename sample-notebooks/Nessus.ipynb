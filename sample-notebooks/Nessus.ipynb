{
 "cells": [
  {
   "cell_type": "code",
   "execution_count": 1,
   "metadata": {},
   "outputs": [],
   "source": [
    "import json\n",
    "import base64\n",
    "import qrcode\n",
    "import requests\n",
    "import datetime\n",
    "import uuid\n",
    "import matplotlib.pyplot as plt\n",
    "from pymongo import MongoClient\n",
    "from typing import Optional, List\n",
    "from didcomm.common.types import DID, VerificationMethodType, VerificationMaterial, VerificationMaterialFormat\n",
    "from didcomm.did_doc.did_doc import DIDDoc, VerificationMethod, DIDCommService\n",
    "from didcomm.did_doc.did_resolver import DIDResolver\n",
    "from didcomm.message import Message, FromPrior\n",
    "from didcomm.secrets.secrets_resolver_demo import SecretsResolverDemo\n",
    "from didcomm.unpack import unpack, UnpackResult\n",
    "from didcomm.common.resolvers import ResolversConfig\n",
    "from didcomm.message import Attachment, AttachmentDataJson, AttachmentDataLinks\n",
    "from didcomm.pack_encrypted import pack_encrypted, PackEncryptedConfig, PackEncryptedResult\n",
    "from peerdid.core.did_doc_types import DIDCommServicePeerDID\n",
    "from didcomm.secrets.secrets_util import generate_x25519_keys_as_jwk_dict, generate_ed25519_keys_as_jwk_dict, jwk_to_secret\n",
    "from peerdid import peer_did\n",
    "from peerdid.did_doc import DIDDocPeerDID\n",
    "\n",
    "from peerdid.types import VerificationMaterialAuthentication, VerificationMethodTypeAuthentication, VerificationMaterialAgreement, VerificationMethodTypeAgreement, VerificationMaterialFormatPeerDID"
   ]
  },
  {
   "cell_type": "code",
   "execution_count": 2,
   "metadata": {},
   "outputs": [],
   "source": [
    "secrets_resolver = SecretsResolverDemo()"
   ]
  },
  {
   "cell_type": "code",
   "execution_count": 3,
   "metadata": {},
   "outputs": [],
   "source": [
    "class DIDResolverPeerDID(DIDResolver):\n",
    "    async def resolve(self, did: DID) -> DIDDoc:\n",
    "        did_doc_json = peer_did.resolve_peer_did(did, format = VerificationMaterialFormatPeerDID.JWK)\n",
    "        did_doc = DIDDocPeerDID.from_json(did_doc_json)\n",
    "\n",
    "        return DIDDoc(\n",
    "            did=did_doc.did,\n",
    "            key_agreement_kids = did_doc.agreement_kids,\n",
    "            authentication_kids = did_doc.auth_kids,\n",
    "            verification_methods = [\n",
    "                VerificationMethod(\n",
    "                    id = m.id,\n",
    "                    type = VerificationMethodType.JSON_WEB_KEY_2020,\n",
    "                    controller = m.controller,\n",
    "                    verification_material = VerificationMaterial(\n",
    "                        format = VerificationMaterialFormat.JWK,\n",
    "                        value = json.dumps(m.ver_material.value)\n",
    "                    )\n",
    "                )\n",
    "                for m in did_doc.authentication + did_doc.key_agreement\n",
    "            ],\n",
    "             didcomm_services = []\n",
    "#                 DIDCommService(\n",
    "#                     id = s.id,\n",
    "#                     service_endpoint = s.service_endpoint,\n",
    "#                     routing_keys = s.routing_keys,\n",
    "#                     accept = s.accept\n",
    "#                 )\n",
    "#                 for s in did_doc.service\n",
    "#                 if isinstance(s, DIDCommServicePeerDID)\n",
    "#            ] if did_doc.service else []\n",
    "        )"
   ]
  },
  {
   "cell_type": "code",
   "execution_count": 4,
   "metadata": {},
   "outputs": [],
   "source": [
    "async def create_peer_did(self,\n",
    "                        auth_keys_count: int = 1,\n",
    "                        agreement_keys_count: int = 1,\n",
    "                        service_endpoint: Optional[str] = None,\n",
    "                        service_routing_keys: Optional[List[str]] = None\n",
    "                        ) -> str:\n",
    "        # 1. generate keys in JWK format\n",
    "        agreem_keys = [generate_x25519_keys_as_jwk_dict() for _ in range(agreement_keys_count)]\n",
    "        auth_keys = [generate_ed25519_keys_as_jwk_dict() for _ in range(auth_keys_count)]\n",
    "\n",
    "        # 2. prepare the keys for peer DID lib\n",
    "        agreem_keys_peer_did = [\n",
    "            VerificationMaterialAgreement(\n",
    "                type=VerificationMethodTypeAgreement.JSON_WEB_KEY_2020,\n",
    "                format=VerificationMaterialFormatPeerDID.JWK,\n",
    "                value=k[1],\n",
    "            )\n",
    "            for k in agreem_keys\n",
    "        ]\n",
    "        auth_keys_peer_did = [\n",
    "            VerificationMaterialAuthentication(\n",
    "                type=VerificationMethodTypeAuthentication.JSON_WEB_KEY_2020,\n",
    "                format=VerificationMaterialFormatPeerDID.JWK,\n",
    "                value=k[1],\n",
    "            )\n",
    "            for k in auth_keys\n",
    "        ]\n",
    "\n",
    "        # 3. generate service\n",
    "        service = None\n",
    "        if service_endpoint:\n",
    "            service = json.dumps(\n",
    "                DIDCommServicePeerDID(\n",
    "                    id=\"#didcommmessaging-0\",\n",
    "                    service_endpoint=service_endpoint, routing_keys=service_routing_keys,\n",
    "                    accept=[\"didcomm/v2\"]\n",
    "                ).to_dict()\n",
    "            )\n",
    "\n",
    "        # 4. call peer DID lib\n",
    "        # if we have just one key (auth), then use numalg0 algorithm\n",
    "        # otherwise use numalg2 algorithm\n",
    "        if len(auth_keys_peer_did) == 1 and not agreem_keys_peer_did and not service:\n",
    "            did = peer_did.create_peer_did_numalgo_0(auth_keys_peer_did[0])\n",
    "        else:\n",
    "            did = peer_did.create_peer_did_numalgo_2(\n",
    "                encryption_keys=agreem_keys_peer_did,\n",
    "                signing_keys=auth_keys_peer_did,\n",
    "                service=service,\n",
    "            )\n",
    "\n",
    "        # 5. set KIDs as in DID DOC for secrets and store the secret in the secrets resolver\n",
    "        did_doc = DIDDocPeerDID.from_json(peer_did.resolve_peer_did(did))\n",
    "        for auth_key, kid in zip(auth_keys, did_doc.auth_kids):\n",
    "            private_key = auth_key[0]\n",
    "            private_key[\"kid\"] = kid\n",
    "            await secrets_resolver.add_key(jwk_to_secret(private_key))\n",
    "\n",
    "        for agreem_key, kid in zip(agreem_keys, did_doc.agreement_kids):\n",
    "            private_key = agreem_key[0]\n",
    "            private_key[\"kid\"] = kid\n",
    "            await secrets_resolver.add_key(jwk_to_secret(private_key))\n",
    "\n",
    "        return did\n"
   ]
  },
  {
   "cell_type": "markdown",
   "metadata": {},
   "source": [
    "### Alice get OOB from Mediator"
   ]
  },
  {
   "cell_type": "code",
   "execution_count": 5,
   "metadata": {},
   "outputs": [],
   "source": [
    "#oob_url = requests.get(\"http://127.0.0.1:8000/oob_url\").text\n",
    "oob_url = requests.get(\"https://mediator.rootsid.cloud/oob_url\").text"
   ]
  },
  {
   "cell_type": "code",
   "execution_count": 6,
   "metadata": {},
   "outputs": [
    {
     "name": "stdout",
     "output_type": "stream",
     "text": [
      "https://mediator.rootsid.cloud?_oob=eyJ0eXBlIjoiaHR0cHM6Ly9kaWRjb21tLm9yZy9vdXQtb2YtYmFuZC8yLjAvaW52aXRhdGlvbiIsImlkIjoiOWQ5ZjdhMzYtYmYzYS00YWViLWE5MTItMDExZjM3MTc4NzM3IiwiZnJvbSI6ImRpZDpwZWVyOjIuRXo2TFNtczU1NVloRnRobjFXVjhjaURCcFptODZoSzl0cDgzV29qSlVteFBHazFoWi5WejZNa21kQmpNeUI0VFM1VWJiUXc1NHN6bTh5dk1NZjFmdEdWMnNRVllBeGFlV2hFLlNleUpwWkNJNkltNWxkeTFwWkNJc0luUWlPaUprYlNJc0luTWlPaUpvZEhSd2N6b3ZMMjFsWkdsaGRHOXlMbkp2YjNSemFXUXVZMnh2ZFdRaUxDSmhJanBiSW1ScFpHTnZiVzB2ZGpJaVhYMCIsImJvZHkiOnsiZ29hbF9jb2RlIjoicmVxdWVzdC1tZWRpYXRlIiwiZ29hbCI6IlJlcXVlc3RNZWRpYXRlIiwibGFiZWwiOiJNZWRpYXRvciIsImFjY2VwdCI6WyJkaWRjb21tL3YyIl19fQ\n"
     ]
    }
   ],
   "source": [
    "print(oob_url)"
   ]
  },
  {
   "cell_type": "code",
   "execution_count": 7,
   "metadata": {},
   "outputs": [
    {
     "name": "stdout",
     "output_type": "stream",
     "text": [
      "Alice's DID: did:peer:2.Ez6LSirBHWCBWFhJfpnQ5dDDL8E8ALdjWgKU9CAGsGcsRA3dy.Vz6Mkn1ZTtCP8FFWv2n3KFFTucr6zeTaExnahaFQSRGpador7\n"
     ]
    }
   ],
   "source": [
    "received_msg_encoded = oob_url.split(\"=\")[1]\n",
    "received_msg_decoded = json.loads(str(base64.urlsafe_b64decode(received_msg_encoded + \"==\"), \"utf-8\"))\n",
    "alice_did_for_mediator = await create_peer_did(1,1)\n",
    "print(\"Alice's DID:\", alice_did_for_mediator)"
   ]
  },
  {
   "cell_type": "markdown",
   "metadata": {},
   "source": [
    "### Alice request mediate"
   ]
  },
  {
   "cell_type": "code",
   "execution_count": 8,
   "metadata": {},
   "outputs": [],
   "source": [
    "alice_mediate_grant = Message(\n",
    "    custom_headers = [{\"return_route\": \"all\"}],\n",
    "    id = str(uuid.uuid4()),\n",
    "    type = \"https://didcomm.org/coordinate-mediation/2.0/mediate-request\",\n",
    "    body = {}\n",
    ")"
   ]
  },
  {
   "cell_type": "code",
   "execution_count": 9,
   "metadata": {},
   "outputs": [],
   "source": [
    "alice_mediate_grant_packed = await pack_encrypted(\n",
    "    resolvers_config = ResolversConfig(\n",
    "        secrets_resolver = secrets_resolver,\n",
    "        did_resolver = DIDResolverPeerDID()\n",
    "    ),\n",
    "    message = alice_mediate_grant,\n",
    "    frm = alice_did_for_mediator,\n",
    "    to = received_msg_decoded[\"from\"],\n",
    "    sign_frm = None,\n",
    "    pack_config = PackEncryptedConfig(protect_sender_id=False)\n",
    ")"
   ]
  },
  {
   "cell_type": "markdown",
   "metadata": {},
   "source": [
    "### Sending to Mediator"
   ]
  },
  {
   "cell_type": "code",
   "execution_count": 10,
   "metadata": {},
   "outputs": [
    {
     "name": "stdout",
     "output_type": "stream",
     "text": [
      "https://mediator.rootsid.cloud\n"
     ]
    }
   ],
   "source": [
    "mediator_did_doc = json.loads(peer_did.resolve_peer_did(received_msg_decoded[\"from\"]))\n",
    "mediator_endpoint = mediator_did_doc[\"service\"][0][\"serviceEndpoint\"]\n",
    "print(mediator_endpoint)"
   ]
  },
  {
   "cell_type": "code",
   "execution_count": 11,
   "metadata": {},
   "outputs": [],
   "source": [
    "headers = {\"Content-Type\": \"application/didcomm-encrypted+json\"}\n",
    "resp = requests.post(mediator_endpoint, headers=headers, json = json.loads(alice_mediate_grant_packed.packed_msg))\n"
   ]
  },
  {
   "cell_type": "code",
   "execution_count": 12,
   "metadata": {},
   "outputs": [
    {
     "name": "stdout",
     "output_type": "stream",
     "text": [
      "{'protected': 'eyJ0eXAiOiJhcHBsaWNhdGlvbi9kaWRjb21tLWVuY3J5cHRlZCtqc29uIiwiYWxnIjoiRUNESC0xUFUrQTI1NktXIiwiZW5jIjoiQTI1NkNCQy1IUzUxMiIsImFwdSI6IlpHbGtPbkJsWlhJNk1pNUZlalpNVTNSVGRFUklUbHBSVkdSWGJYZFZia1YzYUhWUllrZDNTbkpqTmpaT2IybHhWekZXV2xsRU5VSmlPSE55TGxaNk5rMXJaM2RYUTNGaU4waDRWVmx5UjAxeFpWUmhibVZSYzNSbWFUaEtPV3AyVldWSVFYb3lVV1kyYmxaa1ExUXVVMlY1U25CYVEwazJTVzAxYkdSNU1YQmFRMGx6U1c1UmFVOXBTbXRpVTBselNXNU5hVTlwU205a1NGSjNZM3B2ZGt3eU1XeGFSMnhvWkVjNWVVeHVTblppTTFKNllWZFJkVmt5ZUhaa1YxRnBURU5LYUVscWNHSkpiVkp3V2tkT2RtSlhNSFprYWtscFdGZ3dJelpNVTNSVGRFUklUbHBSVkdSWGJYZFZia1YzYUhWUllrZDNTbkpqTmpaT2IybHhWekZXV2xsRU5VSmlPSE55IiwiYXB2IjoidGttd2lSVVRhODBzSE53X29PYkdZV0ctSDVvcUJzZHRuakZRN0VQMXViRSIsInNraWQiOiJkaWQ6cGVlcjoyLkV6NkxTdFN0REhOWlFUZFdtd1VuRXdodVFiR3dKcmM2Nk5vaXFXMVZaWUQ1QmI4c3IuVno2TWtnd1dDcWI3SHhVWXJHTXFlVGFuZVFzdGZpOEo5anZVZUhBejJRZjZuVmRDVC5TZXlKcFpDSTZJbTVsZHkxcFpDSXNJblFpT2lKa2JTSXNJbk1pT2lKb2RIUndjem92TDIxbFpHbGhkRzl5TG5KdmIzUnphV1F1WTJ4dmRXUWlMQ0poSWpwYkltUnBaR052YlcwdmRqSWlYWDAjNkxTdFN0REhOWlFUZFdtd1VuRXdodVFiR3dKcmM2Nk5vaXFXMVZaWUQ1QmI4c3IiLCJlcGsiOnsiY3J2IjoiWDI1NTE5IiwieCI6IkpMRXF3Z0pFVTJfMXZnQmN0SXhPa0tTa1p1cUJ1UjRheUxqYWtMcjJXUTAiLCJrdHkiOiJPS1AifX0', 'recipients': [{'header': {'kid': 'did:peer:2.Ez6LSirBHWCBWFhJfpnQ5dDDL8E8ALdjWgKU9CAGsGcsRA3dy.Vz6Mkn1ZTtCP8FFWv2n3KFFTucr6zeTaExnahaFQSRGpador7#6LSirBHWCBWFhJfpnQ5dDDL8E8ALdjWgKU9CAGsGcsRA3dy'}, 'encrypted_key': 'Tg5IHOu_qXgK4-JTv5uVB1BRLO7h66x-l6ZC7QyieLCR-jncX6IFdVg3Ha80WWw88Wrhlfio4QWUeQSvylEZ_rmmaXcx13EC'}], 'iv': 'HCiTpcSgoQ0UhQVhzERT8g', 'ciphertext': 'CyFgoWgrpeCpMReI3BeICLK9noBfKjnGFE0MR2XKIxTmZaDhjvECfMIHUoU5N399zYNVzDqtADK1k1AdZTdRmWrcgnVgCdfOkneraimsu99cX43cHmmJg5zs-6ZMtMVzl9UhA-n0MjV6RzJFjWzgNR92U8GMBS_17wQgwbYx5KeG32MwSDo8AXZn34jPb5oPbuLGGKUXTpz1Hrzebm83BDBEKPqnN_h9qc-TyFeEe__-uki3Y-H3WxSiFCMTveOz1J7ubPskHWIkk0YV_4TXmnmiBFV_0BdaUuO0NDOSlKj48euhK4rcCP9LngSaskYYZmUGI2OAQH7hyc1pwPipFwZnK_tCW2hmELjt2-pWGSq7fPkuOqS2LLJlQ6f0XzaJAuqBPfE-cxTHpMvGO5QCNDxGez8t4M4rcCp1Xlggt1iX-ok5sxnKcyNKMdlcqorH1QP3-mkuRcNyCuYGRMHUhJeNssfWQnAE6h2D0Wh0gTBEqIvr1EZRVQdCkP4ABwVShmNdMFXPNo0it3KWhGLrrO5lNLTkwh1XOkrTUfRs2H696B9eNPUzUqo-IJxa3DoWUe_IRFXV_Vu8n2YC6lSHUxiHoq46R2gTyXVzXbxa5jmYQPWj6HB4C0h3e5twb9Thvd_uxb-uQ6ccUpMp9NqxmNwEbGz93Z887sAJ9H9kTCOMVhfYT3nymuEJbHpF_IUp9jGN--fTdu2Y42kTDYbJpcma52PBuR_4pcD6TMkF1qeUHiKYv4pqxQSrd1pzTp0DEzkcE5B4dSy80SQrueYKWpiYn13KqYH1GFb2rf21zPlxsWegiSvxBhZURCUc5yRZQ43-_NiupirPzMlAUMP4N4om2BiV2cdu-hcWPsk9N9JVw2Bqn_qzb-2eqDX0se98tAJelW-Ba3-MUGY8kUbCJ_CkMFiVe7iZt230qkTsWQukUCNlwqbv7l4NGRI6hVyaaHK1L57e1LbKLHRJGTpXylcLpJyXi9Q2NhbqrOxBiGe9VdbJy0jm0EdsdtxuYMjIjsiQ46EbjH-Mo3oAzx4T4rq5aj9Bwe6sHr8oNLMd9DSr-RLhQEcAFQJBDVQ5XTWbzc5dVCe0l7l4Ks9JsEdjf9Y9PqyTJ5ud8p34fMXZrP6P4sJTZUyaYOjPG-s7dVJcB95K8F9ERu5uhgFFwIT2sCvDKPD_z7weq3SbiDAkhI5yKj7qFjEQBsLpWY17F9k6zp2I7VpXEd0jpPINNWk121HLRh4D3kD50B3_uEDIFTb_pHg-mtfWHUkjqIMMUxymfmK_zdO06GwoGvrrCVW1r53DHT9rItzrqNTxkpvq0tPTehycXhW28Q7kZu2wp01OllisnvUCUksLAMJqj5vcuLfNwZoK5m36j_YAH-QfctoyMZP-2ZWj974Eir7MKJ5dv3Ra6qyt5gGWdNviGmvIU8CCA__c9XZnZLT9xa_qCk6SWYFdeXYDMzeAPyBK8fKfiwrjdERauxb5nhKMSYY6_0aPYQvBErk6FLjiF4reni2yRPrJzCGl7FPQCziefUBuiUDU2P92dWy8X8dqs5p_9HL8no-u8yKJZmM_AlhPrOCHl0MW1D3rVdmwufXDNqz6QJuGtbXOVNDQRhZL9rQpOzXoadY8uDAK5P_2xiqisOSrMM9vOZhnIhhFBctZpugATwgkM_otaH4nrzHsq7AF6Bdu2oA-yXDvgmAHUrK-yJ6x4nGfyEzj7gaE51LG1p478G5L7yIYl8NXeMBZj5ihgXpmVXUoguSWC_tAYJNSyT5ZfmqFUCBtsLYUbCuZR5dTsEzmESwRlhsp4ecv6FpXONe99SzmE7IZ8g7-UAZE33rNq0qk2sM51sSHPXViRJObUxOHc28E9yfIBUlnizhDQuBmJ4umN7IjqeVwwVn_yPi2zZ7v-yW4dB98mxINtrj-gTXDWgMfZf_ge65UfqnnIlBe1psBUsEDqbwtJYgwddQ0NIV7JBlKiFPVbvheI18C3L1P80kud_IwQ3q0HiN_0uzNN9zKY5lUYMxFghF_tHI', 'tag': 'nNcLLMU6P2mF1dLAcv_3fiO554CEsKsTmTGc-t_5iKA'}\n"
     ]
    }
   ],
   "source": [
    "print(resp.json())"
   ]
  },
  {
   "cell_type": "markdown",
   "metadata": {},
   "source": [
    "### Get mediator grant response"
   ]
  },
  {
   "cell_type": "code",
   "execution_count": 13,
   "metadata": {},
   "outputs": [
    {
     "name": "stdout",
     "output_type": "stream",
     "text": [
      "https://didcomm.org/coordinate-mediation/2.0/mediate-grant\n",
      "Routing Key: did:peer:2.Ez6LSkdgrZVzXCzapHsKaS7XPyJZkbxNGc9UuZiAXL44MzhjA.Vz6MkmiG1AdfBjikDumyBG5FEofvJP6St2PKS3UiTmiuBYune.SeyJpZCI6Im5ldy1pZCIsInQiOiJkbSIsInMiOiJodHRwczovL21lZGlhdG9yLnJvb3RzaWQuY2xvdWQiLCJhIjpbImRpZGNvbW0vdjIiXX0\n",
      "Mediator new DID: did:peer:2.Ez6LStStDHNZQTdWmwUnEwhuQbGwJrc66NoiqW1VZYD5Bb8sr.Vz6MkgwWCqb7HxUYrGMqeTaneQstfi8J9jvUeHAz2Qf6nVdCT.SeyJpZCI6Im5ldy1pZCIsInQiOiJkbSIsInMiOiJodHRwczovL21lZGlhdG9yLnJvb3RzaWQuY2xvdWQiLCJhIjpbImRpZGNvbW0vdjIiXX0\n"
     ]
    }
   ],
   "source": [
    "mediator_unpack_msg = await unpack(\n",
    "    resolvers_config=ResolversConfig(\n",
    "        secrets_resolver=secrets_resolver,\n",
    "        did_resolver=DIDResolverPeerDID()\n",
    "    ),\n",
    "    packed_msg= resp.json()\n",
    ")\n",
    "print(mediator_unpack_msg.message.type)\n",
    "print(\"Routing Key: \" + mediator_unpack_msg.message.body[\"routing_did\"])\n",
    "print(\"Mediator new DID: \" + mediator_unpack_msg.message.from_prior.sub)\n",
    "# mediator rotated did\n",
    "mediator_routing_key = mediator_unpack_msg.message.body[\"routing_did\"]\n",
    "mediator_did = mediator_unpack_msg.message.from_prior.sub"
   ]
  },
  {
   "cell_type": "markdown",
   "metadata": {},
   "source": [
    "### Keylist update"
   ]
  },
  {
   "cell_type": "markdown",
   "metadata": {},
   "source": [
    "Alice create a new DID to share with  other peers using mediator routing keys "
   ]
  },
  {
   "cell_type": "code",
   "execution_count": 14,
   "metadata": {},
   "outputs": [
    {
     "name": "stdout",
     "output_type": "stream",
     "text": [
      "Alice's DID for Bob: did:peer:2.Ez6LSrCeFSKkbiVwGgJMECHQncqru1a2uojYmgyVtQ7ba4B5q.Vz6MkhnMg6wSBtwWz2QYPcqiS4Lrdfm8Z5k8SonsGSmw4ocx1.SeyJpZCI6IiNkaWRjb21tbWVzc2FnaW5nLTAiLCJ0IjoiZG0iLCJzIjoiaHR0cHM6Ly9tZWRpYXRvci5yb290c2lkLmNsb3VkIiwiYSI6WyJkaWRjb21tL3YyIl0sInIiOlsiZGlkOnBlZXI6Mi5FejZMU2tkZ3JaVnpYQ3phcEhzS2FTN1hQeUpaa2J4TkdjOVV1WmlBWEw0NE16aGpBLlZ6Nk1rbWlHMUFkZkJqaWtEdW15Qkc1RkVvZnZKUDZTdDJQS1MzVWlUbWl1Qll1bmUuU2V5SnBaQ0k2SW01bGR5MXBaQ0lzSW5RaU9pSmtiU0lzSW5NaU9pSm9kSFJ3Y3pvdkwyMWxaR2xoZEc5eUxuSnZiM1J6YVdRdVkyeHZkV1FpTENKaElqcGJJbVJwWkdOdmJXMHZkaklpWFgwIl19\n"
     ]
    }
   ],
   "source": [
    "alice_did_new = await create_peer_did(1, 1, service_endpoint=mediator_endpoint, service_routing_keys=[mediator_routing_key])\n",
    "# alice_did_for_bob = await create_peer_did(1, 1, service_endpoint=mediator_routing_key)\n",
    "\n",
    "print(\"Alice's DID for Bob:\", alice_did_new)"
   ]
  },
  {
   "cell_type": "markdown",
   "metadata": {},
   "source": [
    "Alice create and send the keylist update message"
   ]
  },
  {
   "cell_type": "code",
   "execution_count": 15,
   "metadata": {},
   "outputs": [],
   "source": [
    "alice_keylist_update = Message(\n",
    "    id = \"unique-id-293e9a922efff\",\n",
    "    type = \"https://didcomm.org/coordinate-mediation/2.0/keylist-update\",\n",
    "    body = {\n",
    "        \"updates\":[\n",
    "        {\n",
    "            \"recipient_did\": alice_did_new,\n",
    "            \"action\": \"add\"\n",
    "        }\n",
    "    ]\n",
    "    }\n",
    ")"
   ]
  },
  {
   "cell_type": "code",
   "execution_count": 16,
   "metadata": {},
   "outputs": [],
   "source": [
    "alice_keylist_update_packed_msg = await pack_encrypted(\n",
    "    resolvers_config = ResolversConfig(\n",
    "        secrets_resolver = secrets_resolver,\n",
    "        did_resolver = DIDResolverPeerDID()\n",
    "    ),\n",
    "    message = alice_keylist_update,\n",
    "    frm = alice_did_for_mediator,\n",
    "    to = mediator_did,\n",
    "    sign_frm = None,\n",
    "    pack_config = PackEncryptedConfig(protect_sender_id=False)\n",
    ")"
   ]
  },
  {
   "cell_type": "code",
   "execution_count": 17,
   "metadata": {},
   "outputs": [],
   "source": [
    "headers = {\"Content-Type\": \"application/didcomm-encrypted+json\"}\n",
    "resp = requests.post(mediator_endpoint, headers=headers, data = alice_keylist_update_packed_msg.packed_msg)"
   ]
  },
  {
   "cell_type": "code",
   "execution_count": 18,
   "metadata": {},
   "outputs": [
    {
     "name": "stdout",
     "output_type": "stream",
     "text": [
      "https://didcomm.org/coordinate-mediation/2.0/keylist-update-response\n",
      "{'updated': [{'recipient_did': 'did:peer:2.Ez6LSrCeFSKkbiVwGgJMECHQncqru1a2uojYmgyVtQ7ba4B5q.Vz6MkhnMg6wSBtwWz2QYPcqiS4Lrdfm8Z5k8SonsGSmw4ocx1.SeyJpZCI6IiNkaWRjb21tbWVzc2FnaW5nLTAiLCJ0IjoiZG0iLCJzIjoiaHR0cHM6Ly9tZWRpYXRvci5yb290c2lkLmNsb3VkIiwiYSI6WyJkaWRjb21tL3YyIl0sInIiOlsiZGlkOnBlZXI6Mi5FejZMU2tkZ3JaVnpYQ3phcEhzS2FTN1hQeUpaa2J4TkdjOVV1WmlBWEw0NE16aGpBLlZ6Nk1rbWlHMUFkZkJqaWtEdW15Qkc1RkVvZnZKUDZTdDJQS1MzVWlUbWl1Qll1bmUuU2V5SnBaQ0k2SW01bGR5MXBaQ0lzSW5RaU9pSmtiU0lzSW5NaU9pSm9kSFJ3Y3pvdkwyMWxaR2xoZEc5eUxuSnZiM1J6YVdRdVkyeHZkV1FpTENKaElqcGJJbVJwWkdOdmJXMHZkaklpWFgwIl19', 'action': 'add', 'result': 'success'}]}\n"
     ]
    }
   ],
   "source": [
    "mediator_unpack_msg2 = await unpack(\n",
    "    resolvers_config=ResolversConfig(\n",
    "        secrets_resolver=secrets_resolver,\n",
    "        did_resolver=DIDResolverPeerDID()\n",
    "    ),\n",
    "    packed_msg= resp.json()\n",
    ")\n",
    "print(mediator_unpack_msg2.message.type)\n",
    "print(mediator_unpack_msg2.message.body)\n"
   ]
  },
  {
   "cell_type": "markdown",
   "metadata": {},
   "source": [
    "### Alice can now send her DID message to Nessus"
   ]
  },
  {
   "cell_type": "code",
   "execution_count": null,
   "metadata": {},
   "outputs": [],
   "source": []
  },
  {
   "cell_type": "code",
   "execution_count": 19,
   "metadata": {},
   "outputs": [
    {
     "data": {
      "text/plain": [
       "{'id': 'did:peer:2.Ez6LShroqrxP6vrwcyhyG7iDfZ9YpdNZzCVFEaaS8n9fkQQGL.Vz6MkkL7EaycmQTpdiodvEfQipKmjy2JCmHyYo4JEJWwXvCmE.SeyJ0IjoiZG0iLCJzIjoiaHR0cDovL25lc3N1cy10ZWNoLmlvOjkxMDAifQ',\n",
       " 'authentication': [{'id': 'did:peer:2.Ez6LShroqrxP6vrwcyhyG7iDfZ9YpdNZzCVFEaaS8n9fkQQGL.Vz6MkkL7EaycmQTpdiodvEfQipKmjy2JCmHyYo4JEJWwXvCmE.SeyJ0IjoiZG0iLCJzIjoiaHR0cDovL25lc3N1cy10ZWNoLmlvOjkxMDAifQ#6MkkL7EaycmQTpdiodvEfQipKmjy2JCmHyYo4JEJWwXvCmE',\n",
       "   'type': 'Ed25519VerificationKey2020',\n",
       "   'controller': 'did:peer:2.Ez6LShroqrxP6vrwcyhyG7iDfZ9YpdNZzCVFEaaS8n9fkQQGL.Vz6MkkL7EaycmQTpdiodvEfQipKmjy2JCmHyYo4JEJWwXvCmE.SeyJ0IjoiZG0iLCJzIjoiaHR0cDovL25lc3N1cy10ZWNoLmlvOjkxMDAifQ',\n",
       "   'publicKeyMultibase': 'z6MkkL7EaycmQTpdiodvEfQipKmjy2JCmHyYo4JEJWwXvCmE'}],\n",
       " 'keyAgreement': [{'id': 'did:peer:2.Ez6LShroqrxP6vrwcyhyG7iDfZ9YpdNZzCVFEaaS8n9fkQQGL.Vz6MkkL7EaycmQTpdiodvEfQipKmjy2JCmHyYo4JEJWwXvCmE.SeyJ0IjoiZG0iLCJzIjoiaHR0cDovL25lc3N1cy10ZWNoLmlvOjkxMDAifQ#6LShroqrxP6vrwcyhyG7iDfZ9YpdNZzCVFEaaS8n9fkQQGL',\n",
       "   'type': 'X25519KeyAgreementKey2020',\n",
       "   'controller': 'did:peer:2.Ez6LShroqrxP6vrwcyhyG7iDfZ9YpdNZzCVFEaaS8n9fkQQGL.Vz6MkkL7EaycmQTpdiodvEfQipKmjy2JCmHyYo4JEJWwXvCmE.SeyJ0IjoiZG0iLCJzIjoiaHR0cDovL25lc3N1cy10ZWNoLmlvOjkxMDAifQ',\n",
       "   'publicKeyMultibase': 'z6LShroqrxP6vrwcyhyG7iDfZ9YpdNZzCVFEaaS8n9fkQQGL'}],\n",
       " 'service': [{'id': 'did:peer:2.Ez6LShroqrxP6vrwcyhyG7iDfZ9YpdNZzCVFEaaS8n9fkQQGL.Vz6MkkL7EaycmQTpdiodvEfQipKmjy2JCmHyYo4JEJWwXvCmE.SeyJ0IjoiZG0iLCJzIjoiaHR0cDovL25lc3N1cy10ZWNoLmlvOjkxMDAifQ#didcommmessaging-0',\n",
       "   'type': 'DIDCommMessaging',\n",
       "   'serviceEndpoint': 'http://nessus-tech.io:9100'}]}"
      ]
     },
     "execution_count": 19,
     "metadata": {},
     "output_type": "execute_result"
    }
   ],
   "source": [
    "#get nessus\n",
    "nessus_invitation = json.loads(requests.get('http://nessus-tech.io:9100/invitation?inviter=Government&method=peer').text)\n",
    "nessus_did_doc = json.loads(peer_did.resolve_peer_did(nessus_invitation[\"from\"]))\n",
    "nessus_did_doc"
   ]
  },
  {
   "cell_type": "code",
   "execution_count": 20,
   "metadata": {},
   "outputs": [
    {
     "data": {
      "text/plain": [
       "{'id': 'did:peer:2.Ez6LShroqrxP6vrwcyhyG7iDfZ9YpdNZzCVFEaaS8n9fkQQGL.Vz6MkkL7EaycmQTpdiodvEfQipKmjy2JCmHyYo4JEJWwXvCmE.SeyJ0IjoiZG0iLCJzIjoiaHR0cDovL25lc3N1cy10ZWNoLmlvOjkxMDAifQ',\n",
       " 'authentication': [{'id': 'did:peer:2.Ez6LShroqrxP6vrwcyhyG7iDfZ9YpdNZzCVFEaaS8n9fkQQGL.Vz6MkkL7EaycmQTpdiodvEfQipKmjy2JCmHyYo4JEJWwXvCmE.SeyJ0IjoiZG0iLCJzIjoiaHR0cDovL25lc3N1cy10ZWNoLmlvOjkxMDAifQ#6MkkL7EaycmQTpdiodvEfQipKmjy2JCmHyYo4JEJWwXvCmE',\n",
       "   'type': 'Ed25519VerificationKey2020',\n",
       "   'controller': 'did:peer:2.Ez6LShroqrxP6vrwcyhyG7iDfZ9YpdNZzCVFEaaS8n9fkQQGL.Vz6MkkL7EaycmQTpdiodvEfQipKmjy2JCmHyYo4JEJWwXvCmE.SeyJ0IjoiZG0iLCJzIjoiaHR0cDovL25lc3N1cy10ZWNoLmlvOjkxMDAifQ',\n",
       "   'publicKeyMultibase': 'z6MkkL7EaycmQTpdiodvEfQipKmjy2JCmHyYo4JEJWwXvCmE'}],\n",
       " 'keyAgreement': [{'id': 'did:peer:2.Ez6LShroqrxP6vrwcyhyG7iDfZ9YpdNZzCVFEaaS8n9fkQQGL.Vz6MkkL7EaycmQTpdiodvEfQipKmjy2JCmHyYo4JEJWwXvCmE.SeyJ0IjoiZG0iLCJzIjoiaHR0cDovL25lc3N1cy10ZWNoLmlvOjkxMDAifQ#6LShroqrxP6vrwcyhyG7iDfZ9YpdNZzCVFEaaS8n9fkQQGL',\n",
       "   'type': 'X25519KeyAgreementKey2020',\n",
       "   'controller': 'did:peer:2.Ez6LShroqrxP6vrwcyhyG7iDfZ9YpdNZzCVFEaaS8n9fkQQGL.Vz6MkkL7EaycmQTpdiodvEfQipKmjy2JCmHyYo4JEJWwXvCmE.SeyJ0IjoiZG0iLCJzIjoiaHR0cDovL25lc3N1cy10ZWNoLmlvOjkxMDAifQ',\n",
       "   'publicKeyMultibase': 'z6LShroqrxP6vrwcyhyG7iDfZ9YpdNZzCVFEaaS8n9fkQQGL'}],\n",
       " 'service': [{'id': 'did:peer:2.Ez6LShroqrxP6vrwcyhyG7iDfZ9YpdNZzCVFEaaS8n9fkQQGL.Vz6MkkL7EaycmQTpdiodvEfQipKmjy2JCmHyYo4JEJWwXvCmE.SeyJ0IjoiZG0iLCJzIjoiaHR0cDovL25lc3N1cy10ZWNoLmlvOjkxMDAifQ#didcommmessaging-0',\n",
       "   'type': 'DIDCommMessaging',\n",
       "   'serviceEndpoint': 'http://nessus-tech.io:9100'}]}"
      ]
     },
     "execution_count": 20,
     "metadata": {},
     "output_type": "execute_result"
    }
   ],
   "source": [
    "nessus_did_doc"
   ]
  },
  {
   "cell_type": "code",
   "execution_count": 21,
   "metadata": {},
   "outputs": [
    {
     "data": {
      "text/plain": [
       "'{}'"
      ]
     },
     "execution_count": 21,
     "metadata": {},
     "output_type": "execute_result"
    }
   ],
   "source": [
    "ping_msg = Message(\n",
    "    body = { \"response_requested\": True },\n",
    "    id = str(uuid.uuid4()),\n",
    "    type = \"https://didcomm.org/trust-ping/2.0/ping\",\n",
    "    frm = alice_did_new,\n",
    "    to = [nessus_invitation[\"from\"]],\n",
    ")\n",
    "\n",
    "tony_trust_ping_packed = await pack_encrypted(\n",
    "    resolvers_config = ResolversConfig(\n",
    "        secrets_resolver = secrets_resolver,\n",
    "        did_resolver = DIDResolverPeerDID()\n",
    "    ),\n",
    "    message = ping_msg,\n",
    "    frm = alice_did_new,\n",
    "    to = nessus_invitation['from'],\n",
    "    sign_frm = None,\n",
    "    pack_config = PackEncryptedConfig(protect_sender_id=False)\n",
    ")\n",
    "trust_ping_did_doc = json.loads(peer_did.resolve_peer_did(nessus_invitation[\"from\"]))\n",
    "trust_ping_endpoint = trust_ping_did_doc[\"service\"][0][\"serviceEndpoint\"]\n",
    "headers = {\"Content-Type\": \"application/didcomm-encrypted+json\"}\n",
    "resp = requests.post(trust_ping_endpoint, headers=headers, json = json.loads(tony_trust_ping_packed.packed_msg))\n",
    "resp.text"
   ]
  },
  {
   "cell_type": "markdown",
   "metadata": {},
   "source": [
    "### Alice check status of queued messages from the Mediator"
   ]
  },
  {
   "cell_type": "code",
   "execution_count": 22,
   "metadata": {},
   "outputs": [],
   "source": [
    "alice_status_check = Message(\n",
    "    id = \"unique-id-293e9a922efffxxx\",\n",
    "    type = \"https://didcomm.org/messagepickup/3.0/status-request\",\n",
    "    body = {}\n",
    ")"
   ]
  },
  {
   "cell_type": "code",
   "execution_count": 23,
   "metadata": {},
   "outputs": [],
   "source": [
    "alice_status_check_packed_msg = await pack_encrypted(\n",
    "    resolvers_config = ResolversConfig(\n",
    "        secrets_resolver = secrets_resolver,\n",
    "        did_resolver = DIDResolverPeerDID()\n",
    "    ),\n",
    "    message = alice_status_check,\n",
    "    to = mediator_did,\n",
    "    frm = alice_did_for_mediator,\n",
    "    sign_frm = None,\n",
    "    pack_config = PackEncryptedConfig(protect_sender_id=False)\n",
    ")\n",
    "headers = {\"Content-Type\": \"application/didcomm-encrypted+json\"}\n",
    "resp3 = requests.post(mediator_endpoint, headers=headers, data = alice_status_check_packed_msg.packed_msg)"
   ]
  },
  {
   "cell_type": "code",
   "execution_count": 24,
   "metadata": {},
   "outputs": [
    {
     "name": "stdout",
     "output_type": "stream",
     "text": [
      "https://didcomm.org/messagepickup/3.0/status\n",
      "Messages in Mediator queue: 0\n"
     ]
    }
   ],
   "source": [
    "mediator_unpack_status = await unpack(\n",
    "    resolvers_config=ResolversConfig(\n",
    "        secrets_resolver=secrets_resolver,\n",
    "        did_resolver=DIDResolverPeerDID()\n",
    "    ),\n",
    "    packed_msg= resp3.json()\n",
    ")\n",
    "print(mediator_unpack_status.message.type)\n",
    "print(\"Messages in Mediator queue: \" + str(mediator_unpack_status.message.body[\"message_count\"]))"
   ]
  },
  {
   "cell_type": "markdown",
   "metadata": {},
   "source": [
    "### If there are messages, Alice can pickup from the mediator (delivery request)"
   ]
  },
  {
   "cell_type": "code",
   "execution_count": 25,
   "metadata": {},
   "outputs": [],
   "source": [
    "alice_delivery_request = Message(\n",
    "    id = \"unique-id-293e9a922efffxxxff\",\n",
    "    type = \"https://didcomm.org/messagepickup/3.0/delivery-request\",\n",
    "    body = {\"limit\": 1}\n",
    ")"
   ]
  },
  {
   "cell_type": "code",
   "execution_count": 26,
   "metadata": {},
   "outputs": [],
   "source": [
    "alice_delivery_request_packed_msg = await pack_encrypted(\n",
    "    resolvers_config = ResolversConfig(\n",
    "        secrets_resolver = secrets_resolver,\n",
    "        did_resolver = DIDResolverPeerDID()\n",
    "    ),\n",
    "    message = alice_delivery_request,\n",
    "    to = mediator_did,\n",
    "    frm = alice_did_for_mediator,\n",
    "    sign_frm = None,\n",
    "    pack_config = PackEncryptedConfig(protect_sender_id=False)\n",
    ")\n",
    "headers = {\"Content-Type\": \"application/didcomm-encrypted+json\"}\n",
    "resp4 = requests.post(mediator_endpoint, headers=headers, data = alice_delivery_request_packed_msg.packed_msg)"
   ]
  },
  {
   "cell_type": "code",
   "execution_count": 27,
   "metadata": {},
   "outputs": [
    {
     "name": "stdout",
     "output_type": "stream",
     "text": [
      "https://didcomm.org/messagepickup/3.0/delivery\n",
      "{'recipient_key': None}\n"
     ]
    }
   ],
   "source": [
    "mediator_delivery = await unpack(\n",
    "    resolvers_config=ResolversConfig(\n",
    "        secrets_resolver=secrets_resolver,\n",
    "        did_resolver=DIDResolverPeerDID()\n",
    "    ),\n",
    "    packed_msg= resp4.json()\n",
    ")\n",
    "print(mediator_delivery.message.type)\n",
    "print(mediator_delivery.message.body)\n",
    "bob_packed_msg = mediator_delivery.message.attachments[0].data.json\n",
    "msg_id = mediator_delivery.message.attachments[0].id"
   ]
  },
  {
   "cell_type": "code",
   "execution_count": 28,
   "metadata": {},
   "outputs": [],
   "source": [
    "bob_packed_msg = mediator_delivery.message.attachments[0].data.json\n",
    "msg_id = mediator_delivery.message.attachments[0].id"
   ]
  },
  {
   "cell_type": "code",
   "execution_count": 29,
   "metadata": {},
   "outputs": [
    {
     "name": "stdout",
     "output_type": "stream",
     "text": [
      "{'ciphertext': 'xpX6DPtHHqSwA3x8GEsJviRT3pcjVev34RUwtFmU_nJItlWUgYQi1nso9tA806P4BfW76-PIQi4j4sg2YtfP1bDYXQEOEsV3wxz-RU4p4aatZ3YBomlY1SC0-WkKgRx0YGpudS-06DxJgXdON27s_uB2JlhrcdvW-idf9TB6huGew1ssI0ERFt49S924jJ1VcgSMrng8OZZfC69tpTZTvWP7hFChkF6_0ogy4ImWIlDI152MZJwMM-AT2GNnR55F8_O4ryxFbSWY_ejKHisucMPvgsfXM23NLJAPXbH8L-Fc0F-wUHilbs1vHnXjIEyZxUBFCbJ0KDXWeMmFYVMh6nx9evAPLz6Ten3OJEW301BNnKvZOYnhLI1ZUfZYRY_s3JpDEqYkhYn3cPv-fO_h1bkU6-0w8sWZ8dBAidi7eaI6dNZI4tcG2DpeiG8Klpy2w1Fp06hwcWNIgpzGZYRohD5JgwtC0LmlMXslw3Nw7lwRJKcipGRUOd51yrCvcnAow-1NzoW5l_mtNsRMrv_IeqeZiTAXyTpT0Okqu50O3iFx8GJ3lyCrzK-rLl2p7WmqfPb64ySHO8pQ0VLOonDByMxAUXQJpEOIN1YHjVJk3ETyQLIeLBFmrqwAazuboOdwA6R_h5SrcPtM7nJGekPqMd6in3ZZfYKatbk-NvfFcoPzYccRzuSJlfGLDV3NEzTTLYANSVl8RAnTsm2HHEsV0Z6Co-4FTZHOtZOfPvxu94q2MSPekZBKEnrMmidvNd2r2srhg3G4nuipSNwEBW1HP_-E_f3wWOXwr91jTN1JVmJlnd527VPIj-ohrHCb7DpxrA_59My4k_-t6AtGrpTbAn35pFBBjFIRfo28ihsz1nhp6fMQWrspBv2h9IdGWq8QAKSwaIfQSUDs8qPcGo_IwgbKaOZtv3KfHSZ2I_wN1K6xp5Ryuitk164BDyhURewrO8GXTjyDnQfNVssZtoLPOOWlAZTfFjZS1HOSEmbFSDOFX-z6_w36belwoh9kDLcJC-HmaNFSu0YwXuNGYf0Ifl593bc-mxvKjUULDZs7TQqS1Y1841Z1SPeDpsrFeQR62Stw4Sc7iMmG9DQxJ3vKmmROna84O6mbyWBi1l3YMFPQbLXX-XuCh8MWq4HjvuMmP4gpAspzeiJ6T4jJSzZ88ZWykvWcqas6T6rvsdzwUjNHvuasfo7iXwxxDakDWaM_6NRYOJ9p3VrRxH3zlxWVWwZOXROaqj1-UwU4zuYMBAEH7KksOq56b7oDJJmPHwBl6Jjd1T-TKnUqTIsn4XEzTktqqroacjj5roSnCLCbYzd_ecmYtYDW9nbAKnDKrwgRI4ctnCf3ThgPlrHkLn9vIc7IB5V_jH2lWwd9HSYc-lniEJOh2OkQFy4iBcLACtr--JjscKxMg_BwlZDcwKhM_naNTU6nXOJmALSN5GLKnw0SD9ZJOCfknVPwl3BmIN_S_bfKAkkFVq5pugdk2y7h9F3yDuaVMnG-9VEiXeMsZT0CIx3S-On1kt5GouDw8xFiGqg81xgStBfCalxiKVNM4chSoH7uYqFW2Uxwje2m5NjW71mQ7xMyWaFpEzIIIndz6y3oxHhBBZ2D-pnscEHEGCMNEzmRmr8axzkn1xK_kMYGCkk_qmnSO181EEgcLOke-Jop-WGvvGzsyuWx2uPCY8PJLCyyUo6gln5egbGvAE6o0XcXtmpjGQmkeT51oXwCgowEUYai63tUVio6V28Zhnvx-SKMm2uVUEDbXxaFB4L2sYgznmVBWeAAe22NU5PzvoZzE3-DSb66CYbxxoTuyAtzDMRC7mihEnUrM5nbw8j6tX1dIArUQkYbUxJcCAcSxeGhbzOZm70W78jN-4FPncGJ3VNnMEChn3u7H1cU3A8_7HEC-CS_DjGu1bGt1fUgxhTjL0epV-AG1ek9g3orTHTBFuLFSy605shHFag_mIO26JqWoyofn-GD1vAA0-q4xAAeWCq6f6oz9WO6rHD6HYBd6bpyTFFyk5KLsnqwU7bB8WzwKWqQ6FAx-3Z5C0j-H6N1buieh556Eo_zUcW-pHo6f89hcTF-f4E5PlQg0ZV0iQFyMRSBpHNHc_ZdwraeBA7hjVIZ9yDCwwdBHLMg7qK2SgAllqvpplh_yRqPHlEwscavDlXVQlpK6pIkiaGaDgzFp-YYUJWdufLhcKn8B7rpsOqR0_d9YUmrfVJPrGMlIlcIw9TRhshDKX9jsSykWiYOfjxhkcvpsyYXNXUqW4_Vo9bIiqV9YVcoevLOYumFO78t_8034efyz-77DcYm0F-vIf5LqUJNrotCvGS9xuFETGdZ_Dvjn5O_UdjmynQEtilFQixbWI7IFZYdaX2mroMZNCtFbBnmCCnuqWWP8Hy0PAi3IPVUmpAQ_uxhYDjaZXObf1PR2HxJEDs-06qkS5N78syCMOmtEFgn-KtOE4HPtiWkqIVqdhaFxo8K-YY', 'protected': 'eyJlcGsiOnsia3R5IjoiT0tQIiwiY3J2IjoiWDI1NTE5IiwieCI6Ii1DbWs0YzJielMxeUZxSzV3YlBpYmdmT19RSHJvQWF0Qm96N2VvQUV5QUkifSwiYXB2IjoiTDVFcUNZczdNQ21TU3pUejR0M0RDREZrdlJpSFFTbl80anVpQk5JSHdGMCIsInNraWQiOiJkaWQ6cGVlcjoyLkV6NkxTaHJvcXJ4UDZ2cndjeWh5RzdpRGZaOVlwZE5aekNWRkVhYVM4bjlma1FRR0wuVno2TWtrTDdFYXljbVFUcGRpb2R2RWZRaXBLbWp5MkpDbUh5WW80SkVKV3dYdkNtRS5TZXlKMElqb2laRzBpTENKeklqb2lhSFIwY0RvdkwyNWxjM04xY3kxMFpXTm9MbWx2T2preE1EQWlmUSM2TFNocm9xcnhQNnZyd2N5aHlHN2lEZlo5WXBkTlp6Q1ZGRWFhUzhuOWZrUVFHTCIsImFwdSI6IlpHbGtPbkJsWlhJNk1pNUZlalpNVTJoeWIzRnllRkEyZG5KM1kzbG9lVWMzYVVSbVdqbFpjR1JPV25wRFZrWkZZV0ZUT0c0NVptdFJVVWRNTGxaNk5rMXJhMHczUldGNVkyMVJWSEJrYVc5a2RrVm1VV2x3UzIxcWVUSktRMjFJZVZsdk5FcEZTbGQzV0haRGJVVXVVMlY1U2pCSmFtOXBXa2N3YVV4RFNucEphbTlwWVVoU01HTkViM1pNTWpWc1l6Tk9NV041TVRCYVYwNXZURzFzZGs5cWEzaE5SRUZwWmxFak5reFRhSEp2Y1hKNFVEWjJjbmRqZVdoNVJ6ZHBSR1phT1Zsd1pFNWFla05XUmtWaFlWTTRiamxtYTFGUlIwdyIsInR5cCI6ImFwcGxpY2F0aW9uL2RpZGNvbW0tZW5jcnlwdGVkK2pzb24iLCJlbmMiOiJBMjU2Q0JDLUhTNTEyIiwiYWxnIjoiRUNESC0xUFUrQTI1NktXIn0', 'recipients': [{'encrypted_key': 'eMai-GarqK3qBqNQJMagejS7tpWFPAs08CfF21QQJkZzfn0tnSLlmkfqGKkmYwl-jMeh9kRqTBhbfIebXcDp_ZQbIXTPKkMp', 'header': {'kid': 'did:peer:2.Ez6LSrCeFSKkbiVwGgJMECHQncqru1a2uojYmgyVtQ7ba4B5q.Vz6MkhnMg6wSBtwWz2QYPcqiS4Lrdfm8Z5k8SonsGSmw4ocx1.SeyJpZCI6IiNkaWRjb21tbWVzc2FnaW5nLTAiLCJ0IjoiZG0iLCJzIjoiaHR0cHM6Ly9tZWRpYXRvci5yb290c2lkLmNsb3VkIiwiYSI6WyJkaWRjb21tL3YyIl0sInIiOlsiZGlkOnBlZXI6Mi5FejZMU2tkZ3JaVnpYQ3phcEhzS2FTN1hQeUpaa2J4TkdjOVV1WmlBWEw0NE16aGpBLlZ6Nk1rbWlHMUFkZkJqaWtEdW15Qkc1RkVvZnZKUDZTdDJQS1MzVWlUbWl1Qll1bmUuU2V5SnBaQ0k2SW01bGR5MXBaQ0lzSW5RaU9pSmtiU0lzSW5NaU9pSm9kSFJ3Y3pvdkwyMWxaR2xoZEc5eUxuSnZiM1J6YVdRdVkyeHZkV1FpTENKaElqcGJJbVJwWkdOdmJXMHZkaklpWFgwIl19#6LSrCeFSKkbiVwGgJMECHQncqru1a2uojYmgyVtQ7ba4B5q'}}], 'tag': 'MCQ8boRM08UuoZN3IG7SHHffEHdMLFo8wwuwFVzcNxA', 'iv': '3rt8cXC7tQbvIJN4GNdVfA'}\n"
     ]
    }
   ],
   "source": [
    "print(bob_packed_msg)"
   ]
  },
  {
   "cell_type": "code",
   "execution_count": 30,
   "metadata": {},
   "outputs": [],
   "source": [
    "bob_msg = await unpack(\n",
    "    resolvers_config=ResolversConfig(\n",
    "        secrets_resolver=secrets_resolver,\n",
    "        did_resolver=DIDResolverPeerDID()\n",
    "    ),\n",
    "    packed_msg= bob_packed_msg\n",
    ")"
   ]
  },
  {
   "cell_type": "code",
   "execution_count": 31,
   "metadata": {},
   "outputs": [
    {
     "name": "stdout",
     "output_type": "stream",
     "text": [
      "Message ID: 642f12f3fb5566e28c19e1ca\n"
     ]
    }
   ],
   "source": [
    "print(\"Message ID:\", msg_id)"
   ]
  },
  {
   "cell_type": "code",
   "execution_count": 32,
   "metadata": {},
   "outputs": [
    {
     "data": {
      "text/plain": [
       "{'comment': 'Pong from Government', 'suggested_label': 'Government'}"
      ]
     },
     "execution_count": 32,
     "metadata": {},
     "output_type": "execute_result"
    }
   ],
   "source": [
    "bob_msg.message.as_dict()['body']"
   ]
  },
  {
   "cell_type": "markdown",
   "metadata": {},
   "source": [
    "### Alice acknowledge so the mediator can delete the message"
   ]
  },
  {
   "cell_type": "code",
   "execution_count": 33,
   "metadata": {},
   "outputs": [],
   "source": [
    "alice_ack = Message(\n",
    "    id = \"unique-id-293e9a922efffxxxffsss\",\n",
    "    type = \"https://didcomm.org/messagepickup/3.0/messages-received\",\n",
    "    body = {\"message_id_list\": [msg_id]}\n",
    ")"
   ]
  },
  {
   "cell_type": "code",
   "execution_count": 34,
   "metadata": {},
   "outputs": [],
   "source": [
    "alice_ack_packed_msg = await pack_encrypted(\n",
    "    resolvers_config = ResolversConfig(\n",
    "        secrets_resolver = secrets_resolver,\n",
    "        did_resolver = DIDResolverPeerDID()\n",
    "    ),\n",
    "    message = alice_ack,\n",
    "    to = mediator_did,\n",
    "    frm = alice_did_for_mediator,\n",
    "    sign_frm = None,\n",
    "    pack_config = PackEncryptedConfig(protect_sender_id=False)\n",
    ")\n",
    "headers = {\"Content-Type\": \"application/didcomm-encrypted+json\"}\n",
    "resp5 = requests.post(mediator_endpoint, headers=headers, data = alice_ack_packed_msg.packed_msg)"
   ]
  },
  {
   "cell_type": "code",
   "execution_count": 35,
   "metadata": {},
   "outputs": [
    {
     "name": "stdout",
     "output_type": "stream",
     "text": [
      "https://didcomm.org/messagepickup/3.0/status\n",
      "{'message_count': 0, 'live_delivery': False}\n"
     ]
    }
   ],
   "source": [
    "mediator_ack_status = await unpack(\n",
    "    resolvers_config=ResolversConfig(\n",
    "        secrets_resolver=secrets_resolver,\n",
    "        did_resolver=DIDResolverPeerDID()\n",
    "    ),\n",
    "    packed_msg= resp5.json()\n",
    ")\n",
    "print(mediator_ack_status.message.type)\n",
    "print(mediator_ack_status.message.body)"
   ]
  },
  {
   "cell_type": "markdown",
   "metadata": {},
   "source": [
    "## Send basic message to Nessus"
   ]
  },
  {
   "cell_type": "code",
   "execution_count": 36,
   "metadata": {},
   "outputs": [
    {
     "data": {
      "text/plain": [
       "'{}'"
      ]
     },
     "execution_count": 36,
     "metadata": {},
     "output_type": "execute_result"
    }
   ],
   "source": [
    "\n",
    "tony_basic_message = Message(\n",
    "    id = str(uuid.uuid4()),\n",
    "    type=\"https://didcomm.org/basicmessage/2.0/message\",\n",
    "    body={\"content\": f'YOYOYO Nessus, this is RootsID {str(uuid.uuid4())[:5]}'},\n",
    "    created_time= int(datetime.datetime.now().timestamp()),\n",
    "    to = [nessus_invitation['from']],\n",
    "        frm = alice_did_new,\n",
    ")\n",
    "\n",
    "tony_basic_message_packed = await pack_encrypted(\n",
    "    resolvers_config = ResolversConfig(\n",
    "        secrets_resolver = secrets_resolver,\n",
    "        did_resolver = DIDResolverPeerDID()\n",
    "    ),\n",
    "    message = tony_basic_message,\n",
    "    frm = alice_did_new,\n",
    "    to = nessus_invitation['from'],\n",
    "    sign_frm = None,\n",
    "    pack_config = PackEncryptedConfig(protect_sender_id=False)\n",
    ")\n",
    "\n",
    "trust_ping_did_doc = json.loads(peer_did.resolve_peer_did(nessus_invitation[\"from\"]))\n",
    "trust_ping_endpoint = trust_ping_did_doc[\"service\"][0][\"serviceEndpoint\"]\n",
    "headers = {\"Content-Type\": \"application/didcomm-encrypted+json\"}\n",
    "resp = requests.post(trust_ping_endpoint, headers=headers, json = json.loads(tony_basic_message_packed.packed_msg))\n",
    "resp.text"
   ]
  },
  {
   "cell_type": "code",
   "execution_count": null,
   "metadata": {},
   "outputs": [],
   "source": []
  }
 ],
 "metadata": {
  "kernelspec": {
   "display_name": "Python 3 (ipykernel)",
   "language": "python",
   "name": "python3"
  },
  "language_info": {
   "codemirror_mode": {
    "name": "ipython",
    "version": 3
   },
   "file_extension": ".py",
   "mimetype": "text/x-python",
   "name": "python",
   "nbconvert_exporter": "python",
   "pygments_lexer": "ipython3",
   "version": "3.10.10"
  }
 },
 "nbformat": 4,
 "nbformat_minor": 2
}
