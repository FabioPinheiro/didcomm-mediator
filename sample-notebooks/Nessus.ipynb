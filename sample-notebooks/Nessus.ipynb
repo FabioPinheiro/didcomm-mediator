{
 "cells": [
  {
   "cell_type": "code",
   "execution_count": 1,
   "metadata": {},
   "outputs": [],
   "source": [
    "import json\n",
    "import base64\n",
    "import qrcode\n",
    "import requests\n",
    "import datetime\n",
    "import uuid\n",
    "import matplotlib.pyplot as plt\n",
    "from pymongo import MongoClient\n",
    "from typing import Optional, List\n",
    "from didcomm.common.types import DID, VerificationMethodType, VerificationMaterial, VerificationMaterialFormat\n",
    "from didcomm.did_doc.did_doc import DIDDoc, VerificationMethod, DIDCommService\n",
    "from didcomm.did_doc.did_resolver import DIDResolver\n",
    "from didcomm.message import Message, FromPrior\n",
    "from didcomm.secrets.secrets_resolver_demo import SecretsResolverDemo\n",
    "from didcomm.unpack import unpack, UnpackResult\n",
    "from didcomm.common.resolvers import ResolversConfig\n",
    "from didcomm.message import Attachment, AttachmentDataJson, AttachmentDataLinks\n",
    "from didcomm.pack_encrypted import pack_encrypted, PackEncryptedConfig, PackEncryptedResult\n",
    "from peerdid.core.did_doc_types import DIDCommServicePeerDID\n",
    "from didcomm.secrets.secrets_util import generate_x25519_keys_as_jwk_dict, generate_ed25519_keys_as_jwk_dict, jwk_to_secret\n",
    "from peerdid import peer_did\n",
    "from peerdid.did_doc import DIDDocPeerDID\n",
    "\n",
    "from peerdid.types import VerificationMaterialAuthentication, VerificationMethodTypeAuthentication, VerificationMaterialAgreement, VerificationMethodTypeAgreement, VerificationMaterialFormatPeerDID"
   ]
  },
  {
   "cell_type": "code",
   "execution_count": 2,
   "metadata": {},
   "outputs": [],
   "source": [
    "secrets_resolver = SecretsResolverDemo()"
   ]
  },
  {
   "cell_type": "code",
   "execution_count": 3,
   "metadata": {},
   "outputs": [],
   "source": [
    "class DIDResolverPeerDID(DIDResolver):\n",
    "    async def resolve(self, did: DID) -> DIDDoc:\n",
    "        did_doc_json = peer_did.resolve_peer_did(did, format = VerificationMaterialFormatPeerDID.JWK)\n",
    "        did_doc = DIDDocPeerDID.from_json(did_doc_json)\n",
    "\n",
    "        return DIDDoc(\n",
    "            did=did_doc.did,\n",
    "            key_agreement_kids = did_doc.agreement_kids,\n",
    "            authentication_kids = did_doc.auth_kids,\n",
    "            verification_methods = [\n",
    "                VerificationMethod(\n",
    "                    id = m.id,\n",
    "                    type = VerificationMethodType.JSON_WEB_KEY_2020,\n",
    "                    controller = m.controller,\n",
    "                    verification_material = VerificationMaterial(\n",
    "                        format = VerificationMaterialFormat.JWK,\n",
    "                        value = json.dumps(m.ver_material.value)\n",
    "                    )\n",
    "                )\n",
    "                for m in did_doc.authentication + did_doc.key_agreement\n",
    "            ],\n",
    "             didcomm_services = []\n",
    "#                 DIDCommService(\n",
    "#                     id = s.id,\n",
    "#                     service_endpoint = s.service_endpoint,\n",
    "#                     routing_keys = s.routing_keys,\n",
    "#                     accept = s.accept\n",
    "#                 )\n",
    "#                 for s in did_doc.service\n",
    "#                 if isinstance(s, DIDCommServicePeerDID)\n",
    "#            ] if did_doc.service else []\n",
    "        )"
   ]
  },
  {
   "cell_type": "code",
   "execution_count": 4,
   "metadata": {},
   "outputs": [],
   "source": [
    "async def create_peer_did(self,\n",
    "                        auth_keys_count: int = 1,\n",
    "                        agreement_keys_count: int = 1,\n",
    "                        service_endpoint: Optional[str] = None,\n",
    "                        service_routing_keys: Optional[List[str]] = None\n",
    "                        ) -> str:\n",
    "        # 1. generate keys in JWK format\n",
    "        agreem_keys = [generate_x25519_keys_as_jwk_dict() for _ in range(agreement_keys_count)]\n",
    "        auth_keys = [generate_ed25519_keys_as_jwk_dict() for _ in range(auth_keys_count)]\n",
    "\n",
    "        # 2. prepare the keys for peer DID lib\n",
    "        agreem_keys_peer_did = [\n",
    "            VerificationMaterialAgreement(\n",
    "                type=VerificationMethodTypeAgreement.JSON_WEB_KEY_2020,\n",
    "                format=VerificationMaterialFormatPeerDID.JWK,\n",
    "                value=k[1],\n",
    "            )\n",
    "            for k in agreem_keys\n",
    "        ]\n",
    "        auth_keys_peer_did = [\n",
    "            VerificationMaterialAuthentication(\n",
    "                type=VerificationMethodTypeAuthentication.JSON_WEB_KEY_2020,\n",
    "                format=VerificationMaterialFormatPeerDID.JWK,\n",
    "                value=k[1],\n",
    "            )\n",
    "            for k in auth_keys\n",
    "        ]\n",
    "\n",
    "        # 3. generate service\n",
    "        service = None\n",
    "        if service_endpoint:\n",
    "            service = json.dumps(\n",
    "                DIDCommServicePeerDID(\n",
    "                    id=\"#didcommmessaging-0\",\n",
    "                    service_endpoint=service_endpoint, routing_keys=service_routing_keys,\n",
    "                    accept=[\"didcomm/v2\"]\n",
    "                ).to_dict()\n",
    "            )\n",
    "\n",
    "        # 4. call peer DID lib\n",
    "        # if we have just one key (auth), then use numalg0 algorithm\n",
    "        # otherwise use numalg2 algorithm\n",
    "        if len(auth_keys_peer_did) == 1 and not agreem_keys_peer_did and not service:\n",
    "            did = peer_did.create_peer_did_numalgo_0(auth_keys_peer_did[0])\n",
    "        else:\n",
    "            did = peer_did.create_peer_did_numalgo_2(\n",
    "                encryption_keys=agreem_keys_peer_did,\n",
    "                signing_keys=auth_keys_peer_did,\n",
    "                service=service,\n",
    "            )\n",
    "\n",
    "        # 5. set KIDs as in DID DOC for secrets and store the secret in the secrets resolver\n",
    "        did_doc = DIDDocPeerDID.from_json(peer_did.resolve_peer_did(did))\n",
    "        for auth_key, kid in zip(auth_keys, did_doc.auth_kids):\n",
    "            private_key = auth_key[0]\n",
    "            private_key[\"kid\"] = kid\n",
    "            await secrets_resolver.add_key(jwk_to_secret(private_key))\n",
    "\n",
    "        for agreem_key, kid in zip(agreem_keys, did_doc.agreement_kids):\n",
    "            private_key = agreem_key[0]\n",
    "            private_key[\"kid\"] = kid\n",
    "            await secrets_resolver.add_key(jwk_to_secret(private_key))\n",
    "\n",
    "        return did\n"
   ]
  },
  {
   "cell_type": "code",
   "execution_count": 28,
   "metadata": {},
   "outputs": [],
   "source": [
    "async def poll_response():\n",
    "    alice_status_check = Message(\n",
    "        id = str(uuid.uuid4()),\n",
    "        type = \"https://didcomm.org/messagepickup/3.0/status-request\",\n",
    "        body = {}\n",
    "    )\n",
    "    alice_status_check_packed_msg = await pack_encrypted(\n",
    "        resolvers_config = ResolversConfig(\n",
    "            secrets_resolver = secrets_resolver,\n",
    "            did_resolver = DIDResolverPeerDID()\n",
    "        ),\n",
    "        message = alice_status_check,\n",
    "        to = mediator_did,\n",
    "        frm = alice_did_for_mediator,\n",
    "        sign_frm = None,\n",
    "        pack_config = PackEncryptedConfig(protect_sender_id=False)\n",
    "    )\n",
    "    headers = {\"Content-Type\": \"application/didcomm-encrypted+json\"}\n",
    "    resp3 = requests.post(mediator_endpoint, headers=headers, data = alice_status_check_packed_msg.packed_msg)\n",
    "    mediator_unpack_status = await unpack(\n",
    "        resolvers_config=ResolversConfig(\n",
    "            secrets_resolver=secrets_resolver,\n",
    "            did_resolver=DIDResolverPeerDID()\n",
    "        ),\n",
    "        packed_msg= resp3.json()\n",
    "    )\n",
    "    print(\"Messages in Mediator queue: \" + str(mediator_unpack_status.message.body[\"message_count\"]))\n",
    "    if mediator_unpack_status.message.body[\"message_count\"]>0:\n",
    "        alice_delivery_request = Message(\n",
    "            id = str(uuid.uuid4()),\n",
    "            type = \"https://didcomm.org/messagepickup/3.0/delivery-request\",\n",
    "            body = {\"limit\": 1}\n",
    "        )\n",
    "        alice_delivery_request_packed_msg = await pack_encrypted(\n",
    "            resolvers_config = ResolversConfig(\n",
    "                secrets_resolver = secrets_resolver,\n",
    "                did_resolver = DIDResolverPeerDID()\n",
    "            ),\n",
    "            message = alice_delivery_request,\n",
    "            to = mediator_did,\n",
    "            frm = alice_did_for_mediator,\n",
    "            sign_frm = None,\n",
    "            pack_config = PackEncryptedConfig(protect_sender_id=False)\n",
    "        )\n",
    "        headers = {\"Content-Type\": \"application/didcomm-encrypted+json\"}\n",
    "        resp4 = requests.post(mediator_endpoint, headers=headers, data = alice_delivery_request_packed_msg.packed_msg)\n",
    "        mediator_delivery = await unpack(\n",
    "            resolvers_config=ResolversConfig(\n",
    "                secrets_resolver=secrets_resolver,\n",
    "                did_resolver=DIDResolverPeerDID()\n",
    "            ),\n",
    "            packed_msg= resp4.json()\n",
    "        )\n",
    "        bob_packed_msg = mediator_delivery.message.attachments[0].data.json\n",
    "        msg_id = mediator_delivery.message.attachments[0].id\n",
    "        bob_msg = await unpack(\n",
    "            resolvers_config=ResolversConfig(\n",
    "                secrets_resolver=secrets_resolver,\n",
    "                did_resolver=DIDResolverPeerDID()\n",
    "            ),\n",
    "            packed_msg= bob_packed_msg\n",
    "        )\n",
    "\n",
    "        alice_ack = Message(\n",
    "        id = str(uuid.uuid4()),\n",
    "        type = \"https://didcomm.org/messagepickup/3.0/messages-received\",\n",
    "        body = {\"message_id_list\": [msg_id]}\n",
    "        )\n",
    "        alice_ack_packed_msg = await pack_encrypted(\n",
    "            resolvers_config = ResolversConfig(\n",
    "                secrets_resolver = secrets_resolver,\n",
    "                did_resolver = DIDResolverPeerDID()\n",
    "            ),\n",
    "            message = alice_ack,\n",
    "            to = mediator_did,\n",
    "            frm = alice_did_for_mediator,\n",
    "            sign_frm = None,\n",
    "            pack_config = PackEncryptedConfig(protect_sender_id=False)\n",
    "        )\n",
    "        headers = {\"Content-Type\": \"application/didcomm-encrypted+json\"}\n",
    "        resp5 = requests.post(mediator_endpoint, headers=headers, data = alice_ack_packed_msg.packed_msg)\n",
    "        mediator_ack_status = await unpack(\n",
    "            resolvers_config=ResolversConfig(\n",
    "                secrets_resolver=secrets_resolver,\n",
    "                did_resolver=DIDResolverPeerDID()\n",
    "            ),\n",
    "            packed_msg= resp5.json()\n",
    "        )\n",
    "        print(f'message {msg_id} deleted')\n",
    "#         print(bob_msg.message.attachments[0].data.json)\n",
    "        return bob_msg"
   ]
  },
  {
   "cell_type": "markdown",
   "metadata": {},
   "source": [
    "### Alice get OOB from Mediator"
   ]
  },
  {
   "cell_type": "code",
   "execution_count": 10,
   "metadata": {},
   "outputs": [],
   "source": [
    "#oob_url = requests.get(\"http://127.0.0.1:8000/oob_url\").text\n",
    "oob_url = requests.get(\"https://mediator.rootsid.cloud/oob_url\").text"
   ]
  },
  {
   "cell_type": "code",
   "execution_count": 11,
   "metadata": {},
   "outputs": [
    {
     "name": "stdout",
     "output_type": "stream",
     "text": [
      "https://mediator.rootsid.cloud?_oob=eyJ0eXBlIjoiaHR0cHM6Ly9kaWRjb21tLm9yZy9vdXQtb2YtYmFuZC8yLjAvaW52aXRhdGlvbiIsImlkIjoiOWQ5ZjdhMzYtYmYzYS00YWViLWE5MTItMDExZjM3MTc4NzM3IiwiZnJvbSI6ImRpZDpwZWVyOjIuRXo2TFNtczU1NVloRnRobjFXVjhjaURCcFptODZoSzl0cDgzV29qSlVteFBHazFoWi5WejZNa21kQmpNeUI0VFM1VWJiUXc1NHN6bTh5dk1NZjFmdEdWMnNRVllBeGFlV2hFLlNleUpwWkNJNkltNWxkeTFwWkNJc0luUWlPaUprYlNJc0luTWlPaUpvZEhSd2N6b3ZMMjFsWkdsaGRHOXlMbkp2YjNSemFXUXVZMnh2ZFdRaUxDSmhJanBiSW1ScFpHTnZiVzB2ZGpJaVhYMCIsImJvZHkiOnsiZ29hbF9jb2RlIjoicmVxdWVzdC1tZWRpYXRlIiwiZ29hbCI6IlJlcXVlc3RNZWRpYXRlIiwibGFiZWwiOiJNZWRpYXRvciIsImFjY2VwdCI6WyJkaWRjb21tL3YyIl19fQ\n"
     ]
    }
   ],
   "source": [
    "print(oob_url)"
   ]
  },
  {
   "cell_type": "code",
   "execution_count": 12,
   "metadata": {},
   "outputs": [
    {
     "name": "stdout",
     "output_type": "stream",
     "text": [
      "Alice's DID: did:peer:2.Ez6LSc4Zn6PvCmWdP4nEv4agqB6gQ2KEcZHgrk44W2woTpK8p.Vz6MkhMFCouiXTJRsMjZQVHHCaaEMEfY9JkyPU3r1EhEiqC1G\n"
     ]
    }
   ],
   "source": [
    "received_msg_encoded = oob_url.split(\"=\")[1]\n",
    "received_msg_decoded = json.loads(str(base64.urlsafe_b64decode(received_msg_encoded + \"==\"), \"utf-8\"))\n",
    "alice_did_for_mediator = await create_peer_did(1,1)\n",
    "print(\"Alice's DID:\", alice_did_for_mediator)"
   ]
  },
  {
   "cell_type": "markdown",
   "metadata": {},
   "source": [
    "### Alice request mediate"
   ]
  },
  {
   "cell_type": "code",
   "execution_count": 13,
   "metadata": {},
   "outputs": [],
   "source": [
    "alice_mediate_grant = Message(\n",
    "    custom_headers = [{\"return_route\": \"all\"}],\n",
    "    id = str(uuid.uuid4()),\n",
    "    type = \"https://didcomm.org/coordinate-mediation/2.0/mediate-request\",\n",
    "    body = {}\n",
    ")"
   ]
  },
  {
   "cell_type": "code",
   "execution_count": 14,
   "metadata": {},
   "outputs": [],
   "source": [
    "alice_mediate_grant_packed = await pack_encrypted(\n",
    "    resolvers_config = ResolversConfig(\n",
    "        secrets_resolver = secrets_resolver,\n",
    "        did_resolver = DIDResolverPeerDID()\n",
    "    ),\n",
    "    message = alice_mediate_grant,\n",
    "    frm = alice_did_for_mediator,\n",
    "    to = received_msg_decoded[\"from\"],\n",
    "    sign_frm = None,\n",
    "    pack_config = PackEncryptedConfig(protect_sender_id=False)\n",
    ")"
   ]
  },
  {
   "cell_type": "markdown",
   "metadata": {},
   "source": [
    "### Sending to Mediator"
   ]
  },
  {
   "cell_type": "code",
   "execution_count": 15,
   "metadata": {},
   "outputs": [
    {
     "name": "stdout",
     "output_type": "stream",
     "text": [
      "https://mediator.rootsid.cloud\n"
     ]
    }
   ],
   "source": [
    "mediator_did_doc = json.loads(peer_did.resolve_peer_did(received_msg_decoded[\"from\"]))\n",
    "mediator_endpoint = mediator_did_doc[\"service\"][0][\"serviceEndpoint\"]\n",
    "print(mediator_endpoint)"
   ]
  },
  {
   "cell_type": "code",
   "execution_count": 16,
   "metadata": {},
   "outputs": [],
   "source": [
    "headers = {\"Content-Type\": \"application/didcomm-encrypted+json\"}\n",
    "resp = requests.post(mediator_endpoint, headers=headers, json = json.loads(alice_mediate_grant_packed.packed_msg))\n"
   ]
  },
  {
   "cell_type": "code",
   "execution_count": 17,
   "metadata": {},
   "outputs": [
    {
     "name": "stdout",
     "output_type": "stream",
     "text": [
      "{'protected': 'eyJ0eXAiOiJhcHBsaWNhdGlvbi9kaWRjb21tLWVuY3J5cHRlZCtqc29uIiwiYWxnIjoiRUNESC0xUFUrQTI1NktXIiwiZW5jIjoiQTI1NkNCQy1IUzUxMiIsImFwdSI6IlpHbGtPbkJsWlhJNk1pNUZlalpNVTNCQ1ZXcHdaVTFTTVdjNVZYRm5VbWswT0VWaFkyOU9ibmx6UjFOQ2JXOUlXbVJrVUd0eVYxcHFNVGhOTGxaNk5rMXJhRkZqUkRsd1RVaFdkWEJIYUdSWFUyMUVhWFZTWkVwUWMyTlFSRUZpYTFGM056aFZhMVk1VURsTk5rWXVVMlY1U25CYVEwazJTVzAxYkdSNU1YQmFRMGx6U1c1UmFVOXBTbXRpVTBselNXNU5hVTlwU205a1NGSjNZM3B2ZGt3eU1XeGFSMnhvWkVjNWVVeHVTblppTTFKNllWZFJkVmt5ZUhaa1YxRnBURU5LYUVscWNHSkpiVkp3V2tkT2RtSlhNSFprYWtscFdGZ3dJelpNVTNCQ1ZXcHdaVTFTTVdjNVZYRm5VbWswT0VWaFkyOU9ibmx6UjFOQ2JXOUlXbVJrVUd0eVYxcHFNVGhOIiwiYXB2IjoiTVZyb0NJQ2g4alRxcEpfa3pVSVNENlFvQUI3XzJsMmlNUmQ4TXFDZGY2QSIsInNraWQiOiJkaWQ6cGVlcjoyLkV6NkxTcEJVanBlTVIxZzlVcWdSaTQ4RWFjb05ueXNHU0Jtb0haZGRQa3JXWmoxOE0uVno2TWtoUWNEOXBNSFZ1cEdoZFdTbURpdVJkSlBzY1BEQWJrUXc3OFVrVjlQOU02Ri5TZXlKcFpDSTZJbTVsZHkxcFpDSXNJblFpT2lKa2JTSXNJbk1pT2lKb2RIUndjem92TDIxbFpHbGhkRzl5TG5KdmIzUnphV1F1WTJ4dmRXUWlMQ0poSWpwYkltUnBaR052YlcwdmRqSWlYWDAjNkxTcEJVanBlTVIxZzlVcWdSaTQ4RWFjb05ueXNHU0Jtb0haZGRQa3JXWmoxOE0iLCJlcGsiOnsiY3J2IjoiWDI1NTE5IiwieCI6ImwydmEtSUZGUzRtNm9fYXZTZmVRVC1RWkNqSXFTVnBZUGJzd3JUZGdnRm8iLCJrdHkiOiJPS1AifX0', 'recipients': [{'header': {'kid': 'did:peer:2.Ez6LSc4Zn6PvCmWdP4nEv4agqB6gQ2KEcZHgrk44W2woTpK8p.Vz6MkhMFCouiXTJRsMjZQVHHCaaEMEfY9JkyPU3r1EhEiqC1G#6LSc4Zn6PvCmWdP4nEv4agqB6gQ2KEcZHgrk44W2woTpK8p'}, 'encrypted_key': 'HDy_QvcvCuW9bT9YNMd7HJ9OeRK8551wToCQEvB7Cybkd_jme_W__r1v7BlocWRBuUYwR3bJzFVLfZn_1r8a-5WIuMk7JQxO'}], 'iv': '_q3Knxkj6YeBVNHv6A7EBg', 'ciphertext': 'OP4UHQCuwfliyjPQkHJ8c3x725bHk5F1msldKc7Uq1kKJWut_7VVakx2jTqPLWYrqnAlAORSW2wFjh2NlDq8p-zOgKftetoOMBOt7xDlAsCA3Z7bnXDMdjAHChPMOYqOPDo8rpRj8WY3z__zrK4RuiFHHxki99LUTFE3tEqpxiE5fkCEuyfYYHpkXkLpQPlYc6tF18BYYZUBp-H2o_njLMFgW76EhSy9ClpFr-ZkN5lIPCDGsq5Y_-CDelZSnvsUIHD7a0mUumTojP38AhYEPV2VWW5JVax1Ubj_6I2U1Bxt0KKpUy27sYiT-iP8loRvDDodGWBJT4ORY_uk66EOB8WplGUOoFLg5xoRWSJBwajOHBZ-BDbc_v4S9oVdPcYPrNGAuF7VRQ-qdfZey02n34nXL85ApaJzjOWkJkgJv_m74K9PTSmjPQD2ekd_t3eruhHVFjvN6kIo8WfSAnXaJZ_TVg2qzNfBMwQfdyugpEVUDkvPHO6CB7Z2BloBwgdpGxE0N4WAGN9VJ-jY806nb8ehglrgI3fGFXIf8teN-tNQ0R6x3koNdlJPWBTGqIGb1AAHHX1NkQ_N7oyGcIUAIQVY5qxF6N1Xr0stoX1McnWdLrMAgyqxF7bOrZGLpxKXW7uXmtJNJ0NK4NHv_Hp0rTNLtXY5XVWwkT5n3t6Uc681GBJ8MWF6oW-IQVpDCT_dXTu10KXfAbTuy_x9WBRqtKfrSyWd2o1uPB5MCcOac9HStug5fq5Kr8JcZPLa-FZf4irQtv09aU2rhGE9SYTWBwsPnn6K3A-IrtPf32QHacHQfeY8eNq8qZYBPDfkirJGsgT3KdLoK816MhsnmJYOICN_pBbm-79oEFFtDbew0Aa5gzfElueT1RFsltJa_xwHS9FuKXI40rJOIaeyC7dgYpsb8BsEOP-OzAP1J7Ds44hHo7h0MEidwi6fQIWnkeOaPezJM5nXmMA7S8ThulAbSd3Fww83cYbDReNICj_EXMhZVSw3A30NsfTVhERMzR86WvceJ3XR7Wl818OZ9d1v2GR3tfWLrcFFtfbv7NCCairXfF4bx4pRG1-XjuCrC5QIvl91j8uI7y-W2g9NpEdBEuxlLQUluK3kfGkFjm7rpjmZxERCxfej71YiiVE3-nHG1_UqH94YnJNtljzWvFCSjwzeRQVxoF0wlsN_TQLS0XOZEXgmsReaDDKQYbjL06lPdKRnVCFPxbp0cSzlGVyHPzRexXD-5PQ9YzOBJaYcnyE7Glw5oA5HAfiZ7vbXmV07n1tulA2JGup9uQGjON3t7DiYEcVqN7KYAr6CV1YFJHmaVZvMXydzo-a_wgE_R-k477fgYsiS0r-rt2f3BzNHmDwY_2NgHdKSkexvHajB72IY8X1d2Jm3JZXWG2Rv5-Ipc7OIqqNm8m4G3uxrYpFFH_lPmc1Clv18Z_zxrVCRTcIJS3hSrXVhdkm-dAc1uOKfEclUWoaw_SvOWasPiptPoDy8uy6RpFUHmkKYjAVJti1bw4CE7L3a9TKZBEpRB6jLfO2rZcOjK5Hu8XTG1O3nhzlLkXI-bG6e2Erov5lhJ4jxfZzdORTjM6MBcI2RMuWfjuRUHWgfcU1u6urifWP1DvB9fcR3YlERcTVx9hlfZ05m5MNXiZ4kFXzS07G0UoUq0XlSmtT5jGBz0lYGnJih0NOkHsrwBvjahbkCtPhttM-bDKQhGvg9qx-m8oT_vvY6yiJu6a2OVCxBMx_8Mw0v1hDYtDcN453uXWaphhHfoi_Q7daLovYr77mkSIByqxupRHzaEqiBIhf9VBXp-o-os-tYZhNI2HSbssDJAZjLa1Hp10hBjBa9uv3jcEZ-0sMOh5_057C7RDyBX68w3sWFn0HvjR-yEQMIgJgr83C0mnD0rgN5qBPW2eC-Af64MO6x3ZzQXUM1Agn8-rjGa5sNcT1KX16EGEtpY0oDIsPNBrGht6Co8atjQOoF4cqqrtyBpwWiAvbuvcF1QRGxHUNxrdVBPHAIt0ymXZ-cjyQk3hE', 'tag': 'HfH_P_VTOaaIJmd4nFPPwfd01RvAMuZ6P6Q83KzAWpg'}\n"
     ]
    }
   ],
   "source": [
    "print(resp.json())"
   ]
  },
  {
   "cell_type": "markdown",
   "metadata": {},
   "source": [
    "### Get mediator grant response"
   ]
  },
  {
   "cell_type": "code",
   "execution_count": 18,
   "metadata": {},
   "outputs": [
    {
     "name": "stdout",
     "output_type": "stream",
     "text": [
      "https://didcomm.org/coordinate-mediation/2.0/mediate-grant\n",
      "Routing Key: did:peer:2.Ez6LScaajHbVyFKq2QX1z4g579mRCRAzmEsS4tCepafKiZbJ9.Vz6MkqyvfBunRfGYx5xjbEoKaXEV4ne3WXDWDUsRKdpEx1P7w.SeyJpZCI6Im5ldy1pZCIsInQiOiJkbSIsInMiOiJodHRwczovL21lZGlhdG9yLnJvb3RzaWQuY2xvdWQiLCJhIjpbImRpZGNvbW0vdjIiXX0\n",
      "Mediator new DID: did:peer:2.Ez6LSpBUjpeMR1g9UqgRi48EacoNnysGSBmoHZddPkrWZj18M.Vz6MkhQcD9pMHVupGhdWSmDiuRdJPscPDAbkQw78UkV9P9M6F.SeyJpZCI6Im5ldy1pZCIsInQiOiJkbSIsInMiOiJodHRwczovL21lZGlhdG9yLnJvb3RzaWQuY2xvdWQiLCJhIjpbImRpZGNvbW0vdjIiXX0\n"
     ]
    }
   ],
   "source": [
    "mediator_unpack_msg = await unpack(\n",
    "    resolvers_config=ResolversConfig(\n",
    "        secrets_resolver=secrets_resolver,\n",
    "        did_resolver=DIDResolverPeerDID()\n",
    "    ),\n",
    "    packed_msg= resp.json()\n",
    ")\n",
    "print(mediator_unpack_msg.message.type)\n",
    "print(\"Routing Key: \" + mediator_unpack_msg.message.body[\"routing_did\"])\n",
    "print(\"Mediator new DID: \" + mediator_unpack_msg.message.from_prior.sub)\n",
    "# mediator rotated did\n",
    "mediator_routing_key = mediator_unpack_msg.message.body[\"routing_did\"]\n",
    "mediator_did = mediator_unpack_msg.message.from_prior.sub"
   ]
  },
  {
   "cell_type": "markdown",
   "metadata": {},
   "source": [
    "### Keylist update"
   ]
  },
  {
   "cell_type": "markdown",
   "metadata": {},
   "source": [
    "Alice create a new DID to share with  other peers using mediator routing keys "
   ]
  },
  {
   "cell_type": "code",
   "execution_count": 19,
   "metadata": {},
   "outputs": [
    {
     "name": "stdout",
     "output_type": "stream",
     "text": [
      "Alice's DID for Bob: did:peer:2.Ez6LSgNmZmqQFzvbVaE2mKYcF1TFrU89c88seVEwqL3FwENAc.Vz6MkqMG9iqP9iAk6B2qbLHs4yLavCXm54cPgW6GBdXPRT9gF.SeyJpZCI6IiNkaWRjb21tbWVzc2FnaW5nLTAiLCJ0IjoiZG0iLCJzIjoiaHR0cHM6Ly9tZWRpYXRvci5yb290c2lkLmNsb3VkIiwiYSI6WyJkaWRjb21tL3YyIl0sInIiOlsiZGlkOnBlZXI6Mi5FejZMU2NhYWpIYlZ5RktxMlFYMXo0ZzU3OW1SQ1JBem1Fc1M0dENlcGFmS2laYko5LlZ6Nk1rcXl2ZkJ1blJmR1l4NXhqYkVvS2FYRVY0bmUzV1hEV0RVc1JLZHBFeDFQN3cuU2V5SnBaQ0k2SW01bGR5MXBaQ0lzSW5RaU9pSmtiU0lzSW5NaU9pSm9kSFJ3Y3pvdkwyMWxaR2xoZEc5eUxuSnZiM1J6YVdRdVkyeHZkV1FpTENKaElqcGJJbVJwWkdOdmJXMHZkaklpWFgwIl19\n"
     ]
    }
   ],
   "source": [
    "alice_did_new = await create_peer_did(1, 1, service_endpoint=mediator_endpoint, service_routing_keys=[mediator_routing_key])\n",
    "# alice_did_for_bob = await create_peer_did(1, 1, service_endpoint=mediator_routing_key)\n",
    "\n",
    "print(\"Alice's DID for Bob:\", alice_did_new)"
   ]
  },
  {
   "cell_type": "markdown",
   "metadata": {},
   "source": [
    "Alice create and send the keylist update message"
   ]
  },
  {
   "cell_type": "code",
   "execution_count": 20,
   "metadata": {},
   "outputs": [],
   "source": [
    "alice_keylist_update = Message(\n",
    "    id = \"unique-id-293e9a922efff\",\n",
    "    type = \"https://didcomm.org/coordinate-mediation/2.0/keylist-update\",\n",
    "    body = {\n",
    "        \"updates\":[\n",
    "        {\n",
    "            \"recipient_did\": alice_did_new,\n",
    "            \"action\": \"add\"\n",
    "        }\n",
    "    ]\n",
    "    }\n",
    ")"
   ]
  },
  {
   "cell_type": "code",
   "execution_count": 21,
   "metadata": {},
   "outputs": [],
   "source": [
    "alice_keylist_update_packed_msg = await pack_encrypted(\n",
    "    resolvers_config = ResolversConfig(\n",
    "        secrets_resolver = secrets_resolver,\n",
    "        did_resolver = DIDResolverPeerDID()\n",
    "    ),\n",
    "    message = alice_keylist_update,\n",
    "    frm = alice_did_for_mediator,\n",
    "    to = mediator_did,\n",
    "    sign_frm = None,\n",
    "    pack_config = PackEncryptedConfig(protect_sender_id=False)\n",
    ")"
   ]
  },
  {
   "cell_type": "code",
   "execution_count": 22,
   "metadata": {},
   "outputs": [],
   "source": [
    "headers = {\"Content-Type\": \"application/didcomm-encrypted+json\"}\n",
    "resp = requests.post(mediator_endpoint, headers=headers, data = alice_keylist_update_packed_msg.packed_msg)"
   ]
  },
  {
   "cell_type": "code",
   "execution_count": 23,
   "metadata": {},
   "outputs": [
    {
     "name": "stdout",
     "output_type": "stream",
     "text": [
      "https://didcomm.org/coordinate-mediation/2.0/keylist-update-response\n",
      "{'updated': [{'recipient_did': 'did:peer:2.Ez6LSgNmZmqQFzvbVaE2mKYcF1TFrU89c88seVEwqL3FwENAc.Vz6MkqMG9iqP9iAk6B2qbLHs4yLavCXm54cPgW6GBdXPRT9gF.SeyJpZCI6IiNkaWRjb21tbWVzc2FnaW5nLTAiLCJ0IjoiZG0iLCJzIjoiaHR0cHM6Ly9tZWRpYXRvci5yb290c2lkLmNsb3VkIiwiYSI6WyJkaWRjb21tL3YyIl0sInIiOlsiZGlkOnBlZXI6Mi5FejZMU2NhYWpIYlZ5RktxMlFYMXo0ZzU3OW1SQ1JBem1Fc1M0dENlcGFmS2laYko5LlZ6Nk1rcXl2ZkJ1blJmR1l4NXhqYkVvS2FYRVY0bmUzV1hEV0RVc1JLZHBFeDFQN3cuU2V5SnBaQ0k2SW01bGR5MXBaQ0lzSW5RaU9pSmtiU0lzSW5NaU9pSm9kSFJ3Y3pvdkwyMWxaR2xoZEc5eUxuSnZiM1J6YVdRdVkyeHZkV1FpTENKaElqcGJJbVJwWkdOdmJXMHZkaklpWFgwIl19', 'action': 'add', 'result': 'success'}]}\n"
     ]
    }
   ],
   "source": [
    "mediator_unpack_msg2 = await unpack(\n",
    "    resolvers_config=ResolversConfig(\n",
    "        secrets_resolver=secrets_resolver,\n",
    "        did_resolver=DIDResolverPeerDID()\n",
    "    ),\n",
    "    packed_msg= resp.json()\n",
    ")\n",
    "print(mediator_unpack_msg2.message.type)\n",
    "print(mediator_unpack_msg2.message.body)\n"
   ]
  },
  {
   "cell_type": "markdown",
   "metadata": {},
   "source": [
    "### Alice can now send her DID message to Nessus"
   ]
  },
  {
   "cell_type": "code",
   "execution_count": null,
   "metadata": {},
   "outputs": [],
   "source": []
  },
  {
   "cell_type": "code",
   "execution_count": 24,
   "metadata": {},
   "outputs": [
    {
     "data": {
      "text/plain": [
       "{'id': 'did:peer:2.Ez6LShroqrxP6vrwcyhyG7iDfZ9YpdNZzCVFEaaS8n9fkQQGL.Vz6MkkL7EaycmQTpdiodvEfQipKmjy2JCmHyYo4JEJWwXvCmE.SeyJ0IjoiZG0iLCJzIjoiaHR0cDovL25lc3N1cy10ZWNoLmlvOjkxMDAifQ',\n",
       " 'authentication': [{'id': 'did:peer:2.Ez6LShroqrxP6vrwcyhyG7iDfZ9YpdNZzCVFEaaS8n9fkQQGL.Vz6MkkL7EaycmQTpdiodvEfQipKmjy2JCmHyYo4JEJWwXvCmE.SeyJ0IjoiZG0iLCJzIjoiaHR0cDovL25lc3N1cy10ZWNoLmlvOjkxMDAifQ#6MkkL7EaycmQTpdiodvEfQipKmjy2JCmHyYo4JEJWwXvCmE',\n",
       "   'type': 'Ed25519VerificationKey2020',\n",
       "   'controller': 'did:peer:2.Ez6LShroqrxP6vrwcyhyG7iDfZ9YpdNZzCVFEaaS8n9fkQQGL.Vz6MkkL7EaycmQTpdiodvEfQipKmjy2JCmHyYo4JEJWwXvCmE.SeyJ0IjoiZG0iLCJzIjoiaHR0cDovL25lc3N1cy10ZWNoLmlvOjkxMDAifQ',\n",
       "   'publicKeyMultibase': 'z6MkkL7EaycmQTpdiodvEfQipKmjy2JCmHyYo4JEJWwXvCmE'}],\n",
       " 'keyAgreement': [{'id': 'did:peer:2.Ez6LShroqrxP6vrwcyhyG7iDfZ9YpdNZzCVFEaaS8n9fkQQGL.Vz6MkkL7EaycmQTpdiodvEfQipKmjy2JCmHyYo4JEJWwXvCmE.SeyJ0IjoiZG0iLCJzIjoiaHR0cDovL25lc3N1cy10ZWNoLmlvOjkxMDAifQ#6LShroqrxP6vrwcyhyG7iDfZ9YpdNZzCVFEaaS8n9fkQQGL',\n",
       "   'type': 'X25519KeyAgreementKey2020',\n",
       "   'controller': 'did:peer:2.Ez6LShroqrxP6vrwcyhyG7iDfZ9YpdNZzCVFEaaS8n9fkQQGL.Vz6MkkL7EaycmQTpdiodvEfQipKmjy2JCmHyYo4JEJWwXvCmE.SeyJ0IjoiZG0iLCJzIjoiaHR0cDovL25lc3N1cy10ZWNoLmlvOjkxMDAifQ',\n",
       "   'publicKeyMultibase': 'z6LShroqrxP6vrwcyhyG7iDfZ9YpdNZzCVFEaaS8n9fkQQGL'}],\n",
       " 'service': [{'id': 'did:peer:2.Ez6LShroqrxP6vrwcyhyG7iDfZ9YpdNZzCVFEaaS8n9fkQQGL.Vz6MkkL7EaycmQTpdiodvEfQipKmjy2JCmHyYo4JEJWwXvCmE.SeyJ0IjoiZG0iLCJzIjoiaHR0cDovL25lc3N1cy10ZWNoLmlvOjkxMDAifQ#didcommmessaging-0',\n",
       "   'type': 'DIDCommMessaging',\n",
       "   'serviceEndpoint': 'http://nessus-tech.io:9100'}]}"
      ]
     },
     "execution_count": 24,
     "metadata": {},
     "output_type": "execute_result"
    }
   ],
   "source": [
    "#get nessus\n",
    "nessus_invitation = json.loads(requests.get('http://nessus-tech.io:9100/invitation?inviter=Government&method=peer').text)\n",
    "nessus_did_doc = json.loads(peer_did.resolve_peer_did(nessus_invitation[\"from\"]))\n",
    "nessus_did_doc"
   ]
  },
  {
   "cell_type": "code",
   "execution_count": null,
   "metadata": {},
   "outputs": [],
   "source": []
  },
  {
   "cell_type": "code",
   "execution_count": 32,
   "metadata": {},
   "outputs": [
    {
     "data": {
      "text/plain": [
       "'{}'"
      ]
     },
     "execution_count": 32,
     "metadata": {},
     "output_type": "execute_result"
    }
   ],
   "source": [
    "ping_msg = Message(\n",
    "    body = { \"response_requested\": True , 'suggested_label': \"RootsJNNotebook\" },\n",
    "    id = str(uuid.uuid4()),\n",
    "    type = \"https://didcomm.org/trust-ping/2.0/ping\",\n",
    "    frm = alice_did_new,\n",
    "    to = [nessus_invitation[\"from\"]],\n",
    ")\n",
    "\n",
    "tony_trust_ping_packed = await pack_encrypted(\n",
    "    resolvers_config = ResolversConfig(\n",
    "        secrets_resolver = secrets_resolver,\n",
    "        did_resolver = DIDResolverPeerDID()\n",
    "    ),\n",
    "    message = ping_msg,\n",
    "    frm = alice_did_new,\n",
    "    to = nessus_invitation['from'],\n",
    "    sign_frm = None,\n",
    "    pack_config = PackEncryptedConfig(protect_sender_id=False)\n",
    ")\n",
    "trust_ping_did_doc = json.loads(peer_did.resolve_peer_did(nessus_invitation[\"from\"]))\n",
    "trust_ping_endpoint = trust_ping_did_doc[\"service\"][0][\"serviceEndpoint\"]\n",
    "headers = {\"Content-Type\": \"application/didcomm-encrypted+json\"}\n",
    "resp = requests.post(trust_ping_endpoint, headers=headers, json = json.loads(tony_trust_ping_packed.packed_msg))\n",
    "resp.text"
   ]
  },
  {
   "cell_type": "markdown",
   "metadata": {},
   "source": [
    "### Alice check status of queued messages from the Mediator"
   ]
  },
  {
   "cell_type": "code",
   "execution_count": 33,
   "metadata": {},
   "outputs": [
    {
     "name": "stdout",
     "output_type": "stream",
     "text": [
      "Messages in Mediator queue: 1\n",
      "message 6435ec0efb5566e28c19e283 deleted\n"
     ]
    }
   ],
   "source": [
    "res = await poll_response()"
   ]
  },
  {
   "cell_type": "code",
   "execution_count": 37,
   "metadata": {},
   "outputs": [
    {
     "data": {
      "text/plain": [
       "{'id': '3298ca6b-1df6-41fd-95b3-e75168ce59e5',\n",
       " 'type': 'https://didcomm.org/trust-ping/2.0/ping-response',\n",
       " 'body': {'comment': 'Pong from Government', 'suggested_label': 'Government'},\n",
       " 'to': ['did:peer:2.Ez6LSgNmZmqQFzvbVaE2mKYcF1TFrU89c88seVEwqL3FwENAc.Vz6MkqMG9iqP9iAk6B2qbLHs4yLavCXm54cPgW6GBdXPRT9gF.SeyJpZCI6IiNkaWRjb21tbWVzc2FnaW5nLTAiLCJ0IjoiZG0iLCJzIjoiaHR0cHM6Ly9tZWRpYXRvci5yb290c2lkLmNsb3VkIiwiYSI6WyJkaWRjb21tL3YyIl0sInIiOlsiZGlkOnBlZXI6Mi5FejZMU2NhYWpIYlZ5RktxMlFYMXo0ZzU3OW1SQ1JBem1Fc1M0dENlcGFmS2laYko5LlZ6Nk1rcXl2ZkJ1blJmR1l4NXhqYkVvS2FYRVY0bmUzV1hEV0RVc1JLZHBFeDFQN3cuU2V5SnBaQ0k2SW01bGR5MXBaQ0lzSW5RaU9pSmtiU0lzSW5NaU9pSm9kSFJ3Y3pvdkwyMWxaR2xoZEc5eUxuSnZiM1J6YVdRdVkyeHZkV1FpTENKaElqcGJJbVJwWkdOdmJXMHZkaklpWFgwIl19'],\n",
       " 'created_time': 1681255438,\n",
       " 'expires_time': 1681341838,\n",
       " 'thid': 'a8b0cc9d-9e4f-4c3c-a03c-df6787796e40',\n",
       " 'from': 'did:peer:2.Ez6LShroqrxP6vrwcyhyG7iDfZ9YpdNZzCVFEaaS8n9fkQQGL.Vz6MkkL7EaycmQTpdiodvEfQipKmjy2JCmHyYo4JEJWwXvCmE.SeyJ0IjoiZG0iLCJzIjoiaHR0cDovL25lc3N1cy10ZWNoLmlvOjkxMDAifQ',\n",
       " 'typ': 'application/didcomm-plain+json'}"
      ]
     },
     "execution_count": 37,
     "metadata": {},
     "output_type": "execute_result"
    }
   ],
   "source": [
    "res.message.as_dict()"
   ]
  },
  {
   "cell_type": "code",
   "execution_count": 38,
   "metadata": {},
   "outputs": [
    {
     "data": {
      "text/plain": [
       "'{}'"
      ]
     },
     "execution_count": 38,
     "metadata": {},
     "output_type": "execute_result"
    }
   ],
   "source": [
    "\n",
    "tony_basic_message = Message(\n",
    "    id = str(uuid.uuid4()),\n",
    "    thid = str(uuid.uuid4()),\n",
    "    type=\"https://didcomm.org/basicmessage/2.0/message\",\n",
    "    body={\"content\": f'Nessus, this is the Notebook(not the movie) {str(uuid.uuid4())[:10]}'},\n",
    "    created_time= int(datetime.datetime.now().timestamp()),\n",
    "    to = [nessus_invitation['from']],\n",
    "        frm = alice_did_new,\n",
    ")\n",
    "\n",
    "tony_basic_message_packed = await pack_encrypted(\n",
    "    resolvers_config = ResolversConfig(\n",
    "        secrets_resolver = secrets_resolver,\n",
    "        did_resolver = DIDResolverPeerDID()\n",
    "    ),\n",
    "    message = tony_basic_message,\n",
    "    frm = alice_did_new,\n",
    "    to = nessus_invitation['from'],\n",
    "    sign_frm = None,\n",
    "    pack_config = PackEncryptedConfig(protect_sender_id=False)\n",
    ")\n",
    "\n",
    "trust_ping_did_doc = json.loads(peer_did.resolve_peer_did(nessus_invitation[\"from\"]))\n",
    "trust_ping_endpoint = trust_ping_did_doc[\"service\"][0][\"serviceEndpoint\"]\n",
    "headers = {\"Content-Type\": \"application/didcomm-encrypted+json\"}\n",
    "resp = requests.post(trust_ping_endpoint, headers=headers, json = json.loads(tony_basic_message_packed.packed_msg))\n",
    "resp.text"
   ]
  },
  {
   "cell_type": "code",
   "execution_count": null,
   "metadata": {},
   "outputs": [],
   "source": []
  },
  {
   "cell_type": "markdown",
   "metadata": {},
   "source": [
    "# Propose Credential "
   ]
  },
  {
   "cell_type": "code",
   "execution_count": 39,
   "metadata": {},
   "outputs": [
    {
     "data": {
      "text/plain": [
       "'{}'"
      ]
     },
     "execution_count": 39,
     "metadata": {},
     "output_type": "execute_result"
    }
   ],
   "source": [
    "\n",
    "tony_basic_message = Message(\n",
    "    id = str(uuid.uuid4()),\n",
    "    thid = str(uuid.uuid4()),\n",
    "    type=\"https://didcomm.org/issue-credential/3.0/propose-credential\",\n",
    "    body={\n",
    "    \"goal_code\": \"Issue Passport Credential\",\n",
    "    \"credential_preview\": [\n",
    "      {\n",
    "        \"name\": \"givenName\",\n",
    "        \"value\": \"Alex\"\n",
    "      },\n",
    "      {\n",
    "        \"name\": \"familyName\",\n",
    "        \"value\": \"Andrei\"\n",
    "      },\n",
    "      {\n",
    "        \"name\": \"citizenship\",\n",
    "        \"value\": \"US\"\n",
    "      }\n",
    "    ]\n",
    "  },\n",
    "    created_time= int(datetime.datetime.now().timestamp()),\n",
    "    to = [nessus_invitation['from']],\n",
    "    frm = alice_did_new,\n",
    "    attachments=[Attachment(\n",
    "            data=AttachmentDataJson(json={\n",
    "          \"type\": [\n",
    "            \"VerifiableCredential\",\n",
    "            \"Passport\"\n",
    "          ],\n",
    "          \"@context\": [\n",
    "            \"https://www.w3.org/2018/credentials/v1\"\n",
    "          ],\n",
    "          \"id\": \"urn:uuid:ee9205ac-0f67-4c22-b961-968c4a5db2c0\",\n",
    "          \"issuer\": \"did:key:z6Mkoe1KHk9aEJeTbWtC6AQTpX7FeUMNqSSVubVgY2M1X9st\",\n",
    "          \"issuanceDate\": \"2023-04-06T10:58:22.335067Z\",\n",
    "          \"credentialSchema\": {\n",
    "            \"id\": \"class:nessus/schema/PassportSchema-draft-01.json\",\n",
    "            \"type\": \"JsonSchemaValidator2018\"\n",
    "          },\n",
    "          \"credentialSubject\": {\n",
    "            \"id\": \"did:key:z6Mkrea1ndAivx7y7iXVgSBK98BLYmBm7RPdfEtwRN3MSVfj\",\n",
    "            \"givenName\": \"Alex\",\n",
    "            \"familyName\": \"Andrei\",\n",
    "            \"citizenship\": \"US\"\n",
    "          }\n",
    "        }),\n",
    "        media_type=\"application/json\",\n",
    "        format=\"https://www.w3.org/TR/vc-data-model/\"\n",
    "    )])\n",
    "\n",
    "tony_basic_message_packed = await pack_encrypted(\n",
    "    resolvers_config = ResolversConfig(\n",
    "        secrets_resolver = secrets_resolver,\n",
    "        did_resolver = DIDResolverPeerDID()\n",
    "    ),\n",
    "    message = tony_basic_message,\n",
    "    frm = alice_did_new,\n",
    "    to = nessus_invitation['from'],\n",
    "    sign_frm = None,\n",
    "    pack_config = PackEncryptedConfig(protect_sender_id=False)\n",
    ")\n",
    "\n",
    "trust_ping_did_doc = json.loads(peer_did.resolve_peer_did(nessus_invitation[\"from\"]))\n",
    "trust_ping_endpoint = trust_ping_did_doc[\"service\"][0][\"serviceEndpoint\"]\n",
    "headers = {\"Content-Type\": \"application/didcomm-encrypted+json\"}\n",
    "resp = requests.post(trust_ping_endpoint, headers=headers, json = json.loads(tony_basic_message_packed.packed_msg))\n",
    "resp.text"
   ]
  },
  {
   "cell_type": "code",
   "execution_count": 40,
   "metadata": {},
   "outputs": [
    {
     "name": "stdout",
     "output_type": "stream",
     "text": [
      "Messages in Mediator queue: 1\n",
      "message 6435ec6afb5566e28c19e284 deleted\n"
     ]
    },
    {
     "data": {
      "text/plain": [
       "UnpackResult(message=Message(id='8bad884d-a36c-4602-a7ec-1db284fd73eb', type='https://didcomm.org/issue-credential/3.0/offer-credential', body={'goal_code': 'Issue Passport Credential', 'credential_preview': [{'name': 'id', 'value': 'did:peer:2.Ez6LSgNmZmqQFzvbVaE2mKYcF1TFrU89c88seVEwqL3FwENAc.Vz6MkqMG9iqP9iAk6B2qbLHs4yLavCXm54cPgW6GBdXPRT9gF.SeyJpZCI6IiNkaWRjb21tbWVzc2FnaW5nLTAiLCJ0IjoiZG0iLCJzIjoiaHR0cHM6Ly9tZWRpYXRvci5yb290c2lkLmNsb3VkIiwiYSI6WyJkaWRjb21tL3YyIl0sInIiOlsiZGlkOnBlZXI6Mi5FejZMU2NhYWpIYlZ5RktxMlFYMXo0ZzU3OW1SQ1JBem1Fc1M0dENlcGFmS2laYko5LlZ6Nk1rcXl2ZkJ1blJmR1l4NXhqYkVvS2FYRVY0bmUzV1hEV0RVc1JLZHBFeDFQN3cuU2V5SnBaQ0k2SW01bGR5MXBaQ0lzSW5RaU9pSmtiU0lzSW5NaU9pSm9kSFJ3Y3pvdkwyMWxaR2xoZEc5eUxuSnZiM1J6YVdRdVkyeHZkV1FpTENKaElqcGJJbVJwWkdOdmJXMHZkaklpWFgwIl19'}, {'name': 'givenName', 'value': 'Alex'}, {'name': 'familyName', 'value': 'Andrei'}, {'name': 'citizenship', 'value': 'US'}]}, frm='did:peer:2.Ez6LShroqrxP6vrwcyhyG7iDfZ9YpdNZzCVFEaaS8n9fkQQGL.Vz6MkkL7EaycmQTpdiodvEfQipKmjy2JCmHyYo4JEJWwXvCmE.SeyJ0IjoiZG0iLCJzIjoiaHR0cDovL25lc3N1cy10ZWNoLmlvOjkxMDAifQ', to=['did:peer:2.Ez6LSgNmZmqQFzvbVaE2mKYcF1TFrU89c88seVEwqL3FwENAc.Vz6MkqMG9iqP9iAk6B2qbLHs4yLavCXm54cPgW6GBdXPRT9gF.SeyJpZCI6IiNkaWRjb21tbWVzc2FnaW5nLTAiLCJ0IjoiZG0iLCJzIjoiaHR0cHM6Ly9tZWRpYXRvci5yb290c2lkLmNsb3VkIiwiYSI6WyJkaWRjb21tL3YyIl0sInIiOlsiZGlkOnBlZXI6Mi5FejZMU2NhYWpIYlZ5RktxMlFYMXo0ZzU3OW1SQ1JBem1Fc1M0dENlcGFmS2laYko5LlZ6Nk1rcXl2ZkJ1blJmR1l4NXhqYkVvS2FYRVY0bmUzV1hEV0RVc1JLZHBFeDFQN3cuU2V5SnBaQ0k2SW01bGR5MXBaQ0lzSW5RaU9pSmtiU0lzSW5NaU9pSm9kSFJ3Y3pvdkwyMWxaR2xoZEc5eUxuSnZiM1J6YVdRdVkyeHZkV1FpTENKaElqcGJJbVJwWkdOdmJXMHZkaklpWFgwIl19'], created_time=None, expires_time=None, from_prior=None, please_ack=None, ack=None, thid='8bad884d-a36c-4602-a7ec-1db284fd73eb', pthid=None, attachments=[Attachment(data=AttachmentDataJson(json={'type': ['VerifiableCredential', 'Passport'], '@context': ['https://www.w3.org/2018/credentials/v1', 'https://w3id.org/security/suites/jws-2020/v1'], 'id': 'urn:uuid:a681b5ee-5ffa-4ac0-8850-8ad36809c71f', 'issuer': 'did:peer:2.Ez6LShroqrxP6vrwcyhyG7iDfZ9YpdNZzCVFEaaS8n9fkQQGL.Vz6MkkL7EaycmQTpdiodvEfQipKmjy2JCmHyYo4JEJWwXvCmE.SeyJ0IjoiZG0iLCJzIjoiaHR0cDovL25lc3N1cy10ZWNoLmlvOjkxMDAifQ', 'issuanceDate': '2023-04-11T23:25:28.395251235Z', 'credentialSchema': {'id': 'class:nessus/schema/PassportSchema-draft-01.json', 'type': 'JsonSchemaValidator2018'}, 'credentialSubject': {'id': 'did:peer:2.Ez6LSgNmZmqQFzvbVaE2mKYcF1TFrU89c88seVEwqL3FwENAc.Vz6MkqMG9iqP9iAk6B2qbLHs4yLavCXm54cPgW6GBdXPRT9gF.SeyJpZCI6IiNkaWRjb21tbWVzc2FnaW5nLTAiLCJ0IjoiZG0iLCJzIjoiaHR0cHM6Ly9tZWRpYXRvci5yb290c2lkLmNsb3VkIiwiYSI6WyJkaWRjb21tL3YyIl0sInIiOlsiZGlkOnBlZXI6Mi5FejZMU2NhYWpIYlZ5RktxMlFYMXo0ZzU3OW1SQ1JBem1Fc1M0dENlcGFmS2laYko5LlZ6Nk1rcXl2ZkJ1blJmR1l4NXhqYkVvS2FYRVY0bmUzV1hEV0RVc1JLZHBFeDFQN3cuU2V5SnBaQ0k2SW01bGR5MXBaQ0lzSW5RaU9pSmtiU0lzSW5NaU9pSm9kSFJ3Y3pvdkwyMWxaR2xoZEc5eUxuSnZiM1J6YVdRdVkyeHZkV1FpTENKaElqcGJJbVJwWkdOdmJXMHZkaklpWFgwIl19', 'givenName': 'Alex', 'familyName': 'Andrei', 'citizenship': 'US'}, 'proof': {'type': 'JsonWebSignature2020', 'creator': 'did:peer:2.Ez6LShroqrxP6vrwcyhyG7iDfZ9YpdNZzCVFEaaS8n9fkQQGL.Vz6MkkL7EaycmQTpdiodvEfQipKmjy2JCmHyYo4JEJWwXvCmE.SeyJ0IjoiZG0iLCJzIjoiaHR0cDovL25lc3N1cy10ZWNoLmlvOjkxMDAifQ', 'created': '2023-04-11T23:25:28Z', 'proofPurpose': 'assertionMethod', 'verificationMethod': 'did:peer:2.Ez6LShroqrxP6vrwcyhyG7iDfZ9YpdNZzCVFEaaS8n9fkQQGL.Vz6MkkL7EaycmQTpdiodvEfQipKmjy2JCmHyYo4JEJWwXvCmE.SeyJ0IjoiZG0iLCJzIjoiaHR0cDovL25lc3N1cy10ZWNoLmlvOjkxMDAifQ', 'jws': 'eyJiNjQiOmZhbHNlLCJjcml0IjpbImI2NCJdLCJhbGciOiJFZERTQSJ9..rJP3TpPr7APzKtG9rXzzRni3hlZmNqEm_lw0abw5L-jdDMywMNPku39x12rBvfhk2GAIqzKxEmFVhFlKxi1DCA'}}, hash=None, jws=None), id='f0325558-3517-4ffe-8c69-49133b5a704f', description=None, filename=None, media_type='application/json', format='https://www.w3.org/TR/vc-data-model/', lastmod_time=None, byte_count=None)], custom_headers=None), metadata=Metadata(encrypted=True, authenticated=True, non_repudiation=True, anonymous_sender=False, re_wrapped_in_forward=False, encrypted_from='did:peer:2.Ez6LShroqrxP6vrwcyhyG7iDfZ9YpdNZzCVFEaaS8n9fkQQGL.Vz6MkkL7EaycmQTpdiodvEfQipKmjy2JCmHyYo4JEJWwXvCmE.SeyJ0IjoiZG0iLCJzIjoiaHR0cDovL25lc3N1cy10ZWNoLmlvOjkxMDAifQ#6LShroqrxP6vrwcyhyG7iDfZ9YpdNZzCVFEaaS8n9fkQQGL', encrypted_to=['did:peer:2.Ez6LSgNmZmqQFzvbVaE2mKYcF1TFrU89c88seVEwqL3FwENAc.Vz6MkqMG9iqP9iAk6B2qbLHs4yLavCXm54cPgW6GBdXPRT9gF.SeyJpZCI6IiNkaWRjb21tbWVzc2FnaW5nLTAiLCJ0IjoiZG0iLCJzIjoiaHR0cHM6Ly9tZWRpYXRvci5yb290c2lkLmNsb3VkIiwiYSI6WyJkaWRjb21tL3YyIl0sInIiOlsiZGlkOnBlZXI6Mi5FejZMU2NhYWpIYlZ5RktxMlFYMXo0ZzU3OW1SQ1JBem1Fc1M0dENlcGFmS2laYko5LlZ6Nk1rcXl2ZkJ1blJmR1l4NXhqYkVvS2FYRVY0bmUzV1hEV0RVc1JLZHBFeDFQN3cuU2V5SnBaQ0k2SW01bGR5MXBaQ0lzSW5RaU9pSmtiU0lzSW5NaU9pSm9kSFJ3Y3pvdkwyMWxaR2xoZEc5eUxuSnZiM1J6YVdRdVkyeHZkV1FpTENKaElqcGJJbVJwWkdOdmJXMHZkaklpWFgwIl19#6LSgNmZmqQFzvbVaE2mKYcF1TFrU89c88seVEwqL3FwENAc'], sign_from='did:peer:2.Ez6LShroqrxP6vrwcyhyG7iDfZ9YpdNZzCVFEaaS8n9fkQQGL.Vz6MkkL7EaycmQTpdiodvEfQipKmjy2JCmHyYo4JEJWwXvCmE.SeyJ0IjoiZG0iLCJzIjoiaHR0cDovL25lc3N1cy10ZWNoLmlvOjkxMDAifQ#6MkkL7EaycmQTpdiodvEfQipKmjy2JCmHyYo4JEJWwXvCmE', from_prior_issuer_kid=None, enc_alg_auth=<AuthCryptAlg.A256CBC_HS512_ECDH_1PU_A256KW: Algs(alg='ECDH-1PU+A256KW', enc='A256CBC-HS512')>, enc_alg_anon=None, sign_alg=<SignAlg.ED25519: 'EdDSA'>, signed_message='{\"payload\":\"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\",\"signatures\":[{\"protected\":\"eyJ0eXAiOiJhcHBsaWNhdGlvbi9kaWRjb21tLXNpZ25lZCtqc29uIiwiYWxnIjoiRWREU0EifQ\",\"signature\":\"EFOpZAiVx1yCjkQaq-BxgIfdWvAYaFgOr47C-6pTQcgoe9tcPsM6p2b8ucb020UKCzBjZ-Sp7Zrmp3gp6BATBw\",\"header\":{\"kid\":\"did:peer:2.Ez6LShroqrxP6vrwcyhyG7iDfZ9YpdNZzCVFEaaS8n9fkQQGL.Vz6MkkL7EaycmQTpdiodvEfQipKmjy2JCmHyYo4JEJWwXvCmE.SeyJ0IjoiZG0iLCJzIjoiaHR0cDovL25lc3N1cy10ZWNoLmlvOjkxMDAifQ#6MkkL7EaycmQTpdiodvEfQipKmjy2JCmHyYo4JEJWwXvCmE\"}}]}', from_prior_jwt=None))"
      ]
     },
     "execution_count": 40,
     "metadata": {},
     "output_type": "execute_result"
    }
   ],
   "source": [
    "res = await poll_response()\n",
    "res"
   ]
  },
  {
   "cell_type": "code",
   "execution_count": 42,
   "metadata": {},
   "outputs": [
    {
     "data": {
      "text/plain": [
       "{'data': {'json': {'type': ['VerifiableCredential', 'Passport'],\n",
       "   '@context': ['https://www.w3.org/2018/credentials/v1',\n",
       "    'https://w3id.org/security/suites/jws-2020/v1'],\n",
       "   'id': 'urn:uuid:a681b5ee-5ffa-4ac0-8850-8ad36809c71f',\n",
       "   'issuer': 'did:peer:2.Ez6LShroqrxP6vrwcyhyG7iDfZ9YpdNZzCVFEaaS8n9fkQQGL.Vz6MkkL7EaycmQTpdiodvEfQipKmjy2JCmHyYo4JEJWwXvCmE.SeyJ0IjoiZG0iLCJzIjoiaHR0cDovL25lc3N1cy10ZWNoLmlvOjkxMDAifQ',\n",
       "   'issuanceDate': '2023-04-11T23:25:28.395251235Z',\n",
       "   'credentialSchema': {'id': 'class:nessus/schema/PassportSchema-draft-01.json',\n",
       "    'type': 'JsonSchemaValidator2018'},\n",
       "   'credentialSubject': {'id': 'did:peer:2.Ez6LSgNmZmqQFzvbVaE2mKYcF1TFrU89c88seVEwqL3FwENAc.Vz6MkqMG9iqP9iAk6B2qbLHs4yLavCXm54cPgW6GBdXPRT9gF.SeyJpZCI6IiNkaWRjb21tbWVzc2FnaW5nLTAiLCJ0IjoiZG0iLCJzIjoiaHR0cHM6Ly9tZWRpYXRvci5yb290c2lkLmNsb3VkIiwiYSI6WyJkaWRjb21tL3YyIl0sInIiOlsiZGlkOnBlZXI6Mi5FejZMU2NhYWpIYlZ5RktxMlFYMXo0ZzU3OW1SQ1JBem1Fc1M0dENlcGFmS2laYko5LlZ6Nk1rcXl2ZkJ1blJmR1l4NXhqYkVvS2FYRVY0bmUzV1hEV0RVc1JLZHBFeDFQN3cuU2V5SnBaQ0k2SW01bGR5MXBaQ0lzSW5RaU9pSmtiU0lzSW5NaU9pSm9kSFJ3Y3pvdkwyMWxaR2xoZEc5eUxuSnZiM1J6YVdRdVkyeHZkV1FpTENKaElqcGJJbVJwWkdOdmJXMHZkaklpWFgwIl19',\n",
       "    'givenName': 'Alex',\n",
       "    'familyName': 'Andrei',\n",
       "    'citizenship': 'US'},\n",
       "   'proof': {'type': 'JsonWebSignature2020',\n",
       "    'creator': 'did:peer:2.Ez6LShroqrxP6vrwcyhyG7iDfZ9YpdNZzCVFEaaS8n9fkQQGL.Vz6MkkL7EaycmQTpdiodvEfQipKmjy2JCmHyYo4JEJWwXvCmE.SeyJ0IjoiZG0iLCJzIjoiaHR0cDovL25lc3N1cy10ZWNoLmlvOjkxMDAifQ',\n",
       "    'created': '2023-04-11T23:25:28Z',\n",
       "    'proofPurpose': 'assertionMethod',\n",
       "    'verificationMethod': 'did:peer:2.Ez6LShroqrxP6vrwcyhyG7iDfZ9YpdNZzCVFEaaS8n9fkQQGL.Vz6MkkL7EaycmQTpdiodvEfQipKmjy2JCmHyYo4JEJWwXvCmE.SeyJ0IjoiZG0iLCJzIjoiaHR0cDovL25lc3N1cy10ZWNoLmlvOjkxMDAifQ',\n",
       "    'jws': 'eyJiNjQiOmZhbHNlLCJjcml0IjpbImI2NCJdLCJhbGciOiJFZERTQSJ9..rJP3TpPr7APzKtG9rXzzRni3hlZmNqEm_lw0abw5L-jdDMywMNPku39x12rBvfhk2GAIqzKxEmFVhFlKxi1DCA'}}},\n",
       " 'id': 'f0325558-3517-4ffe-8c69-49133b5a704f',\n",
       " 'media_type': 'application/json',\n",
       " 'format': 'https://www.w3.org/TR/vc-data-model/'}"
      ]
     },
     "execution_count": 42,
     "metadata": {},
     "output_type": "execute_result"
    }
   ],
   "source": [
    "res.message.attachments[0].as_dict()"
   ]
  },
  {
   "cell_type": "markdown",
   "metadata": {},
   "source": [
    "# Request Credential"
   ]
  },
  {
   "cell_type": "code",
   "execution_count": 43,
   "metadata": {},
   "outputs": [
    {
     "data": {
      "text/plain": [
       "'{}'"
      ]
     },
     "execution_count": 43,
     "metadata": {},
     "output_type": "execute_result"
    }
   ],
   "source": [
    "\n",
    "tony_basic_message = Message(\n",
    "    id = str(uuid.uuid4()),\n",
    "    type=\"https://didcomm.org/issue-credential/3.0/request-credential\",\n",
    "    body={\n",
    "    \"goal_code\": \"Issue Passport Credential\"\n",
    "  },\n",
    "    created_time= int(datetime.datetime.now().timestamp()),\n",
    "    to = [nessus_invitation['from']],\n",
    "    frm = alice_did_new,\n",
    "    attachments=[Attachment(\n",
    "            data=AttachmentDataJson(json={\n",
    "          \"type\": [\n",
    "            \"VerifiableCredential\",\n",
    "            \"Passport\"\n",
    "          ],\n",
    "          \"@context\": [\n",
    "            \"https://www.w3.org/2018/credentials/v1\",\n",
    "            \"https://w3id.org/security/suites/jws-2020/v1\"\n",
    "          ],\n",
    "          \"id\": \"urn:uuid:1cece1f8-6a68-4361-8823-08802b56ede8\",\n",
    "          \"issuer\": \"did:key:z6Mkoe1KHk9aEJeTbWtC6AQTpX7FeUMNqSSVubVgY2M1X9st\",\n",
    "          \"issuanceDate\": \"2023-04-06T10:58:22.435583926Z\",\n",
    "          \"credentialSchema\": {\n",
    "            \"id\": \"class:nessus/schema/PassportSchema-draft-01.json\",\n",
    "            \"type\": \"JsonSchemaValidator2018\"\n",
    "          },\n",
    "          \"credentialSubject\": {\n",
    "            \"id\": \"did:key:z6Mkrea1ndAivx7y7iXVgSBK98BLYmBm7RPdfEtwRN3MSVfj\",\n",
    "            \"givenName\": \"Alex\",\n",
    "            \"familyName\": \"Andrei\",\n",
    "            \"citizenship\": \"US\"\n",
    "          },\n",
    "          \"proof\": {\n",
    "            \"type\": \"JsonWebSignature2020\",\n",
    "            \"creator\": \"did:key:z6Mkoe1KHk9aEJeTbWtC6AQTpX7FeUMNqSSVubVgY2M1X9st\",\n",
    "            \"created\": \"2023-04-06T10:58:22Z\",\n",
    "            \"proofPurpose\": \"assertionMethod\",\n",
    "            \"verificationMethod\": \"did:key:z6Mkoe1KHk9aEJeTbWtC6AQTpX7FeUMNqSSVubVgY2M1X9st\",\n",
    "            \"jws\": \"\"\n",
    "          }\n",
    "        }),\n",
    "        media_type=\"application/json\",\n",
    "        format=\"https://www.w3.org/TR/vc-data-model/\"\n",
    "    )])\n",
    "\n",
    "tony_basic_message_packed = await pack_encrypted(\n",
    "    resolvers_config = ResolversConfig(\n",
    "        secrets_resolver = secrets_resolver,\n",
    "        did_resolver = DIDResolverPeerDID()\n",
    "    ),\n",
    "    message = tony_basic_message,\n",
    "    frm = alice_did_new,\n",
    "    to = nessus_invitation['from'],\n",
    "    sign_frm = None,\n",
    "    pack_config = PackEncryptedConfig(protect_sender_id=False)\n",
    ")\n",
    "\n",
    "trust_ping_did_doc = json.loads(peer_did.resolve_peer_did(nessus_invitation[\"from\"]))\n",
    "trust_ping_endpoint = trust_ping_did_doc[\"service\"][0][\"serviceEndpoint\"]\n",
    "headers = {\"Content-Type\": \"application/didcomm-encrypted+json\"}\n",
    "resp = requests.post(trust_ping_endpoint, headers=headers, json = json.loads(tony_basic_message_packed.packed_msg))\n",
    "resp.text"
   ]
  },
  {
   "cell_type": "code",
   "execution_count": 44,
   "metadata": {},
   "outputs": [
    {
     "name": "stdout",
     "output_type": "stream",
     "text": [
      "Messages in Mediator queue: 1\n",
      "message 6435eccafb5566e28c19e285 deleted\n"
     ]
    },
    {
     "data": {
      "text/plain": [
       "UnpackResult(message=Message(id='b0fdc53c-718b-48b6-af94-5df666d76b52', type='https://didcomm.org/issue-credential/3.0/issue-credential', body={}, frm='did:peer:2.Ez6LShroqrxP6vrwcyhyG7iDfZ9YpdNZzCVFEaaS8n9fkQQGL.Vz6MkkL7EaycmQTpdiodvEfQipKmjy2JCmHyYo4JEJWwXvCmE.SeyJ0IjoiZG0iLCJzIjoiaHR0cDovL25lc3N1cy10ZWNoLmlvOjkxMDAifQ', to=['did:peer:2.Ez6LSgNmZmqQFzvbVaE2mKYcF1TFrU89c88seVEwqL3FwENAc.Vz6MkqMG9iqP9iAk6B2qbLHs4yLavCXm54cPgW6GBdXPRT9gF.SeyJpZCI6IiNkaWRjb21tbWVzc2FnaW5nLTAiLCJ0IjoiZG0iLCJzIjoiaHR0cHM6Ly9tZWRpYXRvci5yb290c2lkLmNsb3VkIiwiYSI6WyJkaWRjb21tL3YyIl0sInIiOlsiZGlkOnBlZXI6Mi5FejZMU2NhYWpIYlZ5RktxMlFYMXo0ZzU3OW1SQ1JBem1Fc1M0dENlcGFmS2laYko5LlZ6Nk1rcXl2ZkJ1blJmR1l4NXhqYkVvS2FYRVY0bmUzV1hEV0RVc1JLZHBFeDFQN3cuU2V5SnBaQ0k2SW01bGR5MXBaQ0lzSW5RaU9pSmtiU0lzSW5NaU9pSm9kSFJ3Y3pvdkwyMWxaR2xoZEc5eUxuSnZiM1J6YVdRdVkyeHZkV1FpTENKaElqcGJJbVJwWkdOdmJXMHZkaklpWFgwIl19'], created_time=None, expires_time=None, from_prior=None, please_ack=None, ack=None, thid='1542eb12-32a6-414f-a983-18b2f5dff080', pthid=None, attachments=[Attachment(data=AttachmentDataJson(json={'type': ['VerifiableCredential', 'Passport'], '@context': ['https://www.w3.org/2018/credentials/v1', 'https://w3id.org/security/suites/jws-2020/v1'], 'id': 'urn:uuid:1cece1f8-6a68-4361-8823-08802b56ede8', 'issuer': 'did:key:z6Mkoe1KHk9aEJeTbWtC6AQTpX7FeUMNqSSVubVgY2M1X9st', 'issuanceDate': '2023-04-06T10:58:22.435583926Z', 'credentialSchema': {'id': 'class:nessus/schema/PassportSchema-draft-01.json', 'type': 'JsonSchemaValidator2018'}, 'credentialSubject': {'id': 'did:key:z6Mkrea1ndAivx7y7iXVgSBK98BLYmBm7RPdfEtwRN3MSVfj', 'givenName': 'Alex', 'familyName': 'Andrei', 'citizenship': 'US'}, 'proof': {'type': 'JsonWebSignature2020', 'creator': 'did:key:z6Mkoe1KHk9aEJeTbWtC6AQTpX7FeUMNqSSVubVgY2M1X9st', 'created': '2023-04-06T10:58:22Z', 'proofPurpose': 'assertionMethod', 'verificationMethod': 'did:key:z6Mkoe1KHk9aEJeTbWtC6AQTpX7FeUMNqSSVubVgY2M1X9st', 'jws': ''}}, hash=None, jws=None), id='08d5ceb0-102e-4508-a0b0-ac874456f9a6', description=None, filename=None, media_type='application/json', format='https://www.w3.org/TR/vc-data-model/', lastmod_time=None, byte_count=None)], custom_headers=None), metadata=Metadata(encrypted=True, authenticated=True, non_repudiation=True, anonymous_sender=False, re_wrapped_in_forward=False, encrypted_from='did:peer:2.Ez6LShroqrxP6vrwcyhyG7iDfZ9YpdNZzCVFEaaS8n9fkQQGL.Vz6MkkL7EaycmQTpdiodvEfQipKmjy2JCmHyYo4JEJWwXvCmE.SeyJ0IjoiZG0iLCJzIjoiaHR0cDovL25lc3N1cy10ZWNoLmlvOjkxMDAifQ#6LShroqrxP6vrwcyhyG7iDfZ9YpdNZzCVFEaaS8n9fkQQGL', encrypted_to=['did:peer:2.Ez6LSgNmZmqQFzvbVaE2mKYcF1TFrU89c88seVEwqL3FwENAc.Vz6MkqMG9iqP9iAk6B2qbLHs4yLavCXm54cPgW6GBdXPRT9gF.SeyJpZCI6IiNkaWRjb21tbWVzc2FnaW5nLTAiLCJ0IjoiZG0iLCJzIjoiaHR0cHM6Ly9tZWRpYXRvci5yb290c2lkLmNsb3VkIiwiYSI6WyJkaWRjb21tL3YyIl0sInIiOlsiZGlkOnBlZXI6Mi5FejZMU2NhYWpIYlZ5RktxMlFYMXo0ZzU3OW1SQ1JBem1Fc1M0dENlcGFmS2laYko5LlZ6Nk1rcXl2ZkJ1blJmR1l4NXhqYkVvS2FYRVY0bmUzV1hEV0RVc1JLZHBFeDFQN3cuU2V5SnBaQ0k2SW01bGR5MXBaQ0lzSW5RaU9pSmtiU0lzSW5NaU9pSm9kSFJ3Y3pvdkwyMWxaR2xoZEc5eUxuSnZiM1J6YVdRdVkyeHZkV1FpTENKaElqcGJJbVJwWkdOdmJXMHZkaklpWFgwIl19#6LSgNmZmqQFzvbVaE2mKYcF1TFrU89c88seVEwqL3FwENAc'], sign_from='did:peer:2.Ez6LShroqrxP6vrwcyhyG7iDfZ9YpdNZzCVFEaaS8n9fkQQGL.Vz6MkkL7EaycmQTpdiodvEfQipKmjy2JCmHyYo4JEJWwXvCmE.SeyJ0IjoiZG0iLCJzIjoiaHR0cDovL25lc3N1cy10ZWNoLmlvOjkxMDAifQ#6MkkL7EaycmQTpdiodvEfQipKmjy2JCmHyYo4JEJWwXvCmE', from_prior_issuer_kid=None, enc_alg_auth=<AuthCryptAlg.A256CBC_HS512_ECDH_1PU_A256KW: Algs(alg='ECDH-1PU+A256KW', enc='A256CBC-HS512')>, enc_alg_anon=None, sign_alg=<SignAlg.ED25519: 'EdDSA'>, signed_message='{\"payload\":\"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\",\"signatures\":[{\"protected\":\"eyJ0eXAiOiJhcHBsaWNhdGlvbi9kaWRjb21tLXNpZ25lZCtqc29uIiwiYWxnIjoiRWREU0EifQ\",\"signature\":\"zpb4vmXEUwaqraWxi4U5eYcywxERUjlmqpBQ0cPV8Q6eTG2IhGDpbkmX-_fRqEIQxXfiNXDTWvikWvbJJZ0EAw\",\"header\":{\"kid\":\"did:peer:2.Ez6LShroqrxP6vrwcyhyG7iDfZ9YpdNZzCVFEaaS8n9fkQQGL.Vz6MkkL7EaycmQTpdiodvEfQipKmjy2JCmHyYo4JEJWwXvCmE.SeyJ0IjoiZG0iLCJzIjoiaHR0cDovL25lc3N1cy10ZWNoLmlvOjkxMDAifQ#6MkkL7EaycmQTpdiodvEfQipKmjy2JCmHyYo4JEJWwXvCmE\"}}]}', from_prior_jwt=None))"
      ]
     },
     "execution_count": 44,
     "metadata": {},
     "output_type": "execute_result"
    }
   ],
   "source": [
    "res = await poll_response()\n",
    "res"
   ]
  },
  {
   "cell_type": "code",
   "execution_count": 45,
   "metadata": {
    "scrolled": true
   },
   "outputs": [
    {
     "data": {
      "text/plain": [
       "{'type': ['VerifiableCredential', 'Passport'],\n",
       " '@context': ['https://www.w3.org/2018/credentials/v1',\n",
       "  'https://w3id.org/security/suites/jws-2020/v1'],\n",
       " 'id': 'urn:uuid:1cece1f8-6a68-4361-8823-08802b56ede8',\n",
       " 'issuer': 'did:key:z6Mkoe1KHk9aEJeTbWtC6AQTpX7FeUMNqSSVubVgY2M1X9st',\n",
       " 'issuanceDate': '2023-04-06T10:58:22.435583926Z',\n",
       " 'credentialSchema': {'id': 'class:nessus/schema/PassportSchema-draft-01.json',\n",
       "  'type': 'JsonSchemaValidator2018'},\n",
       " 'credentialSubject': {'id': 'did:key:z6Mkrea1ndAivx7y7iXVgSBK98BLYmBm7RPdfEtwRN3MSVfj',\n",
       "  'givenName': 'Alex',\n",
       "  'familyName': 'Andrei',\n",
       "  'citizenship': 'US'},\n",
       " 'proof': {'type': 'JsonWebSignature2020',\n",
       "  'creator': 'did:key:z6Mkoe1KHk9aEJeTbWtC6AQTpX7FeUMNqSSVubVgY2M1X9st',\n",
       "  'created': '2023-04-06T10:58:22Z',\n",
       "  'proofPurpose': 'assertionMethod',\n",
       "  'verificationMethod': 'did:key:z6Mkoe1KHk9aEJeTbWtC6AQTpX7FeUMNqSSVubVgY2M1X9st',\n",
       "  'jws': ''}}"
      ]
     },
     "execution_count": 45,
     "metadata": {},
     "output_type": "execute_result"
    }
   ],
   "source": [
    "res.message.attachments[0].data.json"
   ]
  },
  {
   "cell_type": "markdown",
   "metadata": {},
   "source": [
    "# output of the run is here \n",
    "http://nessus-tech.io:9100/dashboard/messages?walletName=Government&pconId=067bff35-8d7a-4e78-8546-c2e219e7b5f5"
   ]
  },
  {
   "cell_type": "code",
   "execution_count": null,
   "metadata": {},
   "outputs": [],
   "source": []
  }
 ],
 "metadata": {
  "kernelspec": {
   "display_name": "Python 3 (ipykernel)",
   "language": "python",
   "name": "python3"
  },
  "language_info": {
   "codemirror_mode": {
    "name": "ipython",
    "version": 3
   },
   "file_extension": ".py",
   "mimetype": "text/x-python",
   "name": "python",
   "nbconvert_exporter": "python",
   "pygments_lexer": "ipython3",
   "version": "3.10.10"
  }
 },
 "nbformat": 4,
 "nbformat_minor": 2
}
