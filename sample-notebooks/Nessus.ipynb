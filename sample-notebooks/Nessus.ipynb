{
 "cells": [
  {
   "cell_type": "code",
   "execution_count": 1,
   "metadata": {},
   "outputs": [],
   "source": [
    "import json\n",
    "import base64\n",
    "import qrcode\n",
    "import requests\n",
    "import datetime\n",
    "import uuid\n",
    "import matplotlib.pyplot as plt\n",
    "from pymongo import MongoClient\n",
    "from typing import Optional, List\n",
    "from didcomm.common.types import DID, VerificationMethodType, VerificationMaterial, VerificationMaterialFormat\n",
    "from didcomm.did_doc.did_doc import DIDDoc, VerificationMethod, DIDCommService\n",
    "from didcomm.did_doc.did_resolver import DIDResolver\n",
    "from didcomm.message import Message, FromPrior\n",
    "from didcomm.secrets.secrets_resolver_demo import SecretsResolverDemo\n",
    "from didcomm.unpack import unpack, UnpackResult\n",
    "from didcomm.common.resolvers import ResolversConfig\n",
    "from didcomm.message import Attachment, AttachmentDataJson, AttachmentDataLinks\n",
    "from didcomm.pack_encrypted import pack_encrypted, PackEncryptedConfig, PackEncryptedResult\n",
    "from peerdid.core.did_doc_types import DIDCommServicePeerDID\n",
    "from didcomm.secrets.secrets_util import generate_x25519_keys_as_jwk_dict, generate_ed25519_keys_as_jwk_dict, jwk_to_secret\n",
    "from peerdid import peer_did\n",
    "from peerdid.did_doc import DIDDocPeerDID\n",
    "\n",
    "from peerdid.types import VerificationMaterialAuthentication, VerificationMethodTypeAuthentication, VerificationMaterialAgreement, VerificationMethodTypeAgreement, VerificationMaterialFormatPeerDID"
   ]
  },
  {
   "cell_type": "code",
   "execution_count": 2,
   "metadata": {},
   "outputs": [],
   "source": [
    "secrets_resolver = SecretsResolverDemo()"
   ]
  },
  {
   "cell_type": "code",
   "execution_count": 3,
   "metadata": {},
   "outputs": [],
   "source": [
    "class DIDResolverPeerDID(DIDResolver):\n",
    "    async def resolve(self, did: DID) -> DIDDoc:\n",
    "        did_doc_json = peer_did.resolve_peer_did(did, format = VerificationMaterialFormatPeerDID.JWK)\n",
    "        did_doc = DIDDocPeerDID.from_json(did_doc_json)\n",
    "\n",
    "        return DIDDoc(\n",
    "            did=did_doc.did,\n",
    "            key_agreement_kids = did_doc.agreement_kids,\n",
    "            authentication_kids = did_doc.auth_kids,\n",
    "            verification_methods = [\n",
    "                VerificationMethod(\n",
    "                    id = m.id,\n",
    "                    type = VerificationMethodType.JSON_WEB_KEY_2020,\n",
    "                    controller = m.controller,\n",
    "                    verification_material = VerificationMaterial(\n",
    "                        format = VerificationMaterialFormat.JWK,\n",
    "                        value = json.dumps(m.ver_material.value)\n",
    "                    )\n",
    "                )\n",
    "                for m in did_doc.authentication + did_doc.key_agreement\n",
    "            ],\n",
    "             didcomm_services = []\n",
    "#                 DIDCommService(\n",
    "#                     id = s.id,\n",
    "#                     service_endpoint = s.service_endpoint,\n",
    "#                     routing_keys = s.routing_keys,\n",
    "#                     accept = s.accept\n",
    "#                 )\n",
    "#                 for s in did_doc.service\n",
    "#                 if isinstance(s, DIDCommServicePeerDID)\n",
    "#            ] if did_doc.service else []\n",
    "        )"
   ]
  },
  {
   "cell_type": "code",
   "execution_count": 4,
   "metadata": {},
   "outputs": [],
   "source": [
    "async def create_peer_did(self,\n",
    "                        auth_keys_count: int = 1,\n",
    "                        agreement_keys_count: int = 1,\n",
    "                        service_endpoint: Optional[str] = None,\n",
    "                        service_routing_keys: Optional[List[str]] = None\n",
    "                        ) -> str:\n",
    "        # 1. generate keys in JWK format\n",
    "        agreem_keys = [generate_x25519_keys_as_jwk_dict() for _ in range(agreement_keys_count)]\n",
    "        auth_keys = [generate_ed25519_keys_as_jwk_dict() for _ in range(auth_keys_count)]\n",
    "\n",
    "        # 2. prepare the keys for peer DID lib\n",
    "        agreem_keys_peer_did = [\n",
    "            VerificationMaterialAgreement(\n",
    "                type=VerificationMethodTypeAgreement.JSON_WEB_KEY_2020,\n",
    "                format=VerificationMaterialFormatPeerDID.JWK,\n",
    "                value=k[1],\n",
    "            )\n",
    "            for k in agreem_keys\n",
    "        ]\n",
    "        auth_keys_peer_did = [\n",
    "            VerificationMaterialAuthentication(\n",
    "                type=VerificationMethodTypeAuthentication.JSON_WEB_KEY_2020,\n",
    "                format=VerificationMaterialFormatPeerDID.JWK,\n",
    "                value=k[1],\n",
    "            )\n",
    "            for k in auth_keys\n",
    "        ]\n",
    "\n",
    "        # 3. generate service\n",
    "        service = None\n",
    "        if service_endpoint:\n",
    "            service = json.dumps(\n",
    "                DIDCommServicePeerDID(\n",
    "                    id=\"#didcommmessaging-0\",\n",
    "                    service_endpoint=service_endpoint, routing_keys=service_routing_keys,\n",
    "                    accept=[\"didcomm/v2\"]\n",
    "                ).to_dict()\n",
    "            )\n",
    "\n",
    "        # 4. call peer DID lib\n",
    "        # if we have just one key (auth), then use numalg0 algorithm\n",
    "        # otherwise use numalg2 algorithm\n",
    "        if len(auth_keys_peer_did) == 1 and not agreem_keys_peer_did and not service:\n",
    "            did = peer_did.create_peer_did_numalgo_0(auth_keys_peer_did[0])\n",
    "        else:\n",
    "            did = peer_did.create_peer_did_numalgo_2(\n",
    "                encryption_keys=agreem_keys_peer_did,\n",
    "                signing_keys=auth_keys_peer_did,\n",
    "                service=service,\n",
    "            )\n",
    "\n",
    "        # 5. set KIDs as in DID DOC for secrets and store the secret in the secrets resolver\n",
    "        did_doc = DIDDocPeerDID.from_json(peer_did.resolve_peer_did(did))\n",
    "        for auth_key, kid in zip(auth_keys, did_doc.auth_kids):\n",
    "            private_key = auth_key[0]\n",
    "            private_key[\"kid\"] = kid\n",
    "            await secrets_resolver.add_key(jwk_to_secret(private_key))\n",
    "\n",
    "        for agreem_key, kid in zip(agreem_keys, did_doc.agreement_kids):\n",
    "            private_key = agreem_key[0]\n",
    "            private_key[\"kid\"] = kid\n",
    "            await secrets_resolver.add_key(jwk_to_secret(private_key))\n",
    "\n",
    "        return did\n"
   ]
  },
  {
   "cell_type": "markdown",
   "metadata": {},
   "source": [
    "### Alice get OOB from Mediator"
   ]
  },
  {
   "cell_type": "code",
   "execution_count": 5,
   "metadata": {},
   "outputs": [],
   "source": [
    "#oob_url = requests.get(\"http://127.0.0.1:8000/oob_url\").text\n",
    "oob_url = requests.get(\"https://mediator.rootsid.cloud/oob_url\").text"
   ]
  },
  {
   "cell_type": "code",
   "execution_count": 6,
   "metadata": {},
   "outputs": [
    {
     "name": "stdout",
     "output_type": "stream",
     "text": [
      "https://mediator.rootsid.cloud?_oob=eyJ0eXBlIjoiaHR0cHM6Ly9kaWRjb21tLm9yZy9vdXQtb2YtYmFuZC8yLjAvaW52aXRhdGlvbiIsImlkIjoiOWQ5ZjdhMzYtYmYzYS00YWViLWE5MTItMDExZjM3MTc4NzM3IiwiZnJvbSI6ImRpZDpwZWVyOjIuRXo2TFNtczU1NVloRnRobjFXVjhjaURCcFptODZoSzl0cDgzV29qSlVteFBHazFoWi5WejZNa21kQmpNeUI0VFM1VWJiUXc1NHN6bTh5dk1NZjFmdEdWMnNRVllBeGFlV2hFLlNleUpwWkNJNkltNWxkeTFwWkNJc0luUWlPaUprYlNJc0luTWlPaUpvZEhSd2N6b3ZMMjFsWkdsaGRHOXlMbkp2YjNSemFXUXVZMnh2ZFdRaUxDSmhJanBiSW1ScFpHTnZiVzB2ZGpJaVhYMCIsImJvZHkiOnsiZ29hbF9jb2RlIjoicmVxdWVzdC1tZWRpYXRlIiwiZ29hbCI6IlJlcXVlc3RNZWRpYXRlIiwibGFiZWwiOiJNZWRpYXRvciIsImFjY2VwdCI6WyJkaWRjb21tL3YyIl19fQ\n"
     ]
    }
   ],
   "source": [
    "print(oob_url)"
   ]
  },
  {
   "cell_type": "code",
   "execution_count": 7,
   "metadata": {},
   "outputs": [
    {
     "name": "stdout",
     "output_type": "stream",
     "text": [
      "Alice's DID: did:peer:2.Ez6LSjKTa79FgzbLp8g3U2MmrpQRJpgYTXcgbu5sSKvGK1DMU.Vz6Mkso5Q23mjBA4ayqeFVht6CGZBYQa6e8LXEkmfVsPaKHLq\n"
     ]
    }
   ],
   "source": [
    "received_msg_encoded = oob_url.split(\"=\")[1]\n",
    "received_msg_decoded = json.loads(str(base64.urlsafe_b64decode(received_msg_encoded + \"==\"), \"utf-8\"))\n",
    "alice_did_for_mediator = await create_peer_did(1,1)\n",
    "print(\"Alice's DID:\", alice_did_for_mediator)"
   ]
  },
  {
   "cell_type": "markdown",
   "metadata": {},
   "source": [
    "### Alice request mediate"
   ]
  },
  {
   "cell_type": "code",
   "execution_count": 8,
   "metadata": {},
   "outputs": [],
   "source": [
    "alice_mediate_grant = Message(\n",
    "    custom_headers = [{\"return_route\": \"all\"}],\n",
    "    id = str(uuid.uuid4()),\n",
    "    type = \"https://didcomm.org/coordinate-mediation/2.0/mediate-request\",\n",
    "    body = {}\n",
    ")"
   ]
  },
  {
   "cell_type": "code",
   "execution_count": 9,
   "metadata": {},
   "outputs": [],
   "source": [
    "alice_mediate_grant_packed = await pack_encrypted(\n",
    "    resolvers_config = ResolversConfig(\n",
    "        secrets_resolver = secrets_resolver,\n",
    "        did_resolver = DIDResolverPeerDID()\n",
    "    ),\n",
    "    message = alice_mediate_grant,\n",
    "    frm = alice_did_for_mediator,\n",
    "    to = received_msg_decoded[\"from\"],\n",
    "    sign_frm = None,\n",
    "    pack_config = PackEncryptedConfig(protect_sender_id=False)\n",
    ")"
   ]
  },
  {
   "cell_type": "markdown",
   "metadata": {},
   "source": [
    "### Sending to Mediator"
   ]
  },
  {
   "cell_type": "code",
   "execution_count": 10,
   "metadata": {},
   "outputs": [
    {
     "name": "stdout",
     "output_type": "stream",
     "text": [
      "https://mediator.rootsid.cloud\n"
     ]
    }
   ],
   "source": [
    "mediator_did_doc = json.loads(peer_did.resolve_peer_did(received_msg_decoded[\"from\"]))\n",
    "mediator_endpoint = mediator_did_doc[\"service\"][0][\"serviceEndpoint\"]\n",
    "print(mediator_endpoint)"
   ]
  },
  {
   "cell_type": "code",
   "execution_count": 11,
   "metadata": {},
   "outputs": [],
   "source": [
    "headers = {\"Content-Type\": \"application/didcomm-encrypted+json\"}\n",
    "resp = requests.post(mediator_endpoint, headers=headers, json = json.loads(alice_mediate_grant_packed.packed_msg))\n"
   ]
  },
  {
   "cell_type": "code",
   "execution_count": 12,
   "metadata": {},
   "outputs": [
    {
     "name": "stdout",
     "output_type": "stream",
     "text": [
      "{'protected': 'eyJ0eXAiOiJhcHBsaWNhdGlvbi9kaWRjb21tLWVuY3J5cHRlZCtqc29uIiwiYWxnIjoiRUNESC0xUFUrQTI1NktXIiwiZW5jIjoiQTI1NkNCQy1IUzUxMiIsImFwdSI6IlpHbGtPbkJsWlhJNk1pNUZlalpNVTNRMlkwVmlOVTU0WVZsVFpFZDRSa2hGVFRkT1IzUTJSMDV6TVV4TmRUYzVTazFFY2xaMU9XVlRabkJHTGxaNk5rMXJiMHcwUTJkTVl6bDNZMVJ4UVdWbFNuVkRRMjVhVW5reU1scDFPVGhRTkc1dGNVWnhaVFJpTlZoWU1rRXVVMlY1U25CYVEwazJTVzAxYkdSNU1YQmFRMGx6U1c1UmFVOXBTbXRpVTBselNXNU5hVTlwU205a1NGSjNZM3B2ZGt3eU1XeGFSMnhvWkVjNWVVeHVTblppTTFKNllWZFJkVmt5ZUhaa1YxRnBURU5LYUVscWNHSkpiVkp3V2tkT2RtSlhNSFprYWtscFdGZ3dJelpNVTNRMlkwVmlOVTU0WVZsVFpFZDRSa2hGVFRkT1IzUTJSMDV6TVV4TmRUYzVTazFFY2xaMU9XVlRabkJHIiwiYXB2IjoiZ1VrT2lJUTVUbmxLUWVDcE1xYVFKbGlRdmpWWTBHUXcyNlhRa01ZblAtYyIsInNraWQiOiJkaWQ6cGVlcjoyLkV6NkxTdDZjRWI1TnhhWVNkR3hGSEVNN05HdDZHTnMxTE11NzlKTURyVnU5ZVNmcEYuVno2TWtvTDRDZ0xjOXdjVHFBZWVKdUNDblpSeTIyWnU5OFA0bm1xRnFlNGI1WFgyQS5TZXlKcFpDSTZJbTVsZHkxcFpDSXNJblFpT2lKa2JTSXNJbk1pT2lKb2RIUndjem92TDIxbFpHbGhkRzl5TG5KdmIzUnphV1F1WTJ4dmRXUWlMQ0poSWpwYkltUnBaR052YlcwdmRqSWlYWDAjNkxTdDZjRWI1TnhhWVNkR3hGSEVNN05HdDZHTnMxTE11NzlKTURyVnU5ZVNmcEYiLCJlcGsiOnsiY3J2IjoiWDI1NTE5IiwieCI6ImhWeHV4VUVyTnpobmEzQ2JSSnl4U2VJRVBTUVNYSDJtdVkyeHItMnRHeVEiLCJrdHkiOiJPS1AifX0', 'recipients': [{'header': {'kid': 'did:peer:2.Ez6LSjKTa79FgzbLp8g3U2MmrpQRJpgYTXcgbu5sSKvGK1DMU.Vz6Mkso5Q23mjBA4ayqeFVht6CGZBYQa6e8LXEkmfVsPaKHLq#6LSjKTa79FgzbLp8g3U2MmrpQRJpgYTXcgbu5sSKvGK1DMU'}, 'encrypted_key': '7XqzDzzf7zJv7fGtJaUruOTgo4BAjg-zaGeoNXMR1uverNAYfb0mL9-BbxVcfNmEfxmR751DKGcLuZgFc3C45iNw6a1kxMa-'}], 'iv': 'sDcDt-oRWKK_9ISwoa1DNg', 'ciphertext': 'pRQiSMjaJzvdUFh-1tFtS-oNB1NVDZqNiMCRmfy0oJYPl2iSHHXrLU16H7jIcRXen2aJ4RzLT-KnAmZH3GGdJqV38VdL5Po3rf5TO0eXOD1G3NPIjCard94e0b8JjiaGevEYfrYLE3krVV-7u9ZPK2Kl5GXrS1fo2sjAkL3ozMwrkhuGe6KuTItripVJ2x7iythyj0_YHmIzl_F2xiWmAdHVfqU2fWIiUVgz4MJuE3UABqQ9F8GFtdfRtS4I3JJGD7qUpCYjlkta1fNQVB-ldcEOmrNHOvujddKsemrvtWlsOsQEaLkKHuFh8HDRHexLqxz0NullbiLFldj_oWkisUowxJWRXFJzEzPfQXJleeWeadexLz5KRPV8eVFVfWsdUJ029DaaqXcZ63B8DbdAMhv0VOW47OPC2CBH9vf4KxwtsPvhu9Dw0PkhN_aEfM7ZF18Pvvcc7ZxRLEJXiydtTqvzq5lGGxlxTNfcG2Zttxk4VdmH26mYu7T6RONTqqZCvDN6a9ZCyspUshoburbu8nY9atOuk1qcumpIkbMAb9XLyzG5JJOqmKbU_yr2skyHyguixu9MzK_ACsLCD1FcgeIQHk8GLOVdaztCIKXGyjJjJG0qOO85iDnzOxUS7MrsnrnJWN6-ZoJrOJ7jlCI5eUQz-iJLoPqWCM2_HqDMGAUdUkYwTYouRK4hNkzFkKhaYpx7Bkoovwvxrbz086HSHxv2QWsFRCT2RNW5oWTAQBV1IrDNrx0bR3gQ2fA2Q0L6HztTktPdXRYQAEcUU7JcIvAp9DENQYFpBpz2R7450817Qos_-Z2dHMryiDr72wb3F4_0cXuOUZqf2sTrQoVXWwRfARb2Z3CE5QD196bRit-GRs3C4fHrcINMzQN2N0R0ALzpedp1gE7AHtRz9lwYPNS9T_3ALFkuCCSSLDefBDXC3ugG9xu4aa_gXUFLpHg2abo41-dOPKp8hHFNnMSUejkvdM0VvcSCckA94CPVnEHx6I3xb9k_bupR41iOCwlWP9XhSigrDal7oJa5PIoFWVXD451Lqu-UshmmNie2HQkONnno53txiVzX9TQ3MG22WkbhJeUnyNWV8dELEb3XLnkMU5BsbHEbZXIx41fx0VGDc3a1XTZdaOWrPcBo18wQFGv478csWGhvcDNHMKeZzjOacQuzSBR-lQv7MzLWVDhaMlXmzp0vi1n4sOsNJIZDcdX4_mY0pASj64dwXSJF152CySDFTyOAIW94ITF5lSAbDOCJc1DwO2oFSIGQUhgEw5mJs22m6pCaRJiMdHVFpsDOLmT6yG7bQPrcZqihzr_SRHDzvziPZZcQdmuOdGiDIC5Zdz3QRmbGIRmzalY7nMmzprgv86uYUA9kWC8H2LdowO-mGJGF4RhmQ9_GwrPZPEB0WmWTmJ_2CyBslNVHDGutqmZCVEiaKA2zJqVjGc9WrWtDI60vvkm-Ow4O9r9Ys2ug-3aYE23YHY7vV2R6FMjx_H-hGe60OMAsxVsNTsZz9cv_0DGTm2gsfnrT6MriiYApbg92gfv8144A72QNecyByzlZX7NjPSAdUpjeVWVP-_HVsx0p0zLyu4jeri9pbv5YF_CzA5ZZ_DLlNeKnxUAC86kMk_5Ri1kpSgbouPICd_Y3oOu39Rz6gXeKHjhYidpZ5xZQjZ4moQXzRcuNl6XhqT36rcXZhRFj5Yw8wm2Go9byP3YyN8KGhZdoNo7zAqtphUHNlKJRC811j2fRWAWbhag0yCq5ZR40hh1oOHQFoR1EqgJdEdrsx0j4gcyL55snZyynmZCVF10_CS_QCjYD_CiR1CUusPcMWvkSQrDc1iOdN0ykBBnpdr3LTy6FfD2wTYwlrrWZPOplx0HYRx899nrZ_yOt8Sq14D6LaWG9mdKVB69PLZKOgt_ZINfsZZK7JwawsnSS_Ej1QHj6x5whz710GAowpIzYrf_TpLqeaJPLBkQhYn0lVMgWBlG6Ie-z4CGgmQzpQtggJsMXxW6XhJqPGNWzbs3bG1ppNjk', 'tag': 'tC9PYGaH1lZzae5LExCOwtjAMQq-ryeKDG1lnxa6Ehs'}\n"
     ]
    }
   ],
   "source": [
    "print(resp.json())"
   ]
  },
  {
   "cell_type": "markdown",
   "metadata": {},
   "source": [
    "### Get mediator grant response"
   ]
  },
  {
   "cell_type": "code",
   "execution_count": 13,
   "metadata": {},
   "outputs": [
    {
     "name": "stdout",
     "output_type": "stream",
     "text": [
      "https://didcomm.org/coordinate-mediation/2.0/mediate-grant\n",
      "Routing Key: did:peer:2.Ez6LSgHf3aYDeUuPMqrjaQdkGJgte3q1gP1JDDCPu1XzTzuKJ.Vz6MkrUWx91o6GkCztCzukk1zpUmi9WsACgWaZ8JXUcWmCdko.SeyJpZCI6Im5ldy1pZCIsInQiOiJkbSIsInMiOiJodHRwczovL21lZGlhdG9yLnJvb3RzaWQuY2xvdWQiLCJhIjpbImRpZGNvbW0vdjIiXX0\n",
      "Mediator new DID: did:peer:2.Ez6LSt6cEb5NxaYSdGxFHEM7NGt6GNs1LMu79JMDrVu9eSfpF.Vz6MkoL4CgLc9wcTqAeeJuCCnZRy22Zu98P4nmqFqe4b5XX2A.SeyJpZCI6Im5ldy1pZCIsInQiOiJkbSIsInMiOiJodHRwczovL21lZGlhdG9yLnJvb3RzaWQuY2xvdWQiLCJhIjpbImRpZGNvbW0vdjIiXX0\n"
     ]
    }
   ],
   "source": [
    "mediator_unpack_msg = await unpack(\n",
    "    resolvers_config=ResolversConfig(\n",
    "        secrets_resolver=secrets_resolver,\n",
    "        did_resolver=DIDResolverPeerDID()\n",
    "    ),\n",
    "    packed_msg= resp.json()\n",
    ")\n",
    "print(mediator_unpack_msg.message.type)\n",
    "print(\"Routing Key: \" + mediator_unpack_msg.message.body[\"routing_did\"])\n",
    "print(\"Mediator new DID: \" + mediator_unpack_msg.message.from_prior.sub)\n",
    "# mediator rotated did\n",
    "mediator_routing_key = mediator_unpack_msg.message.body[\"routing_did\"]\n",
    "mediator_did = mediator_unpack_msg.message.from_prior.sub"
   ]
  },
  {
   "cell_type": "markdown",
   "metadata": {},
   "source": [
    "### Keylist update"
   ]
  },
  {
   "cell_type": "markdown",
   "metadata": {},
   "source": [
    "Alice create a new DID to share with  other peers using mediator routing keys "
   ]
  },
  {
   "cell_type": "code",
   "execution_count": 14,
   "metadata": {},
   "outputs": [
    {
     "name": "stdout",
     "output_type": "stream",
     "text": [
      "Alice's DID for Bob: did:peer:2.Ez6LSbhLuMKZzK5veas6VYsX8S97TxrMND3Rk817uUg3P1tnn.Vz6MkeuPCzyD5PFG3Qc6QnNoVLo3HxvpTadsDCRmfeGhBhnTr.SeyJpZCI6IiNkaWRjb21tbWVzc2FnaW5nLTAiLCJ0IjoiZG0iLCJzIjoiaHR0cHM6Ly9tZWRpYXRvci5yb290c2lkLmNsb3VkIiwiYSI6WyJkaWRjb21tL3YyIl0sInIiOlsiZGlkOnBlZXI6Mi5FejZMU2dIZjNhWURlVXVQTXFyamFRZGtHSmd0ZTNxMWdQMUpERENQdTFYelR6dUtKLlZ6Nk1rclVXeDkxbzZHa0N6dEN6dWtrMXpwVW1pOVdzQUNnV2FaOEpYVWNXbUNka28uU2V5SnBaQ0k2SW01bGR5MXBaQ0lzSW5RaU9pSmtiU0lzSW5NaU9pSm9kSFJ3Y3pvdkwyMWxaR2xoZEc5eUxuSnZiM1J6YVdRdVkyeHZkV1FpTENKaElqcGJJbVJwWkdOdmJXMHZkaklpWFgwIl19\n"
     ]
    }
   ],
   "source": [
    "alice_did_new = await create_peer_did(1, 1, service_endpoint=mediator_endpoint, service_routing_keys=[mediator_routing_key])\n",
    "# alice_did_for_bob = await create_peer_did(1, 1, service_endpoint=mediator_routing_key)\n",
    "\n",
    "print(\"Alice's DID for Bob:\", alice_did_new)"
   ]
  },
  {
   "cell_type": "markdown",
   "metadata": {},
   "source": [
    "Alice create and send the keylist update message"
   ]
  },
  {
   "cell_type": "code",
   "execution_count": 15,
   "metadata": {},
   "outputs": [],
   "source": [
    "alice_keylist_update = Message(\n",
    "    id = \"unique-id-293e9a922efff\",\n",
    "    type = \"https://didcomm.org/coordinate-mediation/2.0/keylist-update\",\n",
    "    body = {\n",
    "        \"updates\":[\n",
    "        {\n",
    "            \"recipient_did\": alice_did_new,\n",
    "            \"action\": \"add\"\n",
    "        }\n",
    "    ]\n",
    "    }\n",
    ")"
   ]
  },
  {
   "cell_type": "code",
   "execution_count": 16,
   "metadata": {},
   "outputs": [],
   "source": [
    "alice_keylist_update_packed_msg = await pack_encrypted(\n",
    "    resolvers_config = ResolversConfig(\n",
    "        secrets_resolver = secrets_resolver,\n",
    "        did_resolver = DIDResolverPeerDID()\n",
    "    ),\n",
    "    message = alice_keylist_update,\n",
    "    frm = alice_did_for_mediator,\n",
    "    to = mediator_did,\n",
    "    sign_frm = None,\n",
    "    pack_config = PackEncryptedConfig(protect_sender_id=False)\n",
    ")"
   ]
  },
  {
   "cell_type": "code",
   "execution_count": 17,
   "metadata": {},
   "outputs": [],
   "source": [
    "headers = {\"Content-Type\": \"application/didcomm-encrypted+json\"}\n",
    "resp = requests.post(mediator_endpoint, headers=headers, data = alice_keylist_update_packed_msg.packed_msg)"
   ]
  },
  {
   "cell_type": "code",
   "execution_count": 18,
   "metadata": {},
   "outputs": [
    {
     "name": "stdout",
     "output_type": "stream",
     "text": [
      "https://didcomm.org/coordinate-mediation/2.0/keylist-update-response\n",
      "{'updated': [{'recipient_did': 'did:peer:2.Ez6LSbhLuMKZzK5veas6VYsX8S97TxrMND3Rk817uUg3P1tnn.Vz6MkeuPCzyD5PFG3Qc6QnNoVLo3HxvpTadsDCRmfeGhBhnTr.SeyJpZCI6IiNkaWRjb21tbWVzc2FnaW5nLTAiLCJ0IjoiZG0iLCJzIjoiaHR0cHM6Ly9tZWRpYXRvci5yb290c2lkLmNsb3VkIiwiYSI6WyJkaWRjb21tL3YyIl0sInIiOlsiZGlkOnBlZXI6Mi5FejZMU2dIZjNhWURlVXVQTXFyamFRZGtHSmd0ZTNxMWdQMUpERENQdTFYelR6dUtKLlZ6Nk1rclVXeDkxbzZHa0N6dEN6dWtrMXpwVW1pOVdzQUNnV2FaOEpYVWNXbUNka28uU2V5SnBaQ0k2SW01bGR5MXBaQ0lzSW5RaU9pSmtiU0lzSW5NaU9pSm9kSFJ3Y3pvdkwyMWxaR2xoZEc5eUxuSnZiM1J6YVdRdVkyeHZkV1FpTENKaElqcGJJbVJwWkdOdmJXMHZkaklpWFgwIl19', 'action': 'add', 'result': 'success'}]}\n"
     ]
    }
   ],
   "source": [
    "mediator_unpack_msg2 = await unpack(\n",
    "    resolvers_config=ResolversConfig(\n",
    "        secrets_resolver=secrets_resolver,\n",
    "        did_resolver=DIDResolverPeerDID()\n",
    "    ),\n",
    "    packed_msg= resp.json()\n",
    ")\n",
    "print(mediator_unpack_msg2.message.type)\n",
    "print(mediator_unpack_msg2.message.body)\n"
   ]
  },
  {
   "cell_type": "markdown",
   "metadata": {},
   "source": [
    "### Alice can now send her DID to Bob. Copy Alice's DID into Bob's notebook, and follows Bob's notebook"
   ]
  },
  {
   "cell_type": "code",
   "execution_count": null,
   "metadata": {},
   "outputs": [],
   "source": []
  },
  {
   "cell_type": "code",
   "execution_count": 20,
   "metadata": {},
   "outputs": [],
   "source": [
    "#get nessus\n",
    "nessus_invitation = json.loads(requests.get('http://nessus-tech.io:9100/message/invitation?inviter=Government&method=peer').text)\n",
    "nessus_did_doc = json.loads(peer_did.resolve_peer_did(nessus_invitation[\"from\"]))"
   ]
  },
  {
   "cell_type": "code",
   "execution_count": 21,
   "metadata": {},
   "outputs": [
    {
     "data": {
      "text/plain": [
       "{'id': 'did:peer:2.Ez6LSh3pStyQygF6KTz8R4V8tQeTCQpV6sy7XBFiH5cJkMMBg.Vz6MkpVEyR4LPQJFh3DnkpScaie83qFYo6vuUYwwUpLjFNhUN.SeyJ0IjoiZG0iLCJzIjoiaHR0cDovL25lc3N1cy10ZWNoLmlvOjkxMDAifQ',\n",
       " 'authentication': [{'id': 'did:peer:2.Ez6LSh3pStyQygF6KTz8R4V8tQeTCQpV6sy7XBFiH5cJkMMBg.Vz6MkpVEyR4LPQJFh3DnkpScaie83qFYo6vuUYwwUpLjFNhUN.SeyJ0IjoiZG0iLCJzIjoiaHR0cDovL25lc3N1cy10ZWNoLmlvOjkxMDAifQ#6MkpVEyR4LPQJFh3DnkpScaie83qFYo6vuUYwwUpLjFNhUN',\n",
       "   'type': 'Ed25519VerificationKey2020',\n",
       "   'controller': 'did:peer:2.Ez6LSh3pStyQygF6KTz8R4V8tQeTCQpV6sy7XBFiH5cJkMMBg.Vz6MkpVEyR4LPQJFh3DnkpScaie83qFYo6vuUYwwUpLjFNhUN.SeyJ0IjoiZG0iLCJzIjoiaHR0cDovL25lc3N1cy10ZWNoLmlvOjkxMDAifQ',\n",
       "   'publicKeyMultibase': 'z6MkpVEyR4LPQJFh3DnkpScaie83qFYo6vuUYwwUpLjFNhUN'}],\n",
       " 'keyAgreement': [{'id': 'did:peer:2.Ez6LSh3pStyQygF6KTz8R4V8tQeTCQpV6sy7XBFiH5cJkMMBg.Vz6MkpVEyR4LPQJFh3DnkpScaie83qFYo6vuUYwwUpLjFNhUN.SeyJ0IjoiZG0iLCJzIjoiaHR0cDovL25lc3N1cy10ZWNoLmlvOjkxMDAifQ#6LSh3pStyQygF6KTz8R4V8tQeTCQpV6sy7XBFiH5cJkMMBg',\n",
       "   'type': 'X25519KeyAgreementKey2020',\n",
       "   'controller': 'did:peer:2.Ez6LSh3pStyQygF6KTz8R4V8tQeTCQpV6sy7XBFiH5cJkMMBg.Vz6MkpVEyR4LPQJFh3DnkpScaie83qFYo6vuUYwwUpLjFNhUN.SeyJ0IjoiZG0iLCJzIjoiaHR0cDovL25lc3N1cy10ZWNoLmlvOjkxMDAifQ',\n",
       "   'publicKeyMultibase': 'z6LSh3pStyQygF6KTz8R4V8tQeTCQpV6sy7XBFiH5cJkMMBg'}],\n",
       " 'service': [{'id': 'did:peer:2.Ez6LSh3pStyQygF6KTz8R4V8tQeTCQpV6sy7XBFiH5cJkMMBg.Vz6MkpVEyR4LPQJFh3DnkpScaie83qFYo6vuUYwwUpLjFNhUN.SeyJ0IjoiZG0iLCJzIjoiaHR0cDovL25lc3N1cy10ZWNoLmlvOjkxMDAifQ#didcommmessaging-0',\n",
       "   'type': 'DIDCommMessaging',\n",
       "   'serviceEndpoint': 'http://nessus-tech.io:9100'}]}"
      ]
     },
     "execution_count": 21,
     "metadata": {},
     "output_type": "execute_result"
    }
   ],
   "source": [
    "nessus_did_doc"
   ]
  },
  {
   "cell_type": "code",
   "execution_count": 22,
   "metadata": {},
   "outputs": [
    {
     "data": {
      "text/plain": [
       "'{}'"
      ]
     },
     "execution_count": 22,
     "metadata": {},
     "output_type": "execute_result"
    }
   ],
   "source": [
    "ping_msg = Message(\n",
    "    body = { \"response_requested\": True },\n",
    "    id = str(uuid.uuid4()),\n",
    "    type = \"https://didcomm.org/trust-ping/2.0/ping\",\n",
    "    frm = alice_did_new,\n",
    "    to = [nessus_invitation[\"from\"]],\n",
    ")\n",
    "\n",
    "tony_trust_ping_packed = await pack_encrypted(\n",
    "    resolvers_config = ResolversConfig(\n",
    "        secrets_resolver = secrets_resolver,\n",
    "        did_resolver = DIDResolverPeerDID()\n",
    "    ),\n",
    "    message = ping_msg,\n",
    "    frm = alice_did_new,\n",
    "    to = nessus_invitation['from'],\n",
    "    sign_frm = None,\n",
    "    pack_config = PackEncryptedConfig(protect_sender_id=False)\n",
    ")\n",
    "trust_ping_did_doc = json.loads(peer_did.resolve_peer_did(nessus_invitation[\"from\"]))\n",
    "trust_ping_endpoint = trust_ping_did_doc[\"service\"][0][\"serviceEndpoint\"]\n",
    "headers = {\"Content-Type\": \"application/didcomm-encrypted+json\"}\n",
    "resp = requests.post(trust_ping_endpoint, headers=headers, json = json.loads(tony_trust_ping_packed.packed_msg))\n",
    "resp.text"
   ]
  },
  {
   "cell_type": "code",
   "execution_count": null,
   "metadata": {},
   "outputs": [],
   "source": []
  },
  {
   "cell_type": "code",
   "execution_count": null,
   "metadata": {},
   "outputs": [],
   "source": []
  },
  {
   "cell_type": "markdown",
   "metadata": {},
   "source": [
    "### Alice check status of queued messages from the Mediator"
   ]
  },
  {
   "cell_type": "code",
   "execution_count": 23,
   "metadata": {},
   "outputs": [],
   "source": [
    "alice_status_check = Message(\n",
    "    id = \"unique-id-293e9a922efffxxx\",\n",
    "    type = \"https://didcomm.org/messagepickup/3.0/status-request\",\n",
    "    body = {}\n",
    ")"
   ]
  },
  {
   "cell_type": "code",
   "execution_count": 24,
   "metadata": {},
   "outputs": [],
   "source": [
    "alice_status_check_packed_msg = await pack_encrypted(\n",
    "    resolvers_config = ResolversConfig(\n",
    "        secrets_resolver = secrets_resolver,\n",
    "        did_resolver = DIDResolverPeerDID()\n",
    "    ),\n",
    "    message = alice_status_check,\n",
    "    to = mediator_did,\n",
    "    frm = alice_did_for_mediator,\n",
    "    sign_frm = None,\n",
    "    pack_config = PackEncryptedConfig(protect_sender_id=False)\n",
    ")\n",
    "headers = {\"Content-Type\": \"application/didcomm-encrypted+json\"}\n",
    "resp3 = requests.post(mediator_endpoint, headers=headers, data = alice_status_check_packed_msg.packed_msg)"
   ]
  },
  {
   "cell_type": "code",
   "execution_count": 25,
   "metadata": {},
   "outputs": [
    {
     "name": "stdout",
     "output_type": "stream",
     "text": [
      "https://didcomm.org/messagepickup/3.0/status\n",
      "Messages in Mediator queue: 1\n"
     ]
    }
   ],
   "source": [
    "mediator_unpack_status = await unpack(\n",
    "    resolvers_config=ResolversConfig(\n",
    "        secrets_resolver=secrets_resolver,\n",
    "        did_resolver=DIDResolverPeerDID()\n",
    "    ),\n",
    "    packed_msg= resp3.json()\n",
    ")\n",
    "print(mediator_unpack_status.message.type)\n",
    "print(\"Messages in Mediator queue: \" + str(mediator_unpack_status.message.body[\"message_count\"]))"
   ]
  },
  {
   "cell_type": "markdown",
   "metadata": {},
   "source": [
    "### If there are messages, Alice can pickup from the mediator (delivery request)"
   ]
  },
  {
   "cell_type": "code",
   "execution_count": 26,
   "metadata": {},
   "outputs": [],
   "source": [
    "alice_delivery_request = Message(\n",
    "    id = \"unique-id-293e9a922efffxxxff\",\n",
    "    type = \"https://didcomm.org/messagepickup/3.0/delivery-request\",\n",
    "    body = {\"limit\": 1}\n",
    ")"
   ]
  },
  {
   "cell_type": "code",
   "execution_count": 27,
   "metadata": {},
   "outputs": [],
   "source": [
    "alice_delivery_request_packed_msg = await pack_encrypted(\n",
    "    resolvers_config = ResolversConfig(\n",
    "        secrets_resolver = secrets_resolver,\n",
    "        did_resolver = DIDResolverPeerDID()\n",
    "    ),\n",
    "    message = alice_delivery_request,\n",
    "    to = mediator_did,\n",
    "    frm = alice_did_for_mediator,\n",
    "    sign_frm = None,\n",
    "    pack_config = PackEncryptedConfig(protect_sender_id=False)\n",
    ")\n",
    "headers = {\"Content-Type\": \"application/didcomm-encrypted+json\"}\n",
    "resp4 = requests.post(mediator_endpoint, headers=headers, data = alice_delivery_request_packed_msg.packed_msg)"
   ]
  },
  {
   "cell_type": "code",
   "execution_count": 28,
   "metadata": {},
   "outputs": [
    {
     "name": "stdout",
     "output_type": "stream",
     "text": [
      "https://didcomm.org/messagepickup/3.0/delivery\n",
      "{'recipient_key': None}\n"
     ]
    }
   ],
   "source": [
    "mediator_delivery = await unpack(\n",
    "    resolvers_config=ResolversConfig(\n",
    "        secrets_resolver=secrets_resolver,\n",
    "        did_resolver=DIDResolverPeerDID()\n",
    "    ),\n",
    "    packed_msg= resp4.json()\n",
    ")\n",
    "print(mediator_delivery.message.type)\n",
    "print(mediator_delivery.message.body)\n",
    "bob_packed_msg = mediator_delivery.message.attachments[0].data.json\n",
    "msg_id = mediator_delivery.message.attachments[0].id"
   ]
  },
  {
   "cell_type": "code",
   "execution_count": 29,
   "metadata": {},
   "outputs": [],
   "source": [
    "bob_packed_msg = mediator_delivery.message.attachments[0].data.json\n",
    "msg_id = mediator_delivery.message.attachments[0].id"
   ]
  },
  {
   "cell_type": "code",
   "execution_count": 30,
   "metadata": {},
   "outputs": [
    {
     "name": "stdout",
     "output_type": "stream",
     "text": [
      "{'ciphertext': '3t3r_aLgjqmNZ8HXiOPqtLA4MM9kUoiLsI2Y9C-iQnTIvpx_7WWqd-y8-6MW73jw7ZV3Tk6KRYs11zycTZFy6-yrPTmluv07YCfSXHiVacF6xoSF2x4KhLQKbqY3Fv6ULyOqmEjqsiqH8X2KpA4lCmkihxAs4pOVn5SW3457V5leaSn45ssh8Bq70wYXwLgh8MfL-CMsajf11ClXtbocZHkQOYKV9_yLsd_PEiwHqAtKt_uiSCa8TfQOiffEHgzlWhtIqrLa2-Uj6sI5wKOvsk4JUfn2kviP_o3jzpw1B4c0gyyUcon66mqk8c6ONAR8nEmPS8Eas6Q1y4ZB9e8TgljmqNgTqilpY2zXKzmIfap_XewRuf6O4TjOKZa3jcHoLubQ0Nqyw64c7Jm14MeRK88hYMGYFB4UGxwfdpLhAyecXX3pAiPGO269N5k9wUWf-Tu9x3WNjaQLLBmty2NBpqzu20GMAcGTw1plEwWi_zmCz4NaTvBe08mwzxo03nTAfo7s1XcxhPIz0_1gRMfX1huQYmiwYI_oU0nbfxIec8cLwenhoDWV6QSv4Hv40yU1QL12iAg4JE-rR1-btDOUQSL2uWrOmPPRO6qZno_n4tChFHH8jX7wCCMGM5pS8716fDREnOidb5BWONfOseglGC_WN-oNzp75EhNOvSwDDblqJYdY9hjDNo5PMk3jir91TD2T6rJ_YKPeNTjVQIKh0ddvXTYh1-jq_UIe9ywuJ_-K2XdZqr05jHTfyAfwJ_lDGipPPLmL2HLnUoEkmJjusqkbNUrd3pSHvbgM06iglfoG9SDOzDEazfURHkAi6OV5noExIGz3PT4cTEyG5Z3RuKfrTQ44ZVhV9yqm68ljrLXUm7gWSOGWe8npmIT4kHLAFhulKOqA3xHVNpSWkQdqKUXRLtfQOiqfVuuQWXjx1Mv2k6hMizAfmDNOP5wbfozS6H5LBg1TQStE7TWOKE3gbunTDNawkiqqm_qkNe1HfdtMStcq85kQFvRHujex2Y6LWG8Ydnt3_DXKIGWQ761l_oAwn2ObXqLsPLuO8C2QGpFfx2_2fCtbrfbBqiGtnvaQHF3tCDReGv8BCAZCrBHjIeOkCQKRbrRk3jGocfvyvmqoONHTEEpPfyHeetjDaYrYopRIDkPV4tAb4onlXZNKndbwakAqe3YfxT-tET7fHTaPvX12ogjGZQJfx6lGWxdQhb7G0nCNtGgj8wvEplB1D0w4JCF4g1Mi_p33dTMJPtx4ETRzDohMjHhixRoPFrcqilNeTYAI34_Bu2rNaINuYL3EsbC1ZDvZGRt3FeLlmVL7V6sI-A2adkCaEIqBznpnYKFvpAaNvZPh-_7V957bYvEkAf2pqSJY0Xe_r_NlNNTn0Y8yORcvA0Lma6ir2gJuT73Cut7q_XgN8rMP__8L_DiHR3z6mf_5yob_W0DotLyC96jrO-Adqdr17cwhfLs18Rs2ueRz5c5zaS1X1LXtbkgzAIPYP23YkH1cTYLrJdiy7_rbaaGX87a1LSMOyJJDiKBveCL2Q7CgrgIqcvHrMhRTefIxYqBcYtg9U2CD7SOpQi8MoDkEbvtXYYjFxf6vkcClE1KqkemOBrcKdd5mleXiapCympZkUFW-JWWLXyw3h4u9a3bsgPjuwQwdIaJ-uV8ekHiU8YDcu9F-5_XHrkdfyyGaDR81SK7fZmjuzDCtL9cB44JlvhQubcTu4pWscq71SnYdy-aaUlDajijsKgW8sHXpNf3Xe8AxGD_OTtngrczAd21cFE7H7MOcooePDvEEwb5Jv4Q-3rg1lbt5liODpvgkvbNgNvmzyd4NT61dlpREz02ETvQuJk91hj35SnIRGjaZTXEYhDHzKfWg2xj39Zw4PKItcuE3ImI3dRSof8bd_helgzZ0nfBgbjW2Sye0p8mt2sddv68aQSLyIIKK-jj350kGmVjWZ2z4FZOyr6YrCscXhsOGvw8JHEpqQ32NvgVKbZV2F5KQi-Rbt78YlLT-E_gq785rc7rgxpD350XZXlucEVE46hX61VFf-PYKaLY3FTMgPWvPGPMTTgdDgwbMwVG4DH2GPP9bhCbETND__5GIEvzzbDYmI3alk_x_7bufaX4cRu5gQmneS9IIPq4ZDFkgVneURj1DPZXDB-EAZGzy2cqWHRtlymDDurltc3dqC6KqqOqbiGlJ-yw0e8zJ34ZiZ8476xS5tQJ4_RJ8PC0EMwhHKb5Mc33gezMkzzukNrgfX_QnA3oM0gVjed-AhujGXSgWu1IsXNCF2qm9cW8EOox9tejP6hAcVTSz5nRWpXmJ_CtJEbAP9qPz20i9CrSjgvZKjzD6_fFM4u6a8XxkWy0CNP_dGgjKriRUGDYDwqtZp5Zn6hBWaQxFr9lF3U7rJ9hKTK6EKwTv8ZId4yYI5BIc1P4VDWHJ', 'protected': 'eyJlcGsiOnsia3R5IjoiT0tQIiwiY3J2IjoiWDI1NTE5IiwieCI6IjZJYndySjNtS1hiTXp3TG55bVFUSUY3S3A5Yy12cXIyV2JzalYtYVE5aDQifSwiYXB2IjoiT0VoSng3NGZnNDlwOVNPUGd4NDFERTBtd0ZwMlptNEVORkJRSVZUMmpldyIsInNraWQiOiJkaWQ6cGVlcjoyLkV6NkxTaDNwU3R5UXlnRjZLVHo4UjRWOHRRZVRDUXBWNnN5N1hCRmlINWNKa01NQmcuVno2TWtwVkV5UjRMUFFKRmgzRG5rcFNjYWllODNxRllvNnZ1VVl3d1VwTGpGTmhVTi5TZXlKMElqb2laRzBpTENKeklqb2lhSFIwY0RvdkwyNWxjM04xY3kxMFpXTm9MbWx2T2preE1EQWlmUSM2TFNoM3BTdHlReWdGNktUejhSNFY4dFFlVENRcFY2c3k3WEJGaUg1Y0prTU1CZyIsImFwdSI6IlpHbGtPbkJsWlhJNk1pNUZlalpNVTJnemNGTjBlVkY1WjBZMlMxUjZPRkkwVmpoMFVXVlVRMUZ3VmpaemVUZFlRa1pwU0RWalNtdE5UVUpuTGxaNk5rMXJjRlpGZVZJMFRGQlJTa1pvTTBSdWEzQlRZMkZwWlRnemNVWlpieloyZFZWWmQzZFZjRXhxUms1b1ZVNHVVMlY1U2pCSmFtOXBXa2N3YVV4RFNucEphbTlwWVVoU01HTkViM1pNTWpWc1l6Tk9NV041TVRCYVYwNXZURzFzZGs5cWEzaE5SRUZwWmxFak5reFRhRE53VTNSNVVYbG5SalpMVkhvNFVqUldPSFJSWlZSRFVYQldObk41TjFoQ1JtbElOV05LYTAxTlFtYyIsInR5cCI6ImFwcGxpY2F0aW9uL2RpZGNvbW0tZW5jcnlwdGVkK2pzb24iLCJlbmMiOiJBMjU2Q0JDLUhTNTEyIiwiYWxnIjoiRUNESC0xUFUrQTI1NktXIn0', 'recipients': [{'encrypted_key': '8361DKE-iuTlWaqdF-Hit5c9UuhUejyh3a_nE6vZQV42J7wk8S0vz33ytJCFOZVcmXOycqG1wQufx94Up4J9fKkSXmpQ5dal', 'header': {'kid': 'did:peer:2.Ez6LSbhLuMKZzK5veas6VYsX8S97TxrMND3Rk817uUg3P1tnn.Vz6MkeuPCzyD5PFG3Qc6QnNoVLo3HxvpTadsDCRmfeGhBhnTr.SeyJpZCI6IiNkaWRjb21tbWVzc2FnaW5nLTAiLCJ0IjoiZG0iLCJzIjoiaHR0cHM6Ly9tZWRpYXRvci5yb290c2lkLmNsb3VkIiwiYSI6WyJkaWRjb21tL3YyIl0sInIiOlsiZGlkOnBlZXI6Mi5FejZMU2dIZjNhWURlVXVQTXFyamFRZGtHSmd0ZTNxMWdQMUpERENQdTFYelR6dUtKLlZ6Nk1rclVXeDkxbzZHa0N6dEN6dWtrMXpwVW1pOVdzQUNnV2FaOEpYVWNXbUNka28uU2V5SnBaQ0k2SW01bGR5MXBaQ0lzSW5RaU9pSmtiU0lzSW5NaU9pSm9kSFJ3Y3pvdkwyMWxaR2xoZEc5eUxuSnZiM1J6YVdRdVkyeHZkV1FpTENKaElqcGJJbVJwWkdOdmJXMHZkaklpWFgwIl19#6LSbhLuMKZzK5veas6VYsX8S97TxrMND3Rk817uUg3P1tnn'}}], 'tag': 'QjYOgRgSeNCFHQI1ZqTIE1oCt5FTx-OneDyg9jsqn-g', 'iv': 'xkZWn5j-fAvfz2eoum_9IQ'}\n"
     ]
    }
   ],
   "source": [
    "print(bob_packed_msg)"
   ]
  },
  {
   "cell_type": "code",
   "execution_count": 31,
   "metadata": {},
   "outputs": [],
   "source": [
    "bob_msg = await unpack(\n",
    "    resolvers_config=ResolversConfig(\n",
    "        secrets_resolver=secrets_resolver,\n",
    "        did_resolver=DIDResolverPeerDID()\n",
    "    ),\n",
    "    packed_msg= bob_packed_msg\n",
    ")"
   ]
  },
  {
   "cell_type": "code",
   "execution_count": 32,
   "metadata": {},
   "outputs": [
    {
     "name": "stdout",
     "output_type": "stream",
     "text": [
      "Message ID: 642de10afb5566e28c19e1a6\n"
     ]
    }
   ],
   "source": [
    "print(\"Message ID:\", msg_id)"
   ]
  },
  {
   "cell_type": "code",
   "execution_count": 34,
   "metadata": {},
   "outputs": [
    {
     "data": {
      "text/plain": [
       "{'comment': 'Pong from Government'}"
      ]
     },
     "execution_count": 34,
     "metadata": {},
     "output_type": "execute_result"
    }
   ],
   "source": [
    "bob_msg.message.as_dict()['body']"
   ]
  },
  {
   "cell_type": "markdown",
   "metadata": {},
   "source": [
    "### Alice acknowledge so the mediator can delete the message"
   ]
  },
  {
   "cell_type": "code",
   "execution_count": 35,
   "metadata": {},
   "outputs": [],
   "source": [
    "alice_ack = Message(\n",
    "    id = \"unique-id-293e9a922efffxxxffsss\",\n",
    "    type = \"https://didcomm.org/messagepickup/3.0/messages-received\",\n",
    "    body = {\"message_id_list\": [msg_id]}\n",
    ")"
   ]
  },
  {
   "cell_type": "code",
   "execution_count": 36,
   "metadata": {},
   "outputs": [],
   "source": [
    "alice_ack_packed_msg = await pack_encrypted(\n",
    "    resolvers_config = ResolversConfig(\n",
    "        secrets_resolver = secrets_resolver,\n",
    "        did_resolver = DIDResolverPeerDID()\n",
    "    ),\n",
    "    message = alice_ack,\n",
    "    to = mediator_did,\n",
    "    frm = alice_did_for_mediator,\n",
    "    sign_frm = None,\n",
    "    pack_config = PackEncryptedConfig(protect_sender_id=False)\n",
    ")\n",
    "headers = {\"Content-Type\": \"application/didcomm-encrypted+json\"}\n",
    "resp5 = requests.post(mediator_endpoint, headers=headers, data = alice_ack_packed_msg.packed_msg)"
   ]
  },
  {
   "cell_type": "code",
   "execution_count": 37,
   "metadata": {},
   "outputs": [
    {
     "name": "stdout",
     "output_type": "stream",
     "text": [
      "https://didcomm.org/messagepickup/3.0/status\n",
      "{'message_count': 0, 'live_delivery': False}\n"
     ]
    }
   ],
   "source": [
    "mediator_ack_status = await unpack(\n",
    "    resolvers_config=ResolversConfig(\n",
    "        secrets_resolver=secrets_resolver,\n",
    "        did_resolver=DIDResolverPeerDID()\n",
    "    ),\n",
    "    packed_msg= resp5.json()\n",
    ")\n",
    "print(mediator_ack_status.message.type)\n",
    "print(mediator_ack_status.message.body)"
   ]
  },
  {
   "cell_type": "markdown",
   "metadata": {},
   "source": [
    "## Send basic message to Nessus"
   ]
  },
  {
   "cell_type": "code",
   "execution_count": 38,
   "metadata": {},
   "outputs": [
    {
     "data": {
      "text/plain": [
       "'{}'"
      ]
     },
     "execution_count": 38,
     "metadata": {},
     "output_type": "execute_result"
    }
   ],
   "source": [
    "\n",
    "tony_basic_message = Message(\n",
    "    id = str(uuid.uuid4()),\n",
    "    type=\"https://didcomm.org/basicmessage/2.0/message\",\n",
    "    body={\"content\": f'Hey Nessus, this is RootsID {str(uuid.uuid4())[:5]}'},\n",
    "    created_time= int(datetime.datetime.now().timestamp()),\n",
    "    to = [nessus_invitation['from']],\n",
    "        frm = alice_did_new,\n",
    ")\n",
    "\n",
    "tony_basic_message_packed = await pack_encrypted(\n",
    "    resolvers_config = ResolversConfig(\n",
    "        secrets_resolver = secrets_resolver,\n",
    "        did_resolver = DIDResolverPeerDID()\n",
    "    ),\n",
    "    message = tony_basic_message,\n",
    "    frm = alice_did_new,\n",
    "    to = nessus_invitation['from'],\n",
    "    sign_frm = None,\n",
    "    pack_config = PackEncryptedConfig(protect_sender_id=False)\n",
    ")\n",
    "\n",
    "trust_ping_did_doc = json.loads(peer_did.resolve_peer_did(nessus_invitation[\"from\"]))\n",
    "trust_ping_endpoint = trust_ping_did_doc[\"service\"][0][\"serviceEndpoint\"]\n",
    "headers = {\"Content-Type\": \"application/didcomm-encrypted+json\"}\n",
    "resp = requests.post(trust_ping_endpoint, headers=headers, json = json.loads(tony_basic_message_packed.packed_msg))\n",
    "resp.text"
   ]
  },
  {
   "cell_type": "code",
   "execution_count": null,
   "metadata": {},
   "outputs": [],
   "source": []
  },
  {
   "cell_type": "code",
   "execution_count": null,
   "metadata": {},
   "outputs": [],
   "source": []
  },
  {
   "cell_type": "code",
   "execution_count": null,
   "metadata": {},
   "outputs": [],
   "source": []
  }
 ],
 "metadata": {
  "kernelspec": {
   "display_name": "Python 3 (ipykernel)",
   "language": "python",
   "name": "python3"
  },
  "language_info": {
   "codemirror_mode": {
    "name": "ipython",
    "version": 3
   },
   "file_extension": ".py",
   "mimetype": "text/x-python",
   "name": "python",
   "nbconvert_exporter": "python",
   "pygments_lexer": "ipython3",
   "version": "3.10.10"
  }
 },
 "nbformat": 4,
 "nbformat_minor": 2
}
