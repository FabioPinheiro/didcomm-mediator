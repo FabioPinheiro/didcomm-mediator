{
 "cells": [
  {
   "cell_type": "code",
   "execution_count": 1,
   "metadata": {},
   "outputs": [],
   "source": [
    "import json\n",
    "import base64\n",
    "import qrcode\n",
    "import requests\n",
    "import datetime\n",
    "import uuid\n",
    "import matplotlib.pyplot as plt\n",
    "from pymongo import MongoClient\n",
    "from typing import Optional, List\n",
    "from didcomm.common.types import DID, VerificationMethodType, VerificationMaterial, VerificationMaterialFormat\n",
    "from didcomm.did_doc.did_doc import DIDDoc, VerificationMethod, DIDCommService\n",
    "from didcomm.did_doc.did_resolver import DIDResolver\n",
    "from didcomm.message import Message, FromPrior\n",
    "from didcomm.secrets.secrets_resolver_demo import SecretsResolverDemo\n",
    "from didcomm.unpack import unpack, UnpackResult\n",
    "from didcomm.common.resolvers import ResolversConfig\n",
    "from didcomm.message import Attachment, AttachmentDataJson, AttachmentDataLinks\n",
    "from didcomm.pack_encrypted import pack_encrypted, PackEncryptedConfig, PackEncryptedResult\n",
    "from peerdid.core.did_doc_types import DIDCommServicePeerDID\n",
    "from didcomm.secrets.secrets_util import generate_x25519_keys_as_jwk_dict, generate_ed25519_keys_as_jwk_dict, jwk_to_secret\n",
    "from peerdid import peer_did\n",
    "from peerdid.did_doc import DIDDocPeerDID\n",
    "\n",
    "from peerdid.types import VerificationMaterialAuthentication, VerificationMethodTypeAuthentication, VerificationMaterialAgreement, VerificationMethodTypeAgreement, VerificationMaterialFormatPeerDID"
   ]
  },
  {
   "cell_type": "code",
   "execution_count": 2,
   "metadata": {},
   "outputs": [],
   "source": [
    "secrets_resolver = SecretsResolverDemo()"
   ]
  },
  {
   "cell_type": "code",
   "execution_count": 3,
   "metadata": {},
   "outputs": [],
   "source": [
    "class DIDResolverPeerDID(DIDResolver):\n",
    "    async def resolve(self, did: DID) -> DIDDoc:\n",
    "        did_doc_json = peer_did.resolve_peer_did(did, format = VerificationMaterialFormatPeerDID.JWK)\n",
    "        did_doc = DIDDocPeerDID.from_json(did_doc_json)\n",
    "\n",
    "        return DIDDoc(\n",
    "            did=did_doc.did,\n",
    "            key_agreement_kids = did_doc.agreement_kids,\n",
    "            authentication_kids = did_doc.auth_kids,\n",
    "            verification_methods = [\n",
    "                VerificationMethod(\n",
    "                    id = m.id,\n",
    "                    type = VerificationMethodType.JSON_WEB_KEY_2020,\n",
    "                    controller = m.controller,\n",
    "                    verification_material = VerificationMaterial(\n",
    "                        format = VerificationMaterialFormat.JWK,\n",
    "                        value = json.dumps(m.ver_material.value)\n",
    "                    )\n",
    "                )\n",
    "                for m in did_doc.authentication + did_doc.key_agreement\n",
    "            ],\n",
    "             didcomm_services = []\n",
    "#                 DIDCommService(\n",
    "#                     id = s.id,\n",
    "#                     service_endpoint = s.service_endpoint,\n",
    "#                     routing_keys = s.routing_keys,\n",
    "#                     accept = s.accept\n",
    "#                 )\n",
    "#                 for s in did_doc.service\n",
    "#                 if isinstance(s, DIDCommServicePeerDID)\n",
    "#            ] if did_doc.service else []\n",
    "        )"
   ]
  },
  {
   "cell_type": "code",
   "execution_count": 4,
   "metadata": {},
   "outputs": [],
   "source": [
    "async def create_peer_did(self,\n",
    "                        auth_keys_count: int = 1,\n",
    "                        agreement_keys_count: int = 1,\n",
    "                        service_endpoint: Optional[str] = None,\n",
    "                        service_routing_keys: Optional[List[str]] = None\n",
    "                        ) -> str:\n",
    "        # 1. generate keys in JWK format\n",
    "        agreem_keys = [generate_x25519_keys_as_jwk_dict() for _ in range(agreement_keys_count)]\n",
    "        auth_keys = [generate_ed25519_keys_as_jwk_dict() for _ in range(auth_keys_count)]\n",
    "\n",
    "        # 2. prepare the keys for peer DID lib\n",
    "        agreem_keys_peer_did = [\n",
    "            VerificationMaterialAgreement(\n",
    "                type=VerificationMethodTypeAgreement.JSON_WEB_KEY_2020,\n",
    "                format=VerificationMaterialFormatPeerDID.JWK,\n",
    "                value=k[1],\n",
    "            )\n",
    "            for k in agreem_keys\n",
    "        ]\n",
    "        auth_keys_peer_did = [\n",
    "            VerificationMaterialAuthentication(\n",
    "                type=VerificationMethodTypeAuthentication.JSON_WEB_KEY_2020,\n",
    "                format=VerificationMaterialFormatPeerDID.JWK,\n",
    "                value=k[1],\n",
    "            )\n",
    "            for k in auth_keys\n",
    "        ]\n",
    "\n",
    "        # 3. generate service\n",
    "        service = None\n",
    "        if service_endpoint:\n",
    "            service = json.dumps(\n",
    "                DIDCommServicePeerDID(\n",
    "                    id=\"#didcommmessaging-0\",\n",
    "                    service_endpoint=service_endpoint, routing_keys=service_routing_keys,\n",
    "                    accept=[\"didcomm/v2\"]\n",
    "                ).to_dict()\n",
    "            )\n",
    "\n",
    "        # 4. call peer DID lib\n",
    "        # if we have just one key (auth), then use numalg0 algorithm\n",
    "        # otherwise use numalg2 algorithm\n",
    "        if len(auth_keys_peer_did) == 1 and not agreem_keys_peer_did and not service:\n",
    "            did = peer_did.create_peer_did_numalgo_0(auth_keys_peer_did[0])\n",
    "        else:\n",
    "            did = peer_did.create_peer_did_numalgo_2(\n",
    "                encryption_keys=agreem_keys_peer_did,\n",
    "                signing_keys=auth_keys_peer_did,\n",
    "                service=service,\n",
    "            )\n",
    "\n",
    "        # 5. set KIDs as in DID DOC for secrets and store the secret in the secrets resolver\n",
    "        did_doc = DIDDocPeerDID.from_json(peer_did.resolve_peer_did(did))\n",
    "        for auth_key, kid in zip(auth_keys, did_doc.auth_kids):\n",
    "            private_key = auth_key[0]\n",
    "            private_key[\"kid\"] = kid\n",
    "            await secrets_resolver.add_key(jwk_to_secret(private_key))\n",
    "\n",
    "        for agreem_key, kid in zip(agreem_keys, did_doc.agreement_kids):\n",
    "            private_key = agreem_key[0]\n",
    "            private_key[\"kid\"] = kid\n",
    "            await secrets_resolver.add_key(jwk_to_secret(private_key))\n",
    "\n",
    "        return did\n"
   ]
  },
  {
   "cell_type": "markdown",
   "metadata": {},
   "source": [
    "### Alice get OOB from Mediator"
   ]
  },
  {
   "cell_type": "code",
   "execution_count": 5,
   "metadata": {},
   "outputs": [],
   "source": [
    "#oob_url = requests.get(\"http://127.0.0.1:8000/oob_url\").text\n",
    "oob_url = requests.get(\"https://mediator.rootsid.cloud/oob_url\").text"
   ]
  },
  {
   "cell_type": "code",
   "execution_count": 6,
   "metadata": {},
   "outputs": [
    {
     "name": "stdout",
     "output_type": "stream",
     "text": [
      "https://mediator.rootsid.cloud?_oob=eyJ0eXBlIjoiaHR0cHM6Ly9kaWRjb21tLm9yZy9vdXQtb2YtYmFuZC8yLjAvaW52aXRhdGlvbiIsImlkIjoiOWQ5ZjdhMzYtYmYzYS00YWViLWE5MTItMDExZjM3MTc4NzM3IiwiZnJvbSI6ImRpZDpwZWVyOjIuRXo2TFNtczU1NVloRnRobjFXVjhjaURCcFptODZoSzl0cDgzV29qSlVteFBHazFoWi5WejZNa21kQmpNeUI0VFM1VWJiUXc1NHN6bTh5dk1NZjFmdEdWMnNRVllBeGFlV2hFLlNleUpwWkNJNkltNWxkeTFwWkNJc0luUWlPaUprYlNJc0luTWlPaUpvZEhSd2N6b3ZMMjFsWkdsaGRHOXlMbkp2YjNSemFXUXVZMnh2ZFdRaUxDSmhJanBiSW1ScFpHTnZiVzB2ZGpJaVhYMCIsImJvZHkiOnsiZ29hbF9jb2RlIjoicmVxdWVzdC1tZWRpYXRlIiwiZ29hbCI6IlJlcXVlc3RNZWRpYXRlIiwibGFiZWwiOiJNZWRpYXRvciIsImFjY2VwdCI6WyJkaWRjb21tL3YyIl19fQ\n"
     ]
    }
   ],
   "source": [
    "print(oob_url)"
   ]
  },
  {
   "cell_type": "code",
   "execution_count": 7,
   "metadata": {},
   "outputs": [
    {
     "name": "stdout",
     "output_type": "stream",
     "text": [
      "Alice's DID: did:peer:2.Ez6LSfXe1wsGKQT6Cpo2Z7B5UiKavQgAjvKqLP4JxJetN3Vbs.Vz6MkqgGhqHARo7cu2QvorLKUJzoqCjjo4SnFfX4wtssS13Rd\n"
     ]
    }
   ],
   "source": [
    "received_msg_encoded = oob_url.split(\"=\")[1]\n",
    "received_msg_decoded = json.loads(str(base64.urlsafe_b64decode(received_msg_encoded + \"==\"), \"utf-8\"))\n",
    "alice_did_for_mediator = await create_peer_did(1,1)\n",
    "print(\"Alice's DID:\", alice_did_for_mediator)"
   ]
  },
  {
   "cell_type": "markdown",
   "metadata": {},
   "source": [
    "### Alice request mediate"
   ]
  },
  {
   "cell_type": "code",
   "execution_count": 8,
   "metadata": {},
   "outputs": [],
   "source": [
    "alice_mediate_grant = Message(\n",
    "    custom_headers = [{\"return_route\": \"all\"}],\n",
    "    id = str(uuid.uuid4()),\n",
    "    type = \"https://didcomm.org/coordinate-mediation/2.0/mediate-request\",\n",
    "    body = {}\n",
    ")"
   ]
  },
  {
   "cell_type": "code",
   "execution_count": 9,
   "metadata": {},
   "outputs": [],
   "source": [
    "alice_mediate_grant_packed = await pack_encrypted(\n",
    "    resolvers_config = ResolversConfig(\n",
    "        secrets_resolver = secrets_resolver,\n",
    "        did_resolver = DIDResolverPeerDID()\n",
    "    ),\n",
    "    message = alice_mediate_grant,\n",
    "    frm = alice_did_for_mediator,\n",
    "    to = received_msg_decoded[\"from\"],\n",
    "    sign_frm = None,\n",
    "    pack_config = PackEncryptedConfig(protect_sender_id=False)\n",
    ")"
   ]
  },
  {
   "cell_type": "markdown",
   "metadata": {},
   "source": [
    "### Sending to Mediator"
   ]
  },
  {
   "cell_type": "code",
   "execution_count": 10,
   "metadata": {},
   "outputs": [
    {
     "name": "stdout",
     "output_type": "stream",
     "text": [
      "https://mediator.rootsid.cloud\n"
     ]
    }
   ],
   "source": [
    "mediator_did_doc = json.loads(peer_did.resolve_peer_did(received_msg_decoded[\"from\"]))\n",
    "mediator_endpoint = mediator_did_doc[\"service\"][0][\"serviceEndpoint\"]\n",
    "print(mediator_endpoint)"
   ]
  },
  {
   "cell_type": "code",
   "execution_count": 11,
   "metadata": {},
   "outputs": [],
   "source": [
    "headers = {\"Content-Type\": \"application/didcomm-encrypted+json\"}\n",
    "resp = requests.post(mediator_endpoint, headers=headers, json = json.loads(alice_mediate_grant_packed.packed_msg))\n"
   ]
  },
  {
   "cell_type": "code",
   "execution_count": 12,
   "metadata": {},
   "outputs": [
    {
     "name": "stdout",
     "output_type": "stream",
     "text": [
      "{'protected': 'eyJ0eXAiOiJhcHBsaWNhdGlvbi9kaWRjb21tLWVuY3J5cHRlZCtqc29uIiwiYWxnIjoiRUNESC0xUFUrQTI1NktXIiwiZW5jIjoiQTI1NkNCQy1IUzUxMiIsImFwdSI6IlpHbGtPbkJsWlhJNk1pNUZlalpNVTJoV05ERTFRWFpSV1cxMWRVVlpjM05IYTI5WloxVkdWWEJMWldOV01tMDBTalJsYjBRelZYSjZRWEJGTGxaNk5rMXJkR2RpWWpKbGExbHRORXhPUVZoa1NsWjRUa0ZIUVhwd2VYaDRXRXBFTXpka1ducHFNa1YyYWtWcWVsRXVVMlY1U25CYVEwazJTVzAxYkdSNU1YQmFRMGx6U1c1UmFVOXBTbXRpVTBselNXNU5hVTlwU205a1NGSjNZM3B2ZGt3eU1XeGFSMnhvWkVjNWVVeHVTblppTTFKNllWZFJkVmt5ZUhaa1YxRnBURU5LYUVscWNHSkpiVkp3V2tkT2RtSlhNSFprYWtscFdGZ3dJelpNVTJoV05ERTFRWFpSV1cxMWRVVlpjM05IYTI5WloxVkdWWEJMWldOV01tMDBTalJsYjBRelZYSjZRWEJGIiwiYXB2IjoicDlzTWpkMjlJcFV5bHdqNnZFdWljeXlOaEhsbzNTcURoNmFZVzhkSkZsRSIsInNraWQiOiJkaWQ6cGVlcjoyLkV6NkxTaFY0MTVBdlFZbXV1RVlzc0drb1lnVUZVcEtlY1YybTRKNGVvRDNVcnpBcEUuVno2TWt0Z2JiMmVrWW00TE5BWGRKVnhOQUdBenB5eHhYSkQzN2RaemoyRXZqRWp6US5TZXlKcFpDSTZJbTVsZHkxcFpDSXNJblFpT2lKa2JTSXNJbk1pT2lKb2RIUndjem92TDIxbFpHbGhkRzl5TG5KdmIzUnphV1F1WTJ4dmRXUWlMQ0poSWpwYkltUnBaR052YlcwdmRqSWlYWDAjNkxTaFY0MTVBdlFZbXV1RVlzc0drb1lnVUZVcEtlY1YybTRKNGVvRDNVcnpBcEUiLCJlcGsiOnsiY3J2IjoiWDI1NTE5IiwieCI6IlZCbVU5RlVXLWFqcktKUllJLW5FcmlpMExMYzdWRkwyOGNZLVBWajA1UzAiLCJrdHkiOiJPS1AifX0', 'recipients': [{'header': {'kid': 'did:peer:2.Ez6LSfXe1wsGKQT6Cpo2Z7B5UiKavQgAjvKqLP4JxJetN3Vbs.Vz6MkqgGhqHARo7cu2QvorLKUJzoqCjjo4SnFfX4wtssS13Rd#6LSfXe1wsGKQT6Cpo2Z7B5UiKavQgAjvKqLP4JxJetN3Vbs'}, 'encrypted_key': 'ZYDB1WVvqMPkB9WZ7C0m8Y_oZyam-_oZZD2WBljQQYlqm5H0WuZAwWP-uwfY2s6eQuBAwswUoXJQ-IqaU7_rtKRW1OUOlERZ'}], 'iv': 'R7fzDVg1WIk5IGxGNAUhUw', 'ciphertext': 'z7OVml3YxhHc8li-TCAPDfMzhkkr1aDns5xgO2ayJu3IZUDGyyeRV6qJdOK0_57u1pOI8mlRrmE0s1rIfkGHQO72IL17QffLNwNrsmJFYY-dYsdWzFwdGpPjdOW1rKaTcz8tp119wSIgMJAWLY4rd2Z1aQgUOdfMd8UOvKSXsG2std46wDR51uc0PJmpYVMYlrP897axMl6nkKM5e0zyFAuvNnVv47PxdOCr361X2zUMAu-N4Yv91I6kHZoiHE5jWnH4OpE9jOKHGwr4g8f-uaeMX7YLIyfdqmkFPkZ-4Zq-xxE2R1O0yzUUD6oQnUvTS6V2Cx25G-BnuRNuR0oWE24u0aLHOwhtfBSqjs1xWW_tnRFw-IdoQ2YnKgdblQR68wKqBErpDobRBOY18Vf-ifaHVWETtiZGeIox0eoNbCIEUhhrmUj7LcFvyaV0wccCkdt9VD9Jdh5JYftgK-sb0HQ3Wzwy-71-2bX1w-1fZJHghiA8tW55ailotWsVozhOnmzwY51pO89Edz6pBo4ZVRu8dJT8sYRpHk_1QuZFx1hEVrAwAtl7CwvkHNYa6TfKJ6-kdUHuK7FhAqiLrv8-ls8hpfqkTQdt6yW5o0Yd2Ik5frp5DKE8AR7fa4xZ8U3O58MPdDJFVy2TnOPaHW6SOoC5kBFJbBTB96hzU-l8RtmyIv7CUZuU3uzVxw-2tAEPE2wdnn99bvuiuefTBuIqRipbosG_4QxXbJM9ygs65hBilVVgs59rBDVPlT8fRVrMhXz_ccVFPZXKrUkKRWKinlbsfHWo6jZF6APxDEWUnAJNcE5sQrBtbxDiZM7XJJ3mgZXT7dYyS7ZaGDzPKPSBsgOIGEZMde2UCpM1ZNlyIaCmI7-fDxCSDsz0kjB8ukyGoaYyG8nVsL4QwOSg_cBpTKPFG5-0S4BHgubWpo88qEyWysONOEdRxj1sJ0KLapxbaYly2HE6t5YBOsuw0vmACcHnnHyDB2M0j81DgSK0XrYdhqz7Zc7QwfgjjZXSFEn5TRNpJOmZmFuYg9dLvwiH9amcKzeAkQ85w0dtG8bCMlM6YeEPfSvJlybtrcb7YSvx6UaiUWf438PzXqeeiiY43pkz_lIHdtH-LglhJiyWQgHEFo7tmcC2pcCj8XkaevCXptLsPVGyUUXEJbFhDlt72KEi4-hj7wveWEY1g7V5oHeR-tOm-_5BXlFMOxViedfEIUYpT1omzdyZTDNPxlrATM_ZGxpU7cVo4EPwwuu29VX9jkT21GIOvRGkNdoO06Drw5wEwpwDookvlz3AumncefLBMVDj_ZvYqu8pnJbzC0Z75Kkp595u4J5pOZXOypZvk19nzYX4Yj1hkodXuLPBRoRWU1Hxnwz1uNspJ9YS1FntjgrxT17yq-SG1kgSfnvLvafcI_Z4cyVjpptmMY-4mRsUv4nO-l_ltm9PyEfBcLfQkp_gjpDQUQu-tWFlG3ATCVfSYzjKpSUsf7PCIZaBoGTL2YawNUxFdYiomL4_2rn3utcdbz6vKsA-G32VHv3-AlHS3LQ1gcGF8-dWli8q7q2ZZ98GO8wzQD042M3aBcjzkgae4OnWUE-NA02VbLusCVplgWlatrMGAL85crlSvl-NAJo0HCr1wRJLBG727nL4NVWKoaGz6gba0XEeXQvDfb13o8nHEKuo-rBc3fAzZehxnDL3KreODuxJG5vaaaaxMm-lOnpQhKeck79zSbaf9kKVlrBNcXjHtyUVEqrlvlS0fl8_qW-dGRHCVe6YPgWGpigzIZfcayPUgCAwMYFncAvO3iiZFdludSC-JLX3wSzEmdsIZfH19TfULVbc-aar2mAfstkPAHi7PB11z0A3VwWtKl607kF7-Jn2YX0kDR-VlvdFsCEju1irDlTAENwFYx3jsEcIqmyhMm--ZFy03eENoCM7NNwDLOP6n26tgkQqtcEsSGSxQfbzXrVVEb24AG0E1toGl10MlN75r_W6wLJ52hS2ArQfeAgl_JZ6mtiIgllWdQtxVsQRrwEcOqM', 'tag': '-vjr-GQwHl01V-VJXvbXO96jD7iRAJ1agdYU_O1udaI'}\n"
     ]
    }
   ],
   "source": [
    "print(resp.json())"
   ]
  },
  {
   "cell_type": "markdown",
   "metadata": {},
   "source": [
    "### Get mediator grant response"
   ]
  },
  {
   "cell_type": "code",
   "execution_count": 13,
   "metadata": {},
   "outputs": [
    {
     "name": "stdout",
     "output_type": "stream",
     "text": [
      "https://didcomm.org/coordinate-mediation/2.0/mediate-grant\n",
      "Routing Key: did:peer:2.Ez6LSdQ2zZwwHcJfLanmKs8hs8qMRJkmacjEHUCVXiv5L6GAL.Vz6Mkir1GB2jhAqFUcMRGBRwtoS3yUeQVbaUZWgutoCaxkoWM.SeyJpZCI6Im5ldy1pZCIsInQiOiJkbSIsInMiOiJodHRwczovL21lZGlhdG9yLnJvb3RzaWQuY2xvdWQiLCJhIjpbImRpZGNvbW0vdjIiXX0\n",
      "Mediator new DID: did:peer:2.Ez6LShV415AvQYmuuEYssGkoYgUFUpKecV2m4J4eoD3UrzApE.Vz6Mktgbb2ekYm4LNAXdJVxNAGAzpyxxXJD37dZzj2EvjEjzQ.SeyJpZCI6Im5ldy1pZCIsInQiOiJkbSIsInMiOiJodHRwczovL21lZGlhdG9yLnJvb3RzaWQuY2xvdWQiLCJhIjpbImRpZGNvbW0vdjIiXX0\n"
     ]
    }
   ],
   "source": [
    "mediator_unpack_msg = await unpack(\n",
    "    resolvers_config=ResolversConfig(\n",
    "        secrets_resolver=secrets_resolver,\n",
    "        did_resolver=DIDResolverPeerDID()\n",
    "    ),\n",
    "    packed_msg= resp.json()\n",
    ")\n",
    "print(mediator_unpack_msg.message.type)\n",
    "print(\"Routing Key: \" + mediator_unpack_msg.message.body[\"routing_did\"])\n",
    "print(\"Mediator new DID: \" + mediator_unpack_msg.message.from_prior.sub)\n",
    "# mediator rotated did\n",
    "mediator_routing_key = mediator_unpack_msg.message.body[\"routing_did\"]\n",
    "mediator_did = mediator_unpack_msg.message.from_prior.sub"
   ]
  },
  {
   "cell_type": "markdown",
   "metadata": {},
   "source": [
    "### Keylist update"
   ]
  },
  {
   "cell_type": "markdown",
   "metadata": {},
   "source": [
    "Alice create a new DID to share with  other peers using mediator routing keys "
   ]
  },
  {
   "cell_type": "code",
   "execution_count": 14,
   "metadata": {},
   "outputs": [
    {
     "name": "stdout",
     "output_type": "stream",
     "text": [
      "Alice's DID for Bob: did:peer:2.Ez6LSsDiGGPm6uLL7Va7yuPvSN4qXsK5XViNJhSszf6r4FKH1.Vz6MkfCiwAk1uvPafu6c7gaxumEvVWHbL1kR8MDXSLKTLBSxP.SeyJpZCI6IiNkaWRjb21tbWVzc2FnaW5nLTAiLCJ0IjoiZG0iLCJzIjoiaHR0cHM6Ly9tZWRpYXRvci5yb290c2lkLmNsb3VkIiwiYSI6WyJkaWRjb21tL3YyIl0sInIiOlsiZGlkOnBlZXI6Mi5FejZMU2RRMnpad3dIY0pmTGFubUtzOGhzOHFNUkprbWFjakVIVUNWWGl2NUw2R0FMLlZ6Nk1raXIxR0IyamhBcUZVY01SR0JSd3RvUzN5VWVRVmJhVVpXZ3V0b0NheGtvV00uU2V5SnBaQ0k2SW01bGR5MXBaQ0lzSW5RaU9pSmtiU0lzSW5NaU9pSm9kSFJ3Y3pvdkwyMWxaR2xoZEc5eUxuSnZiM1J6YVdRdVkyeHZkV1FpTENKaElqcGJJbVJwWkdOdmJXMHZkaklpWFgwIl19\n"
     ]
    }
   ],
   "source": [
    "alice_did_new = await create_peer_did(1, 1, service_endpoint=mediator_endpoint, service_routing_keys=[mediator_routing_key])\n",
    "# alice_did_for_bob = await create_peer_did(1, 1, service_endpoint=mediator_routing_key)\n",
    "\n",
    "print(\"Alice's DID for Bob:\", alice_did_new)"
   ]
  },
  {
   "cell_type": "markdown",
   "metadata": {},
   "source": [
    "Alice create and send the keylist update message"
   ]
  },
  {
   "cell_type": "code",
   "execution_count": 15,
   "metadata": {},
   "outputs": [],
   "source": [
    "alice_keylist_update = Message(\n",
    "    id = \"unique-id-293e9a922efff\",\n",
    "    type = \"https://didcomm.org/coordinate-mediation/2.0/keylist-update\",\n",
    "    body = {\n",
    "        \"updates\":[\n",
    "        {\n",
    "            \"recipient_did\": alice_did_new,\n",
    "            \"action\": \"add\"\n",
    "        }\n",
    "    ]\n",
    "    }\n",
    ")"
   ]
  },
  {
   "cell_type": "code",
   "execution_count": 16,
   "metadata": {},
   "outputs": [],
   "source": [
    "alice_keylist_update_packed_msg = await pack_encrypted(\n",
    "    resolvers_config = ResolversConfig(\n",
    "        secrets_resolver = secrets_resolver,\n",
    "        did_resolver = DIDResolverPeerDID()\n",
    "    ),\n",
    "    message = alice_keylist_update,\n",
    "    frm = alice_did_for_mediator,\n",
    "    to = mediator_did,\n",
    "    sign_frm = None,\n",
    "    pack_config = PackEncryptedConfig(protect_sender_id=False)\n",
    ")"
   ]
  },
  {
   "cell_type": "code",
   "execution_count": 17,
   "metadata": {},
   "outputs": [],
   "source": [
    "headers = {\"Content-Type\": \"application/didcomm-encrypted+json\"}\n",
    "resp = requests.post(mediator_endpoint, headers=headers, data = alice_keylist_update_packed_msg.packed_msg)"
   ]
  },
  {
   "cell_type": "code",
   "execution_count": 18,
   "metadata": {},
   "outputs": [
    {
     "name": "stdout",
     "output_type": "stream",
     "text": [
      "https://didcomm.org/coordinate-mediation/2.0/keylist-update-response\n",
      "{'updated': [{'recipient_did': 'did:peer:2.Ez6LSsDiGGPm6uLL7Va7yuPvSN4qXsK5XViNJhSszf6r4FKH1.Vz6MkfCiwAk1uvPafu6c7gaxumEvVWHbL1kR8MDXSLKTLBSxP.SeyJpZCI6IiNkaWRjb21tbWVzc2FnaW5nLTAiLCJ0IjoiZG0iLCJzIjoiaHR0cHM6Ly9tZWRpYXRvci5yb290c2lkLmNsb3VkIiwiYSI6WyJkaWRjb21tL3YyIl0sInIiOlsiZGlkOnBlZXI6Mi5FejZMU2RRMnpad3dIY0pmTGFubUtzOGhzOHFNUkprbWFjakVIVUNWWGl2NUw2R0FMLlZ6Nk1raXIxR0IyamhBcUZVY01SR0JSd3RvUzN5VWVRVmJhVVpXZ3V0b0NheGtvV00uU2V5SnBaQ0k2SW01bGR5MXBaQ0lzSW5RaU9pSmtiU0lzSW5NaU9pSm9kSFJ3Y3pvdkwyMWxaR2xoZEc5eUxuSnZiM1J6YVdRdVkyeHZkV1FpTENKaElqcGJJbVJwWkdOdmJXMHZkaklpWFgwIl19', 'action': 'add', 'result': 'success'}]}\n"
     ]
    }
   ],
   "source": [
    "mediator_unpack_msg2 = await unpack(\n",
    "    resolvers_config=ResolversConfig(\n",
    "        secrets_resolver=secrets_resolver,\n",
    "        did_resolver=DIDResolverPeerDID()\n",
    "    ),\n",
    "    packed_msg= resp.json()\n",
    ")\n",
    "print(mediator_unpack_msg2.message.type)\n",
    "print(mediator_unpack_msg2.message.body)\n"
   ]
  },
  {
   "cell_type": "markdown",
   "metadata": {},
   "source": [
    "### Alice can now send her DID message to Nessus"
   ]
  },
  {
   "cell_type": "code",
   "execution_count": null,
   "metadata": {},
   "outputs": [],
   "source": []
  },
  {
   "cell_type": "code",
   "execution_count": 19,
   "metadata": {},
   "outputs": [
    {
     "data": {
      "text/plain": [
       "{'id': 'did:peer:2.Ez6LShroqrxP6vrwcyhyG7iDfZ9YpdNZzCVFEaaS8n9fkQQGL.Vz6MkkL7EaycmQTpdiodvEfQipKmjy2JCmHyYo4JEJWwXvCmE.SeyJ0IjoiZG0iLCJzIjoiaHR0cDovL25lc3N1cy10ZWNoLmlvOjkxMDAifQ',\n",
       " 'authentication': [{'id': 'did:peer:2.Ez6LShroqrxP6vrwcyhyG7iDfZ9YpdNZzCVFEaaS8n9fkQQGL.Vz6MkkL7EaycmQTpdiodvEfQipKmjy2JCmHyYo4JEJWwXvCmE.SeyJ0IjoiZG0iLCJzIjoiaHR0cDovL25lc3N1cy10ZWNoLmlvOjkxMDAifQ#6MkkL7EaycmQTpdiodvEfQipKmjy2JCmHyYo4JEJWwXvCmE',\n",
       "   'type': 'Ed25519VerificationKey2020',\n",
       "   'controller': 'did:peer:2.Ez6LShroqrxP6vrwcyhyG7iDfZ9YpdNZzCVFEaaS8n9fkQQGL.Vz6MkkL7EaycmQTpdiodvEfQipKmjy2JCmHyYo4JEJWwXvCmE.SeyJ0IjoiZG0iLCJzIjoiaHR0cDovL25lc3N1cy10ZWNoLmlvOjkxMDAifQ',\n",
       "   'publicKeyMultibase': 'z6MkkL7EaycmQTpdiodvEfQipKmjy2JCmHyYo4JEJWwXvCmE'}],\n",
       " 'keyAgreement': [{'id': 'did:peer:2.Ez6LShroqrxP6vrwcyhyG7iDfZ9YpdNZzCVFEaaS8n9fkQQGL.Vz6MkkL7EaycmQTpdiodvEfQipKmjy2JCmHyYo4JEJWwXvCmE.SeyJ0IjoiZG0iLCJzIjoiaHR0cDovL25lc3N1cy10ZWNoLmlvOjkxMDAifQ#6LShroqrxP6vrwcyhyG7iDfZ9YpdNZzCVFEaaS8n9fkQQGL',\n",
       "   'type': 'X25519KeyAgreementKey2020',\n",
       "   'controller': 'did:peer:2.Ez6LShroqrxP6vrwcyhyG7iDfZ9YpdNZzCVFEaaS8n9fkQQGL.Vz6MkkL7EaycmQTpdiodvEfQipKmjy2JCmHyYo4JEJWwXvCmE.SeyJ0IjoiZG0iLCJzIjoiaHR0cDovL25lc3N1cy10ZWNoLmlvOjkxMDAifQ',\n",
       "   'publicKeyMultibase': 'z6LShroqrxP6vrwcyhyG7iDfZ9YpdNZzCVFEaaS8n9fkQQGL'}],\n",
       " 'service': [{'id': 'did:peer:2.Ez6LShroqrxP6vrwcyhyG7iDfZ9YpdNZzCVFEaaS8n9fkQQGL.Vz6MkkL7EaycmQTpdiodvEfQipKmjy2JCmHyYo4JEJWwXvCmE.SeyJ0IjoiZG0iLCJzIjoiaHR0cDovL25lc3N1cy10ZWNoLmlvOjkxMDAifQ#didcommmessaging-0',\n",
       "   'type': 'DIDCommMessaging',\n",
       "   'serviceEndpoint': 'http://nessus-tech.io:9100'}]}"
      ]
     },
     "execution_count": 19,
     "metadata": {},
     "output_type": "execute_result"
    }
   ],
   "source": [
    "#get nessus\n",
    "nessus_invitation = json.loads(requests.get('http://nessus-tech.io:9100/invitation?inviter=Government&method=peer').text)\n",
    "nessus_did_doc = json.loads(peer_did.resolve_peer_did(nessus_invitation[\"from\"]))\n",
    "nessus_did_doc"
   ]
  },
  {
   "cell_type": "code",
   "execution_count": 20,
   "metadata": {},
   "outputs": [
    {
     "data": {
      "text/plain": [
       "{'id': 'did:peer:2.Ez6LShroqrxP6vrwcyhyG7iDfZ9YpdNZzCVFEaaS8n9fkQQGL.Vz6MkkL7EaycmQTpdiodvEfQipKmjy2JCmHyYo4JEJWwXvCmE.SeyJ0IjoiZG0iLCJzIjoiaHR0cDovL25lc3N1cy10ZWNoLmlvOjkxMDAifQ',\n",
       " 'authentication': [{'id': 'did:peer:2.Ez6LShroqrxP6vrwcyhyG7iDfZ9YpdNZzCVFEaaS8n9fkQQGL.Vz6MkkL7EaycmQTpdiodvEfQipKmjy2JCmHyYo4JEJWwXvCmE.SeyJ0IjoiZG0iLCJzIjoiaHR0cDovL25lc3N1cy10ZWNoLmlvOjkxMDAifQ#6MkkL7EaycmQTpdiodvEfQipKmjy2JCmHyYo4JEJWwXvCmE',\n",
       "   'type': 'Ed25519VerificationKey2020',\n",
       "   'controller': 'did:peer:2.Ez6LShroqrxP6vrwcyhyG7iDfZ9YpdNZzCVFEaaS8n9fkQQGL.Vz6MkkL7EaycmQTpdiodvEfQipKmjy2JCmHyYo4JEJWwXvCmE.SeyJ0IjoiZG0iLCJzIjoiaHR0cDovL25lc3N1cy10ZWNoLmlvOjkxMDAifQ',\n",
       "   'publicKeyMultibase': 'z6MkkL7EaycmQTpdiodvEfQipKmjy2JCmHyYo4JEJWwXvCmE'}],\n",
       " 'keyAgreement': [{'id': 'did:peer:2.Ez6LShroqrxP6vrwcyhyG7iDfZ9YpdNZzCVFEaaS8n9fkQQGL.Vz6MkkL7EaycmQTpdiodvEfQipKmjy2JCmHyYo4JEJWwXvCmE.SeyJ0IjoiZG0iLCJzIjoiaHR0cDovL25lc3N1cy10ZWNoLmlvOjkxMDAifQ#6LShroqrxP6vrwcyhyG7iDfZ9YpdNZzCVFEaaS8n9fkQQGL',\n",
       "   'type': 'X25519KeyAgreementKey2020',\n",
       "   'controller': 'did:peer:2.Ez6LShroqrxP6vrwcyhyG7iDfZ9YpdNZzCVFEaaS8n9fkQQGL.Vz6MkkL7EaycmQTpdiodvEfQipKmjy2JCmHyYo4JEJWwXvCmE.SeyJ0IjoiZG0iLCJzIjoiaHR0cDovL25lc3N1cy10ZWNoLmlvOjkxMDAifQ',\n",
       "   'publicKeyMultibase': 'z6LShroqrxP6vrwcyhyG7iDfZ9YpdNZzCVFEaaS8n9fkQQGL'}],\n",
       " 'service': [{'id': 'did:peer:2.Ez6LShroqrxP6vrwcyhyG7iDfZ9YpdNZzCVFEaaS8n9fkQQGL.Vz6MkkL7EaycmQTpdiodvEfQipKmjy2JCmHyYo4JEJWwXvCmE.SeyJ0IjoiZG0iLCJzIjoiaHR0cDovL25lc3N1cy10ZWNoLmlvOjkxMDAifQ#didcommmessaging-0',\n",
       "   'type': 'DIDCommMessaging',\n",
       "   'serviceEndpoint': 'http://nessus-tech.io:9100'}]}"
      ]
     },
     "execution_count": 20,
     "metadata": {},
     "output_type": "execute_result"
    }
   ],
   "source": [
    "nessus_did_doc"
   ]
  },
  {
   "cell_type": "code",
   "execution_count": 21,
   "metadata": {},
   "outputs": [
    {
     "data": {
      "text/plain": [
       "'{}'"
      ]
     },
     "execution_count": 21,
     "metadata": {},
     "output_type": "execute_result"
    }
   ],
   "source": [
    "ping_msg = Message(\n",
    "    body = { \"response_requested\": True , 'suggested_label': \"THEROOTS\" },\n",
    "    id = str(uuid.uuid4()),\n",
    "    type = \"https://didcomm.org/trust-ping/2.0/ping\",\n",
    "    frm = alice_did_new,\n",
    "    to = [nessus_invitation[\"from\"]],\n",
    ")\n",
    "\n",
    "tony_trust_ping_packed = await pack_encrypted(\n",
    "    resolvers_config = ResolversConfig(\n",
    "        secrets_resolver = secrets_resolver,\n",
    "        did_resolver = DIDResolverPeerDID()\n",
    "    ),\n",
    "    message = ping_msg,\n",
    "    frm = alice_did_new,\n",
    "    to = nessus_invitation['from'],\n",
    "    sign_frm = None,\n",
    "    pack_config = PackEncryptedConfig(protect_sender_id=False)\n",
    ")\n",
    "trust_ping_did_doc = json.loads(peer_did.resolve_peer_did(nessus_invitation[\"from\"]))\n",
    "trust_ping_endpoint = trust_ping_did_doc[\"service\"][0][\"serviceEndpoint\"]\n",
    "headers = {\"Content-Type\": \"application/didcomm-encrypted+json\"}\n",
    "resp = requests.post(trust_ping_endpoint, headers=headers, json = json.loads(tony_trust_ping_packed.packed_msg))\n",
    "resp.text"
   ]
  },
  {
   "cell_type": "markdown",
   "metadata": {},
   "source": [
    "### Alice check status of queued messages from the Mediator"
   ]
  },
  {
   "cell_type": "code",
   "execution_count": 22,
   "metadata": {},
   "outputs": [],
   "source": [
    "alice_status_check = Message(\n",
    "    id = \"unique-id-293e9a922efffxxx\",\n",
    "    type = \"https://didcomm.org/messagepickup/3.0/status-request\",\n",
    "    body = {}\n",
    ")"
   ]
  },
  {
   "cell_type": "code",
   "execution_count": 23,
   "metadata": {},
   "outputs": [],
   "source": [
    "alice_status_check_packed_msg = await pack_encrypted(\n",
    "    resolvers_config = ResolversConfig(\n",
    "        secrets_resolver = secrets_resolver,\n",
    "        did_resolver = DIDResolverPeerDID()\n",
    "    ),\n",
    "    message = alice_status_check,\n",
    "    to = mediator_did,\n",
    "    frm = alice_did_for_mediator,\n",
    "    sign_frm = None,\n",
    "    pack_config = PackEncryptedConfig(protect_sender_id=False)\n",
    ")\n",
    "headers = {\"Content-Type\": \"application/didcomm-encrypted+json\"}\n",
    "resp3 = requests.post(mediator_endpoint, headers=headers, data = alice_status_check_packed_msg.packed_msg)"
   ]
  },
  {
   "cell_type": "code",
   "execution_count": 24,
   "metadata": {},
   "outputs": [
    {
     "name": "stdout",
     "output_type": "stream",
     "text": [
      "https://didcomm.org/messagepickup/3.0/status\n",
      "Messages in Mediator queue: 0\n"
     ]
    }
   ],
   "source": [
    "mediator_unpack_status = await unpack(\n",
    "    resolvers_config=ResolversConfig(\n",
    "        secrets_resolver=secrets_resolver,\n",
    "        did_resolver=DIDResolverPeerDID()\n",
    "    ),\n",
    "    packed_msg= resp3.json()\n",
    ")\n",
    "print(mediator_unpack_status.message.type)\n",
    "print(\"Messages in Mediator queue: \" + str(mediator_unpack_status.message.body[\"message_count\"]))"
   ]
  },
  {
   "cell_type": "markdown",
   "metadata": {},
   "source": [
    "### If there are messages, Alice can pickup from the mediator (delivery request)"
   ]
  },
  {
   "cell_type": "code",
   "execution_count": 25,
   "metadata": {},
   "outputs": [
    {
     "name": "stdout",
     "output_type": "stream",
     "text": [
      "Messages in Mediator queue: 1\n",
      "message 642f255cfb5566e28c19e1e4 deleted\n",
      "UnpackResult(message=Message(id='7f32c133-7058-470c-a8fd-8a99cf5b8eb8', type='https://didcomm.org/trust-ping/2.0/ping-response', body={'comment': 'Pong from Government', 'suggested_label': 'Government'}, frm='did:peer:2.Ez6LShroqrxP6vrwcyhyG7iDfZ9YpdNZzCVFEaaS8n9fkQQGL.Vz6MkkL7EaycmQTpdiodvEfQipKmjy2JCmHyYo4JEJWwXvCmE.SeyJ0IjoiZG0iLCJzIjoiaHR0cDovL25lc3N1cy10ZWNoLmlvOjkxMDAifQ', to=['did:peer:2.Ez6LSsDiGGPm6uLL7Va7yuPvSN4qXsK5XViNJhSszf6r4FKH1.Vz6MkfCiwAk1uvPafu6c7gaxumEvVWHbL1kR8MDXSLKTLBSxP.SeyJpZCI6IiNkaWRjb21tbWVzc2FnaW5nLTAiLCJ0IjoiZG0iLCJzIjoiaHR0cHM6Ly9tZWRpYXRvci5yb290c2lkLmNsb3VkIiwiYSI6WyJkaWRjb21tL3YyIl0sInIiOlsiZGlkOnBlZXI6Mi5FejZMU2RRMnpad3dIY0pmTGFubUtzOGhzOHFNUkprbWFjakVIVUNWWGl2NUw2R0FMLlZ6Nk1raXIxR0IyamhBcUZVY01SR0JSd3RvUzN5VWVRVmJhVVpXZ3V0b0NheGtvV00uU2V5SnBaQ0k2SW01bGR5MXBaQ0lzSW5RaU9pSmtiU0lzSW5NaU9pSm9kSFJ3Y3pvdkwyMWxaR2xoZEc5eUxuSnZiM1J6YVdRdVkyeHZkV1FpTENKaElqcGJJbVJwWkdOdmJXMHZkaklpWFgwIl19'], created_time=1680811356, expires_time=1680897756, from_prior=None, please_ack=None, ack=None, thid='7de11f2b-7e50-44ce-981b-4a2528e1a0dd', pthid=None, attachments=None, custom_headers=None), metadata=Metadata(encrypted=True, authenticated=True, non_repudiation=True, anonymous_sender=False, re_wrapped_in_forward=False, encrypted_from='did:peer:2.Ez6LShroqrxP6vrwcyhyG7iDfZ9YpdNZzCVFEaaS8n9fkQQGL.Vz6MkkL7EaycmQTpdiodvEfQipKmjy2JCmHyYo4JEJWwXvCmE.SeyJ0IjoiZG0iLCJzIjoiaHR0cDovL25lc3N1cy10ZWNoLmlvOjkxMDAifQ#6LShroqrxP6vrwcyhyG7iDfZ9YpdNZzCVFEaaS8n9fkQQGL', encrypted_to=['did:peer:2.Ez6LSsDiGGPm6uLL7Va7yuPvSN4qXsK5XViNJhSszf6r4FKH1.Vz6MkfCiwAk1uvPafu6c7gaxumEvVWHbL1kR8MDXSLKTLBSxP.SeyJpZCI6IiNkaWRjb21tbWVzc2FnaW5nLTAiLCJ0IjoiZG0iLCJzIjoiaHR0cHM6Ly9tZWRpYXRvci5yb290c2lkLmNsb3VkIiwiYSI6WyJkaWRjb21tL3YyIl0sInIiOlsiZGlkOnBlZXI6Mi5FejZMU2RRMnpad3dIY0pmTGFubUtzOGhzOHFNUkprbWFjakVIVUNWWGl2NUw2R0FMLlZ6Nk1raXIxR0IyamhBcUZVY01SR0JSd3RvUzN5VWVRVmJhVVpXZ3V0b0NheGtvV00uU2V5SnBaQ0k2SW01bGR5MXBaQ0lzSW5RaU9pSmtiU0lzSW5NaU9pSm9kSFJ3Y3pvdkwyMWxaR2xoZEc5eUxuSnZiM1J6YVdRdVkyeHZkV1FpTENKaElqcGJJbVJwWkdOdmJXMHZkaklpWFgwIl19#6LSsDiGGPm6uLL7Va7yuPvSN4qXsK5XViNJhSszf6r4FKH1'], sign_from='did:peer:2.Ez6LShroqrxP6vrwcyhyG7iDfZ9YpdNZzCVFEaaS8n9fkQQGL.Vz6MkkL7EaycmQTpdiodvEfQipKmjy2JCmHyYo4JEJWwXvCmE.SeyJ0IjoiZG0iLCJzIjoiaHR0cDovL25lc3N1cy10ZWNoLmlvOjkxMDAifQ#6MkkL7EaycmQTpdiodvEfQipKmjy2JCmHyYo4JEJWwXvCmE', from_prior_issuer_kid=None, enc_alg_auth=<AuthCryptAlg.A256CBC_HS512_ECDH_1PU_A256KW: Algs(alg='ECDH-1PU+A256KW', enc='A256CBC-HS512')>, enc_alg_anon=None, sign_alg=<SignAlg.ED25519: 'EdDSA'>, signed_message='{\"payload\":\"eyJpZCI6IjdmMzJjMTMzLTcwNTgtNDcwYy1hOGZkLThhOTljZjViOGViOCIsInR5cCI6ImFwcGxpY2F0aW9uL2RpZGNvbW0tcGxhaW4ranNvbiIsInR5cGUiOiJodHRwczovL2RpZGNvbW0ub3JnL3RydXN0LXBpbmcvMi4wL3BpbmctcmVzcG9uc2UiLCJmcm9tIjoiZGlkOnBlZXI6Mi5FejZMU2hyb3FyeFA2dnJ3Y3loeUc3aURmWjlZcGROWnpDVkZFYWFTOG45ZmtRUUdMLlZ6Nk1ra0w3RWF5Y21RVHBkaW9kdkVmUWlwS21qeTJKQ21IeVlvNEpFSld3WHZDbUUuU2V5SjBJam9pWkcwaUxDSnpJam9pYUhSMGNEb3ZMMjVsYzNOMWN5MTBaV05vTG1sdk9qa3hNREFpZlEiLCJ0byI6WyJkaWQ6cGVlcjoyLkV6NkxTc0RpR0dQbTZ1TEw3VmE3eXVQdlNONHFYc0s1WFZpTkpoU3N6ZjZyNEZLSDEuVno2TWtmQ2l3QWsxdXZQYWZ1NmM3Z2F4dW1FdlZXSGJMMWtSOE1EWFNMS1RMQlN4UC5TZXlKcFpDSTZJaU5rYVdSamIyMXRiV1Z6YzJGbmFXNW5MVEFpTENKMElqb2laRzBpTENKeklqb2lhSFIwY0hNNkx5OXRaV1JwWVhSdmNpNXliMjkwYzJsa0xtTnNiM1ZrSWl3aVlTSTZXeUprYVdSamIyMXRMM1l5SWwwc0luSWlPbHNpWkdsa09uQmxaWEk2TWk1RmVqWk1VMlJSTW5wYWQzZElZMHBtVEdGdWJVdHpPR2h6T0hGTlVrcHJiV0ZqYWtWSVZVTldXR2wyTlV3MlIwRk1MbFo2TmsxcmFYSXhSMEl5YW1oQmNVWlZZMDFTUjBKU2QzUnZVek41VldWUlZtSmhWVnBYWjNWMGIwTmhlR3R2VjAwdVUyVjVTbkJhUTBrMlNXMDFiR1I1TVhCYVEwbHpTVzVSYVU5cFNtdGlVMGx6U1c1TmFVOXBTbTlrU0ZKM1kzcHZka3d5TVd4YVIyeG9aRWM1ZVV4dVNuWmlNMUo2WVZkUmRWa3llSFprVjFGcFRFTkthRWxxY0dKSmJWSndXa2RPZG1KWE1IWmtha2xwV0Znd0lsMTkiXSwiY3JlYXRlZF90aW1lIjoxNjgwODExMzU2LCJleHBpcmVzX3RpbWUiOjE2ODA4OTc3NTYsImJvZHkiOnsiY29tbWVudCI6IlBvbmcgZnJvbSBHb3Zlcm5tZW50Iiwic3VnZ2VzdGVkX2xhYmVsIjoiR292ZXJubWVudCJ9LCJ0aGlkIjoiN2RlMTFmMmItN2U1MC00NGNlLTk4MWItNGEyNTI4ZTFhMGRkIn0\",\"signatures\":[{\"protected\":\"eyJ0eXAiOiJhcHBsaWNhdGlvbi9kaWRjb21tLXNpZ25lZCtqc29uIiwiYWxnIjoiRWREU0EifQ\",\"signature\":\"kcbSsvQV0gGv7oP8-9RDQZ6a1Hpqb0S6RiNQhaluFRxcT5-QA_XJRgTh6ahCMskk7Oo-WBdmjnMtd9uVMQujCg\",\"header\":{\"kid\":\"did:peer:2.Ez6LShroqrxP6vrwcyhyG7iDfZ9YpdNZzCVFEaaS8n9fkQQGL.Vz6MkkL7EaycmQTpdiodvEfQipKmjy2JCmHyYo4JEJWwXvCmE.SeyJ0IjoiZG0iLCJzIjoiaHR0cDovL25lc3N1cy10ZWNoLmlvOjkxMDAifQ#6MkkL7EaycmQTpdiodvEfQipKmjy2JCmHyYo4JEJWwXvCmE\"}}]}', from_prior_jwt=None))\n"
     ]
    }
   ],
   "source": [
    "alice_status_check = Message(\n",
    "    id = str(uuid.uuid4()),\n",
    "    type = \"https://didcomm.org/messagepickup/3.0/status-request\",\n",
    "    body = {}\n",
    ")\n",
    "alice_status_check_packed_msg = await pack_encrypted(\n",
    "    resolvers_config = ResolversConfig(\n",
    "        secrets_resolver = secrets_resolver,\n",
    "        did_resolver = DIDResolverPeerDID()\n",
    "    ),\n",
    "    message = alice_status_check,\n",
    "    to = mediator_did,\n",
    "    frm = alice_did_for_mediator,\n",
    "    sign_frm = None,\n",
    "    pack_config = PackEncryptedConfig(protect_sender_id=False)\n",
    ")\n",
    "headers = {\"Content-Type\": \"application/didcomm-encrypted+json\"}\n",
    "resp3 = requests.post(mediator_endpoint, headers=headers, data = alice_status_check_packed_msg.packed_msg)\n",
    "mediator_unpack_status = await unpack(\n",
    "    resolvers_config=ResolversConfig(\n",
    "        secrets_resolver=secrets_resolver,\n",
    "        did_resolver=DIDResolverPeerDID()\n",
    "    ),\n",
    "    packed_msg= resp3.json()\n",
    ")\n",
    "print(\"Messages in Mediator queue: \" + str(mediator_unpack_status.message.body[\"message_count\"]))\n",
    "if mediator_unpack_status.message.body[\"message_count\"]>0:\n",
    "    alice_delivery_request = Message(\n",
    "        id = str(uuid.uuid4()),\n",
    "        type = \"https://didcomm.org/messagepickup/3.0/delivery-request\",\n",
    "        body = {\"limit\": 1}\n",
    "    )\n",
    "    alice_delivery_request_packed_msg = await pack_encrypted(\n",
    "        resolvers_config = ResolversConfig(\n",
    "            secrets_resolver = secrets_resolver,\n",
    "            did_resolver = DIDResolverPeerDID()\n",
    "        ),\n",
    "        message = alice_delivery_request,\n",
    "        to = mediator_did,\n",
    "        frm = alice_did_for_mediator,\n",
    "        sign_frm = None,\n",
    "        pack_config = PackEncryptedConfig(protect_sender_id=False)\n",
    "    )\n",
    "    headers = {\"Content-Type\": \"application/didcomm-encrypted+json\"}\n",
    "    resp4 = requests.post(mediator_endpoint, headers=headers, data = alice_delivery_request_packed_msg.packed_msg)\n",
    "    mediator_delivery = await unpack(\n",
    "        resolvers_config=ResolversConfig(\n",
    "            secrets_resolver=secrets_resolver,\n",
    "            did_resolver=DIDResolverPeerDID()\n",
    "        ),\n",
    "        packed_msg= resp4.json()\n",
    "    )\n",
    "    bob_packed_msg = mediator_delivery.message.attachments[0].data.json\n",
    "    msg_id = mediator_delivery.message.attachments[0].id\n",
    "    bob_msg = await unpack(\n",
    "        resolvers_config=ResolversConfig(\n",
    "            secrets_resolver=secrets_resolver,\n",
    "            did_resolver=DIDResolverPeerDID()\n",
    "        ),\n",
    "        packed_msg= bob_packed_msg\n",
    "    )\n",
    "    \n",
    "    alice_ack = Message(\n",
    "    id = str(uuid.uuid4()),\n",
    "    type = \"https://didcomm.org/messagepickup/3.0/messages-received\",\n",
    "    body = {\"message_id_list\": [msg_id]}\n",
    "    )\n",
    "    alice_ack_packed_msg = await pack_encrypted(\n",
    "        resolvers_config = ResolversConfig(\n",
    "            secrets_resolver = secrets_resolver,\n",
    "            did_resolver = DIDResolverPeerDID()\n",
    "        ),\n",
    "        message = alice_ack,\n",
    "        to = mediator_did,\n",
    "        frm = alice_did_for_mediator,\n",
    "        sign_frm = None,\n",
    "        pack_config = PackEncryptedConfig(protect_sender_id=False)\n",
    "    )\n",
    "    headers = {\"Content-Type\": \"application/didcomm-encrypted+json\"}\n",
    "    resp5 = requests.post(mediator_endpoint, headers=headers, data = alice_ack_packed_msg.packed_msg)\n",
    "    mediator_ack_status = await unpack(\n",
    "        resolvers_config=ResolversConfig(\n",
    "            secrets_resolver=secrets_resolver,\n",
    "            did_resolver=DIDResolverPeerDID()\n",
    "        ),\n",
    "        packed_msg= resp5.json()\n",
    "    )\n",
    "    print(f'message {msg_id} deleted')\n",
    "    print(bob_msg)\n",
    "    \n",
    "    "
   ]
  },
  {
   "cell_type": "markdown",
   "metadata": {},
   "source": [
    "## Send basic message to Nessus"
   ]
  },
  {
   "cell_type": "code",
   "execution_count": 26,
   "metadata": {},
   "outputs": [
    {
     "data": {
      "text/plain": [
       "'{}'"
      ]
     },
     "execution_count": 26,
     "metadata": {},
     "output_type": "execute_result"
    }
   ],
   "source": [
    "\n",
    "tony_basic_message = Message(\n",
    "    id = str(uuid.uuid4()),\n",
    "    thid = str(uuid.uuid4()),\n",
    "    type=\"https://didcomm.org/basicmessage/2.0/message\",\n",
    "    body={\"content\": f'YOYOYO Nessus, this is RootsID {str(uuid.uuid4())[:5]}'},\n",
    "    created_time= int(datetime.datetime.now().timestamp()),\n",
    "    to = [nessus_invitation['from']],\n",
    "        frm = alice_did_new,\n",
    ")\n",
    "\n",
    "tony_basic_message_packed = await pack_encrypted(\n",
    "    resolvers_config = ResolversConfig(\n",
    "        secrets_resolver = secrets_resolver,\n",
    "        did_resolver = DIDResolverPeerDID()\n",
    "    ),\n",
    "    message = tony_basic_message,\n",
    "    frm = alice_did_new,\n",
    "    to = nessus_invitation['from'],\n",
    "    sign_frm = None,\n",
    "    pack_config = PackEncryptedConfig(protect_sender_id=False)\n",
    ")\n",
    "\n",
    "trust_ping_did_doc = json.loads(peer_did.resolve_peer_did(nessus_invitation[\"from\"]))\n",
    "trust_ping_endpoint = trust_ping_did_doc[\"service\"][0][\"serviceEndpoint\"]\n",
    "headers = {\"Content-Type\": \"application/didcomm-encrypted+json\"}\n",
    "resp = requests.post(trust_ping_endpoint, headers=headers, json = json.loads(tony_basic_message_packed.packed_msg))\n",
    "resp.text"
   ]
  },
  {
   "cell_type": "markdown",
   "metadata": {},
   "source": [
    "# Propose Credential "
   ]
  },
  {
   "cell_type": "code",
   "execution_count": 27,
   "metadata": {},
   "outputs": [
    {
     "data": {
      "text/plain": [
       "'{}'"
      ]
     },
     "execution_count": 27,
     "metadata": {},
     "output_type": "execute_result"
    }
   ],
   "source": [
    "\n",
    "tony_basic_message = Message(\n",
    "    id = str(uuid.uuid4()),\n",
    "    thid = str(uuid.uuid4()),\n",
    "    type=\"https://didcomm.org/issue-credential/3.0/propose-credential\",\n",
    "    body={\n",
    "    \"goal_code\": \"Issue Passport Credential\",\n",
    "    \"credential_preview\": [\n",
    "      {\n",
    "        \"name\": \"givenName\",\n",
    "        \"value\": \"Rajesh\"\n",
    "      },\n",
    "      {\n",
    "        \"name\": \"familyName\",\n",
    "        \"value\": \"Hamal\"\n",
    "      },\n",
    "      {\n",
    "        \"name\": \"citizenship\",\n",
    "        \"value\": \"US\"\n",
    "      }\n",
    "    ]\n",
    "  },\n",
    "    created_time= int(datetime.datetime.now().timestamp()),\n",
    "    to = [nessus_invitation['from']],\n",
    "    frm = alice_did_new,\n",
    "    attachments=[Attachment(\n",
    "            data=AttachmentDataJson(json={\n",
    "          \"type\": [\n",
    "            \"VerifiableCredential\",\n",
    "            \"Passport\"\n",
    "          ],\n",
    "          \"@context\": [\n",
    "            \"https://www.w3.org/2018/credentials/v1\"\n",
    "          ],\n",
    "          \"id\": \"urn:uuid:ee9205ac-0f67-4c22-b961-968c4a5db2c0\",\n",
    "          \"issuer\": \"did:key:z6Mkoe1KHk9aEJeTbWtC6AQTpX7FeUMNqSSVubVgY2M1X9st\",\n",
    "          \"issuanceDate\": \"2023-04-06T10:58:22.335067Z\",\n",
    "          \"credentialSchema\": {\n",
    "            \"id\": \"class:nessus/schema/PassportSchema-draft-01.json\",\n",
    "            \"type\": \"JsonSchemaValidator2018\"\n",
    "          },\n",
    "          \"credentialSubject\": {\n",
    "            \"id\": \"did:key:z6Mkrea1ndAivx7y7iXVgSBK98BLYmBm7RPdfEtwRN3MSVfj\",\n",
    "            \"givenName\": \"Rajesh\",\n",
    "            \"familyName\": \"Hamal\",\n",
    "            \"citizenship\": \"US\"\n",
    "          }\n",
    "        }),\n",
    "        media_type=\"application/json\",\n",
    "        format=\"https://www.w3.org/TR/vc-data-model/\"\n",
    "    )])\n",
    "\n",
    "tony_basic_message_packed = await pack_encrypted(\n",
    "    resolvers_config = ResolversConfig(\n",
    "        secrets_resolver = secrets_resolver,\n",
    "        did_resolver = DIDResolverPeerDID()\n",
    "    ),\n",
    "    message = tony_basic_message,\n",
    "    frm = alice_did_new,\n",
    "    to = nessus_invitation['from'],\n",
    "    sign_frm = None,\n",
    "    pack_config = PackEncryptedConfig(protect_sender_id=False)\n",
    ")\n",
    "\n",
    "trust_ping_did_doc = json.loads(peer_did.resolve_peer_did(nessus_invitation[\"from\"]))\n",
    "trust_ping_endpoint = trust_ping_did_doc[\"service\"][0][\"serviceEndpoint\"]\n",
    "headers = {\"Content-Type\": \"application/didcomm-encrypted+json\"}\n",
    "resp = requests.post(trust_ping_endpoint, headers=headers, json = json.loads(tony_basic_message_packed.packed_msg))\n",
    "resp.text"
   ]
  },
  {
   "cell_type": "markdown",
   "metadata": {},
   "source": [
    "# poll messages from mediator"
   ]
  },
  {
   "cell_type": "code",
   "execution_count": 28,
   "metadata": {},
   "outputs": [
    {
     "name": "stdout",
     "output_type": "stream",
     "text": [
      "Messages in Mediator queue: 0\n"
     ]
    }
   ],
   "source": [
    "alice_status_check = Message(\n",
    "    id = str(uuid.uuid4()),\n",
    "    type = \"https://didcomm.org/messagepickup/3.0/status-request\",\n",
    "    body = {}\n",
    ")\n",
    "alice_status_check_packed_msg = await pack_encrypted(\n",
    "    resolvers_config = ResolversConfig(\n",
    "        secrets_resolver = secrets_resolver,\n",
    "        did_resolver = DIDResolverPeerDID()\n",
    "    ),\n",
    "    message = alice_status_check,\n",
    "    to = mediator_did,\n",
    "    frm = alice_did_for_mediator,\n",
    "    sign_frm = None,\n",
    "    pack_config = PackEncryptedConfig(protect_sender_id=False)\n",
    ")\n",
    "headers = {\"Content-Type\": \"application/didcomm-encrypted+json\"}\n",
    "resp3 = requests.post(mediator_endpoint, headers=headers, data = alice_status_check_packed_msg.packed_msg)\n",
    "mediator_unpack_status = await unpack(\n",
    "    resolvers_config=ResolversConfig(\n",
    "        secrets_resolver=secrets_resolver,\n",
    "        did_resolver=DIDResolverPeerDID()\n",
    "    ),\n",
    "    packed_msg= resp3.json()\n",
    ")\n",
    "print(\"Messages in Mediator queue: \" + str(mediator_unpack_status.message.body[\"message_count\"]))\n",
    "if mediator_unpack_status.message.body[\"message_count\"]>0:\n",
    "    alice_delivery_request = Message(\n",
    "        id = str(uuid.uuid4()),\n",
    "        type = \"https://didcomm.org/messagepickup/3.0/delivery-request\",\n",
    "        body = {\"limit\": 1}\n",
    "    )\n",
    "    alice_delivery_request_packed_msg = await pack_encrypted(\n",
    "        resolvers_config = ResolversConfig(\n",
    "            secrets_resolver = secrets_resolver,\n",
    "            did_resolver = DIDResolverPeerDID()\n",
    "        ),\n",
    "        message = alice_delivery_request,\n",
    "        to = mediator_did,\n",
    "        frm = alice_did_for_mediator,\n",
    "        sign_frm = None,\n",
    "        pack_config = PackEncryptedConfig(protect_sender_id=False)\n",
    "    )\n",
    "    headers = {\"Content-Type\": \"application/didcomm-encrypted+json\"}\n",
    "    resp4 = requests.post(mediator_endpoint, headers=headers, data = alice_delivery_request_packed_msg.packed_msg)\n",
    "    mediator_delivery = await unpack(\n",
    "        resolvers_config=ResolversConfig(\n",
    "            secrets_resolver=secrets_resolver,\n",
    "            did_resolver=DIDResolverPeerDID()\n",
    "        ),\n",
    "        packed_msg= resp4.json()\n",
    "    )\n",
    "    bob_packed_msg = mediator_delivery.message.attachments[0].data.json\n",
    "    msg_id = mediator_delivery.message.attachments[0].id\n",
    "    bob_msg = await unpack(\n",
    "        resolvers_config=ResolversConfig(\n",
    "            secrets_resolver=secrets_resolver,\n",
    "            did_resolver=DIDResolverPeerDID()\n",
    "        ),\n",
    "        packed_msg= bob_packed_msg\n",
    "    )\n",
    "    \n",
    "    alice_ack = Message(\n",
    "    id = str(uuid.uuid4()),\n",
    "    type = \"https://didcomm.org/messagepickup/3.0/messages-received\",\n",
    "    body = {\"message_id_list\": [msg_id]}\n",
    "    )\n",
    "    alice_ack_packed_msg = await pack_encrypted(\n",
    "        resolvers_config = ResolversConfig(\n",
    "            secrets_resolver = secrets_resolver,\n",
    "            did_resolver = DIDResolverPeerDID()\n",
    "        ),\n",
    "        message = alice_ack,\n",
    "        to = mediator_did,\n",
    "        frm = alice_did_for_mediator,\n",
    "        sign_frm = None,\n",
    "        pack_config = PackEncryptedConfig(protect_sender_id=False)\n",
    "    )\n",
    "    headers = {\"Content-Type\": \"application/didcomm-encrypted+json\"}\n",
    "    resp5 = requests.post(mediator_endpoint, headers=headers, data = alice_ack_packed_msg.packed_msg)\n",
    "    mediator_ack_status = await unpack(\n",
    "        resolvers_config=ResolversConfig(\n",
    "            secrets_resolver=secrets_resolver,\n",
    "            did_resolver=DIDResolverPeerDID()\n",
    "        ),\n",
    "        packed_msg= resp5.json()\n",
    "    )\n",
    "    print(f'message {msg_id} deleted')\n",
    "    print(bob_msg)\n",
    "    \n",
    "    "
   ]
  },
  {
   "cell_type": "code",
   "execution_count": 29,
   "metadata": {},
   "outputs": [
    {
     "data": {
      "text/plain": [
       "{'id': '7f32c133-7058-470c-a8fd-8a99cf5b8eb8',\n",
       " 'type': 'https://didcomm.org/trust-ping/2.0/ping-response',\n",
       " 'body': {'comment': 'Pong from Government', 'suggested_label': 'Government'},\n",
       " 'to': ['did:peer:2.Ez6LSsDiGGPm6uLL7Va7yuPvSN4qXsK5XViNJhSszf6r4FKH1.Vz6MkfCiwAk1uvPafu6c7gaxumEvVWHbL1kR8MDXSLKTLBSxP.SeyJpZCI6IiNkaWRjb21tbWVzc2FnaW5nLTAiLCJ0IjoiZG0iLCJzIjoiaHR0cHM6Ly9tZWRpYXRvci5yb290c2lkLmNsb3VkIiwiYSI6WyJkaWRjb21tL3YyIl0sInIiOlsiZGlkOnBlZXI6Mi5FejZMU2RRMnpad3dIY0pmTGFubUtzOGhzOHFNUkprbWFjakVIVUNWWGl2NUw2R0FMLlZ6Nk1raXIxR0IyamhBcUZVY01SR0JSd3RvUzN5VWVRVmJhVVpXZ3V0b0NheGtvV00uU2V5SnBaQ0k2SW01bGR5MXBaQ0lzSW5RaU9pSmtiU0lzSW5NaU9pSm9kSFJ3Y3pvdkwyMWxaR2xoZEc5eUxuSnZiM1J6YVdRdVkyeHZkV1FpTENKaElqcGJJbVJwWkdOdmJXMHZkaklpWFgwIl19'],\n",
       " 'created_time': 1680811356,\n",
       " 'expires_time': 1680897756,\n",
       " 'thid': '7de11f2b-7e50-44ce-981b-4a2528e1a0dd',\n",
       " 'from': 'did:peer:2.Ez6LShroqrxP6vrwcyhyG7iDfZ9YpdNZzCVFEaaS8n9fkQQGL.Vz6MkkL7EaycmQTpdiodvEfQipKmjy2JCmHyYo4JEJWwXvCmE.SeyJ0IjoiZG0iLCJzIjoiaHR0cDovL25lc3N1cy10ZWNoLmlvOjkxMDAifQ',\n",
       " 'typ': 'application/didcomm-plain+json'}"
      ]
     },
     "execution_count": 29,
     "metadata": {},
     "output_type": "execute_result"
    }
   ],
   "source": [
    "bob_msg.message.as_dict()"
   ]
  },
  {
   "cell_type": "markdown",
   "metadata": {},
   "source": [
    "# Request Credential"
   ]
  },
  {
   "cell_type": "code",
   "execution_count": 30,
   "metadata": {},
   "outputs": [
    {
     "data": {
      "text/plain": [
       "'{}'"
      ]
     },
     "execution_count": 30,
     "metadata": {},
     "output_type": "execute_result"
    }
   ],
   "source": [
    "\n",
    "tony_basic_message = Message(\n",
    "    id = str(uuid.uuid4()),\n",
    "    type=\"https://didcomm.org/issue-credential/3.0/request-credential\",\n",
    "    body={\n",
    "    \"goal_code\": \"Issue Passport Credential\"\n",
    "  },\n",
    "    created_time= int(datetime.datetime.now().timestamp()),\n",
    "    to = [nessus_invitation['from']],\n",
    "    frm = alice_did_new,\n",
    "    attachments=[Attachment(\n",
    "            data=AttachmentDataJson(json={\n",
    "          \"type\": [\n",
    "            \"VerifiableCredential\",\n",
    "            \"Passport\"\n",
    "          ],\n",
    "          \"@context\": [\n",
    "            \"https://www.w3.org/2018/credentials/v1\",\n",
    "            \"https://w3id.org/security/suites/jws-2020/v1\"\n",
    "          ],\n",
    "          \"id\": \"urn:uuid:1cece1f8-6a68-4361-8823-08802b56ede8\",\n",
    "          \"issuer\": \"did:key:z6Mkoe1KHk9aEJeTbWtC6AQTpX7FeUMNqSSVubVgY2M1X9st\",\n",
    "          \"issuanceDate\": \"2023-04-06T10:58:22.435583926Z\",\n",
    "          \"credentialSchema\": {\n",
    "            \"id\": \"class:nessus/schema/PassportSchema-draft-01.json\",\n",
    "            \"type\": \"JsonSchemaValidator2018\"\n",
    "          },\n",
    "          \"credentialSubject\": {\n",
    "            \"id\": \"did:key:z6Mkrea1ndAivx7y7iXVgSBK98BLYmBm7RPdfEtwRN3MSVfj\",\n",
    "            \"givenName\": \"Rajesh\",\n",
    "            \"familyName\": \"Hamal\",\n",
    "            \"citizenship\": \"US\"\n",
    "          },\n",
    "          \"proof\": {\n",
    "            \"type\": \"JsonWebSignature2020\",\n",
    "            \"creator\": \"did:key:z6Mkoe1KHk9aEJeTbWtC6AQTpX7FeUMNqSSVubVgY2M1X9st\",\n",
    "            \"created\": \"2023-04-06T10:58:22Z\",\n",
    "            \"proofPurpose\": \"assertionMethod\",\n",
    "            \"verificationMethod\": \"did:key:z6Mkoe1KHk9aEJeTbWtC6AQTpX7FeUMNqSSVubVgY2M1X9st\",\n",
    "            \"jws\": \"eyJiNjQiOmZhbHNlLCJjcml0IjpbImI2NCJdLCJhbGciOiJFZERTQSJ9..iWclfW1apfsyIfdnoD6EWD24s0Jv4AbEXkDRedndqWlhVMz2S-L7faXiRGJMINDOeNDf9P0wPYTlZkDYPBTuCQ\"\n",
    "          }\n",
    "        }),\n",
    "        media_type=\"application/json\",\n",
    "        format=\"https://www.w3.org/TR/vc-data-model/\"\n",
    "    )])\n",
    "\n",
    "tony_basic_message_packed = await pack_encrypted(\n",
    "    resolvers_config = ResolversConfig(\n",
    "        secrets_resolver = secrets_resolver,\n",
    "        did_resolver = DIDResolverPeerDID()\n",
    "    ),\n",
    "    message = tony_basic_message,\n",
    "    frm = alice_did_new,\n",
    "    to = nessus_invitation['from'],\n",
    "    sign_frm = None,\n",
    "    pack_config = PackEncryptedConfig(protect_sender_id=False)\n",
    ")\n",
    "\n",
    "trust_ping_did_doc = json.loads(peer_did.resolve_peer_did(nessus_invitation[\"from\"]))\n",
    "trust_ping_endpoint = trust_ping_did_doc[\"service\"][0][\"serviceEndpoint\"]\n",
    "headers = {\"Content-Type\": \"application/didcomm-encrypted+json\"}\n",
    "resp = requests.post(trust_ping_endpoint, headers=headers, json = json.loads(tony_basic_message_packed.packed_msg))\n",
    "resp.text"
   ]
  },
  {
   "cell_type": "markdown",
   "metadata": {},
   "source": [
    "# Poll for response"
   ]
  },
  {
   "cell_type": "code",
   "execution_count": 31,
   "metadata": {},
   "outputs": [
    {
     "name": "stdout",
     "output_type": "stream",
     "text": [
      "Messages in Mediator queue: 1\n",
      "message 642f2560fb5566e28c19e1e5 deleted\n",
      "UnpackResult(message=Message(id='eb57cb68-105f-49be-bdc2-9adbecf37e7f', type='https://didcomm.org/issue-credential/3.0/offer-credential', body={'goal_code': 'Issue Passport Credential', 'credential_preview': [{'name': 'id', 'value': 'did:peer:2.Ez6LSsDiGGPm6uLL7Va7yuPvSN4qXsK5XViNJhSszf6r4FKH1.Vz6MkfCiwAk1uvPafu6c7gaxumEvVWHbL1kR8MDXSLKTLBSxP.SeyJpZCI6IiNkaWRjb21tbWVzc2FnaW5nLTAiLCJ0IjoiZG0iLCJzIjoiaHR0cHM6Ly9tZWRpYXRvci5yb290c2lkLmNsb3VkIiwiYSI6WyJkaWRjb21tL3YyIl0sInIiOlsiZGlkOnBlZXI6Mi5FejZMU2RRMnpad3dIY0pmTGFubUtzOGhzOHFNUkprbWFjakVIVUNWWGl2NUw2R0FMLlZ6Nk1raXIxR0IyamhBcUZVY01SR0JSd3RvUzN5VWVRVmJhVVpXZ3V0b0NheGtvV00uU2V5SnBaQ0k2SW01bGR5MXBaQ0lzSW5RaU9pSmtiU0lzSW5NaU9pSm9kSFJ3Y3pvdkwyMWxaR2xoZEc5eUxuSnZiM1J6YVdRdVkyeHZkV1FpTENKaElqcGJJbVJwWkdOdmJXMHZkaklpWFgwIl19'}, {'name': 'givenName', 'value': 'Rajesh'}, {'name': 'familyName', 'value': 'Hamal'}, {'name': 'citizenship', 'value': 'US'}]}, frm='did:peer:2.Ez6LShroqrxP6vrwcyhyG7iDfZ9YpdNZzCVFEaaS8n9fkQQGL.Vz6MkkL7EaycmQTpdiodvEfQipKmjy2JCmHyYo4JEJWwXvCmE.SeyJ0IjoiZG0iLCJzIjoiaHR0cDovL25lc3N1cy10ZWNoLmlvOjkxMDAifQ', to=['did:peer:2.Ez6LSsDiGGPm6uLL7Va7yuPvSN4qXsK5XViNJhSszf6r4FKH1.Vz6MkfCiwAk1uvPafu6c7gaxumEvVWHbL1kR8MDXSLKTLBSxP.SeyJpZCI6IiNkaWRjb21tbWVzc2FnaW5nLTAiLCJ0IjoiZG0iLCJzIjoiaHR0cHM6Ly9tZWRpYXRvci5yb290c2lkLmNsb3VkIiwiYSI6WyJkaWRjb21tL3YyIl0sInIiOlsiZGlkOnBlZXI6Mi5FejZMU2RRMnpad3dIY0pmTGFubUtzOGhzOHFNUkprbWFjakVIVUNWWGl2NUw2R0FMLlZ6Nk1raXIxR0IyamhBcUZVY01SR0JSd3RvUzN5VWVRVmJhVVpXZ3V0b0NheGtvV00uU2V5SnBaQ0k2SW01bGR5MXBaQ0lzSW5RaU9pSmtiU0lzSW5NaU9pSm9kSFJ3Y3pvdkwyMWxaR2xoZEc5eUxuSnZiM1J6YVdRdVkyeHZkV1FpTENKaElqcGJJbVJwWkdOdmJXMHZkaklpWFgwIl19'], created_time=None, expires_time=None, from_prior=None, please_ack=None, ack=None, thid='eb57cb68-105f-49be-bdc2-9adbecf37e7f', pthid=None, attachments=[Attachment(data=AttachmentDataJson(json={'type': ['VerifiableCredential', 'Passport'], '@context': ['https://www.w3.org/2018/credentials/v1', 'https://w3id.org/security/suites/jws-2020/v1'], 'id': 'urn:uuid:18d7621d-2e4f-48a8-a98c-e9525ca6f658', 'issuer': 'did:peer:2.Ez6LShroqrxP6vrwcyhyG7iDfZ9YpdNZzCVFEaaS8n9fkQQGL.Vz6MkkL7EaycmQTpdiodvEfQipKmjy2JCmHyYo4JEJWwXvCmE.SeyJ0IjoiZG0iLCJzIjoiaHR0cDovL25lc3N1cy10ZWNoLmlvOjkxMDAifQ', 'issuanceDate': '2023-04-06T20:02:39.220402566Z', 'credentialSchema': {'id': 'class:nessus/schema/PassportSchema-draft-01.json', 'type': 'JsonSchemaValidator2018'}, 'credentialSubject': {'id': 'did:peer:2.Ez6LSsDiGGPm6uLL7Va7yuPvSN4qXsK5XViNJhSszf6r4FKH1.Vz6MkfCiwAk1uvPafu6c7gaxumEvVWHbL1kR8MDXSLKTLBSxP.SeyJpZCI6IiNkaWRjb21tbWVzc2FnaW5nLTAiLCJ0IjoiZG0iLCJzIjoiaHR0cHM6Ly9tZWRpYXRvci5yb290c2lkLmNsb3VkIiwiYSI6WyJkaWRjb21tL3YyIl0sInIiOlsiZGlkOnBlZXI6Mi5FejZMU2RRMnpad3dIY0pmTGFubUtzOGhzOHFNUkprbWFjakVIVUNWWGl2NUw2R0FMLlZ6Nk1raXIxR0IyamhBcUZVY01SR0JSd3RvUzN5VWVRVmJhVVpXZ3V0b0NheGtvV00uU2V5SnBaQ0k2SW01bGR5MXBaQ0lzSW5RaU9pSmtiU0lzSW5NaU9pSm9kSFJ3Y3pvdkwyMWxaR2xoZEc5eUxuSnZiM1J6YVdRdVkyeHZkV1FpTENKaElqcGJJbVJwWkdOdmJXMHZkaklpWFgwIl19', 'givenName': 'Rajesh', 'familyName': 'Hamal', 'citizenship': 'US'}, 'proof': {'type': 'JsonWebSignature2020', 'creator': 'did:peer:2.Ez6LShroqrxP6vrwcyhyG7iDfZ9YpdNZzCVFEaaS8n9fkQQGL.Vz6MkkL7EaycmQTpdiodvEfQipKmjy2JCmHyYo4JEJWwXvCmE.SeyJ0IjoiZG0iLCJzIjoiaHR0cDovL25lc3N1cy10ZWNoLmlvOjkxMDAifQ', 'created': '2023-04-06T20:02:39Z', 'proofPurpose': 'assertionMethod', 'verificationMethod': 'did:peer:2.Ez6LShroqrxP6vrwcyhyG7iDfZ9YpdNZzCVFEaaS8n9fkQQGL.Vz6MkkL7EaycmQTpdiodvEfQipKmjy2JCmHyYo4JEJWwXvCmE.SeyJ0IjoiZG0iLCJzIjoiaHR0cDovL25lc3N1cy10ZWNoLmlvOjkxMDAifQ', 'jws': 'eyJiNjQiOmZhbHNlLCJjcml0IjpbImI2NCJdLCJhbGciOiJFZERTQSJ9..XoPdmPDVfhY5bWFDyg5WgVeGIxzDbNDZzEGcbSaOinTA8360o3BmSNST6hgm3hA6mGrxqjN9uOP7JBVL_z8lDg'}}, hash=None, jws=None), id='d9a5cca7-e353-4966-8b2a-1476ebd15ae7', description=None, filename=None, media_type='application/json', format='https://www.w3.org/TR/vc-data-model/', lastmod_time=None, byte_count=None)], custom_headers=None), metadata=Metadata(encrypted=True, authenticated=True, non_repudiation=True, anonymous_sender=False, re_wrapped_in_forward=False, encrypted_from='did:peer:2.Ez6LShroqrxP6vrwcyhyG7iDfZ9YpdNZzCVFEaaS8n9fkQQGL.Vz6MkkL7EaycmQTpdiodvEfQipKmjy2JCmHyYo4JEJWwXvCmE.SeyJ0IjoiZG0iLCJzIjoiaHR0cDovL25lc3N1cy10ZWNoLmlvOjkxMDAifQ#6LShroqrxP6vrwcyhyG7iDfZ9YpdNZzCVFEaaS8n9fkQQGL', encrypted_to=['did:peer:2.Ez6LSsDiGGPm6uLL7Va7yuPvSN4qXsK5XViNJhSszf6r4FKH1.Vz6MkfCiwAk1uvPafu6c7gaxumEvVWHbL1kR8MDXSLKTLBSxP.SeyJpZCI6IiNkaWRjb21tbWVzc2FnaW5nLTAiLCJ0IjoiZG0iLCJzIjoiaHR0cHM6Ly9tZWRpYXRvci5yb290c2lkLmNsb3VkIiwiYSI6WyJkaWRjb21tL3YyIl0sInIiOlsiZGlkOnBlZXI6Mi5FejZMU2RRMnpad3dIY0pmTGFubUtzOGhzOHFNUkprbWFjakVIVUNWWGl2NUw2R0FMLlZ6Nk1raXIxR0IyamhBcUZVY01SR0JSd3RvUzN5VWVRVmJhVVpXZ3V0b0NheGtvV00uU2V5SnBaQ0k2SW01bGR5MXBaQ0lzSW5RaU9pSmtiU0lzSW5NaU9pSm9kSFJ3Y3pvdkwyMWxaR2xoZEc5eUxuSnZiM1J6YVdRdVkyeHZkV1FpTENKaElqcGJJbVJwWkdOdmJXMHZkaklpWFgwIl19#6LSsDiGGPm6uLL7Va7yuPvSN4qXsK5XViNJhSszf6r4FKH1'], sign_from='did:peer:2.Ez6LShroqrxP6vrwcyhyG7iDfZ9YpdNZzCVFEaaS8n9fkQQGL.Vz6MkkL7EaycmQTpdiodvEfQipKmjy2JCmHyYo4JEJWwXvCmE.SeyJ0IjoiZG0iLCJzIjoiaHR0cDovL25lc3N1cy10ZWNoLmlvOjkxMDAifQ#6MkkL7EaycmQTpdiodvEfQipKmjy2JCmHyYo4JEJWwXvCmE', from_prior_issuer_kid=None, enc_alg_auth=<AuthCryptAlg.A256CBC_HS512_ECDH_1PU_A256KW: Algs(alg='ECDH-1PU+A256KW', enc='A256CBC-HS512')>, enc_alg_anon=None, sign_alg=<SignAlg.ED25519: 'EdDSA'>, signed_message='{\"payload\":\"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\",\"signatures\":[{\"protected\":\"eyJ0eXAiOiJhcHBsaWNhdGlvbi9kaWRjb21tLXNpZ25lZCtqc29uIiwiYWxnIjoiRWREU0EifQ\",\"signature\":\"qWLHqENAU3ZTsMqWMUyvEPMUS5FSJWPw2KRRU8aV4yiy78x94YhGinP_0ei4Al-8JCrHQ23frkVEGdh2uiHpDw\",\"header\":{\"kid\":\"did:peer:2.Ez6LShroqrxP6vrwcyhyG7iDfZ9YpdNZzCVFEaaS8n9fkQQGL.Vz6MkkL7EaycmQTpdiodvEfQipKmjy2JCmHyYo4JEJWwXvCmE.SeyJ0IjoiZG0iLCJzIjoiaHR0cDovL25lc3N1cy10ZWNoLmlvOjkxMDAifQ#6MkkL7EaycmQTpdiodvEfQipKmjy2JCmHyYo4JEJWwXvCmE\"}}]}', from_prior_jwt=None))\n"
     ]
    }
   ],
   "source": [
    "alice_status_check = Message(\n",
    "    id = str(uuid.uuid4()),\n",
    "    type = \"https://didcomm.org/messagepickup/3.0/status-request\",\n",
    "    body = {}\n",
    ")\n",
    "alice_status_check_packed_msg = await pack_encrypted(\n",
    "    resolvers_config = ResolversConfig(\n",
    "        secrets_resolver = secrets_resolver,\n",
    "        did_resolver = DIDResolverPeerDID()\n",
    "    ),\n",
    "    message = alice_status_check,\n",
    "    to = mediator_did,\n",
    "    frm = alice_did_for_mediator,\n",
    "    sign_frm = None,\n",
    "    pack_config = PackEncryptedConfig(protect_sender_id=False)\n",
    ")\n",
    "headers = {\"Content-Type\": \"application/didcomm-encrypted+json\"}\n",
    "resp3 = requests.post(mediator_endpoint, headers=headers, data = alice_status_check_packed_msg.packed_msg)\n",
    "mediator_unpack_status = await unpack(\n",
    "    resolvers_config=ResolversConfig(\n",
    "        secrets_resolver=secrets_resolver,\n",
    "        did_resolver=DIDResolverPeerDID()\n",
    "    ),\n",
    "    packed_msg= resp3.json()\n",
    ")\n",
    "print(\"Messages in Mediator queue: \" + str(mediator_unpack_status.message.body[\"message_count\"]))\n",
    "if mediator_unpack_status.message.body[\"message_count\"]>0:\n",
    "    alice_delivery_request = Message(\n",
    "        id = str(uuid.uuid4()),\n",
    "        type = \"https://didcomm.org/messagepickup/3.0/delivery-request\",\n",
    "        body = {\"limit\": 1}\n",
    "    )\n",
    "    alice_delivery_request_packed_msg = await pack_encrypted(\n",
    "        resolvers_config = ResolversConfig(\n",
    "            secrets_resolver = secrets_resolver,\n",
    "            did_resolver = DIDResolverPeerDID()\n",
    "        ),\n",
    "        message = alice_delivery_request,\n",
    "        to = mediator_did,\n",
    "        frm = alice_did_for_mediator,\n",
    "        sign_frm = None,\n",
    "        pack_config = PackEncryptedConfig(protect_sender_id=False)\n",
    "    )\n",
    "    headers = {\"Content-Type\": \"application/didcomm-encrypted+json\"}\n",
    "    resp4 = requests.post(mediator_endpoint, headers=headers, data = alice_delivery_request_packed_msg.packed_msg)\n",
    "    mediator_delivery = await unpack(\n",
    "        resolvers_config=ResolversConfig(\n",
    "            secrets_resolver=secrets_resolver,\n",
    "            did_resolver=DIDResolverPeerDID()\n",
    "        ),\n",
    "        packed_msg= resp4.json()\n",
    "    )\n",
    "    bob_packed_msg = mediator_delivery.message.attachments[0].data.json\n",
    "    msg_id = mediator_delivery.message.attachments[0].id\n",
    "    bob_msg = await unpack(\n",
    "        resolvers_config=ResolversConfig(\n",
    "            secrets_resolver=secrets_resolver,\n",
    "            did_resolver=DIDResolverPeerDID()\n",
    "        ),\n",
    "        packed_msg= bob_packed_msg\n",
    "    )\n",
    "    \n",
    "    alice_ack = Message(\n",
    "    id = str(uuid.uuid4()),\n",
    "    type = \"https://didcomm.org/messagepickup/3.0/messages-received\",\n",
    "    body = {\"message_id_list\": [msg_id]}\n",
    "    )\n",
    "    alice_ack_packed_msg = await pack_encrypted(\n",
    "        resolvers_config = ResolversConfig(\n",
    "            secrets_resolver = secrets_resolver,\n",
    "            did_resolver = DIDResolverPeerDID()\n",
    "        ),\n",
    "        message = alice_ack,\n",
    "        to = mediator_did,\n",
    "        frm = alice_did_for_mediator,\n",
    "        sign_frm = None,\n",
    "        pack_config = PackEncryptedConfig(protect_sender_id=False)\n",
    "    )\n",
    "    headers = {\"Content-Type\": \"application/didcomm-encrypted+json\"}\n",
    "    resp5 = requests.post(mediator_endpoint, headers=headers, data = alice_ack_packed_msg.packed_msg)\n",
    "    mediator_ack_status = await unpack(\n",
    "        resolvers_config=ResolversConfig(\n",
    "            secrets_resolver=secrets_resolver,\n",
    "            did_resolver=DIDResolverPeerDID()\n",
    "        ),\n",
    "        packed_msg= resp5.json()\n",
    "    )\n",
    "    print(f'message {msg_id} deleted')\n",
    "    print(bob_msg)\n",
    "    \n",
    "    "
   ]
  },
  {
   "cell_type": "code",
   "execution_count": 32,
   "metadata": {},
   "outputs": [
    {
     "data": {
      "text/plain": [
       "{'id': 'eb57cb68-105f-49be-bdc2-9adbecf37e7f',\n",
       " 'type': 'https://didcomm.org/issue-credential/3.0/offer-credential',\n",
       " 'body': {'goal_code': 'Issue Passport Credential',\n",
       "  'credential_preview': [{'name': 'id',\n",
       "    'value': 'did:peer:2.Ez6LSsDiGGPm6uLL7Va7yuPvSN4qXsK5XViNJhSszf6r4FKH1.Vz6MkfCiwAk1uvPafu6c7gaxumEvVWHbL1kR8MDXSLKTLBSxP.SeyJpZCI6IiNkaWRjb21tbWVzc2FnaW5nLTAiLCJ0IjoiZG0iLCJzIjoiaHR0cHM6Ly9tZWRpYXRvci5yb290c2lkLmNsb3VkIiwiYSI6WyJkaWRjb21tL3YyIl0sInIiOlsiZGlkOnBlZXI6Mi5FejZMU2RRMnpad3dIY0pmTGFubUtzOGhzOHFNUkprbWFjakVIVUNWWGl2NUw2R0FMLlZ6Nk1raXIxR0IyamhBcUZVY01SR0JSd3RvUzN5VWVRVmJhVVpXZ3V0b0NheGtvV00uU2V5SnBaQ0k2SW01bGR5MXBaQ0lzSW5RaU9pSmtiU0lzSW5NaU9pSm9kSFJ3Y3pvdkwyMWxaR2xoZEc5eUxuSnZiM1J6YVdRdVkyeHZkV1FpTENKaElqcGJJbVJwWkdOdmJXMHZkaklpWFgwIl19'},\n",
       "   {'name': 'givenName', 'value': 'Rajesh'},\n",
       "   {'name': 'familyName', 'value': 'Hamal'},\n",
       "   {'name': 'citizenship', 'value': 'US'}]},\n",
       " 'to': ['did:peer:2.Ez6LSsDiGGPm6uLL7Va7yuPvSN4qXsK5XViNJhSszf6r4FKH1.Vz6MkfCiwAk1uvPafu6c7gaxumEvVWHbL1kR8MDXSLKTLBSxP.SeyJpZCI6IiNkaWRjb21tbWVzc2FnaW5nLTAiLCJ0IjoiZG0iLCJzIjoiaHR0cHM6Ly9tZWRpYXRvci5yb290c2lkLmNsb3VkIiwiYSI6WyJkaWRjb21tL3YyIl0sInIiOlsiZGlkOnBlZXI6Mi5FejZMU2RRMnpad3dIY0pmTGFubUtzOGhzOHFNUkprbWFjakVIVUNWWGl2NUw2R0FMLlZ6Nk1raXIxR0IyamhBcUZVY01SR0JSd3RvUzN5VWVRVmJhVVpXZ3V0b0NheGtvV00uU2V5SnBaQ0k2SW01bGR5MXBaQ0lzSW5RaU9pSmtiU0lzSW5NaU9pSm9kSFJ3Y3pvdkwyMWxaR2xoZEc5eUxuSnZiM1J6YVdRdVkyeHZkV1FpTENKaElqcGJJbVJwWkdOdmJXMHZkaklpWFgwIl19'],\n",
       " 'thid': 'eb57cb68-105f-49be-bdc2-9adbecf37e7f',\n",
       " 'attachments': [{'data': {'json': {'type': ['VerifiableCredential',\n",
       "      'Passport'],\n",
       "     '@context': ['https://www.w3.org/2018/credentials/v1',\n",
       "      'https://w3id.org/security/suites/jws-2020/v1'],\n",
       "     'id': 'urn:uuid:18d7621d-2e4f-48a8-a98c-e9525ca6f658',\n",
       "     'issuer': 'did:peer:2.Ez6LShroqrxP6vrwcyhyG7iDfZ9YpdNZzCVFEaaS8n9fkQQGL.Vz6MkkL7EaycmQTpdiodvEfQipKmjy2JCmHyYo4JEJWwXvCmE.SeyJ0IjoiZG0iLCJzIjoiaHR0cDovL25lc3N1cy10ZWNoLmlvOjkxMDAifQ',\n",
       "     'issuanceDate': '2023-04-06T20:02:39.220402566Z',\n",
       "     'credentialSchema': {'id': 'class:nessus/schema/PassportSchema-draft-01.json',\n",
       "      'type': 'JsonSchemaValidator2018'},\n",
       "     'credentialSubject': {'id': 'did:peer:2.Ez6LSsDiGGPm6uLL7Va7yuPvSN4qXsK5XViNJhSszf6r4FKH1.Vz6MkfCiwAk1uvPafu6c7gaxumEvVWHbL1kR8MDXSLKTLBSxP.SeyJpZCI6IiNkaWRjb21tbWVzc2FnaW5nLTAiLCJ0IjoiZG0iLCJzIjoiaHR0cHM6Ly9tZWRpYXRvci5yb290c2lkLmNsb3VkIiwiYSI6WyJkaWRjb21tL3YyIl0sInIiOlsiZGlkOnBlZXI6Mi5FejZMU2RRMnpad3dIY0pmTGFubUtzOGhzOHFNUkprbWFjakVIVUNWWGl2NUw2R0FMLlZ6Nk1raXIxR0IyamhBcUZVY01SR0JSd3RvUzN5VWVRVmJhVVpXZ3V0b0NheGtvV00uU2V5SnBaQ0k2SW01bGR5MXBaQ0lzSW5RaU9pSmtiU0lzSW5NaU9pSm9kSFJ3Y3pvdkwyMWxaR2xoZEc5eUxuSnZiM1J6YVdRdVkyeHZkV1FpTENKaElqcGJJbVJwWkdOdmJXMHZkaklpWFgwIl19',\n",
       "      'givenName': 'Rajesh',\n",
       "      'familyName': 'Hamal',\n",
       "      'citizenship': 'US'},\n",
       "     'proof': {'type': 'JsonWebSignature2020',\n",
       "      'creator': 'did:peer:2.Ez6LShroqrxP6vrwcyhyG7iDfZ9YpdNZzCVFEaaS8n9fkQQGL.Vz6MkkL7EaycmQTpdiodvEfQipKmjy2JCmHyYo4JEJWwXvCmE.SeyJ0IjoiZG0iLCJzIjoiaHR0cDovL25lc3N1cy10ZWNoLmlvOjkxMDAifQ',\n",
       "      'created': '2023-04-06T20:02:39Z',\n",
       "      'proofPurpose': 'assertionMethod',\n",
       "      'verificationMethod': 'did:peer:2.Ez6LShroqrxP6vrwcyhyG7iDfZ9YpdNZzCVFEaaS8n9fkQQGL.Vz6MkkL7EaycmQTpdiodvEfQipKmjy2JCmHyYo4JEJWwXvCmE.SeyJ0IjoiZG0iLCJzIjoiaHR0cDovL25lc3N1cy10ZWNoLmlvOjkxMDAifQ',\n",
       "      'jws': 'eyJiNjQiOmZhbHNlLCJjcml0IjpbImI2NCJdLCJhbGciOiJFZERTQSJ9..XoPdmPDVfhY5bWFDyg5WgVeGIxzDbNDZzEGcbSaOinTA8360o3BmSNST6hgm3hA6mGrxqjN9uOP7JBVL_z8lDg'}}},\n",
       "   'id': 'd9a5cca7-e353-4966-8b2a-1476ebd15ae7',\n",
       "   'media_type': 'application/json',\n",
       "   'format': 'https://www.w3.org/TR/vc-data-model/'}],\n",
       " 'from': 'did:peer:2.Ez6LShroqrxP6vrwcyhyG7iDfZ9YpdNZzCVFEaaS8n9fkQQGL.Vz6MkkL7EaycmQTpdiodvEfQipKmjy2JCmHyYo4JEJWwXvCmE.SeyJ0IjoiZG0iLCJzIjoiaHR0cDovL25lc3N1cy10ZWNoLmlvOjkxMDAifQ',\n",
       " 'typ': 'application/didcomm-plain+json'}"
      ]
     },
     "execution_count": 32,
     "metadata": {},
     "output_type": "execute_result"
    }
   ],
   "source": [
    "bob_msg.message.as_dict()"
   ]
  },
  {
   "cell_type": "markdown",
   "metadata": {},
   "source": [
    "# output of the run is here \n",
    "http://nessus-tech.io:9100/dashboard/messages?walletName=Government&pconId=1db0098f-905f-4897-992b-44e9ca99f450"
   ]
  },
  {
   "cell_type": "code",
   "execution_count": null,
   "metadata": {},
   "outputs": [],
   "source": []
  }
 ],
 "metadata": {
  "kernelspec": {
   "display_name": "Python 3 (ipykernel)",
   "language": "python",
   "name": "python3"
  },
  "language_info": {
   "codemirror_mode": {
    "name": "ipython",
    "version": 3
   },
   "file_extension": ".py",
   "mimetype": "text/x-python",
   "name": "python",
   "nbconvert_exporter": "python",
   "pygments_lexer": "ipython3",
   "version": "3.10.10"
  }
 },
 "nbformat": 4,
 "nbformat_minor": 2
}
