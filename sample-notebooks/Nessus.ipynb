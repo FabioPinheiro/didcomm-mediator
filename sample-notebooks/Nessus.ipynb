{
 "cells": [
  {
   "cell_type": "code",
   "execution_count": 1,
   "metadata": {},
   "outputs": [],
   "source": [
    "import json\n",
    "import base64\n",
    "import qrcode\n",
    "import requests\n",
    "import datetime\n",
    "import uuid\n",
    "import matplotlib.pyplot as plt\n",
    "from pymongo import MongoClient\n",
    "from typing import Optional, List\n",
    "from didcomm.common.types import DID, VerificationMethodType, VerificationMaterial, VerificationMaterialFormat\n",
    "from didcomm.did_doc.did_doc import DIDDoc, VerificationMethod, DIDCommService\n",
    "from didcomm.did_doc.did_resolver import DIDResolver\n",
    "from didcomm.message import Message, FromPrior\n",
    "from didcomm.secrets.secrets_resolver_demo import SecretsResolverDemo\n",
    "from didcomm.unpack import unpack, UnpackResult\n",
    "from didcomm.common.resolvers import ResolversConfig\n",
    "from didcomm.message import Attachment, AttachmentDataJson, AttachmentDataLinks\n",
    "from didcomm.pack_encrypted import pack_encrypted, PackEncryptedConfig, PackEncryptedResult\n",
    "from peerdid.core.did_doc_types import DIDCommServicePeerDID\n",
    "from didcomm.secrets.secrets_util import generate_x25519_keys_as_jwk_dict, generate_ed25519_keys_as_jwk_dict, jwk_to_secret\n",
    "from peerdid import peer_did\n",
    "from peerdid.did_doc import DIDDocPeerDID\n",
    "\n",
    "from peerdid.types import VerificationMaterialAuthentication, VerificationMethodTypeAuthentication, VerificationMaterialAgreement, VerificationMethodTypeAgreement, VerificationMaterialFormatPeerDID"
   ]
  },
  {
   "cell_type": "code",
   "execution_count": 2,
   "metadata": {},
   "outputs": [],
   "source": [
    "secrets_resolver = SecretsResolverDemo()"
   ]
  },
  {
   "cell_type": "code",
   "execution_count": 3,
   "metadata": {},
   "outputs": [],
   "source": [
    "class DIDResolverPeerDID(DIDResolver):\n",
    "    async def resolve(self, did: DID) -> DIDDoc:\n",
    "        did_doc_json = peer_did.resolve_peer_did(did, format = VerificationMaterialFormatPeerDID.JWK)\n",
    "        did_doc = DIDDocPeerDID.from_json(did_doc_json)\n",
    "\n",
    "        return DIDDoc(\n",
    "            did=did_doc.did,\n",
    "            key_agreement_kids = did_doc.agreement_kids,\n",
    "            authentication_kids = did_doc.auth_kids,\n",
    "            verification_methods = [\n",
    "                VerificationMethod(\n",
    "                    id = m.id,\n",
    "                    type = VerificationMethodType.JSON_WEB_KEY_2020,\n",
    "                    controller = m.controller,\n",
    "                    verification_material = VerificationMaterial(\n",
    "                        format = VerificationMaterialFormat.JWK,\n",
    "                        value = json.dumps(m.ver_material.value)\n",
    "                    )\n",
    "                )\n",
    "                for m in did_doc.authentication + did_doc.key_agreement\n",
    "            ],\n",
    "             didcomm_services = []\n",
    "#                 DIDCommService(\n",
    "#                     id = s.id,\n",
    "#                     service_endpoint = s.service_endpoint,\n",
    "#                     routing_keys = s.routing_keys,\n",
    "#                     accept = s.accept\n",
    "#                 )\n",
    "#                 for s in did_doc.service\n",
    "#                 if isinstance(s, DIDCommServicePeerDID)\n",
    "#            ] if did_doc.service else []\n",
    "        )"
   ]
  },
  {
   "cell_type": "code",
   "execution_count": 4,
   "metadata": {},
   "outputs": [],
   "source": [
    "async def create_peer_did(self,\n",
    "                        auth_keys_count: int = 1,\n",
    "                        agreement_keys_count: int = 1,\n",
    "                        service_endpoint: Optional[str] = None,\n",
    "                        service_routing_keys: Optional[List[str]] = None\n",
    "                        ) -> str:\n",
    "        # 1. generate keys in JWK format\n",
    "        agreem_keys = [generate_x25519_keys_as_jwk_dict() for _ in range(agreement_keys_count)]\n",
    "        auth_keys = [generate_ed25519_keys_as_jwk_dict() for _ in range(auth_keys_count)]\n",
    "\n",
    "        # 2. prepare the keys for peer DID lib\n",
    "        agreem_keys_peer_did = [\n",
    "            VerificationMaterialAgreement(\n",
    "                type=VerificationMethodTypeAgreement.JSON_WEB_KEY_2020,\n",
    "                format=VerificationMaterialFormatPeerDID.JWK,\n",
    "                value=k[1],\n",
    "            )\n",
    "            for k in agreem_keys\n",
    "        ]\n",
    "        auth_keys_peer_did = [\n",
    "            VerificationMaterialAuthentication(\n",
    "                type=VerificationMethodTypeAuthentication.JSON_WEB_KEY_2020,\n",
    "                format=VerificationMaterialFormatPeerDID.JWK,\n",
    "                value=k[1],\n",
    "            )\n",
    "            for k in auth_keys\n",
    "        ]\n",
    "\n",
    "        # 3. generate service\n",
    "        service = None\n",
    "        if service_endpoint:\n",
    "            service = json.dumps(\n",
    "                DIDCommServicePeerDID(\n",
    "                    id=\"#didcommmessaging-0\",\n",
    "                    service_endpoint=service_endpoint, routing_keys=service_routing_keys,\n",
    "                    accept=[\"didcomm/v2\"]\n",
    "                ).to_dict()\n",
    "            )\n",
    "\n",
    "        # 4. call peer DID lib\n",
    "        # if we have just one key (auth), then use numalg0 algorithm\n",
    "        # otherwise use numalg2 algorithm\n",
    "        if len(auth_keys_peer_did) == 1 and not agreem_keys_peer_did and not service:\n",
    "            did = peer_did.create_peer_did_numalgo_0(auth_keys_peer_did[0])\n",
    "        else:\n",
    "            did = peer_did.create_peer_did_numalgo_2(\n",
    "                encryption_keys=agreem_keys_peer_did,\n",
    "                signing_keys=auth_keys_peer_did,\n",
    "                service=service,\n",
    "            )\n",
    "\n",
    "        # 5. set KIDs as in DID DOC for secrets and store the secret in the secrets resolver\n",
    "        did_doc = DIDDocPeerDID.from_json(peer_did.resolve_peer_did(did))\n",
    "        for auth_key, kid in zip(auth_keys, did_doc.auth_kids):\n",
    "            private_key = auth_key[0]\n",
    "            private_key[\"kid\"] = kid\n",
    "            await secrets_resolver.add_key(jwk_to_secret(private_key))\n",
    "\n",
    "        for agreem_key, kid in zip(agreem_keys, did_doc.agreement_kids):\n",
    "            private_key = agreem_key[0]\n",
    "            private_key[\"kid\"] = kid\n",
    "            await secrets_resolver.add_key(jwk_to_secret(private_key))\n",
    "\n",
    "        return did\n"
   ]
  },
  {
   "cell_type": "markdown",
   "metadata": {},
   "source": [
    "### Alice get OOB from Mediator"
   ]
  },
  {
   "cell_type": "code",
   "execution_count": 5,
   "metadata": {},
   "outputs": [],
   "source": [
    "#oob_url = requests.get(\"http://127.0.0.1:8000/oob_url\").text\n",
    "oob_url = requests.get(\"https://mediator.rootsid.cloud/oob_url\").text"
   ]
  },
  {
   "cell_type": "code",
   "execution_count": 6,
   "metadata": {},
   "outputs": [
    {
     "name": "stdout",
     "output_type": "stream",
     "text": [
      "https://mediator.rootsid.cloud?_oob=eyJ0eXBlIjoiaHR0cHM6Ly9kaWRjb21tLm9yZy9vdXQtb2YtYmFuZC8yLjAvaW52aXRhdGlvbiIsImlkIjoiOWQ5ZjdhMzYtYmYzYS00YWViLWE5MTItMDExZjM3MTc4NzM3IiwiZnJvbSI6ImRpZDpwZWVyOjIuRXo2TFNtczU1NVloRnRobjFXVjhjaURCcFptODZoSzl0cDgzV29qSlVteFBHazFoWi5WejZNa21kQmpNeUI0VFM1VWJiUXc1NHN6bTh5dk1NZjFmdEdWMnNRVllBeGFlV2hFLlNleUpwWkNJNkltNWxkeTFwWkNJc0luUWlPaUprYlNJc0luTWlPaUpvZEhSd2N6b3ZMMjFsWkdsaGRHOXlMbkp2YjNSemFXUXVZMnh2ZFdRaUxDSmhJanBiSW1ScFpHTnZiVzB2ZGpJaVhYMCIsImJvZHkiOnsiZ29hbF9jb2RlIjoicmVxdWVzdC1tZWRpYXRlIiwiZ29hbCI6IlJlcXVlc3RNZWRpYXRlIiwibGFiZWwiOiJNZWRpYXRvciIsImFjY2VwdCI6WyJkaWRjb21tL3YyIl19fQ\n"
     ]
    }
   ],
   "source": [
    "print(oob_url)"
   ]
  },
  {
   "cell_type": "code",
   "execution_count": 7,
   "metadata": {},
   "outputs": [
    {
     "name": "stdout",
     "output_type": "stream",
     "text": [
      "Alice's DID: did:peer:2.Ez6LSph4RxqRLfkeYxwgdrLJgt3xRMyJ2Lp3NqD8NA56dqqmY.Vz6MkvZ3uRjvYQeW81LDh4ZjRRqEUa3zmdEDHTYPpMP3bDosC\n"
     ]
    }
   ],
   "source": [
    "received_msg_encoded = oob_url.split(\"=\")[1]\n",
    "received_msg_decoded = json.loads(str(base64.urlsafe_b64decode(received_msg_encoded + \"==\"), \"utf-8\"))\n",
    "alice_did_for_mediator = await create_peer_did(1,1)\n",
    "print(\"Alice's DID:\", alice_did_for_mediator)"
   ]
  },
  {
   "cell_type": "markdown",
   "metadata": {},
   "source": [
    "### Alice request mediate"
   ]
  },
  {
   "cell_type": "code",
   "execution_count": 8,
   "metadata": {},
   "outputs": [],
   "source": [
    "alice_mediate_grant = Message(\n",
    "    custom_headers = [{\"return_route\": \"all\"}],\n",
    "    id = str(uuid.uuid4()),\n",
    "    type = \"https://didcomm.org/coordinate-mediation/2.0/mediate-request\",\n",
    "    body = {}\n",
    ")"
   ]
  },
  {
   "cell_type": "code",
   "execution_count": 9,
   "metadata": {},
   "outputs": [],
   "source": [
    "alice_mediate_grant_packed = await pack_encrypted(\n",
    "    resolvers_config = ResolversConfig(\n",
    "        secrets_resolver = secrets_resolver,\n",
    "        did_resolver = DIDResolverPeerDID()\n",
    "    ),\n",
    "    message = alice_mediate_grant,\n",
    "    frm = alice_did_for_mediator,\n",
    "    to = received_msg_decoded[\"from\"],\n",
    "    sign_frm = None,\n",
    "    pack_config = PackEncryptedConfig(protect_sender_id=False)\n",
    ")"
   ]
  },
  {
   "cell_type": "markdown",
   "metadata": {},
   "source": [
    "### Sending to Mediator"
   ]
  },
  {
   "cell_type": "code",
   "execution_count": 10,
   "metadata": {},
   "outputs": [
    {
     "name": "stdout",
     "output_type": "stream",
     "text": [
      "https://mediator.rootsid.cloud\n"
     ]
    }
   ],
   "source": [
    "mediator_did_doc = json.loads(peer_did.resolve_peer_did(received_msg_decoded[\"from\"]))\n",
    "mediator_endpoint = mediator_did_doc[\"service\"][0][\"serviceEndpoint\"]\n",
    "print(mediator_endpoint)"
   ]
  },
  {
   "cell_type": "code",
   "execution_count": 11,
   "metadata": {},
   "outputs": [],
   "source": [
    "headers = {\"Content-Type\": \"application/didcomm-encrypted+json\"}\n",
    "resp = requests.post(mediator_endpoint, headers=headers, json = json.loads(alice_mediate_grant_packed.packed_msg))\n"
   ]
  },
  {
   "cell_type": "code",
   "execution_count": 12,
   "metadata": {},
   "outputs": [
    {
     "name": "stdout",
     "output_type": "stream",
     "text": [
      "{'protected': 'eyJ0eXAiOiJhcHBsaWNhdGlvbi9kaWRjb21tLWVuY3J5cHRlZCtqc29uIiwiYWxnIjoiRUNESC0xUFUrQTI1NktXIiwiZW5jIjoiQTI1NkNCQy1IUzUxMiIsImFwdSI6IlpHbGtPbkJsWlhJNk1pNUZlalpNVTNSaGRIUlRZamw2WTNOVFVGa3hTa1k0VlZaWFMyMXliMUZ4Y1ZWSFJuRm1RMEpPU2t4MFYwSmtUbk53TGxaNk5rMXJiMDQ0U2pOUWQxSm1kVlZ3WVZCSFJuRlFkVXRsTVU1dU1qVkNhMFJuUmxBMFRIWmxaRUU1YzJZNWNVTXVVMlY1U25CYVEwazJTVzAxYkdSNU1YQmFRMGx6U1c1UmFVOXBTbXRpVTBselNXNU5hVTlwU205a1NGSjNZM3B2ZGt3eU1XeGFSMnhvWkVjNWVVeHVTblppTTFKNllWZFJkVmt5ZUhaa1YxRnBURU5LYUVscWNHSkpiVkp3V2tkT2RtSlhNSFprYWtscFdGZ3dJelpNVTNSaGRIUlRZamw2WTNOVFVGa3hTa1k0VlZaWFMyMXliMUZ4Y1ZWSFJuRm1RMEpPU2t4MFYwSmtUbk53IiwiYXB2Ijoia04xVVdSN0c0bkJuVkV4ZTI3bl9VV0VzLXI3dk80M2dnNDlzYnpKOElLWSIsInNraWQiOiJkaWQ6cGVlcjoyLkV6NkxTdGF0dFNiOXpjc1NQWTFKRjhVVldLbXJvUXFxVUdGcWZDQk5KTHRXQmROc3AuVno2TWtvTjhKM1B3UmZ1VXBhUEdGcVB1S2UxTm4yNUJrRGdGUDRMdmVkQTlzZjlxQy5TZXlKcFpDSTZJbTVsZHkxcFpDSXNJblFpT2lKa2JTSXNJbk1pT2lKb2RIUndjem92TDIxbFpHbGhkRzl5TG5KdmIzUnphV1F1WTJ4dmRXUWlMQ0poSWpwYkltUnBaR052YlcwdmRqSWlYWDAjNkxTdGF0dFNiOXpjc1NQWTFKRjhVVldLbXJvUXFxVUdGcWZDQk5KTHRXQmROc3AiLCJlcGsiOnsiY3J2IjoiWDI1NTE5IiwieCI6IkNseXdJWmpvQU80ZnV4QUNzUmNMdWxNV1pDMlN1cGU0dzhVU3lsNHhzanMiLCJrdHkiOiJPS1AifX0', 'recipients': [{'header': {'kid': 'did:peer:2.Ez6LSph4RxqRLfkeYxwgdrLJgt3xRMyJ2Lp3NqD8NA56dqqmY.Vz6MkvZ3uRjvYQeW81LDh4ZjRRqEUa3zmdEDHTYPpMP3bDosC#6LSph4RxqRLfkeYxwgdrLJgt3xRMyJ2Lp3NqD8NA56dqqmY'}, 'encrypted_key': 'lcX9SciRdoMOU7qeX9633jKX30klBl50acYbZaAh6JWmZg74qoAdlxzqs6OT-9Jx70bwtsM4y7jdgAOUHG8WArcqCNaPhOO7'}], 'iv': 'ZkayIL880iP4Ys_TvVS-yw', 'ciphertext': '9wPSrEQdF7dOVXhTfJMeqa0WAxvbfCGwWmYETWSZwYLUJFJIxQIxoMQQop81MamlLd6lT8x1AyMsfqsw3q6WxQPZIXyMsxj3isy0-ElQEs_9CIde_SDDyyR4SKjyVuHpvOpBhrtkHtx6hV7L8vjhLFWkp7bFR4IqlBNZkFz9q8liktHu7tXcRyw6er60aR724BnFvPJjbAaW0dH7cCdtHIS_Ilk1RuwD8KmtUxR0M_aX0FP-e0jVoalVxwhlZ36wlr0k4KiHoqAVUVwZ6-vWmFpEDQD0Mu3w6RWNVnFVHVDOKr1iArE1Zw_iy3o6ZEFa8gzQIW7R4cs0XSID0_tVJf9fZMCUvgjonXDqpBMyS27EikkaWfIVeUdUqtlA4t1PZS3m8Wsyh8rCm461Y6h1d2ikbUMr6Jz_0Ch1kaeWFzmhaITpHsGvxlw0-L-Wx3kYU_OEmVrFOl5bAysp_J8ytzrdM3O952q5RU-ZzspsZNZn7jGBF5-q6NMXoyTCzs_s1P3v-VkoZ1CD3VUoKnSeSYGwaV3hzMxlHkMwAgcxdXweyJZWa-oNNVL9YrUMH5m2weTmL03xKn0yYjaaELsW5-9gvmNMEqU0zlQKV-FFY98cfk8Sobxt3fIK0jAoLRKMDwbQugI4bWsingFzx-TB6x3k5eTXBBtFKQlcidtdWGLNexxZimH2ZdEzmer62fIZ1Vr933eawrCJlfZQCZr8YK3l_K_TDDKk0Bhx5coBmjiMEZ-b9Qsq2cTOsvlCIGPAyxkv0DRPYd1cqXt-zIf9d9GvHHs2H2EJvItSgAMNafXVMWnpx1m2zr40nVOdk7qKG_kfGE7MYiOE1nKxINdBU7UYtuDAzhppSbRTDqV-Mf8t-Z1gLt7IxNPtHyHfQzfJbMb3OdAIqh1yAx3r4LquBGAxbPJbZyOd3jHPB3Ks86yb6R7eiNat1RivdfREXQAsFKPy-lKSlE4BifqKVmy9F9_wiBSOA7nXqoLtWMguuuRK248HyDFqi9BRYwTT1U7m5qftCHOQ4QWMsE2b44SbtyGGck4fchtH5gphjxPwpVXtxVSFQaSDKxtu6S44Ka3OA5fzZ0WF3F7-8rEvg9CjvW54tbEZ0PisfNI-fvn_qz0ltU4PtJadA-BleFXcrdN4gwhSpAZuqRaRzXcKfpD_J5U4D_ba4ratPHR_wDE9sjeVe9-CnXJQicOaTuG85JqhUIq6hv5t6WZmfJtJBGpXfsIQxyfp6Ps2FKlMShi-LFtqBJIub6y6Y0GHek-2HW_xRIAixYzf_YMVWGe67f6KjYmwCaefqioOXE0oLFD1vPUHaBm_pIWpdTkOLzUGAC-bkUKHTcPGpaJVU_hlJNxspMMyAOh4QG-ND2IE6_8wXx6KPy0hobttdeUy_Brykzt-YJlI35hbeIfphGSHNE1JqdH9njpkucpVoaU9yptGHPmyGbaNGWWNooc2Xw0j88bktiN9pWXLnYrKfhxjXX_SoJcDFQHNXRRTj6ZVnj0kTUKrW0PcmFqBVRGpy5XA4zfXQqPJINqP2DYMzs27oHwc1HUgDiCpal7iYP6iB9j0YtwAAddPd2-rdgOKiDAguXwjGKxrerZnqAU7_mNnFdJ3Vnn0hHZaVUF6LuZbljFzsGUTHvfmHIraRYjcLoM1RivYpHfuTq8BY6GyOOzQsmZ6qQEVzXs_1KX0GRDQ5ffPbtsN10ZCJNwpeIIrwuLC0OyMxIvGBYn-teHdOI683Qy63tIZuJoB7TS9Cc1iRYL3eCIZUBAqultcsSJu5eY5yuTHpZhHAUSloGP7sjXUqZA8qi2UwsRilUGCYm5hhdBwyOuF-LHGY0IDTVemSeiYWKyoZojdO4Sh3ok4sL1HAF7eJteSe5YR-XFpci-dxA-0_xSNPCbYJYDVIDDnNxgw0AdzXKg8WAOwfuBuxaBvhv2gZrxS02UMPO6X3z_cMXrU20hf4agEqXM1pVWFXlgeIRBJlfr-V28cqEpOq-FMKOq7kzw0wo3gJnarSlcKiZu8934', 'tag': 'U_BoQ9uUu87L4qMpMEMIaEpteq7OkWcZ6p_0zLkL1_Y'}\n"
     ]
    }
   ],
   "source": [
    "print(resp.json())"
   ]
  },
  {
   "cell_type": "markdown",
   "metadata": {},
   "source": [
    "### Get mediator grant response"
   ]
  },
  {
   "cell_type": "code",
   "execution_count": 13,
   "metadata": {},
   "outputs": [
    {
     "name": "stdout",
     "output_type": "stream",
     "text": [
      "https://didcomm.org/coordinate-mediation/2.0/mediate-grant\n",
      "Routing Key: did:peer:2.Ez6LSdzgFN8n6m6oX5maRAFhiGT6sMUMXc9Z4pPXKbiw5UscD.Vz6Mkte5JMKAN1dd3BwiZ4nhfaKoS9kgTkFaXJUPZWiYTcwo8.SeyJpZCI6Im5ldy1pZCIsInQiOiJkbSIsInMiOiJodHRwczovL21lZGlhdG9yLnJvb3RzaWQuY2xvdWQiLCJhIjpbImRpZGNvbW0vdjIiXX0\n",
      "Mediator new DID: did:peer:2.Ez6LStattSb9zcsSPY1JF8UVWKmroQqqUGFqfCBNJLtWBdNsp.Vz6MkoN8J3PwRfuUpaPGFqPuKe1Nn25BkDgFP4LvedA9sf9qC.SeyJpZCI6Im5ldy1pZCIsInQiOiJkbSIsInMiOiJodHRwczovL21lZGlhdG9yLnJvb3RzaWQuY2xvdWQiLCJhIjpbImRpZGNvbW0vdjIiXX0\n"
     ]
    }
   ],
   "source": [
    "mediator_unpack_msg = await unpack(\n",
    "    resolvers_config=ResolversConfig(\n",
    "        secrets_resolver=secrets_resolver,\n",
    "        did_resolver=DIDResolverPeerDID()\n",
    "    ),\n",
    "    packed_msg= resp.json()\n",
    ")\n",
    "print(mediator_unpack_msg.message.type)\n",
    "print(\"Routing Key: \" + mediator_unpack_msg.message.body[\"routing_did\"])\n",
    "print(\"Mediator new DID: \" + mediator_unpack_msg.message.from_prior.sub)\n",
    "# mediator rotated did\n",
    "mediator_routing_key = mediator_unpack_msg.message.body[\"routing_did\"]\n",
    "mediator_did = mediator_unpack_msg.message.from_prior.sub"
   ]
  },
  {
   "cell_type": "markdown",
   "metadata": {},
   "source": [
    "### Keylist update"
   ]
  },
  {
   "cell_type": "markdown",
   "metadata": {},
   "source": [
    "Alice create a new DID to share with  other peers using mediator routing keys "
   ]
  },
  {
   "cell_type": "code",
   "execution_count": 14,
   "metadata": {},
   "outputs": [
    {
     "name": "stdout",
     "output_type": "stream",
     "text": [
      "Alice's DID for Bob: did:peer:2.Ez6LSrnVyxnyWtHpPxQMckBgKmMB49FFaDk43VCndC3mdT78b.Vz6MkrtCLZo2c4jUbuuCr54Av9SjxXcPwoss5qgE481YD2fhK.SeyJpZCI6IiNkaWRjb21tbWVzc2FnaW5nLTAiLCJ0IjoiZG0iLCJzIjoiaHR0cHM6Ly9tZWRpYXRvci5yb290c2lkLmNsb3VkIiwiYSI6WyJkaWRjb21tL3YyIl0sInIiOlsiZGlkOnBlZXI6Mi5FejZMU2R6Z0ZOOG42bTZvWDVtYVJBRmhpR1Q2c01VTVhjOVo0cFBYS2JpdzVVc2NELlZ6Nk1rdGU1Sk1LQU4xZGQzQndpWjRuaGZhS29TOWtnVGtGYVhKVVBaV2lZVGN3bzguU2V5SnBaQ0k2SW01bGR5MXBaQ0lzSW5RaU9pSmtiU0lzSW5NaU9pSm9kSFJ3Y3pvdkwyMWxaR2xoZEc5eUxuSnZiM1J6YVdRdVkyeHZkV1FpTENKaElqcGJJbVJwWkdOdmJXMHZkaklpWFgwIl19\n"
     ]
    }
   ],
   "source": [
    "alice_did_new = await create_peer_did(1, 1, service_endpoint=mediator_endpoint, service_routing_keys=[mediator_routing_key])\n",
    "# alice_did_for_bob = await create_peer_did(1, 1, service_endpoint=mediator_routing_key)\n",
    "\n",
    "print(\"Alice's DID for Bob:\", alice_did_new)"
   ]
  },
  {
   "cell_type": "markdown",
   "metadata": {},
   "source": [
    "Alice create and send the keylist update message"
   ]
  },
  {
   "cell_type": "code",
   "execution_count": 15,
   "metadata": {},
   "outputs": [],
   "source": [
    "alice_keylist_update = Message(\n",
    "    id = \"unique-id-293e9a922efff\",\n",
    "    type = \"https://didcomm.org/coordinate-mediation/2.0/keylist-update\",\n",
    "    body = {\n",
    "        \"updates\":[\n",
    "        {\n",
    "            \"recipient_did\": alice_did_new,\n",
    "            \"action\": \"add\"\n",
    "        }\n",
    "    ]\n",
    "    }\n",
    ")"
   ]
  },
  {
   "cell_type": "code",
   "execution_count": 16,
   "metadata": {},
   "outputs": [],
   "source": [
    "alice_keylist_update_packed_msg = await pack_encrypted(\n",
    "    resolvers_config = ResolversConfig(\n",
    "        secrets_resolver = secrets_resolver,\n",
    "        did_resolver = DIDResolverPeerDID()\n",
    "    ),\n",
    "    message = alice_keylist_update,\n",
    "    frm = alice_did_for_mediator,\n",
    "    to = mediator_did,\n",
    "    sign_frm = None,\n",
    "    pack_config = PackEncryptedConfig(protect_sender_id=False)\n",
    ")"
   ]
  },
  {
   "cell_type": "code",
   "execution_count": 17,
   "metadata": {},
   "outputs": [],
   "source": [
    "headers = {\"Content-Type\": \"application/didcomm-encrypted+json\"}\n",
    "resp = requests.post(mediator_endpoint, headers=headers, data = alice_keylist_update_packed_msg.packed_msg)"
   ]
  },
  {
   "cell_type": "code",
   "execution_count": 18,
   "metadata": {},
   "outputs": [
    {
     "name": "stdout",
     "output_type": "stream",
     "text": [
      "https://didcomm.org/coordinate-mediation/2.0/keylist-update-response\n",
      "{'updated': [{'recipient_did': 'did:peer:2.Ez6LSrnVyxnyWtHpPxQMckBgKmMB49FFaDk43VCndC3mdT78b.Vz6MkrtCLZo2c4jUbuuCr54Av9SjxXcPwoss5qgE481YD2fhK.SeyJpZCI6IiNkaWRjb21tbWVzc2FnaW5nLTAiLCJ0IjoiZG0iLCJzIjoiaHR0cHM6Ly9tZWRpYXRvci5yb290c2lkLmNsb3VkIiwiYSI6WyJkaWRjb21tL3YyIl0sInIiOlsiZGlkOnBlZXI6Mi5FejZMU2R6Z0ZOOG42bTZvWDVtYVJBRmhpR1Q2c01VTVhjOVo0cFBYS2JpdzVVc2NELlZ6Nk1rdGU1Sk1LQU4xZGQzQndpWjRuaGZhS29TOWtnVGtGYVhKVVBaV2lZVGN3bzguU2V5SnBaQ0k2SW01bGR5MXBaQ0lzSW5RaU9pSmtiU0lzSW5NaU9pSm9kSFJ3Y3pvdkwyMWxaR2xoZEc5eUxuSnZiM1J6YVdRdVkyeHZkV1FpTENKaElqcGJJbVJwWkdOdmJXMHZkaklpWFgwIl19', 'action': 'add', 'result': 'success'}]}\n"
     ]
    }
   ],
   "source": [
    "mediator_unpack_msg2 = await unpack(\n",
    "    resolvers_config=ResolversConfig(\n",
    "        secrets_resolver=secrets_resolver,\n",
    "        did_resolver=DIDResolverPeerDID()\n",
    "    ),\n",
    "    packed_msg= resp.json()\n",
    ")\n",
    "print(mediator_unpack_msg2.message.type)\n",
    "print(mediator_unpack_msg2.message.body)\n"
   ]
  },
  {
   "cell_type": "markdown",
   "metadata": {},
   "source": [
    "### Alice can now send her DID message to Nessus"
   ]
  },
  {
   "cell_type": "code",
   "execution_count": null,
   "metadata": {},
   "outputs": [],
   "source": []
  },
  {
   "cell_type": "code",
   "execution_count": 19,
   "metadata": {},
   "outputs": [
    {
     "data": {
      "text/plain": [
       "{'id': 'did:peer:2.Ez6LShroqrxP6vrwcyhyG7iDfZ9YpdNZzCVFEaaS8n9fkQQGL.Vz6MkkL7EaycmQTpdiodvEfQipKmjy2JCmHyYo4JEJWwXvCmE.SeyJ0IjoiZG0iLCJzIjoiaHR0cDovL25lc3N1cy10ZWNoLmlvOjkxMDAifQ',\n",
       " 'authentication': [{'id': 'did:peer:2.Ez6LShroqrxP6vrwcyhyG7iDfZ9YpdNZzCVFEaaS8n9fkQQGL.Vz6MkkL7EaycmQTpdiodvEfQipKmjy2JCmHyYo4JEJWwXvCmE.SeyJ0IjoiZG0iLCJzIjoiaHR0cDovL25lc3N1cy10ZWNoLmlvOjkxMDAifQ#6MkkL7EaycmQTpdiodvEfQipKmjy2JCmHyYo4JEJWwXvCmE',\n",
       "   'type': 'Ed25519VerificationKey2020',\n",
       "   'controller': 'did:peer:2.Ez6LShroqrxP6vrwcyhyG7iDfZ9YpdNZzCVFEaaS8n9fkQQGL.Vz6MkkL7EaycmQTpdiodvEfQipKmjy2JCmHyYo4JEJWwXvCmE.SeyJ0IjoiZG0iLCJzIjoiaHR0cDovL25lc3N1cy10ZWNoLmlvOjkxMDAifQ',\n",
       "   'publicKeyMultibase': 'z6MkkL7EaycmQTpdiodvEfQipKmjy2JCmHyYo4JEJWwXvCmE'}],\n",
       " 'keyAgreement': [{'id': 'did:peer:2.Ez6LShroqrxP6vrwcyhyG7iDfZ9YpdNZzCVFEaaS8n9fkQQGL.Vz6MkkL7EaycmQTpdiodvEfQipKmjy2JCmHyYo4JEJWwXvCmE.SeyJ0IjoiZG0iLCJzIjoiaHR0cDovL25lc3N1cy10ZWNoLmlvOjkxMDAifQ#6LShroqrxP6vrwcyhyG7iDfZ9YpdNZzCVFEaaS8n9fkQQGL',\n",
       "   'type': 'X25519KeyAgreementKey2020',\n",
       "   'controller': 'did:peer:2.Ez6LShroqrxP6vrwcyhyG7iDfZ9YpdNZzCVFEaaS8n9fkQQGL.Vz6MkkL7EaycmQTpdiodvEfQipKmjy2JCmHyYo4JEJWwXvCmE.SeyJ0IjoiZG0iLCJzIjoiaHR0cDovL25lc3N1cy10ZWNoLmlvOjkxMDAifQ',\n",
       "   'publicKeyMultibase': 'z6LShroqrxP6vrwcyhyG7iDfZ9YpdNZzCVFEaaS8n9fkQQGL'}],\n",
       " 'service': [{'id': 'did:peer:2.Ez6LShroqrxP6vrwcyhyG7iDfZ9YpdNZzCVFEaaS8n9fkQQGL.Vz6MkkL7EaycmQTpdiodvEfQipKmjy2JCmHyYo4JEJWwXvCmE.SeyJ0IjoiZG0iLCJzIjoiaHR0cDovL25lc3N1cy10ZWNoLmlvOjkxMDAifQ#didcommmessaging-0',\n",
       "   'type': 'DIDCommMessaging',\n",
       "   'serviceEndpoint': 'http://nessus-tech.io:9100'}]}"
      ]
     },
     "execution_count": 19,
     "metadata": {},
     "output_type": "execute_result"
    }
   ],
   "source": [
    "#get nessus\n",
    "nessus_invitation = json.loads(requests.get('http://nessus-tech.io:9100/invitation?inviter=Government&method=peer').text)\n",
    "nessus_did_doc = json.loads(peer_did.resolve_peer_did(nessus_invitation[\"from\"]))\n",
    "nessus_did_doc"
   ]
  },
  {
   "cell_type": "code",
   "execution_count": 20,
   "metadata": {},
   "outputs": [
    {
     "data": {
      "text/plain": [
       "{'id': 'did:peer:2.Ez6LShroqrxP6vrwcyhyG7iDfZ9YpdNZzCVFEaaS8n9fkQQGL.Vz6MkkL7EaycmQTpdiodvEfQipKmjy2JCmHyYo4JEJWwXvCmE.SeyJ0IjoiZG0iLCJzIjoiaHR0cDovL25lc3N1cy10ZWNoLmlvOjkxMDAifQ',\n",
       " 'authentication': [{'id': 'did:peer:2.Ez6LShroqrxP6vrwcyhyG7iDfZ9YpdNZzCVFEaaS8n9fkQQGL.Vz6MkkL7EaycmQTpdiodvEfQipKmjy2JCmHyYo4JEJWwXvCmE.SeyJ0IjoiZG0iLCJzIjoiaHR0cDovL25lc3N1cy10ZWNoLmlvOjkxMDAifQ#6MkkL7EaycmQTpdiodvEfQipKmjy2JCmHyYo4JEJWwXvCmE',\n",
       "   'type': 'Ed25519VerificationKey2020',\n",
       "   'controller': 'did:peer:2.Ez6LShroqrxP6vrwcyhyG7iDfZ9YpdNZzCVFEaaS8n9fkQQGL.Vz6MkkL7EaycmQTpdiodvEfQipKmjy2JCmHyYo4JEJWwXvCmE.SeyJ0IjoiZG0iLCJzIjoiaHR0cDovL25lc3N1cy10ZWNoLmlvOjkxMDAifQ',\n",
       "   'publicKeyMultibase': 'z6MkkL7EaycmQTpdiodvEfQipKmjy2JCmHyYo4JEJWwXvCmE'}],\n",
       " 'keyAgreement': [{'id': 'did:peer:2.Ez6LShroqrxP6vrwcyhyG7iDfZ9YpdNZzCVFEaaS8n9fkQQGL.Vz6MkkL7EaycmQTpdiodvEfQipKmjy2JCmHyYo4JEJWwXvCmE.SeyJ0IjoiZG0iLCJzIjoiaHR0cDovL25lc3N1cy10ZWNoLmlvOjkxMDAifQ#6LShroqrxP6vrwcyhyG7iDfZ9YpdNZzCVFEaaS8n9fkQQGL',\n",
       "   'type': 'X25519KeyAgreementKey2020',\n",
       "   'controller': 'did:peer:2.Ez6LShroqrxP6vrwcyhyG7iDfZ9YpdNZzCVFEaaS8n9fkQQGL.Vz6MkkL7EaycmQTpdiodvEfQipKmjy2JCmHyYo4JEJWwXvCmE.SeyJ0IjoiZG0iLCJzIjoiaHR0cDovL25lc3N1cy10ZWNoLmlvOjkxMDAifQ',\n",
       "   'publicKeyMultibase': 'z6LShroqrxP6vrwcyhyG7iDfZ9YpdNZzCVFEaaS8n9fkQQGL'}],\n",
       " 'service': [{'id': 'did:peer:2.Ez6LShroqrxP6vrwcyhyG7iDfZ9YpdNZzCVFEaaS8n9fkQQGL.Vz6MkkL7EaycmQTpdiodvEfQipKmjy2JCmHyYo4JEJWwXvCmE.SeyJ0IjoiZG0iLCJzIjoiaHR0cDovL25lc3N1cy10ZWNoLmlvOjkxMDAifQ#didcommmessaging-0',\n",
       "   'type': 'DIDCommMessaging',\n",
       "   'serviceEndpoint': 'http://nessus-tech.io:9100'}]}"
      ]
     },
     "execution_count": 20,
     "metadata": {},
     "output_type": "execute_result"
    }
   ],
   "source": [
    "nessus_did_doc"
   ]
  },
  {
   "cell_type": "code",
   "execution_count": 21,
   "metadata": {},
   "outputs": [
    {
     "data": {
      "text/plain": [
       "'{}'"
      ]
     },
     "execution_count": 21,
     "metadata": {},
     "output_type": "execute_result"
    }
   ],
   "source": [
    "ping_msg = Message(\n",
    "    body = { \"response_requested\": True , 'suggested_label': \"THEROOTS\" },\n",
    "    id = str(uuid.uuid4()),\n",
    "    type = \"https://didcomm.org/trust-ping/2.0/ping\",\n",
    "    frm = alice_did_new,\n",
    "    to = [nessus_invitation[\"from\"]],\n",
    ")\n",
    "\n",
    "tony_trust_ping_packed = await pack_encrypted(\n",
    "    resolvers_config = ResolversConfig(\n",
    "        secrets_resolver = secrets_resolver,\n",
    "        did_resolver = DIDResolverPeerDID()\n",
    "    ),\n",
    "    message = ping_msg,\n",
    "    frm = alice_did_new,\n",
    "    to = nessus_invitation['from'],\n",
    "    sign_frm = None,\n",
    "    pack_config = PackEncryptedConfig(protect_sender_id=False)\n",
    ")\n",
    "trust_ping_did_doc = json.loads(peer_did.resolve_peer_did(nessus_invitation[\"from\"]))\n",
    "trust_ping_endpoint = trust_ping_did_doc[\"service\"][0][\"serviceEndpoint\"]\n",
    "headers = {\"Content-Type\": \"application/didcomm-encrypted+json\"}\n",
    "resp = requests.post(trust_ping_endpoint, headers=headers, json = json.loads(tony_trust_ping_packed.packed_msg))\n",
    "resp.text"
   ]
  },
  {
   "cell_type": "markdown",
   "metadata": {},
   "source": [
    "### Alice check status of queued messages from the Mediator"
   ]
  },
  {
   "cell_type": "code",
   "execution_count": 22,
   "metadata": {},
   "outputs": [],
   "source": [
    "alice_status_check = Message(\n",
    "    id = \"unique-id-293e9a922efffxxx\",\n",
    "    type = \"https://didcomm.org/messagepickup/3.0/status-request\",\n",
    "    body = {}\n",
    ")"
   ]
  },
  {
   "cell_type": "code",
   "execution_count": 23,
   "metadata": {},
   "outputs": [],
   "source": [
    "alice_status_check_packed_msg = await pack_encrypted(\n",
    "    resolvers_config = ResolversConfig(\n",
    "        secrets_resolver = secrets_resolver,\n",
    "        did_resolver = DIDResolverPeerDID()\n",
    "    ),\n",
    "    message = alice_status_check,\n",
    "    to = mediator_did,\n",
    "    frm = alice_did_for_mediator,\n",
    "    sign_frm = None,\n",
    "    pack_config = PackEncryptedConfig(protect_sender_id=False)\n",
    ")\n",
    "headers = {\"Content-Type\": \"application/didcomm-encrypted+json\"}\n",
    "resp3 = requests.post(mediator_endpoint, headers=headers, data = alice_status_check_packed_msg.packed_msg)"
   ]
  },
  {
   "cell_type": "code",
   "execution_count": 24,
   "metadata": {},
   "outputs": [
    {
     "name": "stdout",
     "output_type": "stream",
     "text": [
      "https://didcomm.org/messagepickup/3.0/status\n",
      "Messages in Mediator queue: 0\n"
     ]
    }
   ],
   "source": [
    "mediator_unpack_status = await unpack(\n",
    "    resolvers_config=ResolversConfig(\n",
    "        secrets_resolver=secrets_resolver,\n",
    "        did_resolver=DIDResolverPeerDID()\n",
    "    ),\n",
    "    packed_msg= resp3.json()\n",
    ")\n",
    "print(mediator_unpack_status.message.type)\n",
    "print(\"Messages in Mediator queue: \" + str(mediator_unpack_status.message.body[\"message_count\"]))"
   ]
  },
  {
   "cell_type": "markdown",
   "metadata": {},
   "source": [
    "### If there are messages, Alice can pickup from the mediator (delivery request)"
   ]
  },
  {
   "cell_type": "code",
   "execution_count": 25,
   "metadata": {},
   "outputs": [
    {
     "name": "stdout",
     "output_type": "stream",
     "text": [
      "Messages in Mediator queue: 1\n",
      "message 642f19e0fb5566e28c19e1d0 deleted\n",
      "UnpackResult(message=Message(id='e9969888-3cdd-4a20-b86f-6b95e429abf5', type='https://didcomm.org/trust-ping/2.0/ping-response', body={'comment': 'Pong from Government', 'suggested_label': 'Government'}, frm='did:peer:2.Ez6LShroqrxP6vrwcyhyG7iDfZ9YpdNZzCVFEaaS8n9fkQQGL.Vz6MkkL7EaycmQTpdiodvEfQipKmjy2JCmHyYo4JEJWwXvCmE.SeyJ0IjoiZG0iLCJzIjoiaHR0cDovL25lc3N1cy10ZWNoLmlvOjkxMDAifQ', to=['did:peer:2.Ez6LSrnVyxnyWtHpPxQMckBgKmMB49FFaDk43VCndC3mdT78b.Vz6MkrtCLZo2c4jUbuuCr54Av9SjxXcPwoss5qgE481YD2fhK.SeyJpZCI6IiNkaWRjb21tbWVzc2FnaW5nLTAiLCJ0IjoiZG0iLCJzIjoiaHR0cHM6Ly9tZWRpYXRvci5yb290c2lkLmNsb3VkIiwiYSI6WyJkaWRjb21tL3YyIl0sInIiOlsiZGlkOnBlZXI6Mi5FejZMU2R6Z0ZOOG42bTZvWDVtYVJBRmhpR1Q2c01VTVhjOVo0cFBYS2JpdzVVc2NELlZ6Nk1rdGU1Sk1LQU4xZGQzQndpWjRuaGZhS29TOWtnVGtGYVhKVVBaV2lZVGN3bzguU2V5SnBaQ0k2SW01bGR5MXBaQ0lzSW5RaU9pSmtiU0lzSW5NaU9pSm9kSFJ3Y3pvdkwyMWxaR2xoZEc5eUxuSnZiM1J6YVdRdVkyeHZkV1FpTENKaElqcGJJbVJwWkdOdmJXMHZkaklpWFgwIl19'], created_time=1680808415, expires_time=1680894815, from_prior=None, please_ack=None, ack=None, thid='3f67095c-bcb9-4ccb-8a88-d72ee4d80f9c', pthid=None, attachments=None, custom_headers=None), metadata=Metadata(encrypted=True, authenticated=True, non_repudiation=True, anonymous_sender=False, re_wrapped_in_forward=False, encrypted_from='did:peer:2.Ez6LShroqrxP6vrwcyhyG7iDfZ9YpdNZzCVFEaaS8n9fkQQGL.Vz6MkkL7EaycmQTpdiodvEfQipKmjy2JCmHyYo4JEJWwXvCmE.SeyJ0IjoiZG0iLCJzIjoiaHR0cDovL25lc3N1cy10ZWNoLmlvOjkxMDAifQ#6LShroqrxP6vrwcyhyG7iDfZ9YpdNZzCVFEaaS8n9fkQQGL', encrypted_to=['did:peer:2.Ez6LSrnVyxnyWtHpPxQMckBgKmMB49FFaDk43VCndC3mdT78b.Vz6MkrtCLZo2c4jUbuuCr54Av9SjxXcPwoss5qgE481YD2fhK.SeyJpZCI6IiNkaWRjb21tbWVzc2FnaW5nLTAiLCJ0IjoiZG0iLCJzIjoiaHR0cHM6Ly9tZWRpYXRvci5yb290c2lkLmNsb3VkIiwiYSI6WyJkaWRjb21tL3YyIl0sInIiOlsiZGlkOnBlZXI6Mi5FejZMU2R6Z0ZOOG42bTZvWDVtYVJBRmhpR1Q2c01VTVhjOVo0cFBYS2JpdzVVc2NELlZ6Nk1rdGU1Sk1LQU4xZGQzQndpWjRuaGZhS29TOWtnVGtGYVhKVVBaV2lZVGN3bzguU2V5SnBaQ0k2SW01bGR5MXBaQ0lzSW5RaU9pSmtiU0lzSW5NaU9pSm9kSFJ3Y3pvdkwyMWxaR2xoZEc5eUxuSnZiM1J6YVdRdVkyeHZkV1FpTENKaElqcGJJbVJwWkdOdmJXMHZkaklpWFgwIl19#6LSrnVyxnyWtHpPxQMckBgKmMB49FFaDk43VCndC3mdT78b'], sign_from='did:peer:2.Ez6LShroqrxP6vrwcyhyG7iDfZ9YpdNZzCVFEaaS8n9fkQQGL.Vz6MkkL7EaycmQTpdiodvEfQipKmjy2JCmHyYo4JEJWwXvCmE.SeyJ0IjoiZG0iLCJzIjoiaHR0cDovL25lc3N1cy10ZWNoLmlvOjkxMDAifQ#6MkkL7EaycmQTpdiodvEfQipKmjy2JCmHyYo4JEJWwXvCmE', from_prior_issuer_kid=None, enc_alg_auth=<AuthCryptAlg.A256CBC_HS512_ECDH_1PU_A256KW: Algs(alg='ECDH-1PU+A256KW', enc='A256CBC-HS512')>, enc_alg_anon=None, sign_alg=<SignAlg.ED25519: 'EdDSA'>, signed_message='{\"payload\":\"eyJpZCI6ImU5OTY5ODg4LTNjZGQtNGEyMC1iODZmLTZiOTVlNDI5YWJmNSIsInR5cCI6ImFwcGxpY2F0aW9uL2RpZGNvbW0tcGxhaW4ranNvbiIsInR5cGUiOiJodHRwczovL2RpZGNvbW0ub3JnL3RydXN0LXBpbmcvMi4wL3BpbmctcmVzcG9uc2UiLCJmcm9tIjoiZGlkOnBlZXI6Mi5FejZMU2hyb3FyeFA2dnJ3Y3loeUc3aURmWjlZcGROWnpDVkZFYWFTOG45ZmtRUUdMLlZ6Nk1ra0w3RWF5Y21RVHBkaW9kdkVmUWlwS21qeTJKQ21IeVlvNEpFSld3WHZDbUUuU2V5SjBJam9pWkcwaUxDSnpJam9pYUhSMGNEb3ZMMjVsYzNOMWN5MTBaV05vTG1sdk9qa3hNREFpZlEiLCJ0byI6WyJkaWQ6cGVlcjoyLkV6NkxTcm5WeXhueVd0SHBQeFFNY2tCZ0ttTUI0OUZGYURrNDNWQ25kQzNtZFQ3OGIuVno2TWtydENMWm8yYzRqVWJ1dUNyNTRBdjlTanhYY1B3b3NzNXFnRTQ4MVlEMmZoSy5TZXlKcFpDSTZJaU5rYVdSamIyMXRiV1Z6YzJGbmFXNW5MVEFpTENKMElqb2laRzBpTENKeklqb2lhSFIwY0hNNkx5OXRaV1JwWVhSdmNpNXliMjkwYzJsa0xtTnNiM1ZrSWl3aVlTSTZXeUprYVdSamIyMXRMM1l5SWwwc0luSWlPbHNpWkdsa09uQmxaWEk2TWk1RmVqWk1VMlI2WjBaT09HNDJiVFp2V0RWdFlWSkJSbWhwUjFRMmMwMVZUVmhqT1ZvMGNGQllTMkpwZHpWVmMyTkVMbFo2TmsxcmRHVTFTazFMUVU0eFpHUXpRbmRwV2pSdWFHWmhTMjlUT1d0blZHdEdZVmhLVlZCYVYybFpWR04zYnpndVUyVjVTbkJhUTBrMlNXMDFiR1I1TVhCYVEwbHpTVzVSYVU5cFNtdGlVMGx6U1c1TmFVOXBTbTlrU0ZKM1kzcHZka3d5TVd4YVIyeG9aRWM1ZVV4dVNuWmlNMUo2WVZkUmRWa3llSFprVjFGcFRFTkthRWxxY0dKSmJWSndXa2RPZG1KWE1IWmtha2xwV0Znd0lsMTkiXSwiY3JlYXRlZF90aW1lIjoxNjgwODA4NDE1LCJleHBpcmVzX3RpbWUiOjE2ODA4OTQ4MTUsImJvZHkiOnsiY29tbWVudCI6IlBvbmcgZnJvbSBHb3Zlcm5tZW50Iiwic3VnZ2VzdGVkX2xhYmVsIjoiR292ZXJubWVudCJ9LCJ0aGlkIjoiM2Y2NzA5NWMtYmNiOS00Y2NiLThhODgtZDcyZWU0ZDgwZjljIn0\",\"signatures\":[{\"protected\":\"eyJ0eXAiOiJhcHBsaWNhdGlvbi9kaWRjb21tLXNpZ25lZCtqc29uIiwiYWxnIjoiRWREU0EifQ\",\"signature\":\"E0NH_S6R71bJx_9WHTUBhuEfIYgnALjRND4F5wH65-SZH2JCUCO1gtvAjeSTfz7p6NxamuTiDyBcs5ufZ5Z1Cg\",\"header\":{\"kid\":\"did:peer:2.Ez6LShroqrxP6vrwcyhyG7iDfZ9YpdNZzCVFEaaS8n9fkQQGL.Vz6MkkL7EaycmQTpdiodvEfQipKmjy2JCmHyYo4JEJWwXvCmE.SeyJ0IjoiZG0iLCJzIjoiaHR0cDovL25lc3N1cy10ZWNoLmlvOjkxMDAifQ#6MkkL7EaycmQTpdiodvEfQipKmjy2JCmHyYo4JEJWwXvCmE\"}}]}', from_prior_jwt=None))\n"
     ]
    }
   ],
   "source": [
    "alice_status_check = Message(\n",
    "    id = str(uuid.uuid4()),\n",
    "    type = \"https://didcomm.org/messagepickup/3.0/status-request\",\n",
    "    body = {}\n",
    ")\n",
    "alice_status_check_packed_msg = await pack_encrypted(\n",
    "    resolvers_config = ResolversConfig(\n",
    "        secrets_resolver = secrets_resolver,\n",
    "        did_resolver = DIDResolverPeerDID()\n",
    "    ),\n",
    "    message = alice_status_check,\n",
    "    to = mediator_did,\n",
    "    frm = alice_did_for_mediator,\n",
    "    sign_frm = None,\n",
    "    pack_config = PackEncryptedConfig(protect_sender_id=False)\n",
    ")\n",
    "headers = {\"Content-Type\": \"application/didcomm-encrypted+json\"}\n",
    "resp3 = requests.post(mediator_endpoint, headers=headers, data = alice_status_check_packed_msg.packed_msg)\n",
    "mediator_unpack_status = await unpack(\n",
    "    resolvers_config=ResolversConfig(\n",
    "        secrets_resolver=secrets_resolver,\n",
    "        did_resolver=DIDResolverPeerDID()\n",
    "    ),\n",
    "    packed_msg= resp3.json()\n",
    ")\n",
    "print(\"Messages in Mediator queue: \" + str(mediator_unpack_status.message.body[\"message_count\"]))\n",
    "if mediator_unpack_status.message.body[\"message_count\"]>0:\n",
    "    alice_delivery_request = Message(\n",
    "        id = str(uuid.uuid4()),\n",
    "        type = \"https://didcomm.org/messagepickup/3.0/delivery-request\",\n",
    "        body = {\"limit\": 1}\n",
    "    )\n",
    "    alice_delivery_request_packed_msg = await pack_encrypted(\n",
    "        resolvers_config = ResolversConfig(\n",
    "            secrets_resolver = secrets_resolver,\n",
    "            did_resolver = DIDResolverPeerDID()\n",
    "        ),\n",
    "        message = alice_delivery_request,\n",
    "        to = mediator_did,\n",
    "        frm = alice_did_for_mediator,\n",
    "        sign_frm = None,\n",
    "        pack_config = PackEncryptedConfig(protect_sender_id=False)\n",
    "    )\n",
    "    headers = {\"Content-Type\": \"application/didcomm-encrypted+json\"}\n",
    "    resp4 = requests.post(mediator_endpoint, headers=headers, data = alice_delivery_request_packed_msg.packed_msg)\n",
    "    mediator_delivery = await unpack(\n",
    "        resolvers_config=ResolversConfig(\n",
    "            secrets_resolver=secrets_resolver,\n",
    "            did_resolver=DIDResolverPeerDID()\n",
    "        ),\n",
    "        packed_msg= resp4.json()\n",
    "    )\n",
    "    bob_packed_msg = mediator_delivery.message.attachments[0].data.json\n",
    "    msg_id = mediator_delivery.message.attachments[0].id\n",
    "    bob_msg = await unpack(\n",
    "        resolvers_config=ResolversConfig(\n",
    "            secrets_resolver=secrets_resolver,\n",
    "            did_resolver=DIDResolverPeerDID()\n",
    "        ),\n",
    "        packed_msg= bob_packed_msg\n",
    "    )\n",
    "    \n",
    "    alice_ack = Message(\n",
    "    id = str(uuid.uuid4()),\n",
    "    type = \"https://didcomm.org/messagepickup/3.0/messages-received\",\n",
    "    body = {\"message_id_list\": [msg_id]}\n",
    "    )\n",
    "    alice_ack_packed_msg = await pack_encrypted(\n",
    "        resolvers_config = ResolversConfig(\n",
    "            secrets_resolver = secrets_resolver,\n",
    "            did_resolver = DIDResolverPeerDID()\n",
    "        ),\n",
    "        message = alice_ack,\n",
    "        to = mediator_did,\n",
    "        frm = alice_did_for_mediator,\n",
    "        sign_frm = None,\n",
    "        pack_config = PackEncryptedConfig(protect_sender_id=False)\n",
    "    )\n",
    "    headers = {\"Content-Type\": \"application/didcomm-encrypted+json\"}\n",
    "    resp5 = requests.post(mediator_endpoint, headers=headers, data = alice_ack_packed_msg.packed_msg)\n",
    "    mediator_ack_status = await unpack(\n",
    "        resolvers_config=ResolversConfig(\n",
    "            secrets_resolver=secrets_resolver,\n",
    "            did_resolver=DIDResolverPeerDID()\n",
    "        ),\n",
    "        packed_msg= resp5.json()\n",
    "    )\n",
    "    print(f'message {msg_id} deleted')\n",
    "    print(bob_msg)\n",
    "    \n",
    "    "
   ]
  },
  {
   "cell_type": "markdown",
   "metadata": {},
   "source": [
    "## Send basic message to Nessus"
   ]
  },
  {
   "cell_type": "code",
   "execution_count": 26,
   "metadata": {},
   "outputs": [
    {
     "data": {
      "text/plain": [
       "'{}'"
      ]
     },
     "execution_count": 26,
     "metadata": {},
     "output_type": "execute_result"
    }
   ],
   "source": [
    "\n",
    "tony_basic_message = Message(\n",
    "    id = str(uuid.uuid4()),\n",
    "    thid = str(uuid.uuid4()),\n",
    "    type=\"https://didcomm.org/basicmessage/2.0/message\",\n",
    "    body={\"content\": f'YOYOYO Nessus, this is RootsID {str(uuid.uuid4())[:5]}'},\n",
    "    created_time= int(datetime.datetime.now().timestamp()),\n",
    "    to = [nessus_invitation['from']],\n",
    "        frm = alice_did_new,\n",
    ")\n",
    "\n",
    "tony_basic_message_packed = await pack_encrypted(\n",
    "    resolvers_config = ResolversConfig(\n",
    "        secrets_resolver = secrets_resolver,\n",
    "        did_resolver = DIDResolverPeerDID()\n",
    "    ),\n",
    "    message = tony_basic_message,\n",
    "    frm = alice_did_new,\n",
    "    to = nessus_invitation['from'],\n",
    "    sign_frm = None,\n",
    "    pack_config = PackEncryptedConfig(protect_sender_id=False)\n",
    ")\n",
    "\n",
    "trust_ping_did_doc = json.loads(peer_did.resolve_peer_did(nessus_invitation[\"from\"]))\n",
    "trust_ping_endpoint = trust_ping_did_doc[\"service\"][0][\"serviceEndpoint\"]\n",
    "headers = {\"Content-Type\": \"application/didcomm-encrypted+json\"}\n",
    "resp = requests.post(trust_ping_endpoint, headers=headers, json = json.loads(tony_basic_message_packed.packed_msg))\n",
    "resp.text"
   ]
  },
  {
   "cell_type": "markdown",
   "metadata": {},
   "source": [
    "# Propose Credential "
   ]
  },
  {
   "cell_type": "code",
   "execution_count": 27,
   "metadata": {},
   "outputs": [
    {
     "data": {
      "text/plain": [
       "'{}'"
      ]
     },
     "execution_count": 27,
     "metadata": {},
     "output_type": "execute_result"
    }
   ],
   "source": [
    "\n",
    "tony_basic_message = Message(\n",
    "    id = str(uuid.uuid4()),\n",
    "    thid = str(uuid.uuid4()),\n",
    "    type=\"https://didcomm.org/issue-credential/3.0/propose-credential\",\n",
    "    body={\n",
    "    \"goal_code\": \"Issue Passport Credential\",\n",
    "    \"credential_preview\": [\n",
    "      {\n",
    "        \"name\": \"givenName\",\n",
    "        \"value\": \"Rajesh\"\n",
    "      },\n",
    "      {\n",
    "        \"name\": \"familyName\",\n",
    "        \"value\": \"Hamal\"\n",
    "      },\n",
    "      {\n",
    "        \"name\": \"citizenship\",\n",
    "        \"value\": \"US\"\n",
    "      }\n",
    "    ]\n",
    "  },\n",
    "    created_time= int(datetime.datetime.now().timestamp()),\n",
    "    to = [nessus_invitation['from']],\n",
    "    frm = alice_did_new,\n",
    "    attachments=[Attachment(\n",
    "            data=AttachmentDataJson(json={\n",
    "          \"type\": [\n",
    "            \"VerifiableCredential\",\n",
    "            \"Passport\"\n",
    "          ],\n",
    "          \"@context\": [\n",
    "            \"https://www.w3.org/2018/credentials/v1\"\n",
    "          ],\n",
    "          \"id\": \"urn:uuid:ee9205ac-0f67-4c22-b961-968c4a5db2c0\",\n",
    "          \"issuer\": \"did:key:z6Mkoe1KHk9aEJeTbWtC6AQTpX7FeUMNqSSVubVgY2M1X9st\",\n",
    "          \"issuanceDate\": \"2023-04-06T10:58:22.335067Z\",\n",
    "          \"credentialSchema\": {\n",
    "            \"id\": \"class:nessus/schema/PassportSchema-draft-01.json\",\n",
    "            \"type\": \"JsonSchemaValidator2018\"\n",
    "          },\n",
    "          \"credentialSubject\": {\n",
    "            \"id\": \"did:key:z6Mkrea1ndAivx7y7iXVgSBK98BLYmBm7RPdfEtwRN3MSVfj\",\n",
    "            \"givenName\": \"Rajesh\",\n",
    "            \"familyName\": \"Hamal\",\n",
    "            \"citizenship\": \"US\"\n",
    "          }\n",
    "        })\n",
    "    )])\n",
    "\n",
    "tony_basic_message_packed = await pack_encrypted(\n",
    "    resolvers_config = ResolversConfig(\n",
    "        secrets_resolver = secrets_resolver,\n",
    "        did_resolver = DIDResolverPeerDID()\n",
    "    ),\n",
    "    message = tony_basic_message,\n",
    "    frm = alice_did_new,\n",
    "    to = nessus_invitation['from'],\n",
    "    sign_frm = None,\n",
    "    pack_config = PackEncryptedConfig(protect_sender_id=False)\n",
    ")\n",
    "\n",
    "trust_ping_did_doc = json.loads(peer_did.resolve_peer_did(nessus_invitation[\"from\"]))\n",
    "trust_ping_endpoint = trust_ping_did_doc[\"service\"][0][\"serviceEndpoint\"]\n",
    "headers = {\"Content-Type\": \"application/didcomm-encrypted+json\"}\n",
    "resp = requests.post(trust_ping_endpoint, headers=headers, json = json.loads(tony_basic_message_packed.packed_msg))\n",
    "resp.text"
   ]
  },
  {
   "cell_type": "markdown",
   "metadata": {},
   "source": [
    "# poll messages from mediator"
   ]
  },
  {
   "cell_type": "code",
   "execution_count": 28,
   "metadata": {},
   "outputs": [
    {
     "name": "stdout",
     "output_type": "stream",
     "text": [
      "Messages in Mediator queue: 0\n"
     ]
    }
   ],
   "source": [
    "alice_status_check = Message(\n",
    "    id = str(uuid.uuid4()),\n",
    "    type = \"https://didcomm.org/messagepickup/3.0/status-request\",\n",
    "    body = {}\n",
    ")\n",
    "alice_status_check_packed_msg = await pack_encrypted(\n",
    "    resolvers_config = ResolversConfig(\n",
    "        secrets_resolver = secrets_resolver,\n",
    "        did_resolver = DIDResolverPeerDID()\n",
    "    ),\n",
    "    message = alice_status_check,\n",
    "    to = mediator_did,\n",
    "    frm = alice_did_for_mediator,\n",
    "    sign_frm = None,\n",
    "    pack_config = PackEncryptedConfig(protect_sender_id=False)\n",
    ")\n",
    "headers = {\"Content-Type\": \"application/didcomm-encrypted+json\"}\n",
    "resp3 = requests.post(mediator_endpoint, headers=headers, data = alice_status_check_packed_msg.packed_msg)\n",
    "mediator_unpack_status = await unpack(\n",
    "    resolvers_config=ResolversConfig(\n",
    "        secrets_resolver=secrets_resolver,\n",
    "        did_resolver=DIDResolverPeerDID()\n",
    "    ),\n",
    "    packed_msg= resp3.json()\n",
    ")\n",
    "print(\"Messages in Mediator queue: \" + str(mediator_unpack_status.message.body[\"message_count\"]))\n",
    "if mediator_unpack_status.message.body[\"message_count\"]>0:\n",
    "    alice_delivery_request = Message(\n",
    "        id = str(uuid.uuid4()),\n",
    "        type = \"https://didcomm.org/messagepickup/3.0/delivery-request\",\n",
    "        body = {\"limit\": 1}\n",
    "    )\n",
    "    alice_delivery_request_packed_msg = await pack_encrypted(\n",
    "        resolvers_config = ResolversConfig(\n",
    "            secrets_resolver = secrets_resolver,\n",
    "            did_resolver = DIDResolverPeerDID()\n",
    "        ),\n",
    "        message = alice_delivery_request,\n",
    "        to = mediator_did,\n",
    "        frm = alice_did_for_mediator,\n",
    "        sign_frm = None,\n",
    "        pack_config = PackEncryptedConfig(protect_sender_id=False)\n",
    "    )\n",
    "    headers = {\"Content-Type\": \"application/didcomm-encrypted+json\"}\n",
    "    resp4 = requests.post(mediator_endpoint, headers=headers, data = alice_delivery_request_packed_msg.packed_msg)\n",
    "    mediator_delivery = await unpack(\n",
    "        resolvers_config=ResolversConfig(\n",
    "            secrets_resolver=secrets_resolver,\n",
    "            did_resolver=DIDResolverPeerDID()\n",
    "        ),\n",
    "        packed_msg= resp4.json()\n",
    "    )\n",
    "    bob_packed_msg = mediator_delivery.message.attachments[0].data.json\n",
    "    msg_id = mediator_delivery.message.attachments[0].id\n",
    "    bob_msg = await unpack(\n",
    "        resolvers_config=ResolversConfig(\n",
    "            secrets_resolver=secrets_resolver,\n",
    "            did_resolver=DIDResolverPeerDID()\n",
    "        ),\n",
    "        packed_msg= bob_packed_msg\n",
    "    )\n",
    "    \n",
    "    alice_ack = Message(\n",
    "    id = str(uuid.uuid4()),\n",
    "    type = \"https://didcomm.org/messagepickup/3.0/messages-received\",\n",
    "    body = {\"message_id_list\": [msg_id]}\n",
    "    )\n",
    "    alice_ack_packed_msg = await pack_encrypted(\n",
    "        resolvers_config = ResolversConfig(\n",
    "            secrets_resolver = secrets_resolver,\n",
    "            did_resolver = DIDResolverPeerDID()\n",
    "        ),\n",
    "        message = alice_ack,\n",
    "        to = mediator_did,\n",
    "        frm = alice_did_for_mediator,\n",
    "        sign_frm = None,\n",
    "        pack_config = PackEncryptedConfig(protect_sender_id=False)\n",
    "    )\n",
    "    headers = {\"Content-Type\": \"application/didcomm-encrypted+json\"}\n",
    "    resp5 = requests.post(mediator_endpoint, headers=headers, data = alice_ack_packed_msg.packed_msg)\n",
    "    mediator_ack_status = await unpack(\n",
    "        resolvers_config=ResolversConfig(\n",
    "            secrets_resolver=secrets_resolver,\n",
    "            did_resolver=DIDResolverPeerDID()\n",
    "        ),\n",
    "        packed_msg= resp5.json()\n",
    "    )\n",
    "    print(f'message {msg_id} deleted')\n",
    "    print(bob_msg)\n",
    "    \n",
    "    "
   ]
  },
  {
   "cell_type": "markdown",
   "metadata": {},
   "source": [
    "# Request Credential"
   ]
  },
  {
   "cell_type": "code",
   "execution_count": 29,
   "metadata": {},
   "outputs": [
    {
     "data": {
      "text/plain": [
       "'{}'"
      ]
     },
     "execution_count": 29,
     "metadata": {},
     "output_type": "execute_result"
    }
   ],
   "source": [
    "\n",
    "tony_basic_message = Message(\n",
    "    id = str(uuid.uuid4()),\n",
    "    type=\"https://didcomm.org/issue-credential/3.0/request-credential\",\n",
    "    body={\n",
    "    \"goal_code\": \"Issue Passport Credential\"\n",
    "  },\n",
    "    created_time= int(datetime.datetime.now().timestamp()),\n",
    "    to = [nessus_invitation['from']],\n",
    "    frm = alice_did_new,\n",
    "    attachments=[Attachment(\n",
    "            data=AttachmentDataJson(json={\n",
    "          \"type\": [\n",
    "            \"VerifiableCredential\",\n",
    "            \"Passport\"\n",
    "          ],\n",
    "          \"@context\": [\n",
    "            \"https://www.w3.org/2018/credentials/v1\",\n",
    "            \"https://w3id.org/security/suites/jws-2020/v1\"\n",
    "          ],\n",
    "          \"id\": \"urn:uuid:1cece1f8-6a68-4361-8823-08802b56ede8\",\n",
    "          \"issuer\": \"did:key:z6Mkoe1KHk9aEJeTbWtC6AQTpX7FeUMNqSSVubVgY2M1X9st\",\n",
    "          \"issuanceDate\": \"2023-04-06T10:58:22.435583926Z\",\n",
    "          \"credentialSchema\": {\n",
    "            \"id\": \"class:nessus/schema/PassportSchema-draft-01.json\",\n",
    "            \"type\": \"JsonSchemaValidator2018\"\n",
    "          },\n",
    "          \"credentialSubject\": {\n",
    "            \"id\": \"did:key:z6Mkrea1ndAivx7y7iXVgSBK98BLYmBm7RPdfEtwRN3MSVfj\",\n",
    "            \"givenName\": \"Rajesh\",\n",
    "            \"familyName\": \"Hamal\",\n",
    "            \"citizenship\": \"US\"\n",
    "          },\n",
    "          \"proof\": {\n",
    "            \"type\": \"JsonWebSignature2020\",\n",
    "            \"creator\": \"did:key:z6Mkoe1KHk9aEJeTbWtC6AQTpX7FeUMNqSSVubVgY2M1X9st\",\n",
    "            \"created\": \"2023-04-06T10:58:22Z\",\n",
    "            \"proofPurpose\": \"assertionMethod\",\n",
    "            \"verificationMethod\": \"did:key:z6Mkoe1KHk9aEJeTbWtC6AQTpX7FeUMNqSSVubVgY2M1X9st\",\n",
    "            \"jws\": \"eyJiNjQiOmZhbHNlLCJjcml0IjpbImI2NCJdLCJhbGciOiJFZERTQSJ9..iWclfW1apfsyIfdnoD6EWD24s0Jv4AbEXkDRedndqWlhVMz2S-L7faXiRGJMINDOeNDf9P0wPYTlZkDYPBTuCQ\"\n",
    "          }\n",
    "        })\n",
    "    )])\n",
    "\n",
    "tony_basic_message_packed = await pack_encrypted(\n",
    "    resolvers_config = ResolversConfig(\n",
    "        secrets_resolver = secrets_resolver,\n",
    "        did_resolver = DIDResolverPeerDID()\n",
    "    ),\n",
    "    message = tony_basic_message,\n",
    "    frm = alice_did_new,\n",
    "    to = nessus_invitation['from'],\n",
    "    sign_frm = None,\n",
    "    pack_config = PackEncryptedConfig(protect_sender_id=False)\n",
    ")\n",
    "\n",
    "trust_ping_did_doc = json.loads(peer_did.resolve_peer_did(nessus_invitation[\"from\"]))\n",
    "trust_ping_endpoint = trust_ping_did_doc[\"service\"][0][\"serviceEndpoint\"]\n",
    "headers = {\"Content-Type\": \"application/didcomm-encrypted+json\"}\n",
    "resp = requests.post(trust_ping_endpoint, headers=headers, json = json.loads(tony_basic_message_packed.packed_msg))\n",
    "resp.text"
   ]
  },
  {
   "cell_type": "markdown",
   "metadata": {},
   "source": [
    "# Poll for response"
   ]
  },
  {
   "cell_type": "code",
   "execution_count": 30,
   "metadata": {},
   "outputs": [
    {
     "name": "stdout",
     "output_type": "stream",
     "text": [
      "Messages in Mediator queue: 0\n"
     ]
    }
   ],
   "source": [
    "alice_status_check = Message(\n",
    "    id = str(uuid.uuid4()),\n",
    "    type = \"https://didcomm.org/messagepickup/3.0/status-request\",\n",
    "    body = {}\n",
    ")\n",
    "alice_status_check_packed_msg = await pack_encrypted(\n",
    "    resolvers_config = ResolversConfig(\n",
    "        secrets_resolver = secrets_resolver,\n",
    "        did_resolver = DIDResolverPeerDID()\n",
    "    ),\n",
    "    message = alice_status_check,\n",
    "    to = mediator_did,\n",
    "    frm = alice_did_for_mediator,\n",
    "    sign_frm = None,\n",
    "    pack_config = PackEncryptedConfig(protect_sender_id=False)\n",
    ")\n",
    "headers = {\"Content-Type\": \"application/didcomm-encrypted+json\"}\n",
    "resp3 = requests.post(mediator_endpoint, headers=headers, data = alice_status_check_packed_msg.packed_msg)\n",
    "mediator_unpack_status = await unpack(\n",
    "    resolvers_config=ResolversConfig(\n",
    "        secrets_resolver=secrets_resolver,\n",
    "        did_resolver=DIDResolverPeerDID()\n",
    "    ),\n",
    "    packed_msg= resp3.json()\n",
    ")\n",
    "print(\"Messages in Mediator queue: \" + str(mediator_unpack_status.message.body[\"message_count\"]))\n",
    "if mediator_unpack_status.message.body[\"message_count\"]>0:\n",
    "    alice_delivery_request = Message(\n",
    "        id = str(uuid.uuid4()),\n",
    "        type = \"https://didcomm.org/messagepickup/3.0/delivery-request\",\n",
    "        body = {\"limit\": 1}\n",
    "    )\n",
    "    alice_delivery_request_packed_msg = await pack_encrypted(\n",
    "        resolvers_config = ResolversConfig(\n",
    "            secrets_resolver = secrets_resolver,\n",
    "            did_resolver = DIDResolverPeerDID()\n",
    "        ),\n",
    "        message = alice_delivery_request,\n",
    "        to = mediator_did,\n",
    "        frm = alice_did_for_mediator,\n",
    "        sign_frm = None,\n",
    "        pack_config = PackEncryptedConfig(protect_sender_id=False)\n",
    "    )\n",
    "    headers = {\"Content-Type\": \"application/didcomm-encrypted+json\"}\n",
    "    resp4 = requests.post(mediator_endpoint, headers=headers, data = alice_delivery_request_packed_msg.packed_msg)\n",
    "    mediator_delivery = await unpack(\n",
    "        resolvers_config=ResolversConfig(\n",
    "            secrets_resolver=secrets_resolver,\n",
    "            did_resolver=DIDResolverPeerDID()\n",
    "        ),\n",
    "        packed_msg= resp4.json()\n",
    "    )\n",
    "    bob_packed_msg = mediator_delivery.message.attachments[0].data.json\n",
    "    msg_id = mediator_delivery.message.attachments[0].id\n",
    "    bob_msg = await unpack(\n",
    "        resolvers_config=ResolversConfig(\n",
    "            secrets_resolver=secrets_resolver,\n",
    "            did_resolver=DIDResolverPeerDID()\n",
    "        ),\n",
    "        packed_msg= bob_packed_msg\n",
    "    )\n",
    "    \n",
    "    alice_ack = Message(\n",
    "    id = str(uuid.uuid4()),\n",
    "    type = \"https://didcomm.org/messagepickup/3.0/messages-received\",\n",
    "    body = {\"message_id_list\": [msg_id]}\n",
    "    )\n",
    "    alice_ack_packed_msg = await pack_encrypted(\n",
    "        resolvers_config = ResolversConfig(\n",
    "            secrets_resolver = secrets_resolver,\n",
    "            did_resolver = DIDResolverPeerDID()\n",
    "        ),\n",
    "        message = alice_ack,\n",
    "        to = mediator_did,\n",
    "        frm = alice_did_for_mediator,\n",
    "        sign_frm = None,\n",
    "        pack_config = PackEncryptedConfig(protect_sender_id=False)\n",
    "    )\n",
    "    headers = {\"Content-Type\": \"application/didcomm-encrypted+json\"}\n",
    "    resp5 = requests.post(mediator_endpoint, headers=headers, data = alice_ack_packed_msg.packed_msg)\n",
    "    mediator_ack_status = await unpack(\n",
    "        resolvers_config=ResolversConfig(\n",
    "            secrets_resolver=secrets_resolver,\n",
    "            did_resolver=DIDResolverPeerDID()\n",
    "        ),\n",
    "        packed_msg= resp5.json()\n",
    "    )\n",
    "    print(f'message {msg_id} deleted')\n",
    "    print(bob_msg)\n",
    "    \n",
    "    "
   ]
  },
  {
   "cell_type": "code",
   "execution_count": null,
   "metadata": {},
   "outputs": [],
   "source": []
  }
 ],
 "metadata": {
  "kernelspec": {
   "display_name": "Python 3 (ipykernel)",
   "language": "python",
   "name": "python3"
  },
  "language_info": {
   "codemirror_mode": {
    "name": "ipython",
    "version": 3
   },
   "file_extension": ".py",
   "mimetype": "text/x-python",
   "name": "python",
   "nbconvert_exporter": "python",
   "pygments_lexer": "ipython3",
   "version": "3.10.10"
  }
 },
 "nbformat": 4,
 "nbformat_minor": 2
}
