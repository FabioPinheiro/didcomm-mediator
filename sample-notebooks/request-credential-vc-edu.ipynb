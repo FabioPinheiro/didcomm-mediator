{
 "cells": [
  {
   "cell_type": "code",
   "execution_count": 17,
   "metadata": {},
   "outputs": [],
   "source": [
    "import json\n",
    "import base64\n",
    "import qrcode\n",
    "import requests\n",
    "import datetime\n",
    "import urllib.parse\n",
    "import uuid\n",
    "import matplotlib.pyplot as plt\n",
    "from pymongo import MongoClient\n",
    "from typing import Optional, List\n",
    "from didcomm.common.types import DID, VerificationMethodType, VerificationMaterial, VerificationMaterialFormat\n",
    "from didcomm.did_doc.did_doc import DIDDoc, VerificationMethod, DIDCommService\n",
    "from didcomm.did_doc.did_resolver import DIDResolver\n",
    "from didcomm.message import Message, FromPrior\n",
    "from didcomm.secrets.secrets_resolver_demo import SecretsResolverDemo\n",
    "from didcomm.unpack import unpack, UnpackResult\n",
    "from didcomm.common.resolvers import ResolversConfig\n",
    "from didcomm.pack_encrypted import pack_encrypted, PackEncryptedConfig, PackEncryptedResult\n",
    "from peerdid.core.did_doc_types import DIDCommServicePeerDID\n",
    "from didcomm.secrets.secrets_util import generate_x25519_keys_as_jwk_dict, generate_ed25519_keys_as_jwk_dict, jwk_to_secret\n",
    "from peerdid import peer_did\n",
    "from peerdid.did_doc import DIDDocPeerDID\n",
    "from didcomm.message import Attachment, AttachmentDataJson\n",
    "from peerdid.types import VerificationMaterialAuthentication, VerificationMethodTypeAuthentication, VerificationMaterialAgreement, VerificationMethodTypeAgreement, VerificationMaterialFormatPeerDID\n",
    "from jose import jws"
   ]
  },
  {
   "cell_type": "markdown",
   "metadata": {},
   "source": [
    "## Helper function"
   ]
  },
  {
   "cell_type": "code",
   "execution_count": 18,
   "metadata": {},
   "outputs": [],
   "source": [
    "secrets_resolver = SecretsResolverDemo()"
   ]
  },
  {
   "cell_type": "code",
   "execution_count": 19,
   "metadata": {},
   "outputs": [],
   "source": [
    "class DIDResolverPeerDID(DIDResolver):\n",
    "    async def resolve(self, did: DID) -> DIDDoc:\n",
    "        did_doc_json = peer_did.resolve_peer_did(did, format = VerificationMaterialFormatPeerDID.JWK)\n",
    "        did_doc = DIDDocPeerDID.from_json(did_doc_json)\n",
    "\n",
    "        return DIDDoc(\n",
    "            did=did_doc.did,\n",
    "            key_agreement_kids = did_doc.agreement_kids,\n",
    "            authentication_kids = did_doc.auth_kids,\n",
    "            verification_methods = [\n",
    "                VerificationMethod(\n",
    "                    id = m.id,\n",
    "                    type = VerificationMethodType.JSON_WEB_KEY_2020,\n",
    "                    controller = m.controller,\n",
    "                    verification_material = VerificationMaterial(\n",
    "                        format = VerificationMaterialFormat.JWK,\n",
    "                        value = json.dumps(m.ver_material.value)\n",
    "                    )\n",
    "                )\n",
    "                for m in did_doc.authentication + did_doc.key_agreement\n",
    "            ],\n",
    "            didcomm_services = [\n",
    "                DIDCommService(\n",
    "                    id = s.id,\n",
    "                    service_endpoint = s.service_endpoint,\n",
    "                    routing_keys = s.routing_keys,\n",
    "                    accept = s.accept\n",
    "                )\n",
    "                for s in did_doc.service\n",
    "                if isinstance(s, DIDCommServicePeerDID)\n",
    "            ] if did_doc.service else []\n",
    "        )"
   ]
  },
  {
   "cell_type": "code",
   "execution_count": 20,
   "metadata": {},
   "outputs": [],
   "source": [
    "async def create_peer_did(self,\n",
    "                        auth_keys_count: int = 1,\n",
    "                        agreement_keys_count: int = 1,\n",
    "                        service_endpoint: Optional[str] = None,\n",
    "                        service_routing_keys: Optional[List[str]] = None\n",
    "                        ) -> str:\n",
    "        # 1. generate keys in JWK format\n",
    "        agreem_keys = [generate_x25519_keys_as_jwk_dict() for _ in range(agreement_keys_count)]\n",
    "        auth_keys = [generate_ed25519_keys_as_jwk_dict() for _ in range(auth_keys_count)]\n",
    "\n",
    "        # 2. prepare the keys for peer DID lib\n",
    "        agreem_keys_peer_did = [\n",
    "            VerificationMaterialAgreement(\n",
    "                type=VerificationMethodTypeAgreement.JSON_WEB_KEY_2020,\n",
    "                format=VerificationMaterialFormatPeerDID.JWK,\n",
    "                value=k[1],\n",
    "            )\n",
    "            for k in agreem_keys\n",
    "        ]\n",
    "        auth_keys_peer_did = [\n",
    "            VerificationMaterialAuthentication(\n",
    "                type=VerificationMethodTypeAuthentication.JSON_WEB_KEY_2020,\n",
    "                format=VerificationMaterialFormatPeerDID.JWK,\n",
    "                value=k[1],\n",
    "            )\n",
    "            for k in auth_keys\n",
    "        ]\n",
    "\n",
    "        # 3. generate service\n",
    "        service = None\n",
    "        if service_endpoint:\n",
    "            service = json.dumps(\n",
    "                DIDCommServicePeerDID(\n",
    "                    id=\"new-id\",\n",
    "                    service_endpoint=service_endpoint, routing_keys=service_routing_keys,\n",
    "                    accept=[\"didcomm/v2\"]\n",
    "                ).to_dict()\n",
    "            )\n",
    "\n",
    "        # 4. call peer DID lib\n",
    "        # if we have just one key (auth), then use numalg0 algorithm\n",
    "        # otherwise use numalg2 algorithm\n",
    "        if len(auth_keys_peer_did) == 1 and not agreem_keys_peer_did and not service:\n",
    "            did = peer_did.create_peer_did_numalgo_0(auth_keys_peer_did[0])\n",
    "        else:\n",
    "            did = peer_did.create_peer_did_numalgo_2(\n",
    "                encryption_keys=agreem_keys_peer_did,\n",
    "                signing_keys=auth_keys_peer_did,\n",
    "                service=service,\n",
    "            )\n",
    "\n",
    "        # 5. set KIDs as in DID DOC for secrets and store the secret in the secrets resolver\n",
    "        did_doc = DIDDocPeerDID.from_json(peer_did.resolve_peer_did(did))\n",
    "        for auth_key, kid in zip(auth_keys, did_doc.auth_kids):\n",
    "            private_key = auth_key[0]\n",
    "            private_key[\"kid\"] = kid\n",
    "            await secrets_resolver.add_key(jwk_to_secret(private_key))\n",
    "\n",
    "        for agreem_key, kid in zip(agreem_keys, did_doc.agreement_kids):\n",
    "            private_key = agreem_key[0]\n",
    "            private_key[\"kid\"] = kid\n",
    "            await secrets_resolver.add_key(jwk_to_secret(private_key))\n",
    "\n",
    "        return did\n"
   ]
  },
  {
   "cell_type": "markdown",
   "metadata": {},
   "source": [
    "### Reading issuer OOB message"
   ]
  },
  {
   "cell_type": "code",
   "execution_count": 21,
   "metadata": {},
   "outputs": [
    {
     "name": "stdout",
     "output_type": "stream",
     "text": [
      "http://127.0.0.1:8000?_oob=eyJ0eXBlIjoiaHR0cHM6Ly9kaWRjb21tLm9yZy9vdXQtb2YtYmFuZC8yLjAvaW52aXRhdGlvbiIsImlkIjoiZjI4MjE3YjktYjAwYS00ZDJhLTg1ZjAtZDlhY2EzZjQ0YWM4IiwiZnJvbSI6ImRpZDpwZWVyOjIuRXo2TFNjN0FiajVxWmlOQXFybXpOUm56eFFFa1paYmZOVVBQTm13ckN3NEdoM3p3NS5WejZNa25BekJIcFNIWHNCeWNRZDNtTkdwaGpXaVpQdDZ0SmJrRHJrTFlxemg1ZDVNLlNleUpwWkNJNkltNWxkeTFwWkNJc0luUWlPaUprYlNJc0luTWlPaUpvZEhSd09pOHZNVEkzTGpBdU1DNHhPamd3TURBaUxDSmhJanBiSW1ScFpHTnZiVzB2ZGpJaVhYMCIsImJvZHkiOnsiZ29hbF9jb2RlIjoicmVxdWVzdC1tZWRpYXRlIiwiZ29hbCI6IlJlcXVlc3RNZWRpYXRlIiwibGFiZWwiOiJNZWRpYXRvciIsImFjY2VwdCI6WyJkaWRjb21tL3YyIl19fQ\n"
     ]
    }
   ],
   "source": [
    "#oob_url = requests.get(\"https://mediator.rootsid.cloud/oob_url\").text\n",
    "oob_url = requests.get(\"http://127.0.0.1:8000/oob_url\").text\n",
    "print(oob_url)"
   ]
  },
  {
   "cell_type": "code",
   "execution_count": 22,
   "metadata": {},
   "outputs": [
    {
     "name": "stdout",
     "output_type": "stream",
     "text": [
      "{'type': 'https://didcomm.org/out-of-band/2.0/invitation', 'id': 'f28217b9-b00a-4d2a-85f0-d9aca3f44ac8', 'from': 'did:peer:2.Ez6LSc7Abj5qZiNAqrmzNRnzxQEkZZbfNUPPNmwrCw4Gh3zw5.Vz6MknAzBHpSHXsBycQd3mNGphjWiZPt6tJbkDrkLYqzh5d5M.SeyJpZCI6Im5ldy1pZCIsInQiOiJkbSIsInMiOiJodHRwOi8vMTI3LjAuMC4xOjgwMDAiLCJhIjpbImRpZGNvbW0vdjIiXX0', 'body': {'goal_code': 'request-mediate', 'goal': 'RequestMediate', 'label': 'Mediator', 'accept': ['didcomm/v2']}}\n"
     ]
    }
   ],
   "source": [
    "received_msg_encoded = oob_url.split(\"=\")[1]\n",
    "received_msg_decoded = json.loads(str(base64.urlsafe_b64decode(received_msg_encoded + \"==\"), \"utf-8\"))\n",
    "print(received_msg_decoded)"
   ]
  },
  {
   "cell_type": "markdown",
   "metadata": {},
   "source": [
    "## Prepare request-credential"
   ]
  },
  {
   "cell_type": "markdown",
   "metadata": {},
   "source": [
    "The holder needs to create a did:peer to communicate with the issuer:"
   ]
  },
  {
   "cell_type": "code",
   "execution_count": 23,
   "metadata": {},
   "outputs": [
    {
     "name": "stdout",
     "output_type": "stream",
     "text": [
      "Holder's DID: did:peer:2.Ez6LSrtQAkc2aCvhGTpCMmD9XJdAKC6GczsYfaCk31t4P2jvj.Vz6MkhsGaA4tCMFRun9YLZQ2KbiayfuLPTapejYRfjUpNqFRc.SeyJpZCI6Im5ldy1pZCIsInQiOiJkbSIsInMiOiJodHRwczovL3d3dy5leGFtcGxlLmNvbS9ob2xkZXIiLCJhIjpbImRpZGNvbW0vdjIiXX0\n"
     ]
    }
   ],
   "source": [
    "holder_did = await create_peer_did(1,1, service_endpoint=\"https://www.example.com/holder\")\n",
    "print(\"Holder's DID:\", holder_did)"
   ]
  },
  {
   "cell_type": "markdown",
   "metadata": {},
   "source": [
    "The following is a JSON-LD credential request that the holder will submmit to the issuer."
   ]
  },
  {
   "cell_type": "code",
   "execution_count": 24,
   "metadata": {},
   "outputs": [],
   "source": [
    "credential_request = {\n",
    "    \"credential\": {\n",
    "        \"@context\": \n",
    "        [\n",
    "            \"https://www.w3.org/2018/credentials/v1\",\n",
    "            \"https://w3c-ccg.github.io/vc-ed/plugfest-1-2022/jff-vc-edu-plugfest-1-context.json\"\n",
    "        ],\n",
    "        \"id\": str(uuid.uuid4()),\n",
    "        \"type\": [\"VerifiableCredential\", \"OpenBadgeCredential\"],\n",
    "        \"issuer\": \"TBD\",\n",
    "        \"issuanceDate\": datetime.datetime.now().strftime(\"%Y-%m-%dT%H:%M:%SZ\"),\n",
    "          \"credentialSubject\": {\n",
    "            \"type\": \"AchievementSubject\",\n",
    "            \"id\": holder_did,\n",
    "            \"achievement\": {\n",
    "              \"type\": \"Achievement\",\n",
    "              \"name\": \"IIW 2022 DEMO\",\n",
    "              \"description\": \"This wallet can display this Open Badge 3.0\",\n",
    "              \"criteria\": {\n",
    "                \"type\": \"Criteria\",\n",
    "                \"narrative\": \"The first cohort of the JFF Plugfest 1 in May/June of 2021 collaborated to push interoperability of VCs in education forward.\"\n",
    "              },\n",
    "              \"image\": \"https://w3c-ccg.github.io/vc-ed/plugfest-1-2022/images/plugfest-1-badge-image.png\"\n",
    "            }\n",
    "          },\n",
    "        \"options\": {\n",
    "            \"proofType\": \"Ed25519Signature2018\"\n",
    "        }\n",
    "    }\n",
    "}"
   ]
  },
  {
   "cell_type": "code",
   "execution_count": 25,
   "metadata": {},
   "outputs": [
    {
     "name": "stdout",
     "output_type": "stream",
     "text": [
      "eyJhbGciOiJIUzI1NiIsInR5cCI6IkpXVCJ9.eyJjcmVkZW50aWFsIjp7IkBjb250ZXh0IjpbImh0dHBzOi8vd3d3LnczLm9yZy8yMDE4L2NyZWRlbnRpYWxzL3YxIiwiaHR0cHM6Ly93M2MtY2NnLmdpdGh1Yi5pby92Yy1lZC9wbHVnZmVzdC0xLTIwMjIvamZmLXZjLWVkdS1wbHVnZmVzdC0xLWNvbnRleHQuanNvbiJdLCJpZCI6ImE2YWFjZmViLThiZDMtNGJhNy1hYTg1LTQ3NWMzZTUwNzIyNCIsInR5cGUiOlsiVmVyaWZpYWJsZUNyZWRlbnRpYWwiLCJPcGVuQmFkZ2VDcmVkZW50aWFsIl0sImlzc3VlciI6IlRCRCIsImlzc3VhbmNlRGF0ZSI6IjIwMjItMTAtMjZUMTY6MTY6MDRaIiwiY3JlZGVudGlhbFN1YmplY3QiOnsidHlwZSI6IkFjaGlldmVtZW50U3ViamVjdCIsImlkIjoiZGlkOnBlZXI6Mi5FejZMU3J0UUFrYzJhQ3ZoR1RwQ01tRDlYSmRBS0M2R2N6c1lmYUNrMzF0NFAyanZqLlZ6Nk1raHNHYUE0dENNRlJ1bjlZTFpRMktiaWF5ZnVMUFRhcGVqWVJmalVwTnFGUmMuU2V5SnBaQ0k2SW01bGR5MXBaQ0lzSW5RaU9pSmtiU0lzSW5NaU9pSm9kSFJ3Y3pvdkwzZDNkeTVsZUdGdGNHeGxMbU52YlM5b2IyeGtaWElpTENKaElqcGJJbVJwWkdOdmJXMHZkaklpWFgwIiwiYWNoaWV2ZW1lbnQiOnsidHlwZSI6IkFjaGlldmVtZW50IiwibmFtZSI6IklJVyAyMDIyIERFTU8iLCJkZXNjcmlwdGlvbiI6IlRoaXMgd2FsbGV0IGNhbiBkaXNwbGF5IHRoaXMgT3BlbiBCYWRnZSAzLjAiLCJjcml0ZXJpYSI6eyJ0eXBlIjoiQ3JpdGVyaWEiLCJuYXJyYXRpdmUiOiJUaGUgZmlyc3QgY29ob3J0IG9mIHRoZSBKRkYgUGx1Z2Zlc3QgMSBpbiBNYXkvSnVuZSBvZiAyMDIxIGNvbGxhYm9yYXRlZCB0byBwdXNoIGludGVyb3BlcmFiaWxpdHkgb2YgVkNzIGluIGVkdWNhdGlvbiBmb3J3YXJkLiJ9LCJpbWFnZSI6Imh0dHBzOi8vdzNjLWNjZy5naXRodWIuaW8vdmMtZWQvcGx1Z2Zlc3QtMS0yMDIyL2ltYWdlcy9wbHVnZmVzdC0xLWJhZGdlLWltYWdlLnBuZyJ9fSwib3B0aW9ucyI6eyJwcm9vZlR5cGUiOiJFZDI1NTE5U2lnbmF0dXJlMjAxOCJ9fX0.9kwf-oSdBApDBSZV_MYEsRntAh3oxAfl_XQ_8pmAF78\n"
     ]
    }
   ],
   "source": [
    "sign = jws.sign(credential_request, 'secretasasdsadasd', algorithm='HS256')\n",
    "print(sign)"
   ]
  },
  {
   "cell_type": "markdown",
   "metadata": {},
   "source": [
    "Finally the holder prepares the didcomm message following issue-credential/3.0 protocol:"
   ]
  },
  {
   "cell_type": "code",
   "execution_count": 26,
   "metadata": {},
   "outputs": [],
   "source": [
    "\n",
    "holder_response_message = Message(\n",
    "    custom_headers = [{\n",
    "        \"return_route\": \"all\"}],\n",
    "    id = str(uuid.uuid4()),\n",
    "    #pthid = received_msg_decoded[\"id\"],\n",
    "    type = \"https://didcomm.org/issue-credential/3.0/request-credential\",\n",
    "    frm = holder_did,\n",
    "    to = [received_msg_decoded[\"from\"]],\n",
    "    body = {\n",
    "        \"goal_code\": \"issue-credential\",\n",
    "        \"comment\": \"some comment\"\n",
    "    },\n",
    "    attachments = [\n",
    "        Attachment(\n",
    "                id=str(uuid.uuid4()),\n",
    "                media_type= \"application/json\",\n",
    "                format= \"aries/ld-proof-vc-detail@v1.0\",\n",
    "                data=AttachmentDataJson(json=credential_request)\n",
    "                )\n",
    "    ]\n",
    "                        \n",
    ")"
   ]
  },
  {
   "cell_type": "code",
   "execution_count": 27,
   "metadata": {},
   "outputs": [],
   "source": [
    "holder_packed_msg = await pack_encrypted(\n",
    "    resolvers_config = ResolversConfig(\n",
    "        secrets_resolver = secrets_resolver,\n",
    "        did_resolver = DIDResolverPeerDID()\n",
    "    ),\n",
    "    message = holder_response_message,\n",
    "    frm = holder_did,\n",
    "    to = received_msg_decoded[\"from\"],\n",
    "    sign_frm = None,\n",
    "    pack_config = PackEncryptedConfig(protect_sender_id=False)\n",
    ")"
   ]
  },
  {
   "cell_type": "markdown",
   "metadata": {},
   "source": [
    "### Sending the message to Mediator"
   ]
  },
  {
   "cell_type": "markdown",
   "metadata": {},
   "source": [
    "From the issuer DID obtained in the OOB QR Code, we can get the DID document:"
   ]
  },
  {
   "cell_type": "code",
   "execution_count": 28,
   "metadata": {},
   "outputs": [
    {
     "name": "stdout",
     "output_type": "stream",
     "text": [
      "{\n",
      "    \"id\": \"did:peer:2.Ez6LSc7Abj5qZiNAqrmzNRnzxQEkZZbfNUPPNmwrCw4Gh3zw5.Vz6MknAzBHpSHXsBycQd3mNGphjWiZPt6tJbkDrkLYqzh5d5M.SeyJpZCI6Im5ldy1pZCIsInQiOiJkbSIsInMiOiJodHRwOi8vMTI3LjAuMC4xOjgwMDAiLCJhIjpbImRpZGNvbW0vdjIiXX0\",\n",
      "    \"authentication\": [\n",
      "        {\n",
      "            \"id\": \"did:peer:2.Ez6LSc7Abj5qZiNAqrmzNRnzxQEkZZbfNUPPNmwrCw4Gh3zw5.Vz6MknAzBHpSHXsBycQd3mNGphjWiZPt6tJbkDrkLYqzh5d5M.SeyJpZCI6Im5ldy1pZCIsInQiOiJkbSIsInMiOiJodHRwOi8vMTI3LjAuMC4xOjgwMDAiLCJhIjpbImRpZGNvbW0vdjIiXX0#6MknAzBHpSHXsBycQd3mNGphjWiZPt6tJbkDrkLYqzh5d5M\",\n",
      "            \"type\": \"Ed25519VerificationKey2020\",\n",
      "            \"controller\": \"did:peer:2.Ez6LSc7Abj5qZiNAqrmzNRnzxQEkZZbfNUPPNmwrCw4Gh3zw5.Vz6MknAzBHpSHXsBycQd3mNGphjWiZPt6tJbkDrkLYqzh5d5M.SeyJpZCI6Im5ldy1pZCIsInQiOiJkbSIsInMiOiJodHRwOi8vMTI3LjAuMC4xOjgwMDAiLCJhIjpbImRpZGNvbW0vdjIiXX0\",\n",
      "            \"publicKeyMultibase\": \"z6MknAzBHpSHXsBycQd3mNGphjWiZPt6tJbkDrkLYqzh5d5M\"\n",
      "        }\n",
      "    ],\n",
      "    \"keyAgreement\": [\n",
      "        {\n",
      "            \"id\": \"did:peer:2.Ez6LSc7Abj5qZiNAqrmzNRnzxQEkZZbfNUPPNmwrCw4Gh3zw5.Vz6MknAzBHpSHXsBycQd3mNGphjWiZPt6tJbkDrkLYqzh5d5M.SeyJpZCI6Im5ldy1pZCIsInQiOiJkbSIsInMiOiJodHRwOi8vMTI3LjAuMC4xOjgwMDAiLCJhIjpbImRpZGNvbW0vdjIiXX0#6LSc7Abj5qZiNAqrmzNRnzxQEkZZbfNUPPNmwrCw4Gh3zw5\",\n",
      "            \"type\": \"X25519KeyAgreementKey2020\",\n",
      "            \"controller\": \"did:peer:2.Ez6LSc7Abj5qZiNAqrmzNRnzxQEkZZbfNUPPNmwrCw4Gh3zw5.Vz6MknAzBHpSHXsBycQd3mNGphjWiZPt6tJbkDrkLYqzh5d5M.SeyJpZCI6Im5ldy1pZCIsInQiOiJkbSIsInMiOiJodHRwOi8vMTI3LjAuMC4xOjgwMDAiLCJhIjpbImRpZGNvbW0vdjIiXX0\",\n",
      "            \"publicKeyMultibase\": \"z6LSc7Abj5qZiNAqrmzNRnzxQEkZZbfNUPPNmwrCw4Gh3zw5\"\n",
      "        }\n",
      "    ],\n",
      "    \"service\": [\n",
      "        {\n",
      "            \"id\": \"did:peer:2.Ez6LSc7Abj5qZiNAqrmzNRnzxQEkZZbfNUPPNmwrCw4Gh3zw5.Vz6MknAzBHpSHXsBycQd3mNGphjWiZPt6tJbkDrkLYqzh5d5M.SeyJpZCI6Im5ldy1pZCIsInQiOiJkbSIsInMiOiJodHRwOi8vMTI3LjAuMC4xOjgwMDAiLCJhIjpbImRpZGNvbW0vdjIiXX0#didcommmessaging-0\",\n",
      "            \"type\": \"DIDCommMessaging\",\n",
      "            \"serviceEndpoint\": \"http://127.0.0.1:8000\",\n",
      "            \"accept\": [\n",
      "                \"didcomm/v2\"\n",
      "            ]\n",
      "        }\n",
      "    ]\n",
      "}\n"
     ]
    }
   ],
   "source": [
    "issuer_did_doc = json.loads(peer_did.resolve_peer_did(received_msg_decoded[\"from\"]))\n",
    "print(json.dumps(issuer_did_doc, indent=4))"
   ]
  },
  {
   "cell_type": "markdown",
   "metadata": {},
   "source": [
    "And from there get the issuer's endpoint"
   ]
  },
  {
   "cell_type": "code",
   "execution_count": 29,
   "metadata": {},
   "outputs": [
    {
     "name": "stdout",
     "output_type": "stream",
     "text": [
      "http://127.0.0.1:8000\n"
     ]
    }
   ],
   "source": [
    "issuer_endpoint = issuer_did_doc[\"service\"][0][\"serviceEndpoint\"]\n",
    "print(issuer_endpoint)"
   ]
  },
  {
   "cell_type": "markdown",
   "metadata": {},
   "source": [
    "Finally sending the request to the issuer:"
   ]
  },
  {
   "cell_type": "code",
   "execution_count": 30,
   "metadata": {},
   "outputs": [
    {
     "name": "stdout",
     "output_type": "stream",
     "text": [
      "<Response [202]>\n"
     ]
    }
   ],
   "source": [
    "headers = {\"Content-Type\": \"application/didcomm-encrypted+json\"}\n",
    "resp = requests.post(issuer_endpoint, headers=headers, json = json.loads(holder_packed_msg.packed_msg))\n",
    "print(resp)\n"
   ]
  },
  {
   "cell_type": "markdown",
   "metadata": {},
   "source": [
    "### Issued Verifiable Credential Received"
   ]
  },
  {
   "cell_type": "code",
   "execution_count": 31,
   "metadata": {},
   "outputs": [],
   "source": [
    "credential_unpack_msg = await unpack(\n",
    "    resolvers_config=ResolversConfig(\n",
    "        secrets_resolver=secrets_resolver,\n",
    "        did_resolver=DIDResolverPeerDID()\n",
    "    ),\n",
    "    packed_msg= resp.json()\n",
    ")"
   ]
  },
  {
   "cell_type": "code",
   "execution_count": 32,
   "metadata": {},
   "outputs": [
    {
     "name": "stdout",
     "output_type": "stream",
     "text": [
      "UnpackResult(message=Message(id='4a6f86dc-36ad-4cca-a9d0-d5f0db6cff24', type='https://didcomm.org/issue-credential/3.0/issue-credential', body={'goal_code': 'issue-credential', 'comment': 'some comment'}, frm=None, to=None, created_time=None, expires_time=None, from_prior=FromPrior(iss='did:peer:2.Ez6LSc7Abj5qZiNAqrmzNRnzxQEkZZbfNUPPNmwrCw4Gh3zw5.Vz6MknAzBHpSHXsBycQd3mNGphjWiZPt6tJbkDrkLYqzh5d5M.SeyJpZCI6Im5ldy1pZCIsInQiOiJkbSIsInMiOiJodHRwOi8vMTI3LjAuMC4xOjgwMDAiLCJhIjpbImRpZGNvbW0vdjIiXX0', sub='did:peer:2.Ez6LSgha8XTjpYsHf5rf5zuKcEwrp9QKZ3Ue2zfXsg9mVRmjs.Vz6Mkh3p86Yd1yr5NZpZ6Ed1rdkKW8hvMoc2pJXid2fbNZUjr.SeyJpZCI6Im5ldy1pZCIsInQiOiJkbSIsInMiOiJodHRwOi8vMTI3LjAuMC4xOjgwMDAiLCJhIjpbImRpZGNvbW0vdjIiXX0', aud=None, exp=None, nbf=None, iat=None, jti=None), please_ack=None, ack=None, thid=None, pthid=None, attachments=[Attachment(data=AttachmentDataJson(json={'@context': ['https://www.w3.org/2018/credentials/v1', 'https://w3c-ccg.github.io/vc-ed/plugfest-1-2022/jff-vc-edu-plugfest-1-context.json'], 'id': 'a6aacfeb-8bd3-4ba7-aa85-475c3e507224', 'type': ['VerifiableCredential', 'OpenBadgeCredential'], 'issuer': {'type': 'Profile', 'id': 'did:peer:2.Ez6LSgha8XTjpYsHf5rf5zuKcEwrp9QKZ3Ue2zfXsg9mVRmjs.Vz6Mkh3p86Yd1yr5NZpZ6Ed1rdkKW8hvMoc2pJXid2fbNZUjr.SeyJpZCI6Im5ldy1pZCIsInQiOiJkbSIsInMiOiJodHRwOi8vMTI3LjAuMC4xOjgwMDAiLCJhIjpbImRpZGNvbW0vdjIiXX0', 'name': 'Jobs for the Future (JFF)', 'url': 'https://www.jff.org/', 'image': 'https://kayaelle.github.io/vc-ed/plugfest-1-2022/images/JFF_LogoLockup.png'}, 'issuanceDate': '2022-10-26T16:16:28Z', 'credentialSubject': {'type': 'AchievementSubject', 'id': 'did:peer:2.Ez6LSrtQAkc2aCvhGTpCMmD9XJdAKC6GczsYfaCk31t4P2jvj.Vz6MkhsGaA4tCMFRun9YLZQ2KbiayfuLPTapejYRfjUpNqFRc.SeyJpZCI6Im5ldy1pZCIsInQiOiJkbSIsInMiOiJodHRwczovL3d3dy5leGFtcGxlLmNvbS9ob2xkZXIiLCJhIjpbImRpZGNvbW0vdjIiXX0', 'achievement': {'type': 'Achievement', 'name': 'IIW 2022 DEMO', 'description': 'This wallet can display this Open Badge 3.0', 'criteria': {'type': 'Criteria', 'narrative': 'The first cohort of the JFF Plugfest 1 in May/June of 2021 collaborated to push interoperability of VCs in education forward.'}, 'image': 'https://w3c-ccg.github.io/vc-ed/plugfest-1-2022/images/plugfest-1-badge-image.png'}}, 'options': {'proofType': 'Ed25519Signature2018'}, 'proof': {'type': 'Ed25519Signature2018', 'created': '2022-10-26T16:16:28Z', 'verificationMethod': 'did:peer:2.Ez6LSgha8XTjpYsHf5rf5zuKcEwrp9QKZ3Ue2zfXsg9mVRmjs.Vz6Mkh3p86Yd1yr5NZpZ6Ed1rdkKW8hvMoc2pJXid2fbNZUjr.SeyJpZCI6Im5ldy1pZCIsInQiOiJkbSIsInMiOiJodHRwOi8vMTI3LjAuMC4xOjgwMDAiLCJhIjpbImRpZGNvbW0vdjIiXX0', 'proofPurpose': 'assertionMethod', 'jws': 'eyJhbGciOiJIUzI1NiIsInR5cCI6IkpXVCJ9.eyJAY29udGV4dCI6WyJodHRwczovL3d3dy53My5vcmcvMjAxOC9jcmVkZW50aWFscy92MSIsImh0dHBzOi8vdzNjLWNjZy5naXRodWIuaW8vdmMtZWQvcGx1Z2Zlc3QtMS0yMDIyL2pmZi12Yy1lZHUtcGx1Z2Zlc3QtMS1jb250ZXh0Lmpzb24iXSwiaWQiOiJhNmFhY2ZlYi04YmQzLTRiYTctYWE4NS00NzVjM2U1MDcyMjQiLCJ0eXBlIjpbIlZlcmlmaWFibGVDcmVkZW50aWFsIiwiT3BlbkJhZGdlQ3JlZGVudGlhbCJdLCJpc3N1ZXIiOnsidHlwZSI6IlByb2ZpbGUiLCJpZCI6ImRpZDpwZWVyOjIuRXo2TFNnaGE4WFRqcFlzSGY1cmY1enVLY0V3cnA5UUtaM1VlMnpmWHNnOW1WUm1qcy5WejZNa2gzcDg2WWQxeXI1TlpwWjZFZDFyZGtLVzhodk1vYzJwSlhpZDJmYk5aVWpyLlNleUpwWkNJNkltNWxkeTFwWkNJc0luUWlPaUprYlNJc0luTWlPaUpvZEhSd09pOHZNVEkzTGpBdU1DNHhPamd3TURBaUxDSmhJanBiSW1ScFpHTnZiVzB2ZGpJaVhYMCIsIm5hbWUiOiJKb2JzIGZvciB0aGUgRnV0dXJlIChKRkYpIiwidXJsIjoiaHR0cHM6Ly93d3cuamZmLm9yZy8iLCJpbWFnZSI6Imh0dHBzOi8va2F5YWVsbGUuZ2l0aHViLmlvL3ZjLWVkL3BsdWdmZXN0LTEtMjAyMi9pbWFnZXMvSkZGX0xvZ29Mb2NrdXAucG5nIn0sImlzc3VhbmNlRGF0ZSI6IjIwMjItMTAtMjZUMTY6MTY6MjhaIiwiY3JlZGVudGlhbFN1YmplY3QiOnsidHlwZSI6IkFjaGlldmVtZW50U3ViamVjdCIsImlkIjoiZGlkOnBlZXI6Mi5FejZMU3J0UUFrYzJhQ3ZoR1RwQ01tRDlYSmRBS0M2R2N6c1lmYUNrMzF0NFAyanZqLlZ6Nk1raHNHYUE0dENNRlJ1bjlZTFpRMktiaWF5ZnVMUFRhcGVqWVJmalVwTnFGUmMuU2V5SnBaQ0k2SW01bGR5MXBaQ0lzSW5RaU9pSmtiU0lzSW5NaU9pSm9kSFJ3Y3pvdkwzZDNkeTVsZUdGdGNHeGxMbU52YlM5b2IyeGtaWElpTENKaElqcGJJbVJwWkdOdmJXMHZkaklpWFgwIiwiYWNoaWV2ZW1lbnQiOnsidHlwZSI6IkFjaGlldmVtZW50IiwibmFtZSI6IklJVyAyMDIyIERFTU8iLCJkZXNjcmlwdGlvbiI6IlRoaXMgd2FsbGV0IGNhbiBkaXNwbGF5IHRoaXMgT3BlbiBCYWRnZSAzLjAiLCJjcml0ZXJpYSI6eyJ0eXBlIjoiQ3JpdGVyaWEiLCJuYXJyYXRpdmUiOiJUaGUgZmlyc3QgY29ob3J0IG9mIHRoZSBKRkYgUGx1Z2Zlc3QgMSBpbiBNYXkvSnVuZSBvZiAyMDIxIGNvbGxhYm9yYXRlZCB0byBwdXNoIGludGVyb3BlcmFiaWxpdHkgb2YgVkNzIGluIGVkdWNhdGlvbiBmb3J3YXJkLiJ9LCJpbWFnZSI6Imh0dHBzOi8vdzNjLWNjZy5naXRodWIuaW8vdmMtZWQvcGx1Z2Zlc3QtMS0yMDIyL2ltYWdlcy9wbHVnZmVzdC0xLWJhZGdlLWltYWdlLnBuZyJ9fSwib3B0aW9ucyI6eyJwcm9vZlR5cGUiOiJFZDI1NTE5U2lnbmF0dXJlMjAxOCJ9fQ.LfEu2D4mk_BoFXAftRcDCGmi0lkTunOi5oxTMZHc2-E'}}, hash=None, jws=None), id='c8444417-858d-41ea-a7db-6693c581a5dc', description=None, filename=None, media_type='application/json', format='aries/ld-proof-vc-detail@v1.0', lastmod_time=None, byte_count=None)], custom_headers=None), metadata=Metadata(encrypted=True, authenticated=True, non_repudiation=False, anonymous_sender=False, re_wrapped_in_forward=False, encrypted_from='did:peer:2.Ez6LSgha8XTjpYsHf5rf5zuKcEwrp9QKZ3Ue2zfXsg9mVRmjs.Vz6Mkh3p86Yd1yr5NZpZ6Ed1rdkKW8hvMoc2pJXid2fbNZUjr.SeyJpZCI6Im5ldy1pZCIsInQiOiJkbSIsInMiOiJodHRwOi8vMTI3LjAuMC4xOjgwMDAiLCJhIjpbImRpZGNvbW0vdjIiXX0#6LSgha8XTjpYsHf5rf5zuKcEwrp9QKZ3Ue2zfXsg9mVRmjs', encrypted_to=['did:peer:2.Ez6LSrtQAkc2aCvhGTpCMmD9XJdAKC6GczsYfaCk31t4P2jvj.Vz6MkhsGaA4tCMFRun9YLZQ2KbiayfuLPTapejYRfjUpNqFRc.SeyJpZCI6Im5ldy1pZCIsInQiOiJkbSIsInMiOiJodHRwczovL3d3dy5leGFtcGxlLmNvbS9ob2xkZXIiLCJhIjpbImRpZGNvbW0vdjIiXX0#6LSrtQAkc2aCvhGTpCMmD9XJdAKC6GczsYfaCk31t4P2jvj'], sign_from=None, from_prior_issuer_kid='did:peer:2.Ez6LSc7Abj5qZiNAqrmzNRnzxQEkZZbfNUPPNmwrCw4Gh3zw5.Vz6MknAzBHpSHXsBycQd3mNGphjWiZPt6tJbkDrkLYqzh5d5M.SeyJpZCI6Im5ldy1pZCIsInQiOiJkbSIsInMiOiJodHRwOi8vMTI3LjAuMC4xOjgwMDAiLCJhIjpbImRpZGNvbW0vdjIiXX0#6MknAzBHpSHXsBycQd3mNGphjWiZPt6tJbkDrkLYqzh5d5M', enc_alg_auth=<AuthCryptAlg.A256CBC_HS512_ECDH_1PU_A256KW: Algs(alg='ECDH-1PU+A256KW', enc='A256CBC-HS512')>, enc_alg_anon=None, sign_alg=None, signed_message=None, from_prior_jwt='eyJhbGciOiJFZERTQSIsInR5cCI6IkpXVCIsImtpZCI6ImRpZDpwZWVyOjIuRXo2TFNjN0FiajVxWmlOQXFybXpOUm56eFFFa1paYmZOVVBQTm13ckN3NEdoM3p3NS5WejZNa25BekJIcFNIWHNCeWNRZDNtTkdwaGpXaVpQdDZ0SmJrRHJrTFlxemg1ZDVNLlNleUpwWkNJNkltNWxkeTFwWkNJc0luUWlPaUprYlNJc0luTWlPaUpvZEhSd09pOHZNVEkzTGpBdU1DNHhPamd3TURBaUxDSmhJanBiSW1ScFpHTnZiVzB2ZGpJaVhYMCM2TWtuQXpCSHBTSFhzQnljUWQzbU5HcGhqV2laUHQ2dEpia0Rya0xZcXpoNWQ1TSJ9.eyJpc3MiOiJkaWQ6cGVlcjoyLkV6NkxTYzdBYmo1cVppTkFxcm16TlJuenhRRWtaWmJmTlVQUE5td3JDdzRHaDN6dzUuVno2TWtuQXpCSHBTSFhzQnljUWQzbU5HcGhqV2laUHQ2dEpia0Rya0xZcXpoNWQ1TS5TZXlKcFpDSTZJbTVsZHkxcFpDSXNJblFpT2lKa2JTSXNJbk1pT2lKb2RIUndPaTh2TVRJM0xqQXVNQzR4T2pnd01EQWlMQ0poSWpwYkltUnBaR052YlcwdmRqSWlYWDAiLCJzdWIiOiJkaWQ6cGVlcjoyLkV6NkxTZ2hhOFhUanBZc0hmNXJmNXp1S2NFd3JwOVFLWjNVZTJ6ZlhzZzltVlJtanMuVno2TWtoM3A4NllkMXlyNU5acFo2RWQxcmRrS1c4aHZNb2MycEpYaWQyZmJOWlVqci5TZXlKcFpDSTZJbTVsZHkxcFpDSXNJblFpT2lKa2JTSXNJbk1pT2lKb2RIUndPaTh2TVRJM0xqQXVNQzR4T2pnd01EQWlMQ0poSWpwYkltUnBaR052YlcwdmRqSWlYWDAifQ.7WrAwYLgPXljAqCoUfAH4LsW8e6RWNSnp5EhsXx5y5Qss6zU733Rp_Vf8sB1jITtjdH8Lb-ylyQLsZMXJbHuAQ'))\n"
     ]
    }
   ],
   "source": [
    "print(credential_unpack_msg)"
   ]
  },
  {
   "cell_type": "code",
   "execution_count": 33,
   "metadata": {},
   "outputs": [
    {
     "name": "stdout",
     "output_type": "stream",
     "text": [
      "{\n",
      "    \"@context\": [\n",
      "        \"https://www.w3.org/2018/credentials/v1\",\n",
      "        \"https://w3c-ccg.github.io/vc-ed/plugfest-1-2022/jff-vc-edu-plugfest-1-context.json\"\n",
      "    ],\n",
      "    \"id\": \"a6aacfeb-8bd3-4ba7-aa85-475c3e507224\",\n",
      "    \"type\": [\n",
      "        \"VerifiableCredential\",\n",
      "        \"OpenBadgeCredential\"\n",
      "    ],\n",
      "    \"issuer\": {\n",
      "        \"type\": \"Profile\",\n",
      "        \"id\": \"did:peer:2.Ez6LSgha8XTjpYsHf5rf5zuKcEwrp9QKZ3Ue2zfXsg9mVRmjs.Vz6Mkh3p86Yd1yr5NZpZ6Ed1rdkKW8hvMoc2pJXid2fbNZUjr.SeyJpZCI6Im5ldy1pZCIsInQiOiJkbSIsInMiOiJodHRwOi8vMTI3LjAuMC4xOjgwMDAiLCJhIjpbImRpZGNvbW0vdjIiXX0\",\n",
      "        \"name\": \"Jobs for the Future (JFF)\",\n",
      "        \"url\": \"https://www.jff.org/\",\n",
      "        \"image\": \"https://kayaelle.github.io/vc-ed/plugfest-1-2022/images/JFF_LogoLockup.png\"\n",
      "    },\n",
      "    \"issuanceDate\": \"2022-10-26T16:16:28Z\",\n",
      "    \"credentialSubject\": {\n",
      "        \"type\": \"AchievementSubject\",\n",
      "        \"id\": \"did:peer:2.Ez6LSrtQAkc2aCvhGTpCMmD9XJdAKC6GczsYfaCk31t4P2jvj.Vz6MkhsGaA4tCMFRun9YLZQ2KbiayfuLPTapejYRfjUpNqFRc.SeyJpZCI6Im5ldy1pZCIsInQiOiJkbSIsInMiOiJodHRwczovL3d3dy5leGFtcGxlLmNvbS9ob2xkZXIiLCJhIjpbImRpZGNvbW0vdjIiXX0\",\n",
      "        \"achievement\": {\n",
      "            \"type\": \"Achievement\",\n",
      "            \"name\": \"IIW 2022 DEMO\",\n",
      "            \"description\": \"This wallet can display this Open Badge 3.0\",\n",
      "            \"criteria\": {\n",
      "                \"type\": \"Criteria\",\n",
      "                \"narrative\": \"The first cohort of the JFF Plugfest 1 in May/June of 2021 collaborated to push interoperability of VCs in education forward.\"\n",
      "            },\n",
      "            \"image\": \"https://w3c-ccg.github.io/vc-ed/plugfest-1-2022/images/plugfest-1-badge-image.png\"\n",
      "        }\n",
      "    },\n",
      "    \"options\": {\n",
      "        \"proofType\": \"Ed25519Signature2018\"\n",
      "    },\n",
      "    \"proof\": {\n",
      "        \"type\": \"Ed25519Signature2018\",\n",
      "        \"created\": \"2022-10-26T16:16:28Z\",\n",
      "        \"verificationMethod\": \"did:peer:2.Ez6LSgha8XTjpYsHf5rf5zuKcEwrp9QKZ3Ue2zfXsg9mVRmjs.Vz6Mkh3p86Yd1yr5NZpZ6Ed1rdkKW8hvMoc2pJXid2fbNZUjr.SeyJpZCI6Im5ldy1pZCIsInQiOiJkbSIsInMiOiJodHRwOi8vMTI3LjAuMC4xOjgwMDAiLCJhIjpbImRpZGNvbW0vdjIiXX0\",\n",
      "        \"proofPurpose\": \"assertionMethod\",\n",
      "        \"jws\": \"eyJhbGciOiJIUzI1NiIsInR5cCI6IkpXVCJ9.eyJAY29udGV4dCI6WyJodHRwczovL3d3dy53My5vcmcvMjAxOC9jcmVkZW50aWFscy92MSIsImh0dHBzOi8vdzNjLWNjZy5naXRodWIuaW8vdmMtZWQvcGx1Z2Zlc3QtMS0yMDIyL2pmZi12Yy1lZHUtcGx1Z2Zlc3QtMS1jb250ZXh0Lmpzb24iXSwiaWQiOiJhNmFhY2ZlYi04YmQzLTRiYTctYWE4NS00NzVjM2U1MDcyMjQiLCJ0eXBlIjpbIlZlcmlmaWFibGVDcmVkZW50aWFsIiwiT3BlbkJhZGdlQ3JlZGVudGlhbCJdLCJpc3N1ZXIiOnsidHlwZSI6IlByb2ZpbGUiLCJpZCI6ImRpZDpwZWVyOjIuRXo2TFNnaGE4WFRqcFlzSGY1cmY1enVLY0V3cnA5UUtaM1VlMnpmWHNnOW1WUm1qcy5WejZNa2gzcDg2WWQxeXI1TlpwWjZFZDFyZGtLVzhodk1vYzJwSlhpZDJmYk5aVWpyLlNleUpwWkNJNkltNWxkeTFwWkNJc0luUWlPaUprYlNJc0luTWlPaUpvZEhSd09pOHZNVEkzTGpBdU1DNHhPamd3TURBaUxDSmhJanBiSW1ScFpHTnZiVzB2ZGpJaVhYMCIsIm5hbWUiOiJKb2JzIGZvciB0aGUgRnV0dXJlIChKRkYpIiwidXJsIjoiaHR0cHM6Ly93d3cuamZmLm9yZy8iLCJpbWFnZSI6Imh0dHBzOi8va2F5YWVsbGUuZ2l0aHViLmlvL3ZjLWVkL3BsdWdmZXN0LTEtMjAyMi9pbWFnZXMvSkZGX0xvZ29Mb2NrdXAucG5nIn0sImlzc3VhbmNlRGF0ZSI6IjIwMjItMTAtMjZUMTY6MTY6MjhaIiwiY3JlZGVudGlhbFN1YmplY3QiOnsidHlwZSI6IkFjaGlldmVtZW50U3ViamVjdCIsImlkIjoiZGlkOnBlZXI6Mi5FejZMU3J0UUFrYzJhQ3ZoR1RwQ01tRDlYSmRBS0M2R2N6c1lmYUNrMzF0NFAyanZqLlZ6Nk1raHNHYUE0dENNRlJ1bjlZTFpRMktiaWF5ZnVMUFRhcGVqWVJmalVwTnFGUmMuU2V5SnBaQ0k2SW01bGR5MXBaQ0lzSW5RaU9pSmtiU0lzSW5NaU9pSm9kSFJ3Y3pvdkwzZDNkeTVsZUdGdGNHeGxMbU52YlM5b2IyeGtaWElpTENKaElqcGJJbVJwWkdOdmJXMHZkaklpWFgwIiwiYWNoaWV2ZW1lbnQiOnsidHlwZSI6IkFjaGlldmVtZW50IiwibmFtZSI6IklJVyAyMDIyIERFTU8iLCJkZXNjcmlwdGlvbiI6IlRoaXMgd2FsbGV0IGNhbiBkaXNwbGF5IHRoaXMgT3BlbiBCYWRnZSAzLjAiLCJjcml0ZXJpYSI6eyJ0eXBlIjoiQ3JpdGVyaWEiLCJuYXJyYXRpdmUiOiJUaGUgZmlyc3QgY29ob3J0IG9mIHRoZSBKRkYgUGx1Z2Zlc3QgMSBpbiBNYXkvSnVuZSBvZiAyMDIxIGNvbGxhYm9yYXRlZCB0byBwdXNoIGludGVyb3BlcmFiaWxpdHkgb2YgVkNzIGluIGVkdWNhdGlvbiBmb3J3YXJkLiJ9LCJpbWFnZSI6Imh0dHBzOi8vdzNjLWNjZy5naXRodWIuaW8vdmMtZWQvcGx1Z2Zlc3QtMS0yMDIyL2ltYWdlcy9wbHVnZmVzdC0xLWJhZGdlLWltYWdlLnBuZyJ9fSwib3B0aW9ucyI6eyJwcm9vZlR5cGUiOiJFZDI1NTE5U2lnbmF0dXJlMjAxOCJ9fQ.LfEu2D4mk_BoFXAftRcDCGmi0lkTunOi5oxTMZHc2-E\"\n",
      "    }\n",
      "}\n"
     ]
    }
   ],
   "source": [
    "print(json.dumps(credential_unpack_msg.message.attachments[0].data.json, indent=4))"
   ]
  },
  {
   "cell_type": "code",
   "execution_count": null,
   "metadata": {},
   "outputs": [],
   "source": []
  }
 ],
 "metadata": {
  "kernelspec": {
   "display_name": "Python 3.9.13 64-bit ('3.9.13')",
   "language": "python",
   "name": "python3"
  },
  "language_info": {
   "codemirror_mode": {
    "name": "ipython",
    "version": 3
   },
   "file_extension": ".py",
   "mimetype": "text/x-python",
   "name": "python",
   "nbconvert_exporter": "python",
   "pygments_lexer": "ipython3",
   "version": "3.9.13"
  },
  "vscode": {
   "interpreter": {
    "hash": "0af49c6adad9b0f1af1dd8dd34045aeee053745edc3950f8b800b6d95524dd20"
   }
  }
 },
 "nbformat": 4,
 "nbformat_minor": 2
}
