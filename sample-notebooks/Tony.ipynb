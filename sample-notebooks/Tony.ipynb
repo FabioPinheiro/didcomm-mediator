{
 "cells": [
  {
   "cell_type": "code",
   "execution_count": 1,
   "metadata": {},
   "outputs": [],
   "source": [
    "import json\n",
    "import base64\n",
    "import requests\n",
    "import datetime\n",
    "import uuid\n",
    "from pprint import pprint\n",
    "import matplotlib.pyplot as plt\n",
    "from pymongo import MongoClient\n",
    "from typing import Optional, List\n",
    "from didcomm.common.types import DID, VerificationMethodType, VerificationMaterial, VerificationMaterialFormat\n",
    "from didcomm.did_doc.did_doc import DIDDoc, VerificationMethod, DIDCommService\n",
    "from didcomm.did_doc.did_resolver import DIDResolver\n",
    "from didcomm.message import Message, FromPrior\n",
    "from didcomm.secrets.secrets_resolver_demo import SecretsResolverDemo\n",
    "from didcomm.unpack import unpack, UnpackResult\n",
    "from didcomm.common.resolvers import ResolversConfig\n",
    "from didcomm.pack_encrypted import pack_encrypted, PackEncryptedConfig, PackEncryptedResult\n",
    "from peerdid.core.did_doc_types import DIDCommServicePeerDID\n",
    "from didcomm.secrets.secrets_util import generate_x25519_keys_as_jwk_dict, generate_ed25519_keys_as_jwk_dict, jwk_to_secret\n",
    "from peerdid import peer_did\n",
    "from peerdid.did_doc import DIDDocPeerDID\n",
    "from peerdid.types import VerificationMaterialAuthentication, VerificationMethodTypeAuthentication, VerificationMaterialAgreement, VerificationMethodTypeAgreement, VerificationMaterialFormatPeerDID\n",
    "\n",
    "    "
   ]
  },
  {
   "cell_type": "code",
   "execution_count": 2,
   "metadata": {},
   "outputs": [],
   "source": [
    "alice_verifications = [\n",
    "    {\n",
    "         \"id\":\"did:example:alice#key-1\",\n",
    "         \"type\":\"JsonWebKey2020\",\n",
    "         \"controller\":\"did:example:alice\",\n",
    "         \"publicKeyJwk\":{\n",
    "            \"kty\":\"OKP\",\n",
    "            \"crv\":\"Ed25519\",\n",
    "            \"x\":\"G-boxFB6vOZBu-wXkm-9Lh79I8nf9Z50cILaOgKKGww\"\n",
    "         }\n",
    "      },\n",
    "    {\n",
    "         \"id\":\"did:example:alice#key-x25519-1\",\n",
    "         \"type\":\"JsonWebKey2020\",\n",
    "         \"controller\":\"did:example:alice\",\n",
    "         \"publicKeyJwk\":{\n",
    "            \"kty\":\"OKP\",\n",
    "            \"crv\":\"X25519\",\n",
    "            \"x\":\"avH0O2Y4tqLAq8y9zpianr8ajii5m4F_mICrzNlatXs\"\n",
    "         }\n",
    "    }\n",
    "]\n",
    "secrets_resolver = SecretsResolverDemo()\n",
    "alice_secrets = [\n",
    "  {\n",
    "    \"kid\":\"did:example:alice#key-1\",\n",
    "    \"id\":\"did:example:alice#key-1\",\n",
    "    \"kty\":\"OKP\",\n",
    "    \"d\":\"pFRUKkyzx4kHdJtFSnlPA9WzqkDT1HWV0xZ5OYZd2SY\",\n",
    "    \"crv\":\"Ed25519\",\n",
    "    \"x\":\"G-boxFB6vOZBu-wXkm-9Lh79I8nf9Z50cILaOgKKGww\"\n",
    "  }\n",
    "]\n",
    "for secret in alice_secrets:\n",
    "    await secrets_resolver.add_key(jwk_to_secret(secret))\n",
    "    \n",
    "    \n",
    "bob_verifications = [\n",
    "     {\n",
    "        \"id\":\"did:example:bob#key-x25519-1\",\n",
    "        \"type\":\"JsonWebKey2020\",\n",
    "        \"controller\":\"did:example:bob\",\n",
    "        \"publicKeyJwk\":{\n",
    "           \"kty\":\"OKP\",\n",
    "           \"crv\":\"X25519\",\n",
    "           \"x\":\"GDTrI66K0pFfO54tlCSvfjjNapIs44dzpneBgyx0S3E\"\n",
    "        }\n",
    "     }\n",
    "  ]\n",
    "bob_secrets = [\n",
    "  {\n",
    "    \"kid\":\"did:example:bob#key-x25519-1\",\n",
    "    \"id\":\"did:example:bob#key-x25519-1\",\n",
    "    \"kty\":\"OKP\",\n",
    "    \"d\":\"b9NnuOCB0hm7YGNvaE9DMhwH_wjZA1-gWD6dA0JWdL0\",\n",
    "    \"crv\":\"X25519\",\n",
    "    \"x\":\"GDTrI66K0pFfO54tlCSvfjjNapIs44dzpneBgyx0S3E\"\n",
    "  }\n",
    "]\n",
    "for secret in bob_secrets:\n",
    "    await secrets_resolver.add_key(jwk_to_secret(secret))"
   ]
  },
  {
   "cell_type": "code",
   "execution_count": 3,
   "metadata": {},
   "outputs": [],
   "source": [
    "class FakeResolver(DIDResolver):\n",
    "    async def resolve(self, did: DID) -> DIDDoc:\n",
    "        if 'alice' in did:\n",
    "            return DIDDoc(\n",
    "                did=did,\n",
    "                key_agreement_kids = ['did:example:alice#key-1','did:example:alice#key-x25519-1'],\n",
    "                authentication_kids = ['did:example:alice#key-1'],\n",
    "                verification_methods = [\n",
    "                VerificationMethod(\n",
    "                    id = m['id'],\n",
    "                    type = VerificationMethodType.JSON_WEB_KEY_2020,\n",
    "                    controller = m['controller'],\n",
    "                    verification_material = VerificationMaterial(\n",
    "                        format = VerificationMaterialFormat.JWK,\n",
    "                        value = json.dumps(m['publicKeyJwk'])\n",
    "                    )\n",
    "                )\n",
    "                for m in alice_verifications\n",
    "            ],\n",
    "                 didcomm_services = []\n",
    "            )\n",
    "        elif 'bob' in did:\n",
    "            return DIDDoc(\n",
    "                did=did,\n",
    "                key_agreement_kids = ['did:example:bob#key-x25519-1'],\n",
    "                authentication_kids = ['did:example:bob#key-x25519-1'],\n",
    "                verification_methods = [\n",
    "                VerificationMethod(\n",
    "                    id = m['id'],\n",
    "                    type = VerificationMethodType.JSON_WEB_KEY_2020,\n",
    "                    controller = m['controller'],\n",
    "                    verification_material = VerificationMaterial(\n",
    "                        format = VerificationMaterialFormat.JWK,\n",
    "                        value = json.dumps(m['publicKeyJwk'])\n",
    "                    )\n",
    "                )\n",
    "                for m in bob_verifications\n",
    "            ],\n",
    "                 didcomm_services = []\n",
    "            )\n",
    "        else:\n",
    "            return false\n"
   ]
  },
  {
   "cell_type": "code",
   "execution_count": null,
   "metadata": {},
   "outputs": [],
   "source": []
  },
  {
   "cell_type": "code",
   "execution_count": 4,
   "metadata": {},
   "outputs": [],
   "source": [
    "ping_msg = Message(\n",
    "    body = { \"response_requested\": True },\n",
    "    id = str(uuid.uuid4()),\n",
    "    type = \"https://didcomm.org/trust-ping/2.0/ping\",\n",
    "    frm = 'did:example:alice',\n",
    "    to = ['did:example:bob']\n",
    ")\n"
   ]
  },
  {
   "cell_type": "code",
   "execution_count": 5,
   "metadata": {},
   "outputs": [
    {
     "data": {
      "text/plain": [
       "PackEncryptedResult(packed_msg='{\"protected\":\"eyJ0eXAiOiJhcHBsaWNhdGlvbi9kaWRjb21tLWVuY3J5cHRlZCtqc29uIiwiYWxnIjoiRUNESC0xUFUrQTI1NktXIiwiZW5jIjoiQTI1NkNCQy1IUzUxMiIsImFwdSI6IlpHbGtPbVY0WVcxd2JHVTZZV3hwWTJVamEyVjVMWGd5TlRVeE9TMHgiLCJhcHYiOiJRQkhMSUxyTklCR1E3TnJtb1NnQk40VXZUdUJXN0kzQUJBOV9NT1NDbnl3Iiwic2tpZCI6ImRpZDpleGFtcGxlOmFsaWNlI2tleS14MjU1MTktMSIsImVwayI6eyJjcnYiOiJYMjU1MTkiLCJ4IjoibnJSejlwb0xicC1PTDNLZ1p4aHZKU2FpSHB2UVd2LVhIM1B4RjRkeTZHYyIsImt0eSI6Ik9LUCJ9fQ\",\"recipients\":[{\"header\":{\"kid\":\"did:example:bob#key-x25519-1\"},\"encrypted_key\":\"LGghlaHAVSB7pWom8jIVpKGxLxE55U0YVOHg4nOWRjIYmNy3dWVIHUaVkgQTaTu_5jCPP2xJrufDbW3Zb0X5itfTDiEEI1xI\"}],\"iv\":\"AHkwzluRIUmoutC4dC9g1w\",\"ciphertext\":\"tPJiD7hIs1BJLiEU6NU6r3FECnAORHhWB9bpKKMZky84iCQZTKUjEVyj9YEveWhwYr_T9ys9tJxkSQjEVGKk41MN9j2FFyFWbtwQHJmyEyytSeJVoqicgQiXSddm5qNwjZKsNry-Aihlp2IE6IAO10Qi40XTqLH3hgIaIsPQMdjfgB3u1Z6vV-ssswQE-j17e5oPRCNM_K4eL_PLnCiM07T6lPHwMR-o2CK_6ZQvs9-9GQkYVxcLXNy8hPtdVYmOBiGbR5mOg-_kIHjeR_EJqMI9phbhtMd657sDKT53Xz79OUJzdnk8wWHpUipXBnbBSF7r18gTZ1uU_XU7ZSCJ9oN22Gx-O9ScJFv5m8ZOHpk\",\"tag\":\"cRO22GYGbi5kIfyTJO9G87guK1hKq9IybMpv58RhN9Y\"}', to_kids=['did:example:bob#key-x25519-1'], from_kid='did:example:alice#key-x25519-1', sign_from_kid=None, from_prior_issuer_kid=None, service_metadata=None)"
      ]
     },
     "execution_count": 5,
     "metadata": {},
     "output_type": "execute_result"
    }
   ],
   "source": [
    "ping_msg_packed = await pack_encrypted(\n",
    "    resolvers_config = ResolversConfig(\n",
    "        secrets_resolver = secrets_resolver,\n",
    "        did_resolver = FakeResolver()\n",
    "    ),\n",
    "    message = ping_msg,\n",
    "    frm = 'did:example:alice',\n",
    "    to = 'did:example:bob',\n",
    "    sign_frm = None,\n",
    "    pack_config = PackEncryptedConfig(protect_sender_id=False)\n",
    ")\n",
    "ping_msg_packed"
   ]
  },
  {
   "cell_type": "code",
   "execution_count": 6,
   "metadata": {},
   "outputs": [
    {
     "data": {
      "text/plain": [
       "{'protected': 'eyJ0eXAiOiJhcHBsaWNhdGlvbi9kaWRjb21tLWVuY3J5cHRlZCtqc29uIiwiYWxnIjoiRUNESC0xUFUrQTI1NktXIiwiZW5jIjoiQTI1NkNCQy1IUzUxMiIsImFwdSI6IlpHbGtPbVY0WVcxd2JHVTZZV3hwWTJVamEyVjVMWGd5TlRVeE9TMHgiLCJhcHYiOiJRQkhMSUxyTklCR1E3TnJtb1NnQk40VXZUdUJXN0kzQUJBOV9NT1NDbnl3Iiwic2tpZCI6ImRpZDpleGFtcGxlOmFsaWNlI2tleS14MjU1MTktMSIsImVwayI6eyJjcnYiOiJYMjU1MTkiLCJ4IjoibnJSejlwb0xicC1PTDNLZ1p4aHZKU2FpSHB2UVd2LVhIM1B4RjRkeTZHYyIsImt0eSI6Ik9LUCJ9fQ',\n",
       " 'recipients': [{'header': {'kid': 'did:example:bob#key-x25519-1'},\n",
       "   'encrypted_key': 'LGghlaHAVSB7pWom8jIVpKGxLxE55U0YVOHg4nOWRjIYmNy3dWVIHUaVkgQTaTu_5jCPP2xJrufDbW3Zb0X5itfTDiEEI1xI'}],\n",
       " 'iv': 'AHkwzluRIUmoutC4dC9g1w',\n",
       " 'ciphertext': 'tPJiD7hIs1BJLiEU6NU6r3FECnAORHhWB9bpKKMZky84iCQZTKUjEVyj9YEveWhwYr_T9ys9tJxkSQjEVGKk41MN9j2FFyFWbtwQHJmyEyytSeJVoqicgQiXSddm5qNwjZKsNry-Aihlp2IE6IAO10Qi40XTqLH3hgIaIsPQMdjfgB3u1Z6vV-ssswQE-j17e5oPRCNM_K4eL_PLnCiM07T6lPHwMR-o2CK_6ZQvs9-9GQkYVxcLXNy8hPtdVYmOBiGbR5mOg-_kIHjeR_EJqMI9phbhtMd657sDKT53Xz79OUJzdnk8wWHpUipXBnbBSF7r18gTZ1uU_XU7ZSCJ9oN22Gx-O9ScJFv5m8ZOHpk',\n",
       " 'tag': 'cRO22GYGbi5kIfyTJO9G87guK1hKq9IybMpv58RhN9Y'}"
      ]
     },
     "execution_count": 6,
     "metadata": {},
     "output_type": "execute_result"
    }
   ],
   "source": [
    "json.loads(ping_msg_packed.packed_msg)"
   ]
  },
  {
   "cell_type": "code",
   "execution_count": 7,
   "metadata": {},
   "outputs": [
    {
     "data": {
      "text/plain": [
       "UnpackResult(message=Message(id='1a2e85d1-7c44-40bf-aff1-7a310ff807cd', type='https://didcomm.org/trust-ping/2.0/ping', body={'response_requested': True}, frm='did:example:alice', to=['did:example:bob'], created_time=None, expires_time=None, from_prior=None, please_ack=None, ack=None, thid=None, pthid=None, attachments=None, custom_headers=[{'return_route': 'all'}]), metadata=Metadata(encrypted=True, authenticated=True, non_repudiation=False, anonymous_sender=False, re_wrapped_in_forward=False, encrypted_from='did:example:alice#key-x25519-1', encrypted_to=['did:example:bob#key-x25519-1'], sign_from=None, from_prior_issuer_kid=None, enc_alg_auth=<AuthCryptAlg.A256CBC_HS512_ECDH_1PU_A256KW: Algs(alg='ECDH-1PU+A256KW', enc='A256CBC-HS512')>, enc_alg_anon=None, sign_alg=None, signed_message=None, from_prior_jwt=None))"
      ]
     },
     "execution_count": 7,
     "metadata": {},
     "output_type": "execute_result"
    }
   ],
   "source": [
    "await unpack(\n",
    "    resolvers_config=ResolversConfig(\n",
    "        secrets_resolver=secrets_resolver,\n",
    "        did_resolver=FakeResolver()\n",
    "    ),\n",
    "    packed_msg= json.loads(ping_msg_packed.packed_msg)\n",
    ")"
   ]
  },
  {
   "cell_type": "markdown",
   "metadata": {},
   "source": [
    "## trying to unpack veramo message"
   ]
  },
  {
   "cell_type": "code",
   "execution_count": 8,
   "metadata": {},
   "outputs": [
    {
     "data": {
      "text/plain": [
       "'{\"protected\":\"eyJ0eXAiOiJhcHBsaWNhdGlvbi9kaWRjb21tLWVuY3J5cHRlZCtqc29uIiwiZW5jIjoiWEMyMFAifQ\",\"iv\":\"LGY0TN6LxddlErFVJSuK6zIS-MeMrMXj\",\"ciphertext\":\"_LbCEaZlGD3oV7ljOksaGimlGtk-GrJTlgvmBVe7_PxdYlBe7M1Z97WWGu4J6aWlTGJoxImnh-E7nbYmkHXnZlayCv3mcjuriomD_2j57GbiluY-lO3yqveHgWrDkh1SOwVfm1pl6OrGrjSsDsEtrYIKS5d2C_lDi3ypVILHA7kdDmVdktHljPHlSEgVirzOqq8PwZIjht4sqRNCyw\",\"tag\":\"KvwWlRKRzfC6O5854C_Z-A\",\"recipients\":[{\"encrypted_key\":\"WpdEE1Qz3TcW_JGNVZBYNzut6hSnF2SBmTpmDMba0YI\",\"header\":{\"alg\":\"ECDH-ES+XC20PKW\",\"iv\":\"gAlWL6c2Ay9CR6VT2JSP2i8wTORTEDVp\",\"tag\":\"9mIh53e9ua2_KtERG-rXWg\",\"epk\":{\"kty\":\"OKP\",\"crv\":\"X25519\",\"x\":\"VR9u58ysZjhmUUv_8y4gs4w1EQwUwHv6QNMsw3UZ2GA\"},\"kid\":\"did:example:bob#key-x25519-1\"}},{\"encrypted_key\":\"vVAEvtQo_EY4CSxCZ0xUIf8lSAmsTNQsIQ-rWILXukM\",\"header\":{\"alg\":\"ECDH-ES+XC20PKW\",\"iv\":\"KUtJdmrT-uNBCXJIAnuSclQup7UM8Bs0\",\"tag\":\"EC_RWpMsegAIWlWs1RPzIw\",\"epk\":{\"kty\":\"OKP\",\"crv\":\"X25519\",\"x\":\"U9CXMzGyk--CGXry3Wn9UJihOMUragqz66eA1WCZkA8\"},\"kid\":\"did:example:bob#key-x25519-2\"}},{\"encrypted_key\":\"9qpBOuvg7hSl3AxtiePLI5adreHLjCHVBjJDaZGw4AU\",\"header\":{\"alg\":\"ECDH-ES+XC20PKW\",\"iv\":\"PlQHRMDEwisiTzMW5nA9fw8tEWlB8iNg\",\"tag\":\"9V4gIvJjgTopUp-SQA9RUA\",\"epk\":{\"kty\":\"OKP\",\"crv\":\"X25519\",\"x\":\"_qYNPgBSldQ60jSfn7gRXJFts2fYyHVy5Ude36TROGc\"},\"kid\":\"did:example:bob#key-x25519-3\"}}]}'"
      ]
     },
     "execution_count": 8,
     "metadata": {},
     "output_type": "execute_result"
    }
   ],
   "source": [
    "#https://github.com/decentralized-identity/didcomm-messaging/issues/435#issuecomment-1483150078\n",
    "msg = \"{\\\"protected\\\":\\\"eyJ0eXAiOiJhcHBsaWNhdGlvbi9kaWRjb21tLWVuY3J5cHRlZCtqc29uIiwiZW5jIjoiWEMyMFAifQ\\\",\\\"iv\\\":\\\"LGY0TN6LxddlErFVJSuK6zIS-MeMrMXj\\\",\\\"ciphertext\\\":\\\"_LbCEaZlGD3oV7ljOksaGimlGtk-GrJTlgvmBVe7_PxdYlBe7M1Z97WWGu4J6aWlTGJoxImnh-E7nbYmkHXnZlayCv3mcjuriomD_2j57GbiluY-lO3yqveHgWrDkh1SOwVfm1pl6OrGrjSsDsEtrYIKS5d2C_lDi3ypVILHA7kdDmVdktHljPHlSEgVirzOqq8PwZIjht4sqRNCyw\\\",\\\"tag\\\":\\\"KvwWlRKRzfC6O5854C_Z-A\\\",\\\"recipients\\\":[{\\\"encrypted_key\\\":\\\"WpdEE1Qz3TcW_JGNVZBYNzut6hSnF2SBmTpmDMba0YI\\\",\\\"header\\\":{\\\"alg\\\":\\\"ECDH-ES+XC20PKW\\\",\\\"iv\\\":\\\"gAlWL6c2Ay9CR6VT2JSP2i8wTORTEDVp\\\",\\\"tag\\\":\\\"9mIh53e9ua2_KtERG-rXWg\\\",\\\"epk\\\":{\\\"kty\\\":\\\"OKP\\\",\\\"crv\\\":\\\"X25519\\\",\\\"x\\\":\\\"VR9u58ysZjhmUUv_8y4gs4w1EQwUwHv6QNMsw3UZ2GA\\\"},\\\"kid\\\":\\\"did:example:bob#key-x25519-1\\\"}},{\\\"encrypted_key\\\":\\\"vVAEvtQo_EY4CSxCZ0xUIf8lSAmsTNQsIQ-rWILXukM\\\",\\\"header\\\":{\\\"alg\\\":\\\"ECDH-ES+XC20PKW\\\",\\\"iv\\\":\\\"KUtJdmrT-uNBCXJIAnuSclQup7UM8Bs0\\\",\\\"tag\\\":\\\"EC_RWpMsegAIWlWs1RPzIw\\\",\\\"epk\\\":{\\\"kty\\\":\\\"OKP\\\",\\\"crv\\\":\\\"X25519\\\",\\\"x\\\":\\\"U9CXMzGyk--CGXry3Wn9UJihOMUragqz66eA1WCZkA8\\\"},\\\"kid\\\":\\\"did:example:bob#key-x25519-2\\\"}},{\\\"encrypted_key\\\":\\\"9qpBOuvg7hSl3AxtiePLI5adreHLjCHVBjJDaZGw4AU\\\",\\\"header\\\":{\\\"alg\\\":\\\"ECDH-ES+XC20PKW\\\",\\\"iv\\\":\\\"PlQHRMDEwisiTzMW5nA9fw8tEWlB8iNg\\\",\\\"tag\\\":\\\"9V4gIvJjgTopUp-SQA9RUA\\\",\\\"epk\\\":{\\\"kty\\\":\\\"OKP\\\",\\\"crv\\\":\\\"X25519\\\",\\\"x\\\":\\\"_qYNPgBSldQ60jSfn7gRXJFts2fYyHVy5Ude36TROGc\\\"},\\\"kid\\\":\\\"did:example:bob#key-x25519-3\\\"}}]}\"\n",
    "msg"
   ]
  },
  {
   "cell_type": "code",
   "execution_count": 9,
   "metadata": {},
   "outputs": [
    {
     "data": {
      "text/plain": [
       "{'protected': 'eyJ0eXAiOiJhcHBsaWNhdGlvbi9kaWRjb21tLWVuY3J5cHRlZCtqc29uIiwiZW5jIjoiWEMyMFAifQ',\n",
       " 'iv': 'LGY0TN6LxddlErFVJSuK6zIS-MeMrMXj',\n",
       " 'ciphertext': '_LbCEaZlGD3oV7ljOksaGimlGtk-GrJTlgvmBVe7_PxdYlBe7M1Z97WWGu4J6aWlTGJoxImnh-E7nbYmkHXnZlayCv3mcjuriomD_2j57GbiluY-lO3yqveHgWrDkh1SOwVfm1pl6OrGrjSsDsEtrYIKS5d2C_lDi3ypVILHA7kdDmVdktHljPHlSEgVirzOqq8PwZIjht4sqRNCyw',\n",
       " 'tag': 'KvwWlRKRzfC6O5854C_Z-A',\n",
       " 'recipients': [{'encrypted_key': 'WpdEE1Qz3TcW_JGNVZBYNzut6hSnF2SBmTpmDMba0YI',\n",
       "   'header': {'alg': 'ECDH-ES+XC20PKW',\n",
       "    'iv': 'gAlWL6c2Ay9CR6VT2JSP2i8wTORTEDVp',\n",
       "    'tag': '9mIh53e9ua2_KtERG-rXWg',\n",
       "    'epk': {'kty': 'OKP',\n",
       "     'crv': 'X25519',\n",
       "     'x': 'VR9u58ysZjhmUUv_8y4gs4w1EQwUwHv6QNMsw3UZ2GA'},\n",
       "    'kid': 'did:example:bob#key-x25519-1'}},\n",
       "  {'encrypted_key': 'vVAEvtQo_EY4CSxCZ0xUIf8lSAmsTNQsIQ-rWILXukM',\n",
       "   'header': {'alg': 'ECDH-ES+XC20PKW',\n",
       "    'iv': 'KUtJdmrT-uNBCXJIAnuSclQup7UM8Bs0',\n",
       "    'tag': 'EC_RWpMsegAIWlWs1RPzIw',\n",
       "    'epk': {'kty': 'OKP',\n",
       "     'crv': 'X25519',\n",
       "     'x': 'U9CXMzGyk--CGXry3Wn9UJihOMUragqz66eA1WCZkA8'},\n",
       "    'kid': 'did:example:bob#key-x25519-2'}},\n",
       "  {'encrypted_key': '9qpBOuvg7hSl3AxtiePLI5adreHLjCHVBjJDaZGw4AU',\n",
       "   'header': {'alg': 'ECDH-ES+XC20PKW',\n",
       "    'iv': 'PlQHRMDEwisiTzMW5nA9fw8tEWlB8iNg',\n",
       "    'tag': '9V4gIvJjgTopUp-SQA9RUA',\n",
       "    'epk': {'kty': 'OKP',\n",
       "     'crv': 'X25519',\n",
       "     'x': '_qYNPgBSldQ60jSfn7gRXJFts2fYyHVy5Ude36TROGc'},\n",
       "    'kid': 'did:example:bob#key-x25519-3'}}]}"
      ]
     },
     "execution_count": 9,
     "metadata": {},
     "output_type": "execute_result"
    }
   ],
   "source": [
    "json.loads(msg)"
   ]
  },
  {
   "cell_type": "code",
   "execution_count": 10,
   "metadata": {},
   "outputs": [
    {
     "ename": "MalformedMessageError",
     "evalue": "MalformedMessageCode.INVALID_PLAINTEXT",
     "output_type": "error",
     "traceback": [
      "\u001b[0;31m---------------------------------------------------------------------------\u001b[0m",
      "\u001b[0;31mMalformedMessageError\u001b[0m                     Traceback (most recent call last)",
      "Input \u001b[0;32mIn [10]\u001b[0m, in \u001b[0;36m<cell line: 1>\u001b[0;34m()\u001b[0m\n\u001b[0;32m----> 1\u001b[0m \u001b[38;5;28;01mawait\u001b[39;00m unpack(\n\u001b[1;32m      2\u001b[0m     resolvers_config\u001b[38;5;241m=\u001b[39mResolversConfig(\n\u001b[1;32m      3\u001b[0m         secrets_resolver\u001b[38;5;241m=\u001b[39msecrets_resolver,\n\u001b[1;32m      4\u001b[0m         did_resolver\u001b[38;5;241m=\u001b[39mFakeResolver()\n\u001b[1;32m      5\u001b[0m     ),\n\u001b[1;32m      6\u001b[0m     packed_msg\u001b[38;5;241m=\u001b[39m json\u001b[38;5;241m.\u001b[39mloads(msg)\n\u001b[1;32m      7\u001b[0m )\n",
      "File \u001b[0;32m/opt/homebrew/lib/python3.10/site-packages/didcomm/unpack.py:64\u001b[0m, in \u001b[0;36munpack\u001b[0;34m(resolvers_config, packed_msg, unpack_config)\u001b[0m\n\u001b[1;32m     53\u001b[0m     \u001b[38;5;28;01mraise\u001b[39;00m DIDCommValueError(\n\u001b[1;32m     54\u001b[0m         \u001b[38;5;124mf\u001b[39m\u001b[38;5;124m\"\u001b[39m\u001b[38;5;124munexpected type of packed_message: \u001b[39m\u001b[38;5;124m'\u001b[39m\u001b[38;5;132;01m{\u001b[39;00m\u001b[38;5;28mtype\u001b[39m(packed_msg)\u001b[38;5;132;01m}\u001b[39;00m\u001b[38;5;124m'\u001b[39m\u001b[38;5;124m\"\u001b[39m\n\u001b[1;32m     55\u001b[0m     )\n\u001b[1;32m     57\u001b[0m metadata \u001b[38;5;241m=\u001b[39m Metadata(\n\u001b[1;32m     58\u001b[0m     encrypted\u001b[38;5;241m=\u001b[39m\u001b[38;5;28;01mFalse\u001b[39;00m,\n\u001b[1;32m     59\u001b[0m     authenticated\u001b[38;5;241m=\u001b[39m\u001b[38;5;28;01mFalse\u001b[39;00m,\n\u001b[1;32m     60\u001b[0m     non_repudiation\u001b[38;5;241m=\u001b[39m\u001b[38;5;28;01mFalse\u001b[39;00m,\n\u001b[1;32m     61\u001b[0m     anonymous_sender\u001b[38;5;241m=\u001b[39m\u001b[38;5;28;01mFalse\u001b[39;00m,\n\u001b[1;32m     62\u001b[0m )\n\u001b[0;32m---> 64\u001b[0m \u001b[38;5;28;01mreturn\u001b[39;00m \u001b[38;5;28;01mawait\u001b[39;00m _do_unpack(resolvers_config, packed_msg, unpack_config, metadata)\n",
      "File \u001b[0;32m/opt/homebrew/lib/python3.10/site-packages/didcomm/unpack.py:131\u001b[0m, in \u001b[0;36m_do_unpack\u001b[0;34m(resolvers_config, packed_msg, unpack_config, metadata)\u001b[0m\n\u001b[1;32m    126\u001b[0m from_prior_issuer_kid \u001b[38;5;241m=\u001b[39m \u001b[38;5;28;01mawait\u001b[39;00m unpack_from_prior_in_place(\n\u001b[1;32m    127\u001b[0m     msg_as_dict, resolvers_config\n\u001b[1;32m    128\u001b[0m )\n\u001b[1;32m    129\u001b[0m metadata\u001b[38;5;241m.\u001b[39mfrom_prior_issuer_kid \u001b[38;5;241m=\u001b[39m from_prior_issuer_kid\n\u001b[0;32m--> 131\u001b[0m message \u001b[38;5;241m=\u001b[39m \u001b[43mMessage\u001b[49m\u001b[38;5;241;43m.\u001b[39;49m\u001b[43mfrom_dict\u001b[49m\u001b[43m(\u001b[49m\u001b[43mmsg_as_dict\u001b[49m\u001b[43m)\u001b[49m\n\u001b[1;32m    133\u001b[0m \u001b[38;5;28;01mreturn\u001b[39;00m UnpackResult(message\u001b[38;5;241m=\u001b[39mmessage, metadata\u001b[38;5;241m=\u001b[39mmetadata)\n",
      "File \u001b[0;32m/opt/homebrew/lib/python3.10/site-packages/didcomm/message.py:123\u001b[0m, in \u001b[0;36mGenericMessage.from_dict\u001b[0;34m(cls, d)\u001b[0m\n\u001b[1;32m    121\u001b[0m \u001b[38;5;28;01mfor\u001b[39;00m f \u001b[38;5;129;01min\u001b[39;00m (\u001b[38;5;124m\"\u001b[39m\u001b[38;5;124mid\u001b[39m\u001b[38;5;124m\"\u001b[39m, \u001b[38;5;124m\"\u001b[39m\u001b[38;5;124mtype\u001b[39m\u001b[38;5;124m\"\u001b[39m, \u001b[38;5;124m\"\u001b[39m\u001b[38;5;124mbody\u001b[39m\u001b[38;5;124m\"\u001b[39m, \u001b[38;5;124m\"\u001b[39m\u001b[38;5;124mtyp\u001b[39m\u001b[38;5;124m\"\u001b[39m):\n\u001b[1;32m    122\u001b[0m     \u001b[38;5;28;01mif\u001b[39;00m f \u001b[38;5;129;01mnot\u001b[39;00m \u001b[38;5;129;01min\u001b[39;00m d:\n\u001b[0;32m--> 123\u001b[0m         \u001b[38;5;28;01mraise\u001b[39;00m MalformedMessageError(MalformedMessageCode\u001b[38;5;241m.\u001b[39mINVALID_PLAINTEXT)\n\u001b[1;32m    125\u001b[0m \u001b[38;5;28;01mif\u001b[39;00m d[\u001b[38;5;124m\"\u001b[39m\u001b[38;5;124mtyp\u001b[39m\u001b[38;5;124m\"\u001b[39m] \u001b[38;5;241m!=\u001b[39m DIDCommMessageTypes\u001b[38;5;241m.\u001b[39mPLAINTEXT\u001b[38;5;241m.\u001b[39mvalue:\n\u001b[1;32m    126\u001b[0m     \u001b[38;5;28;01mraise\u001b[39;00m MalformedMessageError(MalformedMessageCode\u001b[38;5;241m.\u001b[39mINVALID_PLAINTEXT)\n",
      "\u001b[0;31mMalformedMessageError\u001b[0m: MalformedMessageCode.INVALID_PLAINTEXT"
     ]
    }
   ],
   "source": [
    "await unpack(\n",
    "    resolvers_config=ResolversConfig(\n",
    "        secrets_resolver=secrets_resolver,\n",
    "        did_resolver=FakeResolver()\n",
    "    ),\n",
    "    packed_msg= json.loads(msg)\n",
    ")"
   ]
  },
  {
   "cell_type": "markdown",
   "metadata": {},
   "source": [
    "### Create Secrets and DID resolvers"
   ]
  },
  {
   "cell_type": "code",
   "execution_count": 11,
   "metadata": {},
   "outputs": [],
   "source": [
    "secrets_resolver = SecretsResolverDemo()\n",
    "\n",
    "class DIDResolverPeerDID(DIDResolver):\n",
    "    async def resolve(self, did: DID) -> DIDDoc:\n",
    "        did_doc_json = peer_did.resolve_peer_did(did, format = VerificationMaterialFormatPeerDID.JWK)\n",
    "        did_doc = DIDDocPeerDID.from_json(did_doc_json)\n",
    "\n",
    "        return DIDDoc(\n",
    "            did=did_doc.did,\n",
    "            key_agreement_kids = did_doc.agreement_kids,\n",
    "            authentication_kids = did_doc.auth_kids,\n",
    "            verification_methods = [\n",
    "                VerificationMethod(\n",
    "                    id = m.id,\n",
    "                    type = VerificationMethodType.JSON_WEB_KEY_2020,\n",
    "                    controller = m.controller,\n",
    "                    verification_material = VerificationMaterial(\n",
    "                        format = VerificationMaterialFormat.JWK,\n",
    "                        value = json.dumps(m.ver_material.value)\n",
    "                    )\n",
    "                )\n",
    "                for m in did_doc.authentication + did_doc.key_agreement\n",
    "            ],\n",
    "             didcomm_services = []\n",
    "        )\n",
    "async def create_peer_did(self,\n",
    "                        auth_keys_count: int = 1,\n",
    "                        agreement_keys_count: int = 1,\n",
    "                        service_endpoint: Optional[str] = None,\n",
    "                        service_routing_keys: Optional[List[str]] = None\n",
    "                        ) -> str:\n",
    "        # 1. generate keys in JWK format\n",
    "        agreem_keys = [generate_x25519_keys_as_jwk_dict() for _ in range(agreement_keys_count)]\n",
    "        auth_keys = [generate_ed25519_keys_as_jwk_dict() for _ in range(auth_keys_count)]\n",
    "\n",
    "        # 2. prepare the keys for peer DID lib\n",
    "        agreem_keys_peer_did = [\n",
    "            VerificationMaterialAgreement(\n",
    "                type=VerificationMethodTypeAgreement.JSON_WEB_KEY_2020,\n",
    "                format=VerificationMaterialFormatPeerDID.JWK,\n",
    "                value=k[1],\n",
    "            )\n",
    "            for k in agreem_keys\n",
    "        ]\n",
    "        auth_keys_peer_did = [\n",
    "            VerificationMaterialAuthentication(\n",
    "                type=VerificationMethodTypeAuthentication.JSON_WEB_KEY_2020,\n",
    "                format=VerificationMaterialFormatPeerDID.JWK,\n",
    "                value=k[1],\n",
    "            )\n",
    "            for k in auth_keys\n",
    "        ]\n",
    "\n",
    "        # 3. generate service\n",
    "        service = None\n",
    "        if service_endpoint:\n",
    "            service = json.dumps(\n",
    "                DIDCommServicePeerDID(\n",
    "                    id=\"new-id\",\n",
    "                    service_endpoint=service_endpoint, routing_keys=service_routing_keys,\n",
    "                    accept=[\"didcomm/v2\"]\n",
    "                ).to_dict()\n",
    "            )\n",
    "\n",
    "        # 4. call peer DID lib\n",
    "        # if we have just one key (auth), then use numalg0 algorithm\n",
    "        # otherwise use numalg2 algorithm\n",
    "        if len(auth_keys_peer_did) == 1 and not agreem_keys_peer_did and not service:\n",
    "            did = peer_did.create_peer_did_numalgo_0(auth_keys_peer_did[0])\n",
    "        else:\n",
    "            did = peer_did.create_peer_did_numalgo_2(\n",
    "                encryption_keys=agreem_keys_peer_did,\n",
    "                signing_keys=auth_keys_peer_did,\n",
    "                service=service,\n",
    "            )\n",
    "\n",
    "        # 5. set KIDs as in DID DOC for secrets and store the secret in the secrets resolver\n",
    "        did_doc = DIDDocPeerDID.from_json(peer_did.resolve_peer_did(did))\n",
    "        for auth_key, kid in zip(auth_keys, did_doc.auth_kids):\n",
    "            private_key = auth_key[0]\n",
    "            private_key[\"kid\"] = kid\n",
    "            await secrets_resolver.add_key(jwk_to_secret(private_key))\n",
    "\n",
    "        for agreem_key, kid in zip(agreem_keys, did_doc.agreement_kids):\n",
    "            private_key = agreem_key[0]\n",
    "            private_key[\"kid\"] = kid\n",
    "            print(private_key)\n",
    "            print(jwk_to_secret(private_key))\n",
    "            await secrets_resolver.add_key(jwk_to_secret(private_key))\n",
    "\n",
    "        return did"
   ]
  },
  {
   "cell_type": "markdown",
   "metadata": {},
   "source": [
    "### 1. Tony get OOB from Mediator\n",
    "Didcomm mediator: https://mediator.rootsid.cloud/"
   ]
  },
  {
   "cell_type": "code",
   "execution_count": 29,
   "metadata": {},
   "outputs": [
    {
     "name": "stdout",
     "output_type": "stream",
     "text": [
      "{'body': {'accept': ['didcomm/v2'],\n",
      "          'goal': 'RequestMediate',\n",
      "          'goal_code': 'request-mediate',\n",
      "          'label': 'Mediator'},\n",
      " 'from': 'did:peer:2.Ez6LSms555YhFthn1WV8ciDBpZm86hK9tp83WojJUmxPGk1hZ.Vz6MkmdBjMyB4TS5UbbQw54szm8yvMMf1ftGV2sQVYAxaeWhE.SeyJpZCI6Im5ldy1pZCIsInQiOiJkbSIsInMiOiJodHRwczovL21lZGlhdG9yLnJvb3RzaWQuY2xvdWQiLCJhIjpbImRpZGNvbW0vdjIiXX0',\n",
      " 'id': '6554aef2-4b6e-42e7-a8fa-3e9f515acfaf',\n",
      " 'type': 'https://didcomm.org/out-of-band/2.0/invitation'}\n"
     ]
    }
   ],
   "source": [
    "#oob_url = requests.get(\"http://127.0.0.1:8000/oob_url\").text\n",
    "oob_url = requests.get(\"https://mediator.rootsid.cloud/oob_url\").text\n",
    "received_msg_encoded = oob_url.split(\"=\")[1]\n",
    "received_msg_decoded = json.loads(str(base64.urlsafe_b64decode(received_msg_encoded + \"==\"), \"utf-8\"))\n",
    "pprint(received_msg_decoded)"
   ]
  },
  {
   "cell_type": "code",
   "execution_count": null,
   "metadata": {},
   "outputs": [],
   "source": []
  },
  {
   "cell_type": "markdown",
   "metadata": {},
   "source": [
    "### 2. Tony creates peer did with mediator"
   ]
  },
  {
   "cell_type": "code",
   "execution_count": 30,
   "metadata": {},
   "outputs": [
    {
     "name": "stdout",
     "output_type": "stream",
     "text": [
      "{'crv': 'X25519', 'x': 'PxQCfZVH7xxj5Zpju_4ZFIZtYPbmKRIQxjaTp15iHFU', 'd': 'wJzWm7xMYObi9IzXcCeGMzJvSHX4Dev-4ytFGAam1VQ', 'kty': 'OKP', 'kid': 'did:peer:2.Ez6LSfvQYfE8e5Qz1RajpWqYvMcvTjzm4Lw8huakt1RTofiix.Vz6MkurNLgD6iqQsFh1gRmK19aL8UgKUz6DTyZznAqqLGQ3uR#6LSfvQYfE8e5Qz1RajpWqYvMcvTjzm4Lw8huakt1RTofiix'}\n",
      "Secret(kid='did:peer:2.Ez6LSfvQYfE8e5Qz1RajpWqYvMcvTjzm4Lw8huakt1RTofiix.Vz6MkurNLgD6iqQsFh1gRmK19aL8UgKUz6DTyZznAqqLGQ3uR#6LSfvQYfE8e5Qz1RajpWqYvMcvTjzm4Lw8huakt1RTofiix', type=<VerificationMethodType.JSON_WEB_KEY_2020: 1>, verification_material=VerificationMaterial(format=<VerificationMaterialFormat.JWK: 1>, value='{\"crv\":\"X25519\",\"x\":\"PxQCfZVH7xxj5Zpju_4ZFIZtYPbmKRIQxjaTp15iHFU\",\"d\":\"wJzWm7xMYObi9IzXcCeGMzJvSHX4Dev-4ytFGAam1VQ\",\"kty\":\"OKP\",\"kid\":\"did:peer:2.Ez6LSfvQYfE8e5Qz1RajpWqYvMcvTjzm4Lw8huakt1RTofiix.Vz6MkurNLgD6iqQsFh1gRmK19aL8UgKUz6DTyZznAqqLGQ3uR#6LSfvQYfE8e5Qz1RajpWqYvMcvTjzm4Lw8huakt1RTofiix\"}'))\n",
      "Tony's DID: did:peer:2.Ez6LSfvQYfE8e5Qz1RajpWqYvMcvTjzm4Lw8huakt1RTofiix.Vz6MkurNLgD6iqQsFh1gRmK19aL8UgKUz6DTyZznAqqLGQ3uR\n"
     ]
    }
   ],
   "source": [
    "tony_did_for_trust_ping = await create_peer_did(2,)\n",
    "print(\"Tony's DID:\", tony_did_for_trust_ping)"
   ]
  },
  {
   "cell_type": "markdown",
   "metadata": {},
   "source": [
    "### 3. Tony checks the Mediator Trust ping Endpoint"
   ]
  },
  {
   "cell_type": "code",
   "execution_count": 31,
   "metadata": {},
   "outputs": [
    {
     "name": "stdout",
     "output_type": "stream",
     "text": [
      "PackEncryptedResult(packed_msg='{\"protected\":\"eyJ0eXAiOiJhcHBsaWNhdGlvbi9kaWRjb21tLWVuY3J5cHRlZCtqc29uIiwiYWxnIjoiRUNESC0xUFUrQTI1NktXIiwiZW5jIjoiQTI1NkNCQy1IUzUxMiIsImFwdSI6IlpHbGtPbkJsWlhJNk1pNUZlalpNVTJaMlVWbG1SVGhsTlZGNk1WSmhhbkJYY1ZsMlRXTjJWR3A2YlRSTWR6aG9kV0ZyZERGU1ZHOW1hV2w0TGxaNk5rMXJkWEpPVEdkRU5tbHhVWE5HYURGblVtMUxNVGxoVERoVlowdFZlalpFVkhsYWVtNUJjWEZNUjFFemRWSWpOa3hUWm5aUldXWkZPR1UxVVhveFVtRnFjRmR4V1haTlkzWlVhbnB0TkV4M09HaDFZV3QwTVZKVWIyWnBhWGciLCJhcHYiOiJlUXhXSUxDSGo2NWlYeVNybkJzRTNjTVBMdjZIcTBVVnlKUGZ5Ykt0N3lRIiwic2tpZCI6ImRpZDpwZWVyOjIuRXo2TFNmdlFZZkU4ZTVRejFSYWpwV3FZdk1jdlRqem00THc4aHVha3QxUlRvZmlpeC5WejZNa3VyTkxnRDZpcVFzRmgxZ1JtSzE5YUw4VWdLVXo2RFR5WnpuQXFxTEdRM3VSIzZMU2Z2UVlmRThlNVF6MVJhanBXcVl2TWN2VGp6bTRMdzhodWFrdDFSVG9maWl4IiwiZXBrIjp7ImNydiI6IlgyNTUxOSIsIngiOiJVa2NFVXpKSkRERm80dTk2QWpOeXlIYlZ6d0NGb1ZDQWN3emZNUHUzRHc4Iiwia3R5IjoiT0tQIn19\",\"recipients\":[{\"header\":{\"kid\":\"did:peer:2.Ez6LSms555YhFthn1WV8ciDBpZm86hK9tp83WojJUmxPGk1hZ.Vz6MkmdBjMyB4TS5UbbQw54szm8yvMMf1ftGV2sQVYAxaeWhE.SeyJpZCI6Im5ldy1pZCIsInQiOiJkbSIsInMiOiJodHRwczovL21lZGlhdG9yLnJvb3RzaWQuY2xvdWQiLCJhIjpbImRpZGNvbW0vdjIiXX0#6LSms555YhFthn1WV8ciDBpZm86hK9tp83WojJUmxPGk1hZ\"},\"encrypted_key\":\"Z9tmDmSigZwL1_SB2sflcVGYnVFhsEszp6q9W0MAAPvjKTTs--FgWMfLdRRgQ-612iJ0zrkmKOdB6A7kohWYUEnwlLTz0hLu\"}],\"iv\":\"naralz4qI3Wvii7_dI92yw\",\"ciphertext\":\"K7P7EEb_nRP5IyCa5WRoPvDXs0bHpvBUFOJEnareLvbmDCvDHgMVmhMH49ZIRdd9yhlNvrOp2LROIqmF7d3KiZRZx6GUXbmk7iIbzJClTgiAj0O_aXI2MImsxOYsE9nh0US5F08aAeLtFufHpqfv49ZfNryjBuyUPNrY9ssWN_oQBDdh7xBERnfN0pczG15_G9wzzy5J67KcOsviextDdl9QCA2kbFrfW5a0Lb-xn-0lm0t-ow2_tvVYDBSVo0aTa4MBKEdcR582WEXtFM-hGbAtcwQbhh4UPdChVsjW43PYf7lx7B_i-RYUFlMHlxL86871ScJuTk1KEvQL_WfmDHQyCnG_MCOqkx_QiEOe9q1td-wEPDPcyc7JIC6qeoQKCQ0p5ZIF1CjN-dHdVG4QeJ3oU9Bk-5sP5EJnIZAzCVTOQw26LvjUtfBKdU9cVteqautEO-DqDN0Qobycmt9hkLr9DthjzdatFq_2zWJZM1ydIf7R9qEs4SNZUBjr9kEVXhzjG09BHdolXm_NophhhU2v0tMEtdmiuQUMVM5TkE-g3yvqHLhU2PlHkxmxFjBTattWF-xQIc5GJYh9wIIYePhKLNCDCYSP-0IOOT550_pLVsrpbuz2Eier6Ab6ZmcDCGrPOAxu54A4ocs9SjLo9bZDexQ2K1nhFNroi3t7xSK6JpCCYvNdtQc5Y0LTJ6Q3\",\"tag\":\"Sn0cJyWUZtpG5H0gGPW5GSdxsGbluz3F13Qxfan7bm0\"}', to_kids=['did:peer:2.Ez6LSms555YhFthn1WV8ciDBpZm86hK9tp83WojJUmxPGk1hZ.Vz6MkmdBjMyB4TS5UbbQw54szm8yvMMf1ftGV2sQVYAxaeWhE.SeyJpZCI6Im5ldy1pZCIsInQiOiJkbSIsInMiOiJodHRwczovL21lZGlhdG9yLnJvb3RzaWQuY2xvdWQiLCJhIjpbImRpZGNvbW0vdjIiXX0#6LSms555YhFthn1WV8ciDBpZm86hK9tp83WojJUmxPGk1hZ'], from_kid='did:peer:2.Ez6LSfvQYfE8e5Qz1RajpWqYvMcvTjzm4Lw8huakt1RTofiix.Vz6MkurNLgD6iqQsFh1gRmK19aL8UgKUz6DTyZznAqqLGQ3uR#6LSfvQYfE8e5Qz1RajpWqYvMcvTjzm4Lw8huakt1RTofiix', sign_from_kid=None, from_prior_issuer_kid=None, service_metadata=None)\n",
      "https://didcomm.org/trust-ping/2.0/ping-response\n"
     ]
    }
   ],
   "source": [
    "ping_msg = Message(\n",
    "    body = { \"response_requested\": True },\n",
    "    id = str(uuid.uuid4()),\n",
    "    type = \"https://didcomm.org/trust-ping/2.0/ping\",\n",
    "    frm = tony_did_for_trust_ping,\n",
    "    to = [received_msg_decoded[\"from\"]]\n",
    ")\n",
    "\n",
    "tony_trust_ping_packed = await pack_encrypted(\n",
    "    resolvers_config = ResolversConfig(\n",
    "        secrets_resolver = secrets_resolver,\n",
    "        did_resolver = DIDResolverPeerDID()\n",
    "    ),\n",
    "    message = ping_msg,\n",
    "    frm = tony_did_for_trust_ping,\n",
    "    to = received_msg_decoded[\"from\"],\n",
    "    sign_frm = None,\n",
    "    pack_config = PackEncryptedConfig(protect_sender_id=False)\n",
    ")\n",
    "print(tony_trust_ping_packed)\n",
    "trust_ping_did_doc = json.loads(peer_did.resolve_peer_did(received_msg_decoded[\"from\"]))\n",
    "trust_ping_endpoint = trust_ping_did_doc[\"service\"][0][\"serviceEndpoint\"]\n",
    "headers = {\"Content-Type\": \"application/didcomm-encrypted+json\"}\n",
    "resp = requests.post(trust_ping_endpoint, headers=headers, json = json.loads(tony_trust_ping_packed.packed_msg))\n",
    "trust_ping_response = await unpack(\n",
    "    resolvers_config=ResolversConfig(\n",
    "        secrets_resolver=secrets_resolver,\n",
    "        did_resolver=DIDResolverPeerDID()\n",
    "    ),\n",
    "    packed_msg= resp.json()\n",
    ")\n",
    "print(trust_ping_response.message.type)#https://didcomm.org/trust-ping/2.0/ping-response"
   ]
  },
  {
   "cell_type": "code",
   "execution_count": 28,
   "metadata": {},
   "outputs": [
    {
     "data": {
      "text/plain": [
       "{'msg': 'No connection between: did:peer:2.Ez6LScsZZg2TKwMvExr9CjQiSX6oGMJ7VArkUdHvhycuus9uv.Vz6MkipiuLZk6CkGhiiz7LnYeQTAPjta2wyrFFoDfiUM3SuJb.SeyJ0IjoiZG0iLCJzIjoiaHR0cDovL25lc3N1cy10ZWNoLmlvOjkxMDAifQ => did:peer:2.Ez6LSte4CVTWVPiSB8ExZR9Lr3AkNgvr3Dn1afKkrT4EcsXFL.Vz6Mku6aeLuEgbPcMKwD23qHyEvPRmS9U2crmXp5riMMs2aZM',\n",
       " 'trace': 'java.lang.IllegalStateException: No connection between: did:peer:2.Ez6LScsZZg2TKwMvExr9CjQiSX6oGMJ7VArkUdHvhycuus9uv.Vz6MkipiuLZk6CkGhiiz7LnYeQTAPjta2wyrFFoDfiUM3SuJb.SeyJ0IjoiZG0iLCJzIjoiaHR0cDovL25lc3N1cy10ZWNoLmlvOjkxMDAifQ => did:peer:2.Ez6LSte4CVTWVPiSB8ExZR9Lr3AkNgvr3Dn1afKkrT4EcsXFL.Vz6Mku6aeLuEgbPcMKwD23qHyEvPRmS9U2crmXp5riMMs2aZM'}"
      ]
     },
     "execution_count": 28,
     "metadata": {},
     "output_type": "execute_result"
    }
   ],
   "source": [
    "resp.json()"
   ]
  },
  {
   "cell_type": "code",
   "execution_count": 33,
   "metadata": {},
   "outputs": [
    {
     "name": "stdout",
     "output_type": "stream",
     "text": [
      "PackEncryptedResult(packed_msg='{\"protected\":\"eyJ0eXAiOiJhcHBsaWNhdGlvbi9kaWRjb21tLWVuY3J5cHRlZCtqc29uIiwiYWxnIjoiRUNESC0xUFUrQTI1NktXIiwiZW5jIjoiQTI1NkNCQy1IUzUxMiIsImFwdSI6IlpHbGtPbkJsWlhJNk1pNUZlalpNVTJaMlVWbG1SVGhsTlZGNk1WSmhhbkJYY1ZsMlRXTjJWR3A2YlRSTWR6aG9kV0ZyZERGU1ZHOW1hV2w0TGxaNk5rMXJkWEpPVEdkRU5tbHhVWE5HYURGblVtMUxNVGxoVERoVlowdFZlalpFVkhsYWVtNUJjWEZNUjFFemRWSWpOa3hUWm5aUldXWkZPR1UxVVhveFVtRnFjRmR4V1haTlkzWlVhbnB0TkV4M09HaDFZV3QwTVZKVWIyWnBhWGciLCJhcHYiOiJXbGsxUk5ZQXNWeElHMDctOGVKaFZoN2w5NUQtQmpWM2NtLXVYV25aazFZIiwic2tpZCI6ImRpZDpwZWVyOjIuRXo2TFNmdlFZZkU4ZTVRejFSYWpwV3FZdk1jdlRqem00THc4aHVha3QxUlRvZmlpeC5WejZNa3VyTkxnRDZpcVFzRmgxZ1JtSzE5YUw4VWdLVXo2RFR5WnpuQXFxTEdRM3VSIzZMU2Z2UVlmRThlNVF6MVJhanBXcVl2TWN2VGp6bTRMdzhodWFrdDFSVG9maWl4IiwiZXBrIjp7ImNydiI6IlgyNTUxOSIsIngiOiJMZ180b3pjdW5IdWFaYmx6OE1jRkZxcWdFd2VTOEx1Y2c2M0JmR0NNVkFjIiwia3R5IjoiT0tQIn19\",\"recipients\":[{\"header\":{\"kid\":\"did:peer:2.Ez6LScsZZg2TKwMvExr9CjQiSX6oGMJ7VArkUdHvhycuus9uv.Vz6MkipiuLZk6CkGhiiz7LnYeQTAPjta2wyrFFoDfiUM3SuJb.SeyJ0IjoiZG0iLCJzIjoiaHR0cDovL25lc3N1cy10ZWNoLmlvOjkxMDAifQ#6LScsZZg2TKwMvExr9CjQiSX6oGMJ7VArkUdHvhycuus9uv\"},\"encrypted_key\":\"wqFQaqQI21uFiXMc9yW5ta-tuLoMv5HDM4jLXQK-GrWYmWQr_7rU9PxDmCxyVmCf4N64CLxOlSh5_yVb-w-PbxlV4HonnyH2\"}],\"iv\":\"cFC1DSMFxfOZHldmh5SxRQ\",\"ciphertext\":\"cC97M12tVCiXa__gOWsLXsjuylqC_ivyq0cszzZ588U2_U7vsQBzrQyOWU8b9x6y73RtbqAKEJ4MVZkEH6m-pnJAFMaW6h94hzlR6C0gdtJ4lio6EBBgMOTCFJGbnnS1gWMHt8PMV1ev45moKtKYDjEZqpUfdMo-ow9vUUMWofOPtxwRq3Rc41ZMbSyamt3LCbuwKV8jGx-uyHjdnoR6lUptXnHjaeMuHJ4hddb_-oN5rDga78OGNmFQLuymNeUiIb_2xFmciLc6spK2v7dLmNXUrvw1K5Bh_6gAz5uV1WkhlDuRueSAWAKtuwEKQjaWBDmZwQfTie7e8Tkc4a1Ou43XjCS4-9lx2Mjb9-5-kPT_YQTFYurIxWm15d4RAol9IACQgKfl2uyca9xqc6cU7IsqFsPwEm-Ck5ttg6fvdKn2hcUau6oA_0vKT26v66973BIoZG-IF9Trjna4no9CjWKDLuokYDJjx27BVHTpchtMBKkVD0IXh5O7rqBBa88d2KFir8GDTep3htZ5RVvOlR_r4v0PKMiInQzFW7ASRnxff05owGSDewktixe5wiQMI60epxOxBdtj8gtXFOmMZJ-eas8dsny4WacP3nn1hHLs772GujJcfk-mZIBMk4HA\",\"tag\":\"qE38GTJvc4j4Em4ZV1yX-LvYYd-oU-1E0wNoLx3kiog\"}', to_kids=['did:peer:2.Ez6LScsZZg2TKwMvExr9CjQiSX6oGMJ7VArkUdHvhycuus9uv.Vz6MkipiuLZk6CkGhiiz7LnYeQTAPjta2wyrFFoDfiUM3SuJb.SeyJ0IjoiZG0iLCJzIjoiaHR0cDovL25lc3N1cy10ZWNoLmlvOjkxMDAifQ#6LScsZZg2TKwMvExr9CjQiSX6oGMJ7VArkUdHvhycuus9uv'], from_kid='did:peer:2.Ez6LSfvQYfE8e5Qz1RajpWqYvMcvTjzm4Lw8huakt1RTofiix.Vz6MkurNLgD6iqQsFh1gRmK19aL8UgKUz6DTyZznAqqLGQ3uR#6LSfvQYfE8e5Qz1RajpWqYvMcvTjzm4Lw8huakt1RTofiix', sign_from_kid=None, from_prior_issuer_kid=None, service_metadata=None)\n"
     ]
    },
    {
     "data": {
      "text/plain": [
       "{'msg': 'No connection between: did:peer:2.Ez6LScsZZg2TKwMvExr9CjQiSX6oGMJ7VArkUdHvhycuus9uv.Vz6MkipiuLZk6CkGhiiz7LnYeQTAPjta2wyrFFoDfiUM3SuJb.SeyJ0IjoiZG0iLCJzIjoiaHR0cDovL25lc3N1cy10ZWNoLmlvOjkxMDAifQ => did:peer:2.Ez6LSfvQYfE8e5Qz1RajpWqYvMcvTjzm4Lw8huakt1RTofiix.Vz6MkurNLgD6iqQsFh1gRmK19aL8UgKUz6DTyZznAqqLGQ3uR',\n",
       " 'trace': 'java.lang.IllegalStateException: No connection between: did:peer:2.Ez6LScsZZg2TKwMvExr9CjQiSX6oGMJ7VArkUdHvhycuus9uv.Vz6MkipiuLZk6CkGhiiz7LnYeQTAPjta2wyrFFoDfiUM3SuJb.SeyJ0IjoiZG0iLCJzIjoiaHR0cDovL25lc3N1cy10ZWNoLmlvOjkxMDAifQ => did:peer:2.Ez6LSfvQYfE8e5Qz1RajpWqYvMcvTjzm4Lw8huakt1RTofiix.Vz6MkurNLgD6iqQsFh1gRmK19aL8UgKUz6DTyZznAqqLGQ3uR'}"
      ]
     },
     "execution_count": 33,
     "metadata": {},
     "output_type": "execute_result"
    }
   ],
   "source": [
    "###try nessus\n",
    "received_msg_decoded = json.loads(requests.get('http://nessus-tech.io:9100/message/invitation?inviter=Government&method=peer').text)\n",
    "\n",
    "ping_msg = Message(\n",
    "    body = { \"response_requested\": True },\n",
    "    id = str(uuid.uuid4()),\n",
    "    type = \"https://didcomm.org/trust-ping/2.0/ping\",\n",
    "    frm = tony_did_for_trust_ping,\n",
    "    to = [received_msg_decoded[\"from\"]]\n",
    ")\n",
    "\n",
    "tony_trust_ping_packed = await pack_encrypted(\n",
    "    resolvers_config = ResolversConfig(\n",
    "        secrets_resolver = secrets_resolver,\n",
    "        did_resolver = DIDResolverPeerDID()\n",
    "    ),\n",
    "    message = ping_msg,\n",
    "    frm = tony_did_for_trust_ping,\n",
    "    to = received_msg_decoded[\"from\"],\n",
    "    sign_frm = None,\n",
    "    pack_config = PackEncryptedConfig(protect_sender_id=False)\n",
    ")\n",
    "print(tony_trust_ping_packed)\n",
    "trust_ping_did_doc = json.loads(peer_did.resolve_peer_did(received_msg_decoded[\"from\"]))\n",
    "trust_ping_endpoint = trust_ping_did_doc[\"service\"][0][\"serviceEndpoint\"]\n",
    "headers = {\"Content-Type\": \"application/didcomm-encrypted+json\"}\n",
    "resp = requests.post(trust_ping_endpoint, headers=headers, json = json.loads(tony_trust_ping_packed.packed_msg))\n",
    "resp.json()\n",
    "# trust_ping_response = await unpack(\n",
    "#     resolvers_config=ResolversConfig(\n",
    "#         secrets_resolver=secrets_resolver,\n",
    "#         did_resolver=DIDResolverPeerDID()\n",
    "#     ),\n",
    "#     packed_msg= resp.json()\n",
    "# )\n",
    "# print(trust_ping_response.message.type)#https://didcomm.org/trust-ping/2.0/ping-response"
   ]
  },
  {
   "cell_type": "code",
   "execution_count": null,
   "metadata": {},
   "outputs": [],
   "source": []
  }
 ],
 "metadata": {
  "kernelspec": {
   "display_name": "Python 3 (ipykernel)",
   "language": "python",
   "name": "python3"
  },
  "language_info": {
   "codemirror_mode": {
    "name": "ipython",
    "version": 3
   },
   "file_extension": ".py",
   "mimetype": "text/x-python",
   "name": "python",
   "nbconvert_exporter": "python",
   "pygments_lexer": "ipython3",
   "version": "3.10.10"
  }
 },
 "nbformat": 4,
 "nbformat_minor": 2
}
