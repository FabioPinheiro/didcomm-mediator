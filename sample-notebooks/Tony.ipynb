{
 "cells": [
  {
   "cell_type": "code",
   "execution_count": 137,
   "metadata": {},
   "outputs": [],
   "source": [
    "import json\n",
    "import base64\n",
    "import requests\n",
    "import datetime\n",
    "import uuid\n",
    "from pprint import pprint\n",
    "import matplotlib.pyplot as plt\n",
    "from pymongo import MongoClient\n",
    "from typing import Optional, List\n",
    "from didcomm.common.types import DID, VerificationMethodType, VerificationMaterial, VerificationMaterialFormat\n",
    "from didcomm.did_doc.did_doc import DIDDoc, VerificationMethod, DIDCommService\n",
    "from didcomm.did_doc.did_resolver import DIDResolver\n",
    "from didcomm.message import Message, FromPrior\n",
    "from didcomm.secrets.secrets_resolver_demo import SecretsResolverDemo\n",
    "from didcomm.unpack import unpack, UnpackResult\n",
    "from didcomm.common.resolvers import ResolversConfig\n",
    "from didcomm.pack_encrypted import pack_encrypted, PackEncryptedConfig, PackEncryptedResult\n",
    "from peerdid.core.did_doc_types import DIDCommServicePeerDID\n",
    "from didcomm.secrets.secrets_util import generate_x25519_keys_as_jwk_dict, generate_ed25519_keys_as_jwk_dict, jwk_to_secret\n",
    "from peerdid import peer_did\n",
    "from peerdid.did_doc import DIDDocPeerDID\n",
    "from peerdid.types import VerificationMaterialAuthentication, VerificationMethodTypeAuthentication, VerificationMaterialAgreement, VerificationMethodTypeAgreement, VerificationMaterialFormatPeerDID\n",
    "\n",
    "    "
   ]
  },
  {
   "cell_type": "code",
   "execution_count": 192,
   "metadata": {},
   "outputs": [],
   "source": [
    "alice_verifications = [\n",
    "    {\n",
    "         \"id\":\"did:example:alice#key-1\",\n",
    "         \"type\":\"JsonWebKey2020\",\n",
    "         \"controller\":\"did:example:alice\",\n",
    "         \"publicKeyJwk\":{\n",
    "            \"kty\":\"OKP\",\n",
    "            \"crv\":\"Ed25519\",\n",
    "            \"x\":\"G-boxFB6vOZBu-wXkm-9Lh79I8nf9Z50cILaOgKKGww\"\n",
    "         }\n",
    "      },\n",
    "    {\n",
    "         \"id\":\"did:example:alice#key-x25519-1\",\n",
    "         \"type\":\"JsonWebKey2020\",\n",
    "         \"controller\":\"did:example:alice\",\n",
    "         \"publicKeyJwk\":{\n",
    "            \"kty\":\"OKP\",\n",
    "            \"crv\":\"X25519\",\n",
    "            \"x\":\"avH0O2Y4tqLAq8y9zpianr8ajii5m4F_mICrzNlatXs\"\n",
    "         }\n",
    "    }\n",
    "]\n",
    "secrets_resolver = SecretsResolverDemo()\n",
    "alice_secrets = [\n",
    "  {\n",
    "    \"kid\":\"did:example:alice#key-1\",\n",
    "    \"id\":\"did:example:alice#key-1\",\n",
    "    \"kty\":\"OKP\",\n",
    "    \"d\":\"pFRUKkyzx4kHdJtFSnlPA9WzqkDT1HWV0xZ5OYZd2SY\",\n",
    "    \"crv\":\"Ed25519\",\n",
    "    \"x\":\"G-boxFB6vOZBu-wXkm-9Lh79I8nf9Z50cILaOgKKGww\"\n",
    "  }\n",
    "]\n",
    "for secret in alice_secrets:\n",
    "    await secrets_resolver.add_key(jwk_to_secret(secret))\n",
    "    \n",
    "    \n",
    "bob_verifications = [\n",
    "     {\n",
    "        \"id\":\"did:example:bob#key-x25519-1\",\n",
    "        \"type\":\"JsonWebKey2020\",\n",
    "        \"controller\":\"did:example:bob\",\n",
    "        \"publicKeyJwk\":{\n",
    "           \"kty\":\"OKP\",\n",
    "           \"crv\":\"X25519\",\n",
    "           \"x\":\"GDTrI66K0pFfO54tlCSvfjjNapIs44dzpneBgyx0S3E\"\n",
    "        }\n",
    "     }\n",
    "  ]\n",
    "bob_secrets = [\n",
    "  {\n",
    "    \"kid\":\"did:example:bob#key-x25519-1\",\n",
    "    \"id\":\"did:example:bob#key-x25519-1\",\n",
    "    \"kty\":\"OKP\",\n",
    "    \"d\":\"b9NnuOCB0hm7YGNvaE9DMhwH_wjZA1-gWD6dA0JWdL0\",\n",
    "    \"crv\":\"X25519\",\n",
    "    \"x\":\"GDTrI66K0pFfO54tlCSvfjjNapIs44dzpneBgyx0S3E\"\n",
    "  }\n",
    "]\n",
    "for secret in bob_secrets:\n",
    "    await secrets_resolver.add_key(jwk_to_secret(secret))"
   ]
  },
  {
   "cell_type": "code",
   "execution_count": 193,
   "metadata": {},
   "outputs": [],
   "source": [
    "class FakeResolver(DIDResolver):\n",
    "    async def resolve(self, did: DID) -> DIDDoc:\n",
    "        if 'alice' in did:\n",
    "            return DIDDoc(\n",
    "                did=did,\n",
    "                key_agreement_kids = ['did:example:alice#key-1','did:example:alice#key-x25519-1'],\n",
    "                authentication_kids = ['did:example:alice#key-1'],\n",
    "                verification_methods = [\n",
    "                VerificationMethod(\n",
    "                    id = m['id'],\n",
    "                    type = VerificationMethodType.JSON_WEB_KEY_2020,\n",
    "                    controller = m['controller'],\n",
    "                    verification_material = VerificationMaterial(\n",
    "                        format = VerificationMaterialFormat.JWK,\n",
    "                        value = json.dumps(m['publicKeyJwk'])\n",
    "                    )\n",
    "                )\n",
    "                for m in alice_verifications\n",
    "            ],\n",
    "                 didcomm_services = []\n",
    "            )\n",
    "        elif 'bob' in did:\n",
    "            return DIDDoc(\n",
    "                did=did,\n",
    "                key_agreement_kids = ['did:example:bob#key-x25519-1'],\n",
    "                authentication_kids = ['did:example:bob#key-x25519-1'],\n",
    "                verification_methods = [\n",
    "                VerificationMethod(\n",
    "                    id = m['id'],\n",
    "                    type = VerificationMethodType.JSON_WEB_KEY_2020,\n",
    "                    controller = m['controller'],\n",
    "                    verification_material = VerificationMaterial(\n",
    "                        format = VerificationMaterialFormat.JWK,\n",
    "                        value = json.dumps(m['publicKeyJwk'])\n",
    "                    )\n",
    "                )\n",
    "                for m in bob_verifications\n",
    "            ],\n",
    "                 didcomm_services = []\n",
    "            )\n",
    "        else:\n",
    "            return false\n"
   ]
  },
  {
   "cell_type": "code",
   "execution_count": null,
   "metadata": {},
   "outputs": [],
   "source": []
  },
  {
   "cell_type": "code",
   "execution_count": 195,
   "metadata": {},
   "outputs": [],
   "source": []
  },
  {
   "cell_type": "code",
   "execution_count": 196,
   "metadata": {},
   "outputs": [],
   "source": []
  },
  {
   "cell_type": "code",
   "execution_count": null,
   "metadata": {},
   "outputs": [],
   "source": []
  },
  {
   "cell_type": "code",
   "execution_count": 198,
   "metadata": {},
   "outputs": [],
   "source": [
    "ping_msg = Message(\n",
    "    body = { \"response_requested\": True },\n",
    "    custom_headers = [{\"return_route\": \"all\"}],\n",
    "    id = str(uuid.uuid4()),\n",
    "    type = \"https://didcomm.org/trust-ping/2.0/ping\",\n",
    "    frm = 'did:example:alice',\n",
    "    to = ['did:example:bob']\n",
    ")\n"
   ]
  },
  {
   "cell_type": "code",
   "execution_count": 221,
   "metadata": {},
   "outputs": [
    {
     "data": {
      "text/plain": [
       "PackEncryptedResult(packed_msg='{\"protected\":\"eyJ0eXAiOiJhcHBsaWNhdGlvbi9kaWRjb21tLWVuY3J5cHRlZCtqc29uIiwiYWxnIjoiRUNESC0xUFUrQTI1NktXIiwiZW5jIjoiQTI1NkNCQy1IUzUxMiIsImFwdSI6IlpHbGtPbVY0WVcxd2JHVTZZV3hwWTJVamEyVjVMWGd5TlRVeE9TMHgiLCJhcHYiOiJRQkhMSUxyTklCR1E3TnJtb1NnQk40VXZUdUJXN0kzQUJBOV9NT1NDbnl3Iiwic2tpZCI6ImRpZDpleGFtcGxlOmFsaWNlI2tleS14MjU1MTktMSIsImVwayI6eyJjcnYiOiJYMjU1MTkiLCJ4IjoidHVrN2FPVGNCNVo0R0RVMEh2NnU4Ujc1SVB4VGJSUkhYeGhzRWlPOEpYQSIsImt0eSI6Ik9LUCJ9fQ\",\"recipients\":[{\"header\":{\"kid\":\"did:example:bob#key-x25519-1\"},\"encrypted_key\":\"mZTVUX_Zir3g8D4ZRvkGapOsS9eJjTv9VYahMYEgfozTcsF8pJ5DjzN-odUOzYydG520r-8qaIFyCAdz7dWM9hOyzawEB7mN\"}],\"iv\":\"uaVKf-Vc96aO4CCNG5Saew\",\"ciphertext\":\"BO1umotiHfg1Pi6FiU9wT4D8AOVQDHYktNtPGPhEC3hftHZdQMj5EwWYzf63JHz0RWXpp2i-hSCDI9u7Z1vuKWBKKTi0JVfwQBPOrVJPi-3cYlx-KhDrlbPmHGYzSgrfdXtPLYbrYf6cvjrAF5sDPdeEujyj4luf_U5xh43tBc_jMdt4hnlTt1fAn8hoyTIo1c2vxp7avL_5E6mAD4F6OxmYJtEBGus6HMEboZliqNqFidON_VAVmpSudzM0O7Uivqks17DwrqJKJvqweonJjbMgbruFjqeRNWkz_yYBBLW8gP9QrY8LUapLxPemvUf4KP5DPNAS-KNBGteR8zNr9WMEJ0kuWp9LRXacw7B8Ijw\",\"tag\":\"zebEPstcir4jebXQLNQJHkJqZpB-mmKqYZbX5z11BcM\"}', to_kids=['did:example:bob#key-x25519-1'], from_kid='did:example:alice#key-x25519-1', sign_from_kid=None, from_prior_issuer_kid=None, service_metadata=None)"
      ]
     },
     "execution_count": 221,
     "metadata": {},
     "output_type": "execute_result"
    }
   ],
   "source": [
    "ping_msg_packed = await pack_encrypted(\n",
    "    resolvers_config = ResolversConfig(\n",
    "        secrets_resolver = secrets_resolver,\n",
    "        did_resolver = FakeResolver()\n",
    "    ),\n",
    "    message = ping_msg,\n",
    "    frm = 'did:example:alice',\n",
    "    to = 'did:example:bob',\n",
    "    sign_frm = None,\n",
    "    pack_config = PackEncryptedConfig(protect_sender_id=False)\n",
    ")\n",
    "ping_msg_packed"
   ]
  },
  {
   "cell_type": "code",
   "execution_count": 222,
   "metadata": {},
   "outputs": [
    {
     "data": {
      "text/plain": [
       "{'protected': 'eyJ0eXAiOiJhcHBsaWNhdGlvbi9kaWRjb21tLWVuY3J5cHRlZCtqc29uIiwiYWxnIjoiRUNESC0xUFUrQTI1NktXIiwiZW5jIjoiQTI1NkNCQy1IUzUxMiIsImFwdSI6IlpHbGtPbVY0WVcxd2JHVTZZV3hwWTJVamEyVjVMWGd5TlRVeE9TMHgiLCJhcHYiOiJRQkhMSUxyTklCR1E3TnJtb1NnQk40VXZUdUJXN0kzQUJBOV9NT1NDbnl3Iiwic2tpZCI6ImRpZDpleGFtcGxlOmFsaWNlI2tleS14MjU1MTktMSIsImVwayI6eyJjcnYiOiJYMjU1MTkiLCJ4IjoidHVrN2FPVGNCNVo0R0RVMEh2NnU4Ujc1SVB4VGJSUkhYeGhzRWlPOEpYQSIsImt0eSI6Ik9LUCJ9fQ',\n",
       " 'recipients': [{'header': {'kid': 'did:example:bob#key-x25519-1'},\n",
       "   'encrypted_key': 'mZTVUX_Zir3g8D4ZRvkGapOsS9eJjTv9VYahMYEgfozTcsF8pJ5DjzN-odUOzYydG520r-8qaIFyCAdz7dWM9hOyzawEB7mN'}],\n",
       " 'iv': 'uaVKf-Vc96aO4CCNG5Saew',\n",
       " 'ciphertext': 'BO1umotiHfg1Pi6FiU9wT4D8AOVQDHYktNtPGPhEC3hftHZdQMj5EwWYzf63JHz0RWXpp2i-hSCDI9u7Z1vuKWBKKTi0JVfwQBPOrVJPi-3cYlx-KhDrlbPmHGYzSgrfdXtPLYbrYf6cvjrAF5sDPdeEujyj4luf_U5xh43tBc_jMdt4hnlTt1fAn8hoyTIo1c2vxp7avL_5E6mAD4F6OxmYJtEBGus6HMEboZliqNqFidON_VAVmpSudzM0O7Uivqks17DwrqJKJvqweonJjbMgbruFjqeRNWkz_yYBBLW8gP9QrY8LUapLxPemvUf4KP5DPNAS-KNBGteR8zNr9WMEJ0kuWp9LRXacw7B8Ijw',\n",
       " 'tag': 'zebEPstcir4jebXQLNQJHkJqZpB-mmKqYZbX5z11BcM'}"
      ]
     },
     "execution_count": 222,
     "metadata": {},
     "output_type": "execute_result"
    }
   ],
   "source": [
    "json.loads(ping_msg_packed.packed_msg)"
   ]
  },
  {
   "cell_type": "code",
   "execution_count": null,
   "metadata": {},
   "outputs": [],
   "source": [
    "await unpack(\n",
    "    resolvers_config=ResolversConfig(\n",
    "        secrets_resolver=secrets_resolver,\n",
    "        did_resolver=FakeResolver()\n",
    "    ),\n",
    "    packed_msg= json.loads(ping_msg_packed.packed_msg)\n",
    ")"
   ]
  },
  {
   "cell_type": "markdown",
   "metadata": {},
   "source": [
    "## unpack veramo message"
   ]
  },
  {
   "cell_type": "code",
   "execution_count": null,
   "metadata": {},
   "outputs": [],
   "source": [
    "#https://github.com/decentralized-identity/didcomm-messaging/issues/435#issuecomment-1483150078\n",
    "msg = \"{\\\"protected\\\":\\\"eyJ0eXAiOiJhcHBsaWNhdGlvbi9kaWRjb21tLWVuY3J5cHRlZCtqc29uIiwiZW5jIjoiWEMyMFAifQ\\\",\\\"iv\\\":\\\"LGY0TN6LxddlErFVJSuK6zIS-MeMrMXj\\\",\\\"ciphertext\\\":\\\"_LbCEaZlGD3oV7ljOksaGimlGtk-GrJTlgvmBVe7_PxdYlBe7M1Z97WWGu4J6aWlTGJoxImnh-E7nbYmkHXnZlayCv3mcjuriomD_2j57GbiluY-lO3yqveHgWrDkh1SOwVfm1pl6OrGrjSsDsEtrYIKS5d2C_lDi3ypVILHA7kdDmVdktHljPHlSEgVirzOqq8PwZIjht4sqRNCyw\\\",\\\"tag\\\":\\\"KvwWlRKRzfC6O5854C_Z-A\\\",\\\"recipients\\\":[{\\\"encrypted_key\\\":\\\"WpdEE1Qz3TcW_JGNVZBYNzut6hSnF2SBmTpmDMba0YI\\\",\\\"header\\\":{\\\"alg\\\":\\\"ECDH-ES+XC20PKW\\\",\\\"iv\\\":\\\"gAlWL6c2Ay9CR6VT2JSP2i8wTORTEDVp\\\",\\\"tag\\\":\\\"9mIh53e9ua2_KtERG-rXWg\\\",\\\"epk\\\":{\\\"kty\\\":\\\"OKP\\\",\\\"crv\\\":\\\"X25519\\\",\\\"x\\\":\\\"VR9u58ysZjhmUUv_8y4gs4w1EQwUwHv6QNMsw3UZ2GA\\\"},\\\"kid\\\":\\\"did:example:bob#key-x25519-1\\\"}},{\\\"encrypted_key\\\":\\\"vVAEvtQo_EY4CSxCZ0xUIf8lSAmsTNQsIQ-rWILXukM\\\",\\\"header\\\":{\\\"alg\\\":\\\"ECDH-ES+XC20PKW\\\",\\\"iv\\\":\\\"KUtJdmrT-uNBCXJIAnuSclQup7UM8Bs0\\\",\\\"tag\\\":\\\"EC_RWpMsegAIWlWs1RPzIw\\\",\\\"epk\\\":{\\\"kty\\\":\\\"OKP\\\",\\\"crv\\\":\\\"X25519\\\",\\\"x\\\":\\\"U9CXMzGyk--CGXry3Wn9UJihOMUragqz66eA1WCZkA8\\\"},\\\"kid\\\":\\\"did:example:bob#key-x25519-2\\\"}},{\\\"encrypted_key\\\":\\\"9qpBOuvg7hSl3AxtiePLI5adreHLjCHVBjJDaZGw4AU\\\",\\\"header\\\":{\\\"alg\\\":\\\"ECDH-ES+XC20PKW\\\",\\\"iv\\\":\\\"PlQHRMDEwisiTzMW5nA9fw8tEWlB8iNg\\\",\\\"tag\\\":\\\"9V4gIvJjgTopUp-SQA9RUA\\\",\\\"epk\\\":{\\\"kty\\\":\\\"OKP\\\",\\\"crv\\\":\\\"X25519\\\",\\\"x\\\":\\\"_qYNPgBSldQ60jSfn7gRXJFts2fYyHVy5Ude36TROGc\\\"},\\\"kid\\\":\\\"did:example:bob#key-x25519-3\\\"}}]}\"\n",
    "msg"
   ]
  },
  {
   "cell_type": "code",
   "execution_count": 223,
   "metadata": {},
   "outputs": [
    {
     "data": {
      "text/plain": [
       "{'protected': 'eyJ0eXAiOiJhcHBsaWNhdGlvbi9kaWRjb21tLWVuY3J5cHRlZCtqc29uIiwiZW5jIjoiWEMyMFAifQ',\n",
       " 'iv': 'LGY0TN6LxddlErFVJSuK6zIS-MeMrMXj',\n",
       " 'ciphertext': '_LbCEaZlGD3oV7ljOksaGimlGtk-GrJTlgvmBVe7_PxdYlBe7M1Z97WWGu4J6aWlTGJoxImnh-E7nbYmkHXnZlayCv3mcjuriomD_2j57GbiluY-lO3yqveHgWrDkh1SOwVfm1pl6OrGrjSsDsEtrYIKS5d2C_lDi3ypVILHA7kdDmVdktHljPHlSEgVirzOqq8PwZIjht4sqRNCyw',\n",
       " 'tag': 'KvwWlRKRzfC6O5854C_Z-A',\n",
       " 'recipients': [{'encrypted_key': 'WpdEE1Qz3TcW_JGNVZBYNzut6hSnF2SBmTpmDMba0YI',\n",
       "   'header': {'alg': 'ECDH-ES+XC20PKW',\n",
       "    'iv': 'gAlWL6c2Ay9CR6VT2JSP2i8wTORTEDVp',\n",
       "    'tag': '9mIh53e9ua2_KtERG-rXWg',\n",
       "    'epk': {'kty': 'OKP',\n",
       "     'crv': 'X25519',\n",
       "     'x': 'VR9u58ysZjhmUUv_8y4gs4w1EQwUwHv6QNMsw3UZ2GA'},\n",
       "    'kid': 'did:example:bob#key-x25519-1'}},\n",
       "  {'encrypted_key': 'vVAEvtQo_EY4CSxCZ0xUIf8lSAmsTNQsIQ-rWILXukM',\n",
       "   'header': {'alg': 'ECDH-ES+XC20PKW',\n",
       "    'iv': 'KUtJdmrT-uNBCXJIAnuSclQup7UM8Bs0',\n",
       "    'tag': 'EC_RWpMsegAIWlWs1RPzIw',\n",
       "    'epk': {'kty': 'OKP',\n",
       "     'crv': 'X25519',\n",
       "     'x': 'U9CXMzGyk--CGXry3Wn9UJihOMUragqz66eA1WCZkA8'},\n",
       "    'kid': 'did:example:bob#key-x25519-2'}},\n",
       "  {'encrypted_key': '9qpBOuvg7hSl3AxtiePLI5adreHLjCHVBjJDaZGw4AU',\n",
       "   'header': {'alg': 'ECDH-ES+XC20PKW',\n",
       "    'iv': 'PlQHRMDEwisiTzMW5nA9fw8tEWlB8iNg',\n",
       "    'tag': '9V4gIvJjgTopUp-SQA9RUA',\n",
       "    'epk': {'kty': 'OKP',\n",
       "     'crv': 'X25519',\n",
       "     'x': '_qYNPgBSldQ60jSfn7gRXJFts2fYyHVy5Ude36TROGc'},\n",
       "    'kid': 'did:example:bob#key-x25519-3'}}]}"
      ]
     },
     "execution_count": 223,
     "metadata": {},
     "output_type": "execute_result"
    }
   ],
   "source": [
    "json.loads(msg)"
   ]
  },
  {
   "cell_type": "code",
   "execution_count": 235,
   "metadata": {},
   "outputs": [
    {
     "ename": "MalformedMessageError",
     "evalue": "MalformedMessageCode.INVALID_PLAINTEXT",
     "output_type": "error",
     "traceback": [
      "\u001b[0;31m---------------------------------------------------------------------------\u001b[0m",
      "\u001b[0;31mMalformedMessageError\u001b[0m                     Traceback (most recent call last)",
      "Input \u001b[0;32mIn [235]\u001b[0m, in \u001b[0;36m<cell line: 1>\u001b[0;34m()\u001b[0m\n\u001b[0;32m----> 1\u001b[0m \u001b[38;5;28;01mawait\u001b[39;00m unpack(\n\u001b[1;32m      2\u001b[0m     resolvers_config\u001b[38;5;241m=\u001b[39mResolversConfig(\n\u001b[1;32m      3\u001b[0m         secrets_resolver\u001b[38;5;241m=\u001b[39msecrets_resolver,\n\u001b[1;32m      4\u001b[0m         did_resolver\u001b[38;5;241m=\u001b[39mFakeResolver()\n\u001b[1;32m      5\u001b[0m     ),\n\u001b[1;32m      6\u001b[0m     packed_msg\u001b[38;5;241m=\u001b[39m json\u001b[38;5;241m.\u001b[39mloads(msg)\n\u001b[1;32m      7\u001b[0m )\n",
      "File \u001b[0;32m/opt/homebrew/lib/python3.10/site-packages/didcomm/unpack.py:64\u001b[0m, in \u001b[0;36munpack\u001b[0;34m(resolvers_config, packed_msg, unpack_config)\u001b[0m\n\u001b[1;32m     53\u001b[0m     \u001b[38;5;28;01mraise\u001b[39;00m DIDCommValueError(\n\u001b[1;32m     54\u001b[0m         \u001b[38;5;124mf\u001b[39m\u001b[38;5;124m\"\u001b[39m\u001b[38;5;124munexpected type of packed_message: \u001b[39m\u001b[38;5;124m'\u001b[39m\u001b[38;5;132;01m{\u001b[39;00m\u001b[38;5;28mtype\u001b[39m(packed_msg)\u001b[38;5;132;01m}\u001b[39;00m\u001b[38;5;124m'\u001b[39m\u001b[38;5;124m\"\u001b[39m\n\u001b[1;32m     55\u001b[0m     )\n\u001b[1;32m     57\u001b[0m metadata \u001b[38;5;241m=\u001b[39m Metadata(\n\u001b[1;32m     58\u001b[0m     encrypted\u001b[38;5;241m=\u001b[39m\u001b[38;5;28;01mFalse\u001b[39;00m,\n\u001b[1;32m     59\u001b[0m     authenticated\u001b[38;5;241m=\u001b[39m\u001b[38;5;28;01mFalse\u001b[39;00m,\n\u001b[1;32m     60\u001b[0m     non_repudiation\u001b[38;5;241m=\u001b[39m\u001b[38;5;28;01mFalse\u001b[39;00m,\n\u001b[1;32m     61\u001b[0m     anonymous_sender\u001b[38;5;241m=\u001b[39m\u001b[38;5;28;01mFalse\u001b[39;00m,\n\u001b[1;32m     62\u001b[0m )\n\u001b[0;32m---> 64\u001b[0m \u001b[38;5;28;01mreturn\u001b[39;00m \u001b[38;5;28;01mawait\u001b[39;00m _do_unpack(resolvers_config, packed_msg, unpack_config, metadata)\n",
      "File \u001b[0;32m/opt/homebrew/lib/python3.10/site-packages/didcomm/unpack.py:131\u001b[0m, in \u001b[0;36m_do_unpack\u001b[0;34m(resolvers_config, packed_msg, unpack_config, metadata)\u001b[0m\n\u001b[1;32m    126\u001b[0m from_prior_issuer_kid \u001b[38;5;241m=\u001b[39m \u001b[38;5;28;01mawait\u001b[39;00m unpack_from_prior_in_place(\n\u001b[1;32m    127\u001b[0m     msg_as_dict, resolvers_config\n\u001b[1;32m    128\u001b[0m )\n\u001b[1;32m    129\u001b[0m metadata\u001b[38;5;241m.\u001b[39mfrom_prior_issuer_kid \u001b[38;5;241m=\u001b[39m from_prior_issuer_kid\n\u001b[0;32m--> 131\u001b[0m message \u001b[38;5;241m=\u001b[39m \u001b[43mMessage\u001b[49m\u001b[38;5;241;43m.\u001b[39;49m\u001b[43mfrom_dict\u001b[49m\u001b[43m(\u001b[49m\u001b[43mmsg_as_dict\u001b[49m\u001b[43m)\u001b[49m\n\u001b[1;32m    133\u001b[0m \u001b[38;5;28;01mreturn\u001b[39;00m UnpackResult(message\u001b[38;5;241m=\u001b[39mmessage, metadata\u001b[38;5;241m=\u001b[39mmetadata)\n",
      "File \u001b[0;32m/opt/homebrew/lib/python3.10/site-packages/didcomm/message.py:123\u001b[0m, in \u001b[0;36mGenericMessage.from_dict\u001b[0;34m(cls, d)\u001b[0m\n\u001b[1;32m    121\u001b[0m \u001b[38;5;28;01mfor\u001b[39;00m f \u001b[38;5;129;01min\u001b[39;00m (\u001b[38;5;124m\"\u001b[39m\u001b[38;5;124mid\u001b[39m\u001b[38;5;124m\"\u001b[39m, \u001b[38;5;124m\"\u001b[39m\u001b[38;5;124mtype\u001b[39m\u001b[38;5;124m\"\u001b[39m, \u001b[38;5;124m\"\u001b[39m\u001b[38;5;124mbody\u001b[39m\u001b[38;5;124m\"\u001b[39m, \u001b[38;5;124m\"\u001b[39m\u001b[38;5;124mtyp\u001b[39m\u001b[38;5;124m\"\u001b[39m):\n\u001b[1;32m    122\u001b[0m     \u001b[38;5;28;01mif\u001b[39;00m f \u001b[38;5;129;01mnot\u001b[39;00m \u001b[38;5;129;01min\u001b[39;00m d:\n\u001b[0;32m--> 123\u001b[0m         \u001b[38;5;28;01mraise\u001b[39;00m MalformedMessageError(MalformedMessageCode\u001b[38;5;241m.\u001b[39mINVALID_PLAINTEXT)\n\u001b[1;32m    125\u001b[0m \u001b[38;5;28;01mif\u001b[39;00m d[\u001b[38;5;124m\"\u001b[39m\u001b[38;5;124mtyp\u001b[39m\u001b[38;5;124m\"\u001b[39m] \u001b[38;5;241m!=\u001b[39m DIDCommMessageTypes\u001b[38;5;241m.\u001b[39mPLAINTEXT\u001b[38;5;241m.\u001b[39mvalue:\n\u001b[1;32m    126\u001b[0m     \u001b[38;5;28;01mraise\u001b[39;00m MalformedMessageError(MalformedMessageCode\u001b[38;5;241m.\u001b[39mINVALID_PLAINTEXT)\n",
      "\u001b[0;31mMalformedMessageError\u001b[0m: MalformedMessageCode.INVALID_PLAINTEXT"
     ]
    }
   ],
   "source": [
    "await unpack(\n",
    "    resolvers_config=ResolversConfig(\n",
    "        secrets_resolver=secrets_resolver,\n",
    "        did_resolver=FakeResolver()\n",
    "    ),\n",
    "    packed_msg= json.loads(msg)\n",
    ")"
   ]
  },
  {
   "cell_type": "markdown",
   "metadata": {},
   "source": [
    "### Create Secrets and DID resolvers"
   ]
  },
  {
   "cell_type": "code",
   "execution_count": 6,
   "metadata": {},
   "outputs": [],
   "source": [
    "secrets_resolver = SecretsResolverDemo()\n",
    "\n",
    "class DIDResolverPeerDID(DIDResolver):\n",
    "    async def resolve(self, did: DID) -> DIDDoc:\n",
    "        did_doc_json = peer_did.resolve_peer_did(did, format = VerificationMaterialFormatPeerDID.JWK)\n",
    "        did_doc = DIDDocPeerDID.from_json(did_doc_json)\n",
    "\n",
    "        return DIDDoc(\n",
    "            did=did_doc.did,\n",
    "            key_agreement_kids = did_doc.agreement_kids,\n",
    "            authentication_kids = did_doc.auth_kids,\n",
    "            verification_methods = [\n",
    "                VerificationMethod(\n",
    "                    id = m.id,\n",
    "                    type = VerificationMethodType.JSON_WEB_KEY_2020,\n",
    "                    controller = m.controller,\n",
    "                    verification_material = VerificationMaterial(\n",
    "                        format = VerificationMaterialFormat.JWK,\n",
    "                        value = json.dumps(m.ver_material.value)\n",
    "                    )\n",
    "                )\n",
    "                for m in did_doc.authentication + did_doc.key_agreement\n",
    "            ],\n",
    "             didcomm_services = []\n",
    "        )\n",
    "async def create_peer_did(self,\n",
    "                        auth_keys_count: int = 1,\n",
    "                        agreement_keys_count: int = 1,\n",
    "                        service_endpoint: Optional[str] = None,\n",
    "                        service_routing_keys: Optional[List[str]] = None\n",
    "                        ) -> str:\n",
    "        # 1. generate keys in JWK format\n",
    "        agreem_keys = [generate_x25519_keys_as_jwk_dict() for _ in range(agreement_keys_count)]\n",
    "        auth_keys = [generate_ed25519_keys_as_jwk_dict() for _ in range(auth_keys_count)]\n",
    "\n",
    "        # 2. prepare the keys for peer DID lib\n",
    "        agreem_keys_peer_did = [\n",
    "            VerificationMaterialAgreement(\n",
    "                type=VerificationMethodTypeAgreement.JSON_WEB_KEY_2020,\n",
    "                format=VerificationMaterialFormatPeerDID.JWK,\n",
    "                value=k[1],\n",
    "            )\n",
    "            for k in agreem_keys\n",
    "        ]\n",
    "        auth_keys_peer_did = [\n",
    "            VerificationMaterialAuthentication(\n",
    "                type=VerificationMethodTypeAuthentication.JSON_WEB_KEY_2020,\n",
    "                format=VerificationMaterialFormatPeerDID.JWK,\n",
    "                value=k[1],\n",
    "            )\n",
    "            for k in auth_keys\n",
    "        ]\n",
    "\n",
    "        # 3. generate service\n",
    "        service = None\n",
    "        if service_endpoint:\n",
    "            service = json.dumps(\n",
    "                DIDCommServicePeerDID(\n",
    "                    id=\"new-id\",\n",
    "                    service_endpoint=service_endpoint, routing_keys=service_routing_keys,\n",
    "                    accept=[\"didcomm/v2\"]\n",
    "                ).to_dict()\n",
    "            )\n",
    "\n",
    "        # 4. call peer DID lib\n",
    "        # if we have just one key (auth), then use numalg0 algorithm\n",
    "        # otherwise use numalg2 algorithm\n",
    "        if len(auth_keys_peer_did) == 1 and not agreem_keys_peer_did and not service:\n",
    "            did = peer_did.create_peer_did_numalgo_0(auth_keys_peer_did[0])\n",
    "        else:\n",
    "            did = peer_did.create_peer_did_numalgo_2(\n",
    "                encryption_keys=agreem_keys_peer_did,\n",
    "                signing_keys=auth_keys_peer_did,\n",
    "                service=service,\n",
    "            )\n",
    "\n",
    "        # 5. set KIDs as in DID DOC for secrets and store the secret in the secrets resolver\n",
    "        did_doc = DIDDocPeerDID.from_json(peer_did.resolve_peer_did(did))\n",
    "        for auth_key, kid in zip(auth_keys, did_doc.auth_kids):\n",
    "            private_key = auth_key[0]\n",
    "            private_key[\"kid\"] = kid\n",
    "            await secrets_resolver.add_key(jwk_to_secret(private_key))\n",
    "\n",
    "        for agreem_key, kid in zip(agreem_keys, did_doc.agreement_kids):\n",
    "            private_key = agreem_key[0]\n",
    "            private_key[\"kid\"] = kid\n",
    "            print(private_key)\n",
    "            print(jwk_to_secret(private_key))\n",
    "            await secrets_resolver.add_key(jwk_to_secret(private_key))\n",
    "\n",
    "        return did"
   ]
  },
  {
   "cell_type": "markdown",
   "metadata": {},
   "source": [
    "### 1. Tony get OOB from Mediator\n",
    "Didcomm mediator: https://mediator.rootsid.cloud/"
   ]
  },
  {
   "cell_type": "code",
   "execution_count": 231,
   "metadata": {},
   "outputs": [
    {
     "name": "stdout",
     "output_type": "stream",
     "text": [
      "{'body': {'accept': ['didcomm/v2'],\n",
      "          'goal': 'RequestMediate',\n",
      "          'goal_code': 'request-mediate',\n",
      "          'label': 'Mediator'},\n",
      " 'from': 'did:peer:2.Ez6LSms555YhFthn1WV8ciDBpZm86hK9tp83WojJUmxPGk1hZ.Vz6MkmdBjMyB4TS5UbbQw54szm8yvMMf1ftGV2sQVYAxaeWhE.SeyJpZCI6Im5ldy1pZCIsInQiOiJkbSIsInMiOiJodHRwczovL21lZGlhdG9yLnJvb3RzaWQuY2xvdWQiLCJhIjpbImRpZGNvbW0vdjIiXX0',\n",
      " 'id': '6554aef2-4b6e-42e7-a8fa-3e9f515acfaf',\n",
      " 'type': 'https://didcomm.org/out-of-band/2.0/invitation'}\n"
     ]
    }
   ],
   "source": [
    "#oob_url = requests.get(\"http://127.0.0.1:8000/oob_url\").text\n",
    "oob_url = requests.get(\"https://mediator.rootsid.cloud/oob_url\").text\n",
    "received_msg_encoded = oob_url.split(\"=\")[1]\n",
    "received_msg_decoded = json.loads(str(base64.urlsafe_b64decode(received_msg_encoded + \"==\"), \"utf-8\"))\n",
    "pprint(received_msg_decoded)"
   ]
  },
  {
   "cell_type": "markdown",
   "metadata": {},
   "source": [
    "### 2. Tony creates peer did with mediator"
   ]
  },
  {
   "cell_type": "code",
   "execution_count": 232,
   "metadata": {},
   "outputs": [
    {
     "name": "stdout",
     "output_type": "stream",
     "text": [
      "{'crv': 'X25519', 'x': 'DDNfhQ6m37cumPOXQv1oUNPr8Rwp5nksOlXNBo-3FWc', 'd': 'iGUSnUPDxbQUMmp7RLpOuxvglt-nxv4Q3sqtn9B7NX8', 'kty': 'OKP', 'kid': 'did:peer:2.Ez6LScVoVVRCwrx8pubDHpwSAFxprXJqxYKb9m6pVqUgwhqNe.Vz6MksY93ZAAJ9NcLrymU8pPjUoNXwfU4HVGuFP1mqQqhrsp2#6LScVoVVRCwrx8pubDHpwSAFxprXJqxYKb9m6pVqUgwhqNe'}\n",
      "Secret(kid='did:peer:2.Ez6LScVoVVRCwrx8pubDHpwSAFxprXJqxYKb9m6pVqUgwhqNe.Vz6MksY93ZAAJ9NcLrymU8pPjUoNXwfU4HVGuFP1mqQqhrsp2#6LScVoVVRCwrx8pubDHpwSAFxprXJqxYKb9m6pVqUgwhqNe', type=<VerificationMethodType.JSON_WEB_KEY_2020: 1>, verification_material=VerificationMaterial(format=<VerificationMaterialFormat.JWK: 1>, value='{\"crv\":\"X25519\",\"x\":\"DDNfhQ6m37cumPOXQv1oUNPr8Rwp5nksOlXNBo-3FWc\",\"d\":\"iGUSnUPDxbQUMmp7RLpOuxvglt-nxv4Q3sqtn9B7NX8\",\"kty\":\"OKP\",\"kid\":\"did:peer:2.Ez6LScVoVVRCwrx8pubDHpwSAFxprXJqxYKb9m6pVqUgwhqNe.Vz6MksY93ZAAJ9NcLrymU8pPjUoNXwfU4HVGuFP1mqQqhrsp2#6LScVoVVRCwrx8pubDHpwSAFxprXJqxYKb9m6pVqUgwhqNe\"}'))\n",
      "Tony's DID: did:peer:2.Ez6LScVoVVRCwrx8pubDHpwSAFxprXJqxYKb9m6pVqUgwhqNe.Vz6MksY93ZAAJ9NcLrymU8pPjUoNXwfU4HVGuFP1mqQqhrsp2\n"
     ]
    }
   ],
   "source": [
    "tony_did_for_trust_ping = await create_peer_did(2,)\n",
    "print(\"Tony's DID:\", tony_did_for_trust_ping)"
   ]
  },
  {
   "cell_type": "markdown",
   "metadata": {},
   "source": [
    "### 3. Tony checks the Mediator Trust ping Endpoint"
   ]
  },
  {
   "cell_type": "code",
   "execution_count": 233,
   "metadata": {},
   "outputs": [
    {
     "name": "stdout",
     "output_type": "stream",
     "text": [
      "PackEncryptedResult(packed_msg='{\"protected\":\"eyJ0eXAiOiJhcHBsaWNhdGlvbi9kaWRjb21tLWVuY3J5cHRlZCtqc29uIiwiYWxnIjoiRUNESC0xUFUrQTI1NktXIiwiZW5jIjoiQTI1NkNCQy1IUzUxMiIsImFwdSI6IlpHbGtPbkJsWlhJNk1pNUZlalpNVTJOV2IxWldVa04zY25nNGNIVmlSRWh3ZDFOQlJuaHdjbGhLY1hoWlMySTViVFp3Vm5GVlozZG9jVTVsTGxaNk5rMXJjMWs1TTFwQlFVbzVUbU5NY25sdFZUaHdVR3BWYjA1WWQyWlZORWhXUjNWR1VERnRjVkZ4YUhKemNESWpOa3hUWTFadlZsWlNRM2R5ZURod2RXSkVTSEIzVTBGR2VIQnlXRXB4ZUZsTFlqbHRObkJXY1ZWbmQyaHhUbVUiLCJhcHYiOiJlUXhXSUxDSGo2NWlYeVNybkJzRTNjTVBMdjZIcTBVVnlKUGZ5Ykt0N3lRIiwic2tpZCI6ImRpZDpwZWVyOjIuRXo2TFNjVm9WVlJDd3J4OHB1YkRIcHdTQUZ4cHJYSnF4WUtiOW02cFZxVWd3aHFOZS5WejZNa3NZOTNaQUFKOU5jTHJ5bVU4cFBqVW9OWHdmVTRIVkd1RlAxbXFRcWhyc3AyIzZMU2NWb1ZWUkN3cng4cHViREhwd1NBRnhwclhKcXhZS2I5bTZwVnFVZ3docU5lIiwiZXBrIjp7ImNydiI6IlgyNTUxOSIsIngiOiJITUQ5SHQzbUtEUlZjT0Y4b2JFS1lQWEs3eUdRdzdjY1BScUNjOXJBcmxBIiwia3R5IjoiT0tQIn19\",\"recipients\":[{\"header\":{\"kid\":\"did:peer:2.Ez6LSms555YhFthn1WV8ciDBpZm86hK9tp83WojJUmxPGk1hZ.Vz6MkmdBjMyB4TS5UbbQw54szm8yvMMf1ftGV2sQVYAxaeWhE.SeyJpZCI6Im5ldy1pZCIsInQiOiJkbSIsInMiOiJodHRwczovL21lZGlhdG9yLnJvb3RzaWQuY2xvdWQiLCJhIjpbImRpZGNvbW0vdjIiXX0#6LSms555YhFthn1WV8ciDBpZm86hK9tp83WojJUmxPGk1hZ\"},\"encrypted_key\":\"hcrF6jVpvMK3YVzx-20eTUlzrqRLwCDJ6CuWu-Dg2H5XzXDpo22O3dX1vtorPddK3N77qEUblJYq88UDWLPur-YS3vxBB_Od\"}],\"iv\":\"ODaZN47Whx-fXWzMi4oU2w\",\"ciphertext\":\"tEBlXhqHbIgQKA6pW1rqu3jO0p_IFlZignQW6AAprDAjpFxS4ccmc2Jghf1khSKifZDrtXsOuRF4yYvsBNYfT8aULNb1WaOG3g9RzhvPi4uXzS6hQX1szZAiDjviWLSBL0M3_kTy3k7jrvdMm5wr341e_ZqDgL_pof-N8oZcEF-bP1Zp3eNm-HF4MpQ5CvB7OK0vh2SyNBo7dH73cOTYuNcLHQ1hOcEHYmQU9c3mcz5icVoC8pfdfZo4gDsgVLcdQjm-iSStnGUfZZI0JwFeYfH8hRXq62SzyOK8TvTO6VZqCZw6j_5kuEJS5Rfp_fZLPEkDECQ5jhgVNauDUWv7gPfbInx8ojBuuut0qy58Dp8wF3dQWpGPGs9kzqO-sw0CUZCj-ZVbD46WyVP1zEZOaKwm6nxmYtyovMUNxrv-QmjF7jiOA4fteStINSc_0Hnaw2pmI3mWVzpfjtWc1Jw_r-_kyN2PSKDvQDpAxKQaVH0UOhSFy3owlsCxDYCam6m0BDw96RRXQay2KUI1JH5vD9R0X-eNm_ncDddCmCPa4EIMDuz_F-4piHIcfSoPiKLgthEVsUDbl7Q0lsKuN5NpOzjiHNDiftTpQr_2yz5mQ3Hy_YhHZVWO2vSH2dwj1wR3c7P_WlJdX0FUdkDMESBX2m7J7CHu3-TQAWwTWWa9qsInftLaK27tapqTktA6BuKqL-tuHVf_LW_CnXVNuMXeODGJju2HL88HigL6AP2ILts\",\"tag\":\"gtyWhMvjA1HQ8H88SPiyUOI2A-Ng1_u0guICQYyyMzE\"}', to_kids=['did:peer:2.Ez6LSms555YhFthn1WV8ciDBpZm86hK9tp83WojJUmxPGk1hZ.Vz6MkmdBjMyB4TS5UbbQw54szm8yvMMf1ftGV2sQVYAxaeWhE.SeyJpZCI6Im5ldy1pZCIsInQiOiJkbSIsInMiOiJodHRwczovL21lZGlhdG9yLnJvb3RzaWQuY2xvdWQiLCJhIjpbImRpZGNvbW0vdjIiXX0#6LSms555YhFthn1WV8ciDBpZm86hK9tp83WojJUmxPGk1hZ'], from_kid='did:peer:2.Ez6LScVoVVRCwrx8pubDHpwSAFxprXJqxYKb9m6pVqUgwhqNe.Vz6MksY93ZAAJ9NcLrymU8pPjUoNXwfU4HVGuFP1mqQqhrsp2#6LScVoVVRCwrx8pubDHpwSAFxprXJqxYKb9m6pVqUgwhqNe', sign_from_kid=None, from_prior_issuer_kid=None, service_metadata=None)\n",
      "https://didcomm.org/trust-ping/2.0/ping-response\n"
     ]
    }
   ],
   "source": [
    "ping_msg = Message(\n",
    "    body = { \"response_requested\": True },\n",
    "    custom_headers = [{\"return_route\": \"all\"}],\n",
    "    id = str(uuid.uuid4()),\n",
    "    type = \"https://didcomm.org/trust-ping/2.0/ping\",\n",
    "    frm = tony_did_for_trust_ping,\n",
    "    to = [received_msg_decoded[\"from\"]]\n",
    ")\n",
    "\n",
    "tony_trust_ping_packed = await pack_encrypted(\n",
    "    resolvers_config = ResolversConfig(\n",
    "        secrets_resolver = secrets_resolver,\n",
    "        did_resolver = DIDResolverPeerDID()\n",
    "    ),\n",
    "    message = ping_msg,\n",
    "    frm = tony_did_for_trust_ping,\n",
    "    to = received_msg_decoded[\"from\"],\n",
    "    sign_frm = None,\n",
    "    pack_config = PackEncryptedConfig(protect_sender_id=False)\n",
    ")\n",
    "print(tony_trust_ping_packed)\n",
    "trust_ping_did_doc = json.loads(peer_did.resolve_peer_did(received_msg_decoded[\"from\"]))\n",
    "trust_ping_endpoint = trust_ping_did_doc[\"service\"][0][\"serviceEndpoint\"]\n",
    "headers = {\"Content-Type\": \"application/didcomm-encrypted+json\"}\n",
    "resp = requests.post(trust_ping_endpoint, headers=headers, json = json.loads(tony_trust_ping_packed.packed_msg))\n",
    "trust_ping_response = await unpack(\n",
    "    resolvers_config=ResolversConfig(\n",
    "        secrets_resolver=secrets_resolver,\n",
    "        did_resolver=DIDResolverPeerDID()\n",
    "    ),\n",
    "    packed_msg= resp.json()\n",
    ")\n",
    "print(trust_ping_response.message.type)#https://didcomm.org/trust-ping/2.0/ping-response"
   ]
  },
  {
   "cell_type": "code",
   "execution_count": 234,
   "metadata": {},
   "outputs": [
    {
     "data": {
      "text/plain": [
       "PackEncryptedResult(packed_msg='{\"protected\":\"eyJ0eXAiOiJhcHBsaWNhdGlvbi9kaWRjb21tLWVuY3J5cHRlZCtqc29uIiwiYWxnIjoiRUNESC0xUFUrQTI1NktXIiwiZW5jIjoiQTI1NkNCQy1IUzUxMiIsImFwdSI6IlpHbGtPbkJsWlhJNk1pNUZlalpNVTJOV2IxWldVa04zY25nNGNIVmlSRWh3ZDFOQlJuaHdjbGhLY1hoWlMySTViVFp3Vm5GVlozZG9jVTVsTGxaNk5rMXJjMWs1TTFwQlFVbzVUbU5NY25sdFZUaHdVR3BWYjA1WWQyWlZORWhXUjNWR1VERnRjVkZ4YUhKemNESWpOa3hUWTFadlZsWlNRM2R5ZURod2RXSkVTSEIzVTBGR2VIQnlXRXB4ZUZsTFlqbHRObkJXY1ZWbmQyaHhUbVUiLCJhcHYiOiJlUXhXSUxDSGo2NWlYeVNybkJzRTNjTVBMdjZIcTBVVnlKUGZ5Ykt0N3lRIiwic2tpZCI6ImRpZDpwZWVyOjIuRXo2TFNjVm9WVlJDd3J4OHB1YkRIcHdTQUZ4cHJYSnF4WUtiOW02cFZxVWd3aHFOZS5WejZNa3NZOTNaQUFKOU5jTHJ5bVU4cFBqVW9OWHdmVTRIVkd1RlAxbXFRcWhyc3AyIzZMU2NWb1ZWUkN3cng4cHViREhwd1NBRnhwclhKcXhZS2I5bTZwVnFVZ3docU5lIiwiZXBrIjp7ImNydiI6IlgyNTUxOSIsIngiOiJITUQ5SHQzbUtEUlZjT0Y4b2JFS1lQWEs3eUdRdzdjY1BScUNjOXJBcmxBIiwia3R5IjoiT0tQIn19\",\"recipients\":[{\"header\":{\"kid\":\"did:peer:2.Ez6LSms555YhFthn1WV8ciDBpZm86hK9tp83WojJUmxPGk1hZ.Vz6MkmdBjMyB4TS5UbbQw54szm8yvMMf1ftGV2sQVYAxaeWhE.SeyJpZCI6Im5ldy1pZCIsInQiOiJkbSIsInMiOiJodHRwczovL21lZGlhdG9yLnJvb3RzaWQuY2xvdWQiLCJhIjpbImRpZGNvbW0vdjIiXX0#6LSms555YhFthn1WV8ciDBpZm86hK9tp83WojJUmxPGk1hZ\"},\"encrypted_key\":\"hcrF6jVpvMK3YVzx-20eTUlzrqRLwCDJ6CuWu-Dg2H5XzXDpo22O3dX1vtorPddK3N77qEUblJYq88UDWLPur-YS3vxBB_Od\"}],\"iv\":\"ODaZN47Whx-fXWzMi4oU2w\",\"ciphertext\":\"tEBlXhqHbIgQKA6pW1rqu3jO0p_IFlZignQW6AAprDAjpFxS4ccmc2Jghf1khSKifZDrtXsOuRF4yYvsBNYfT8aULNb1WaOG3g9RzhvPi4uXzS6hQX1szZAiDjviWLSBL0M3_kTy3k7jrvdMm5wr341e_ZqDgL_pof-N8oZcEF-bP1Zp3eNm-HF4MpQ5CvB7OK0vh2SyNBo7dH73cOTYuNcLHQ1hOcEHYmQU9c3mcz5icVoC8pfdfZo4gDsgVLcdQjm-iSStnGUfZZI0JwFeYfH8hRXq62SzyOK8TvTO6VZqCZw6j_5kuEJS5Rfp_fZLPEkDECQ5jhgVNauDUWv7gPfbInx8ojBuuut0qy58Dp8wF3dQWpGPGs9kzqO-sw0CUZCj-ZVbD46WyVP1zEZOaKwm6nxmYtyovMUNxrv-QmjF7jiOA4fteStINSc_0Hnaw2pmI3mWVzpfjtWc1Jw_r-_kyN2PSKDvQDpAxKQaVH0UOhSFy3owlsCxDYCam6m0BDw96RRXQay2KUI1JH5vD9R0X-eNm_ncDddCmCPa4EIMDuz_F-4piHIcfSoPiKLgthEVsUDbl7Q0lsKuN5NpOzjiHNDiftTpQr_2yz5mQ3Hy_YhHZVWO2vSH2dwj1wR3c7P_WlJdX0FUdkDMESBX2m7J7CHu3-TQAWwTWWa9qsInftLaK27tapqTktA6BuKqL-tuHVf_LW_CnXVNuMXeODGJju2HL88HigL6AP2ILts\",\"tag\":\"gtyWhMvjA1HQ8H88SPiyUOI2A-Ng1_u0guICQYyyMzE\"}', to_kids=['did:peer:2.Ez6LSms555YhFthn1WV8ciDBpZm86hK9tp83WojJUmxPGk1hZ.Vz6MkmdBjMyB4TS5UbbQw54szm8yvMMf1ftGV2sQVYAxaeWhE.SeyJpZCI6Im5ldy1pZCIsInQiOiJkbSIsInMiOiJodHRwczovL21lZGlhdG9yLnJvb3RzaWQuY2xvdWQiLCJhIjpbImRpZGNvbW0vdjIiXX0#6LSms555YhFthn1WV8ciDBpZm86hK9tp83WojJUmxPGk1hZ'], from_kid='did:peer:2.Ez6LScVoVVRCwrx8pubDHpwSAFxprXJqxYKb9m6pVqUgwhqNe.Vz6MksY93ZAAJ9NcLrymU8pPjUoNXwfU4HVGuFP1mqQqhrsp2#6LScVoVVRCwrx8pubDHpwSAFxprXJqxYKb9m6pVqUgwhqNe', sign_from_kid=None, from_prior_issuer_kid=None, service_metadata=None)"
      ]
     },
     "execution_count": 234,
     "metadata": {},
     "output_type": "execute_result"
    }
   ],
   "source": [
    "tony_trust_ping_packed"
   ]
  },
  {
   "cell_type": "code",
   "execution_count": null,
   "metadata": {},
   "outputs": [],
   "source": []
  }
 ],
 "metadata": {
  "kernelspec": {
   "display_name": "Python 3 (ipykernel)",
   "language": "python",
   "name": "python3"
  },
  "language_info": {
   "codemirror_mode": {
    "name": "ipython",
    "version": 3
   },
   "file_extension": ".py",
   "mimetype": "text/x-python",
   "name": "python",
   "nbconvert_exporter": "python",
   "pygments_lexer": "ipython3",
   "version": "3.10.10"
  }
 },
 "nbformat": 4,
 "nbformat_minor": 2
}
