{
 "cells": [
  {
   "cell_type": "code",
   "execution_count": 1,
   "metadata": {},
   "outputs": [],
   "source": [
    "import json\n",
    "import base64\n",
    "import requests\n",
    "import datetime\n",
    "import uuid\n",
    "from pprint import pprint\n",
    "import matplotlib.pyplot as plt\n",
    "from pymongo import MongoClient\n",
    "from typing import Optional, List\n",
    "from didcomm.common.types import DID, VerificationMethodType, VerificationMaterial, VerificationMaterialFormat\n",
    "from didcomm.did_doc.did_doc import DIDDoc, VerificationMethod, DIDCommService\n",
    "from didcomm.did_doc.did_resolver import DIDResolver\n",
    "from didcomm.message import Message, FromPrior\n",
    "from didcomm.secrets.secrets_resolver_demo import SecretsResolverDemo\n",
    "from didcomm.unpack import unpack, UnpackResult\n",
    "from didcomm.common.resolvers import ResolversConfig\n",
    "from didcomm.pack_encrypted import pack_encrypted, PackEncryptedConfig, PackEncryptedResult\n",
    "from peerdid.core.did_doc_types import DIDCommServicePeerDID\n",
    "from didcomm.secrets.secrets_util import generate_x25519_keys_as_jwk_dict, generate_ed25519_keys_as_jwk_dict, jwk_to_secret\n",
    "from peerdid import peer_did\n",
    "from peerdid.did_doc import DIDDocPeerDID\n",
    "from peerdid.types import VerificationMaterialAuthentication, VerificationMethodTypeAuthentication, VerificationMaterialAgreement, VerificationMethodTypeAgreement, VerificationMaterialFormatPeerDID\n",
    "\n",
    "    "
   ]
  },
  {
   "cell_type": "code",
   "execution_count": 2,
   "metadata": {},
   "outputs": [],
   "source": [
    "alice_verifications = [\n",
    "    {\n",
    "         \"id\":\"did:example:alice#key-1\",\n",
    "         \"type\":\"JsonWebKey2020\",\n",
    "         \"controller\":\"did:example:alice\",\n",
    "         \"publicKeyJwk\":{\n",
    "            \"kty\":\"OKP\",\n",
    "            \"crv\":\"Ed25519\",\n",
    "            \"x\":\"G-boxFB6vOZBu-wXkm-9Lh79I8nf9Z50cILaOgKKGww\"\n",
    "         }\n",
    "      },\n",
    "    {\n",
    "         \"id\":\"did:example:alice#key-x25519-1\",\n",
    "         \"type\":\"JsonWebKey2020\",\n",
    "         \"controller\":\"did:example:alice\",\n",
    "         \"publicKeyJwk\":{\n",
    "            \"kty\":\"OKP\",\n",
    "            \"crv\":\"X25519\",\n",
    "            \"x\":\"avH0O2Y4tqLAq8y9zpianr8ajii5m4F_mICrzNlatXs\"\n",
    "         }\n",
    "    }\n",
    "]\n",
    "secrets_resolver = SecretsResolverDemo()\n",
    "alice_secrets = [\n",
    "  {\n",
    "    \"kid\":\"did:example:alice#key-1\",\n",
    "    \"id\":\"did:example:alice#key-1\",\n",
    "    \"kty\":\"OKP\",\n",
    "    \"d\":\"pFRUKkyzx4kHdJtFSnlPA9WzqkDT1HWV0xZ5OYZd2SY\",\n",
    "    \"crv\":\"Ed25519\",\n",
    "    \"x\":\"G-boxFB6vOZBu-wXkm-9Lh79I8nf9Z50cILaOgKKGww\"\n",
    "  }\n",
    "]\n",
    "for secret in alice_secrets:\n",
    "    await secrets_resolver.add_key(jwk_to_secret(secret))\n",
    "    \n",
    "    \n",
    "bob_verifications = [\n",
    "     {\n",
    "        \"id\":\"did:example:bob#key-x25519-1\",\n",
    "        \"type\":\"JsonWebKey2020\",\n",
    "        \"controller\":\"did:example:bob\",\n",
    "        \"publicKeyJwk\":{\n",
    "           \"kty\":\"OKP\",\n",
    "           \"crv\":\"X25519\",\n",
    "           \"x\":\"GDTrI66K0pFfO54tlCSvfjjNapIs44dzpneBgyx0S3E\"\n",
    "        }\n",
    "     }\n",
    "  ]\n",
    "bob_secrets = [\n",
    "  {\n",
    "    \"kid\":\"did:example:bob#key-x25519-1\",\n",
    "    \"id\":\"did:example:bob#key-x25519-1\",\n",
    "    \"kty\":\"OKP\",\n",
    "    \"d\":\"b9NnuOCB0hm7YGNvaE9DMhwH_wjZA1-gWD6dA0JWdL0\",\n",
    "    \"crv\":\"X25519\",\n",
    "    \"x\":\"GDTrI66K0pFfO54tlCSvfjjNapIs44dzpneBgyx0S3E\"\n",
    "  }\n",
    "]\n",
    "for secret in bob_secrets:\n",
    "    await secrets_resolver.add_key(jwk_to_secret(secret))"
   ]
  },
  {
   "cell_type": "code",
   "execution_count": 3,
   "metadata": {},
   "outputs": [],
   "source": [
    "class FakeResolver(DIDResolver):\n",
    "    async def resolve(self, did: DID) -> DIDDoc:\n",
    "        if 'alice' in did:\n",
    "            return DIDDoc(\n",
    "                did=did,\n",
    "                key_agreement_kids = ['did:example:alice#key-1','did:example:alice#key-x25519-1'],\n",
    "                authentication_kids = ['did:example:alice#key-1'],\n",
    "                verification_methods = [\n",
    "                VerificationMethod(\n",
    "                    id = m['id'],\n",
    "                    type = VerificationMethodType.JSON_WEB_KEY_2020,\n",
    "                    controller = m['controller'],\n",
    "                    verification_material = VerificationMaterial(\n",
    "                        format = VerificationMaterialFormat.JWK,\n",
    "                        value = json.dumps(m['publicKeyJwk'])\n",
    "                    )\n",
    "                )\n",
    "                for m in alice_verifications\n",
    "            ],\n",
    "                 didcomm_services = []\n",
    "            )\n",
    "        elif 'bob' in did:\n",
    "            return DIDDoc(\n",
    "                did=did,\n",
    "                key_agreement_kids = ['did:example:bob#key-x25519-1'],\n",
    "                authentication_kids = ['did:example:bob#key-x25519-1'],\n",
    "                verification_methods = [\n",
    "                VerificationMethod(\n",
    "                    id = m['id'],\n",
    "                    type = VerificationMethodType.JSON_WEB_KEY_2020,\n",
    "                    controller = m['controller'],\n",
    "                    verification_material = VerificationMaterial(\n",
    "                        format = VerificationMaterialFormat.JWK,\n",
    "                        value = json.dumps(m['publicKeyJwk'])\n",
    "                    )\n",
    "                )\n",
    "                for m in bob_verifications\n",
    "            ],\n",
    "                 didcomm_services = []\n",
    "            )\n",
    "        else:\n",
    "            return false\n"
   ]
  },
  {
   "cell_type": "code",
   "execution_count": null,
   "metadata": {},
   "outputs": [],
   "source": []
  },
  {
   "cell_type": "code",
   "execution_count": 4,
   "metadata": {},
   "outputs": [],
   "source": [
    "ping_msg = Message(\n",
    "    body = { \"response_requested\": True },\n",
    "    id = str(uuid.uuid4()),\n",
    "    type = \"https://didcomm.org/trust-ping/2.0/ping\",\n",
    "    frm = 'did:example:alice',\n",
    "    to = ['did:example:bob']\n",
    ")\n"
   ]
  },
  {
   "cell_type": "code",
   "execution_count": 5,
   "metadata": {},
   "outputs": [
    {
     "data": {
      "text/plain": [
       "PackEncryptedResult(packed_msg='{\"protected\":\"eyJ0eXAiOiJhcHBsaWNhdGlvbi9kaWRjb21tLWVuY3J5cHRlZCtqc29uIiwiYWxnIjoiRUNESC0xUFUrQTI1NktXIiwiZW5jIjoiQTI1NkNCQy1IUzUxMiIsImFwdSI6IlpHbGtPbVY0WVcxd2JHVTZZV3hwWTJVamEyVjVMWGd5TlRVeE9TMHgiLCJhcHYiOiJRQkhMSUxyTklCR1E3TnJtb1NnQk40VXZUdUJXN0kzQUJBOV9NT1NDbnl3Iiwic2tpZCI6ImRpZDpleGFtcGxlOmFsaWNlI2tleS14MjU1MTktMSIsImVwayI6eyJjcnYiOiJYMjU1MTkiLCJ4IjoiZXBMQUsyajhEa19VZGhnMWJPYk5Cb3FsaFdpZVFJRG9rQ3BfMHBGcjJ6TSIsImt0eSI6Ik9LUCJ9fQ\",\"recipients\":[{\"header\":{\"kid\":\"did:example:bob#key-x25519-1\"},\"encrypted_key\":\"KWVJLahDkVFEgogpdGWpU7brBNLtPF8q2A4-1A7RXomyz4Mhm5fe3LHMOL1JtpK-GICk8qaHvymwM7ETSHXtTmgLJ0hxacBu\"}],\"iv\":\"qnMUzbxuqE58vmLpdemhAQ\",\"ciphertext\":\"wDxMicIBUiDvmnIqdW4_f0Ey9Nam2KeVA5-hRBCQ05CYZKlvBl61JAmZr4m3UOs25v6_2WLMFuNDyOrdAk5cm7EAaS-qkUj2-NkNnEwGvW6xk-BhxUHan23eGqamOwgVZzjDmN7INX1el5pZKVlPb1eZYPc_FoFJxBw4hhovwDIF_6JBWVdZKAVx4TpVAt60LWl03McTTeid61cLKPnsEykVAmGZpcOCOWcD12yt50OFTHrRm28BQtzyMLgIPypmuNHlaQGoXtXP_2aei_48cESJAwBJI8hyZ6Oj2zfawg0\",\"tag\":\"ERoeOKPsQ1oO46L4HE0y6Fo07aZYfKbhIPJj8uynzE8\"}', to_kids=['did:example:bob#key-x25519-1'], from_kid='did:example:alice#key-x25519-1', sign_from_kid=None, from_prior_issuer_kid=None, service_metadata=None)"
      ]
     },
     "execution_count": 5,
     "metadata": {},
     "output_type": "execute_result"
    }
   ],
   "source": [
    "ping_msg_packed = await pack_encrypted(\n",
    "    resolvers_config = ResolversConfig(\n",
    "        secrets_resolver = secrets_resolver,\n",
    "        did_resolver = FakeResolver()\n",
    "    ),\n",
    "    message = ping_msg,\n",
    "    frm = 'did:example:alice',\n",
    "    to = 'did:example:bob',\n",
    "    sign_frm = None,\n",
    "    pack_config = PackEncryptedConfig(protect_sender_id=False)\n",
    ")\n",
    "ping_msg_packed"
   ]
  },
  {
   "cell_type": "code",
   "execution_count": 6,
   "metadata": {},
   "outputs": [
    {
     "data": {
      "text/plain": [
       "{'protected': 'eyJ0eXAiOiJhcHBsaWNhdGlvbi9kaWRjb21tLWVuY3J5cHRlZCtqc29uIiwiYWxnIjoiRUNESC0xUFUrQTI1NktXIiwiZW5jIjoiQTI1NkNCQy1IUzUxMiIsImFwdSI6IlpHbGtPbVY0WVcxd2JHVTZZV3hwWTJVamEyVjVMWGd5TlRVeE9TMHgiLCJhcHYiOiJRQkhMSUxyTklCR1E3TnJtb1NnQk40VXZUdUJXN0kzQUJBOV9NT1NDbnl3Iiwic2tpZCI6ImRpZDpleGFtcGxlOmFsaWNlI2tleS14MjU1MTktMSIsImVwayI6eyJjcnYiOiJYMjU1MTkiLCJ4IjoiZXBMQUsyajhEa19VZGhnMWJPYk5Cb3FsaFdpZVFJRG9rQ3BfMHBGcjJ6TSIsImt0eSI6Ik9LUCJ9fQ',\n",
       " 'recipients': [{'header': {'kid': 'did:example:bob#key-x25519-1'},\n",
       "   'encrypted_key': 'KWVJLahDkVFEgogpdGWpU7brBNLtPF8q2A4-1A7RXomyz4Mhm5fe3LHMOL1JtpK-GICk8qaHvymwM7ETSHXtTmgLJ0hxacBu'}],\n",
       " 'iv': 'qnMUzbxuqE58vmLpdemhAQ',\n",
       " 'ciphertext': 'wDxMicIBUiDvmnIqdW4_f0Ey9Nam2KeVA5-hRBCQ05CYZKlvBl61JAmZr4m3UOs25v6_2WLMFuNDyOrdAk5cm7EAaS-qkUj2-NkNnEwGvW6xk-BhxUHan23eGqamOwgVZzjDmN7INX1el5pZKVlPb1eZYPc_FoFJxBw4hhovwDIF_6JBWVdZKAVx4TpVAt60LWl03McTTeid61cLKPnsEykVAmGZpcOCOWcD12yt50OFTHrRm28BQtzyMLgIPypmuNHlaQGoXtXP_2aei_48cESJAwBJI8hyZ6Oj2zfawg0',\n",
       " 'tag': 'ERoeOKPsQ1oO46L4HE0y6Fo07aZYfKbhIPJj8uynzE8'}"
      ]
     },
     "execution_count": 6,
     "metadata": {},
     "output_type": "execute_result"
    }
   ],
   "source": [
    "json.loads(ping_msg_packed.packed_msg)"
   ]
  },
  {
   "cell_type": "code",
   "execution_count": 7,
   "metadata": {},
   "outputs": [
    {
     "data": {
      "text/plain": [
       "UnpackResult(message=Message(id='8146bae8-fe29-4d2c-a9c5-5a73330bcaa2', type='https://didcomm.org/trust-ping/2.0/ping', body={'response_requested': True}, frm='did:example:alice', to=['did:example:bob'], created_time=None, expires_time=None, from_prior=None, please_ack=None, ack=None, thid=None, pthid=None, attachments=None, custom_headers=None), metadata=Metadata(encrypted=True, authenticated=True, non_repudiation=False, anonymous_sender=False, re_wrapped_in_forward=False, encrypted_from='did:example:alice#key-x25519-1', encrypted_to=['did:example:bob#key-x25519-1'], sign_from=None, from_prior_issuer_kid=None, enc_alg_auth=<AuthCryptAlg.A256CBC_HS512_ECDH_1PU_A256KW: Algs(alg='ECDH-1PU+A256KW', enc='A256CBC-HS512')>, enc_alg_anon=None, sign_alg=None, signed_message=None, from_prior_jwt=None))"
      ]
     },
     "execution_count": 7,
     "metadata": {},
     "output_type": "execute_result"
    }
   ],
   "source": [
    "await unpack(\n",
    "    resolvers_config=ResolversConfig(\n",
    "        secrets_resolver=secrets_resolver,\n",
    "        did_resolver=FakeResolver()\n",
    "    ),\n",
    "    packed_msg= json.loads(ping_msg_packed.packed_msg)\n",
    ")"
   ]
  },
  {
   "cell_type": "markdown",
   "metadata": {},
   "source": [
    "## unpack veramo message"
   ]
  },
  {
   "cell_type": "code",
   "execution_count": 8,
   "metadata": {},
   "outputs": [
    {
     "data": {
      "text/plain": [
       "'{\"protected\":\"eyJ0eXAiOiJhcHBsaWNhdGlvbi9kaWRjb21tLWVuY3J5cHRlZCtqc29uIiwiZW5jIjoiWEMyMFAifQ\",\"iv\":\"LGY0TN6LxddlErFVJSuK6zIS-MeMrMXj\",\"ciphertext\":\"_LbCEaZlGD3oV7ljOksaGimlGtk-GrJTlgvmBVe7_PxdYlBe7M1Z97WWGu4J6aWlTGJoxImnh-E7nbYmkHXnZlayCv3mcjuriomD_2j57GbiluY-lO3yqveHgWrDkh1SOwVfm1pl6OrGrjSsDsEtrYIKS5d2C_lDi3ypVILHA7kdDmVdktHljPHlSEgVirzOqq8PwZIjht4sqRNCyw\",\"tag\":\"KvwWlRKRzfC6O5854C_Z-A\",\"recipients\":[{\"encrypted_key\":\"WpdEE1Qz3TcW_JGNVZBYNzut6hSnF2SBmTpmDMba0YI\",\"header\":{\"alg\":\"ECDH-ES+XC20PKW\",\"iv\":\"gAlWL6c2Ay9CR6VT2JSP2i8wTORTEDVp\",\"tag\":\"9mIh53e9ua2_KtERG-rXWg\",\"epk\":{\"kty\":\"OKP\",\"crv\":\"X25519\",\"x\":\"VR9u58ysZjhmUUv_8y4gs4w1EQwUwHv6QNMsw3UZ2GA\"},\"kid\":\"did:example:bob#key-x25519-1\"}},{\"encrypted_key\":\"vVAEvtQo_EY4CSxCZ0xUIf8lSAmsTNQsIQ-rWILXukM\",\"header\":{\"alg\":\"ECDH-ES+XC20PKW\",\"iv\":\"KUtJdmrT-uNBCXJIAnuSclQup7UM8Bs0\",\"tag\":\"EC_RWpMsegAIWlWs1RPzIw\",\"epk\":{\"kty\":\"OKP\",\"crv\":\"X25519\",\"x\":\"U9CXMzGyk--CGXry3Wn9UJihOMUragqz66eA1WCZkA8\"},\"kid\":\"did:example:bob#key-x25519-2\"}},{\"encrypted_key\":\"9qpBOuvg7hSl3AxtiePLI5adreHLjCHVBjJDaZGw4AU\",\"header\":{\"alg\":\"ECDH-ES+XC20PKW\",\"iv\":\"PlQHRMDEwisiTzMW5nA9fw8tEWlB8iNg\",\"tag\":\"9V4gIvJjgTopUp-SQA9RUA\",\"epk\":{\"kty\":\"OKP\",\"crv\":\"X25519\",\"x\":\"_qYNPgBSldQ60jSfn7gRXJFts2fYyHVy5Ude36TROGc\"},\"kid\":\"did:example:bob#key-x25519-3\"}}]}'"
      ]
     },
     "execution_count": 8,
     "metadata": {},
     "output_type": "execute_result"
    }
   ],
   "source": [
    "#https://github.com/decentralized-identity/didcomm-messaging/issues/435#issuecomment-1483150078\n",
    "veramo_msg_trust_ping = \"{\\\"protected\\\":\\\"eyJ0eXAiOiJhcHBsaWNhdGlvbi9kaWRjb21tLWVuY3J5cHRlZCtqc29uIiwiZW5jIjoiWEMyMFAifQ\\\",\\\"iv\\\":\\\"LGY0TN6LxddlErFVJSuK6zIS-MeMrMXj\\\",\\\"ciphertext\\\":\\\"_LbCEaZlGD3oV7ljOksaGimlGtk-GrJTlgvmBVe7_PxdYlBe7M1Z97WWGu4J6aWlTGJoxImnh-E7nbYmkHXnZlayCv3mcjuriomD_2j57GbiluY-lO3yqveHgWrDkh1SOwVfm1pl6OrGrjSsDsEtrYIKS5d2C_lDi3ypVILHA7kdDmVdktHljPHlSEgVirzOqq8PwZIjht4sqRNCyw\\\",\\\"tag\\\":\\\"KvwWlRKRzfC6O5854C_Z-A\\\",\\\"recipients\\\":[{\\\"encrypted_key\\\":\\\"WpdEE1Qz3TcW_JGNVZBYNzut6hSnF2SBmTpmDMba0YI\\\",\\\"header\\\":{\\\"alg\\\":\\\"ECDH-ES+XC20PKW\\\",\\\"iv\\\":\\\"gAlWL6c2Ay9CR6VT2JSP2i8wTORTEDVp\\\",\\\"tag\\\":\\\"9mIh53e9ua2_KtERG-rXWg\\\",\\\"epk\\\":{\\\"kty\\\":\\\"OKP\\\",\\\"crv\\\":\\\"X25519\\\",\\\"x\\\":\\\"VR9u58ysZjhmUUv_8y4gs4w1EQwUwHv6QNMsw3UZ2GA\\\"},\\\"kid\\\":\\\"did:example:bob#key-x25519-1\\\"}},{\\\"encrypted_key\\\":\\\"vVAEvtQo_EY4CSxCZ0xUIf8lSAmsTNQsIQ-rWILXukM\\\",\\\"header\\\":{\\\"alg\\\":\\\"ECDH-ES+XC20PKW\\\",\\\"iv\\\":\\\"KUtJdmrT-uNBCXJIAnuSclQup7UM8Bs0\\\",\\\"tag\\\":\\\"EC_RWpMsegAIWlWs1RPzIw\\\",\\\"epk\\\":{\\\"kty\\\":\\\"OKP\\\",\\\"crv\\\":\\\"X25519\\\",\\\"x\\\":\\\"U9CXMzGyk--CGXry3Wn9UJihOMUragqz66eA1WCZkA8\\\"},\\\"kid\\\":\\\"did:example:bob#key-x25519-2\\\"}},{\\\"encrypted_key\\\":\\\"9qpBOuvg7hSl3AxtiePLI5adreHLjCHVBjJDaZGw4AU\\\",\\\"header\\\":{\\\"alg\\\":\\\"ECDH-ES+XC20PKW\\\",\\\"iv\\\":\\\"PlQHRMDEwisiTzMW5nA9fw8tEWlB8iNg\\\",\\\"tag\\\":\\\"9V4gIvJjgTopUp-SQA9RUA\\\",\\\"epk\\\":{\\\"kty\\\":\\\"OKP\\\",\\\"crv\\\":\\\"X25519\\\",\\\"x\\\":\\\"_qYNPgBSldQ60jSfn7gRXJFts2fYyHVy5Ude36TROGc\\\"},\\\"kid\\\":\\\"did:example:bob#key-x25519-3\\\"}}]}\"\n",
    "veramo_msg_trust_ping"
   ]
  },
  {
   "cell_type": "code",
   "execution_count": 9,
   "metadata": {},
   "outputs": [
    {
     "name": "stdout",
     "output_type": "stream",
     "text": [
      "{'ciphertext': '_LbCEaZlGD3oV7ljOksaGimlGtk-GrJTlgvmBVe7_PxdYlBe7M1Z97WWGu4J6aWlTGJoxImnh-E7nbYmkHXnZlayCv3mcjuriomD_2j57GbiluY-lO3yqveHgWrDkh1SOwVfm1pl6OrGrjSsDsEtrYIKS5d2C_lDi3ypVILHA7kdDmVdktHljPHlSEgVirzOqq8PwZIjht4sqRNCyw',\n",
      " 'iv': 'LGY0TN6LxddlErFVJSuK6zIS-MeMrMXj',\n",
      " 'protected': 'eyJ0eXAiOiJhcHBsaWNhdGlvbi9kaWRjb21tLWVuY3J5cHRlZCtqc29uIiwiZW5jIjoiWEMyMFAifQ',\n",
      " 'recipients': [{'encrypted_key': 'WpdEE1Qz3TcW_JGNVZBYNzut6hSnF2SBmTpmDMba0YI',\n",
      "                 'header': {'alg': 'ECDH-ES+XC20PKW',\n",
      "                            'epk': {'crv': 'X25519',\n",
      "                                    'kty': 'OKP',\n",
      "                                    'x': 'VR9u58ysZjhmUUv_8y4gs4w1EQwUwHv6QNMsw3UZ2GA'},\n",
      "                            'iv': 'gAlWL6c2Ay9CR6VT2JSP2i8wTORTEDVp',\n",
      "                            'kid': 'did:example:bob#key-x25519-1',\n",
      "                            'tag': '9mIh53e9ua2_KtERG-rXWg'}},\n",
      "                {'encrypted_key': 'vVAEvtQo_EY4CSxCZ0xUIf8lSAmsTNQsIQ-rWILXukM',\n",
      "                 'header': {'alg': 'ECDH-ES+XC20PKW',\n",
      "                            'epk': {'crv': 'X25519',\n",
      "                                    'kty': 'OKP',\n",
      "                                    'x': 'U9CXMzGyk--CGXry3Wn9UJihOMUragqz66eA1WCZkA8'},\n",
      "                            'iv': 'KUtJdmrT-uNBCXJIAnuSclQup7UM8Bs0',\n",
      "                            'kid': 'did:example:bob#key-x25519-2',\n",
      "                            'tag': 'EC_RWpMsegAIWlWs1RPzIw'}},\n",
      "                {'encrypted_key': '9qpBOuvg7hSl3AxtiePLI5adreHLjCHVBjJDaZGw4AU',\n",
      "                 'header': {'alg': 'ECDH-ES+XC20PKW',\n",
      "                            'epk': {'crv': 'X25519',\n",
      "                                    'kty': 'OKP',\n",
      "                                    'x': '_qYNPgBSldQ60jSfn7gRXJFts2fYyHVy5Ude36TROGc'},\n",
      "                            'iv': 'PlQHRMDEwisiTzMW5nA9fw8tEWlB8iNg',\n",
      "                            'kid': 'did:example:bob#key-x25519-3',\n",
      "                            'tag': '9V4gIvJjgTopUp-SQA9RUA'}}],\n",
      " 'tag': 'KvwWlRKRzfC6O5854C_Z-A'}\n"
     ]
    }
   ],
   "source": [
    "veramo_msg_trust_ping_as_dict=json.loads(veramo_msg_trust_ping)\n",
    "pprint(veramo_msg_trust_ping_as_dict)"
   ]
  },
  {
   "cell_type": "code",
   "execution_count": 10,
   "metadata": {},
   "outputs": [
    {
     "ename": "MalformedMessageError",
     "evalue": "MalformedMessageCode.INVALID_PLAINTEXT",
     "output_type": "error",
     "traceback": [
      "\u001b[0;31m---------------------------------------------------------------------------\u001b[0m",
      "\u001b[0;31mMalformedMessageError\u001b[0m                     Traceback (most recent call last)",
      "Input \u001b[0;32mIn [10]\u001b[0m, in \u001b[0;36m<cell line: 1>\u001b[0;34m()\u001b[0m\n\u001b[0;32m----> 1\u001b[0m \u001b[38;5;28;01mawait\u001b[39;00m unpack(\n\u001b[1;32m      2\u001b[0m     resolvers_config\u001b[38;5;241m=\u001b[39mResolversConfig(\n\u001b[1;32m      3\u001b[0m         secrets_resolver\u001b[38;5;241m=\u001b[39msecrets_resolver,\n\u001b[1;32m      4\u001b[0m         did_resolver\u001b[38;5;241m=\u001b[39mFakeResolver()\n\u001b[1;32m      5\u001b[0m     ),\n\u001b[1;32m      6\u001b[0m     packed_msg\u001b[38;5;241m=\u001b[39mveramo_msg_trust_ping_as_dict\n\u001b[1;32m      7\u001b[0m )\n",
      "File \u001b[0;32m/opt/homebrew/lib/python3.10/site-packages/didcomm/unpack.py:64\u001b[0m, in \u001b[0;36munpack\u001b[0;34m(resolvers_config, packed_msg, unpack_config)\u001b[0m\n\u001b[1;32m     53\u001b[0m     \u001b[38;5;28;01mraise\u001b[39;00m DIDCommValueError(\n\u001b[1;32m     54\u001b[0m         \u001b[38;5;124mf\u001b[39m\u001b[38;5;124m\"\u001b[39m\u001b[38;5;124munexpected type of packed_message: \u001b[39m\u001b[38;5;124m'\u001b[39m\u001b[38;5;132;01m{\u001b[39;00m\u001b[38;5;28mtype\u001b[39m(packed_msg)\u001b[38;5;132;01m}\u001b[39;00m\u001b[38;5;124m'\u001b[39m\u001b[38;5;124m\"\u001b[39m\n\u001b[1;32m     55\u001b[0m     )\n\u001b[1;32m     57\u001b[0m metadata \u001b[38;5;241m=\u001b[39m Metadata(\n\u001b[1;32m     58\u001b[0m     encrypted\u001b[38;5;241m=\u001b[39m\u001b[38;5;28;01mFalse\u001b[39;00m,\n\u001b[1;32m     59\u001b[0m     authenticated\u001b[38;5;241m=\u001b[39m\u001b[38;5;28;01mFalse\u001b[39;00m,\n\u001b[1;32m     60\u001b[0m     non_repudiation\u001b[38;5;241m=\u001b[39m\u001b[38;5;28;01mFalse\u001b[39;00m,\n\u001b[1;32m     61\u001b[0m     anonymous_sender\u001b[38;5;241m=\u001b[39m\u001b[38;5;28;01mFalse\u001b[39;00m,\n\u001b[1;32m     62\u001b[0m )\n\u001b[0;32m---> 64\u001b[0m \u001b[38;5;28;01mreturn\u001b[39;00m \u001b[38;5;28;01mawait\u001b[39;00m _do_unpack(resolvers_config, packed_msg, unpack_config, metadata)\n",
      "File \u001b[0;32m/opt/homebrew/lib/python3.10/site-packages/didcomm/unpack.py:131\u001b[0m, in \u001b[0;36m_do_unpack\u001b[0;34m(resolvers_config, packed_msg, unpack_config, metadata)\u001b[0m\n\u001b[1;32m    126\u001b[0m from_prior_issuer_kid \u001b[38;5;241m=\u001b[39m \u001b[38;5;28;01mawait\u001b[39;00m unpack_from_prior_in_place(\n\u001b[1;32m    127\u001b[0m     msg_as_dict, resolvers_config\n\u001b[1;32m    128\u001b[0m )\n\u001b[1;32m    129\u001b[0m metadata\u001b[38;5;241m.\u001b[39mfrom_prior_issuer_kid \u001b[38;5;241m=\u001b[39m from_prior_issuer_kid\n\u001b[0;32m--> 131\u001b[0m message \u001b[38;5;241m=\u001b[39m \u001b[43mMessage\u001b[49m\u001b[38;5;241;43m.\u001b[39;49m\u001b[43mfrom_dict\u001b[49m\u001b[43m(\u001b[49m\u001b[43mmsg_as_dict\u001b[49m\u001b[43m)\u001b[49m\n\u001b[1;32m    133\u001b[0m \u001b[38;5;28;01mreturn\u001b[39;00m UnpackResult(message\u001b[38;5;241m=\u001b[39mmessage, metadata\u001b[38;5;241m=\u001b[39mmetadata)\n",
      "File \u001b[0;32m/opt/homebrew/lib/python3.10/site-packages/didcomm/message.py:123\u001b[0m, in \u001b[0;36mGenericMessage.from_dict\u001b[0;34m(cls, d)\u001b[0m\n\u001b[1;32m    121\u001b[0m \u001b[38;5;28;01mfor\u001b[39;00m f \u001b[38;5;129;01min\u001b[39;00m (\u001b[38;5;124m\"\u001b[39m\u001b[38;5;124mid\u001b[39m\u001b[38;5;124m\"\u001b[39m, \u001b[38;5;124m\"\u001b[39m\u001b[38;5;124mtype\u001b[39m\u001b[38;5;124m\"\u001b[39m, \u001b[38;5;124m\"\u001b[39m\u001b[38;5;124mbody\u001b[39m\u001b[38;5;124m\"\u001b[39m, \u001b[38;5;124m\"\u001b[39m\u001b[38;5;124mtyp\u001b[39m\u001b[38;5;124m\"\u001b[39m):\n\u001b[1;32m    122\u001b[0m     \u001b[38;5;28;01mif\u001b[39;00m f \u001b[38;5;129;01mnot\u001b[39;00m \u001b[38;5;129;01min\u001b[39;00m d:\n\u001b[0;32m--> 123\u001b[0m         \u001b[38;5;28;01mraise\u001b[39;00m MalformedMessageError(MalformedMessageCode\u001b[38;5;241m.\u001b[39mINVALID_PLAINTEXT)\n\u001b[1;32m    125\u001b[0m \u001b[38;5;28;01mif\u001b[39;00m d[\u001b[38;5;124m\"\u001b[39m\u001b[38;5;124mtyp\u001b[39m\u001b[38;5;124m\"\u001b[39m] \u001b[38;5;241m!=\u001b[39m DIDCommMessageTypes\u001b[38;5;241m.\u001b[39mPLAINTEXT\u001b[38;5;241m.\u001b[39mvalue:\n\u001b[1;32m    126\u001b[0m     \u001b[38;5;28;01mraise\u001b[39;00m MalformedMessageError(MalformedMessageCode\u001b[38;5;241m.\u001b[39mINVALID_PLAINTEXT)\n",
      "\u001b[0;31mMalformedMessageError\u001b[0m: MalformedMessageCode.INVALID_PLAINTEXT"
     ]
    }
   ],
   "source": [
    "await unpack(\n",
    "    resolvers_config=ResolversConfig(\n",
    "        secrets_resolver=secrets_resolver,\n",
    "        did_resolver=FakeResolver()\n",
    "    ),\n",
    "    packed_msg=veramo_msg_trust_ping_as_dict\n",
    ")"
   ]
  },
  {
   "cell_type": "markdown",
   "metadata": {},
   "source": [
    "### Create Secrets and DID resolvers"
   ]
  },
  {
   "cell_type": "code",
   "execution_count": 11,
   "metadata": {},
   "outputs": [],
   "source": [
    "secrets_resolver = SecretsResolverDemo()\n",
    "\n",
    "class DIDResolverPeerDID(DIDResolver):\n",
    "    async def resolve(self, did: DID) -> DIDDoc:\n",
    "        did_doc_json = peer_did.resolve_peer_did(did, format = VerificationMaterialFormatPeerDID.JWK)\n",
    "        did_doc = DIDDocPeerDID.from_json(did_doc_json)\n",
    "\n",
    "        return DIDDoc(\n",
    "            did=did_doc.did,\n",
    "            key_agreement_kids = did_doc.agreement_kids,\n",
    "            authentication_kids = did_doc.auth_kids,\n",
    "            verification_methods = [\n",
    "                VerificationMethod(\n",
    "                    id = m.id,\n",
    "                    type = VerificationMethodType.JSON_WEB_KEY_2020,\n",
    "                    controller = m.controller,\n",
    "                    verification_material = VerificationMaterial(\n",
    "                        format = VerificationMaterialFormat.JWK,\n",
    "                        value = json.dumps(m.ver_material.value)\n",
    "                    )\n",
    "                )\n",
    "                for m in did_doc.authentication + did_doc.key_agreement\n",
    "            ],\n",
    "             didcomm_services = []\n",
    "        )\n",
    "async def create_peer_did(self,\n",
    "                        auth_keys_count: int = 1,\n",
    "                        agreement_keys_count: int = 1,\n",
    "                        service_endpoint: Optional[str] = None,\n",
    "                        service_routing_keys: Optional[List[str]] = None\n",
    "                        ) -> str:\n",
    "        # 1. generate keys in JWK format\n",
    "        agreem_keys = [generate_x25519_keys_as_jwk_dict() for _ in range(agreement_keys_count)]\n",
    "        auth_keys = [generate_ed25519_keys_as_jwk_dict() for _ in range(auth_keys_count)]\n",
    "\n",
    "        # 2. prepare the keys for peer DID lib\n",
    "        agreem_keys_peer_did = [\n",
    "            VerificationMaterialAgreement(\n",
    "                type=VerificationMethodTypeAgreement.JSON_WEB_KEY_2020,\n",
    "                format=VerificationMaterialFormatPeerDID.JWK,\n",
    "                value=k[1],\n",
    "            )\n",
    "            for k in agreem_keys\n",
    "        ]\n",
    "        auth_keys_peer_did = [\n",
    "            VerificationMaterialAuthentication(\n",
    "                type=VerificationMethodTypeAuthentication.JSON_WEB_KEY_2020,\n",
    "                format=VerificationMaterialFormatPeerDID.JWK,\n",
    "                value=k[1],\n",
    "            )\n",
    "            for k in auth_keys\n",
    "        ]\n",
    "\n",
    "        # 3. generate service\n",
    "        service = None\n",
    "        if service_endpoint:\n",
    "            service = json.dumps(\n",
    "                DIDCommServicePeerDID(\n",
    "                    id=\"new-id\",\n",
    "                    service_endpoint=service_endpoint, routing_keys=service_routing_keys,\n",
    "                    accept=[\"didcomm/v2\"]\n",
    "                ).to_dict()\n",
    "            )\n",
    "\n",
    "        # 4. call peer DID lib\n",
    "        # if we have just one key (auth), then use numalg0 algorithm\n",
    "        # otherwise use numalg2 algorithm\n",
    "        if len(auth_keys_peer_did) == 1 and not agreem_keys_peer_did and not service:\n",
    "            did = peer_did.create_peer_did_numalgo_0(auth_keys_peer_did[0])\n",
    "        else:\n",
    "            did = peer_did.create_peer_did_numalgo_2(\n",
    "                encryption_keys=agreem_keys_peer_did,\n",
    "                signing_keys=auth_keys_peer_did,\n",
    "                service=service,\n",
    "            )\n",
    "\n",
    "        # 5. set KIDs as in DID DOC for secrets and store the secret in the secrets resolver\n",
    "        did_doc = DIDDocPeerDID.from_json(peer_did.resolve_peer_did(did))\n",
    "        for auth_key, kid in zip(auth_keys, did_doc.auth_kids):\n",
    "            private_key = auth_key[0]\n",
    "            private_key[\"kid\"] = kid\n",
    "            await secrets_resolver.add_key(jwk_to_secret(private_key))\n",
    "\n",
    "        for agreem_key, kid in zip(agreem_keys, did_doc.agreement_kids):\n",
    "            private_key = agreem_key[0]\n",
    "            private_key[\"kid\"] = kid\n",
    "            print(private_key)\n",
    "            print(jwk_to_secret(private_key))\n",
    "            await secrets_resolver.add_key(jwk_to_secret(private_key))\n",
    "\n",
    "        return did"
   ]
  },
  {
   "cell_type": "markdown",
   "metadata": {},
   "source": [
    "### 1. Tony get OOB from Mediator\n",
    "Didcomm mediator: https://mediator.rootsid.cloud/"
   ]
  },
  {
   "cell_type": "code",
   "execution_count": 12,
   "metadata": {},
   "outputs": [
    {
     "name": "stdout",
     "output_type": "stream",
     "text": [
      "{'body': {'accept': ['didcomm/v2'],\n",
      "          'goal': 'RequestMediate',\n",
      "          'goal_code': 'request-mediate',\n",
      "          'label': 'Mediator'},\n",
      " 'from': 'did:peer:2.Ez6LSms555YhFthn1WV8ciDBpZm86hK9tp83WojJUmxPGk1hZ.Vz6MkmdBjMyB4TS5UbbQw54szm8yvMMf1ftGV2sQVYAxaeWhE.SeyJpZCI6Im5ldy1pZCIsInQiOiJkbSIsInMiOiJodHRwczovL21lZGlhdG9yLnJvb3RzaWQuY2xvdWQiLCJhIjpbImRpZGNvbW0vdjIiXX0',\n",
      " 'id': '6554aef2-4b6e-42e7-a8fa-3e9f515acfaf',\n",
      " 'type': 'https://didcomm.org/out-of-band/2.0/invitation'}\n"
     ]
    }
   ],
   "source": [
    "#oob_url = requests.get(\"http://127.0.0.1:8000/oob_url\").text\n",
    "oob_url = requests.get(\"https://mediator.rootsid.cloud/oob_url\").text\n",
    "received_msg_encoded = oob_url.split(\"=\")[1]\n",
    "received_msg_decoded = json.loads(str(base64.urlsafe_b64decode(received_msg_encoded + \"==\"), \"utf-8\"))\n",
    "pprint(received_msg_decoded)"
   ]
  },
  {
   "cell_type": "markdown",
   "metadata": {},
   "source": [
    "### 2. Tony creates peer did with mediator"
   ]
  },
  {
   "cell_type": "code",
   "execution_count": 13,
   "metadata": {},
   "outputs": [
    {
     "name": "stdout",
     "output_type": "stream",
     "text": [
      "{'crv': 'X25519', 'x': 'EUpw25LML9jAy8iDbrbr5VFoTDPKLpxbYIxByzWQuCw', 'd': 'qE8609gIYRXykmvfPyVaQPJFwP8RoM10WLtuZjoHUF4', 'kty': 'OKP', 'kid': 'did:peer:2.Ez6LScqfvzaXiAjDxabbEK63WQRB2kYhHdeuick2u51nuvPwq.Vz6MkgtAaq3JgRzb5CAvJr7bWhtw5d87ybt84STeJm9PrHHjg#6LScqfvzaXiAjDxabbEK63WQRB2kYhHdeuick2u51nuvPwq'}\n",
      "Secret(kid='did:peer:2.Ez6LScqfvzaXiAjDxabbEK63WQRB2kYhHdeuick2u51nuvPwq.Vz6MkgtAaq3JgRzb5CAvJr7bWhtw5d87ybt84STeJm9PrHHjg#6LScqfvzaXiAjDxabbEK63WQRB2kYhHdeuick2u51nuvPwq', type=<VerificationMethodType.JSON_WEB_KEY_2020: 1>, verification_material=VerificationMaterial(format=<VerificationMaterialFormat.JWK: 1>, value='{\"crv\":\"X25519\",\"x\":\"EUpw25LML9jAy8iDbrbr5VFoTDPKLpxbYIxByzWQuCw\",\"d\":\"qE8609gIYRXykmvfPyVaQPJFwP8RoM10WLtuZjoHUF4\",\"kty\":\"OKP\",\"kid\":\"did:peer:2.Ez6LScqfvzaXiAjDxabbEK63WQRB2kYhHdeuick2u51nuvPwq.Vz6MkgtAaq3JgRzb5CAvJr7bWhtw5d87ybt84STeJm9PrHHjg#6LScqfvzaXiAjDxabbEK63WQRB2kYhHdeuick2u51nuvPwq\"}'))\n",
      "Tony's DID: did:peer:2.Ez6LScqfvzaXiAjDxabbEK63WQRB2kYhHdeuick2u51nuvPwq.Vz6MkgtAaq3JgRzb5CAvJr7bWhtw5d87ybt84STeJm9PrHHjg\n"
     ]
    }
   ],
   "source": [
    "tony_did_for_trust_ping = await create_peer_did(2,)\n",
    "print(\"Tony's DID:\", tony_did_for_trust_ping)"
   ]
  },
  {
   "cell_type": "markdown",
   "metadata": {},
   "source": [
    "### 3. Tony checks the Mediator Trust ping Endpoint"
   ]
  },
  {
   "cell_type": "code",
   "execution_count": 15,
   "metadata": {},
   "outputs": [
    {
     "name": "stdout",
     "output_type": "stream",
     "text": [
      "https://didcomm.org/trust-ping/2.0/ping-response\n"
     ]
    }
   ],
   "source": [
    "ping_msg = Message(\n",
    "    body = { \"response_requested\": True },\n",
    "    id = str(uuid.uuid4()),\n",
    "    type = \"https://didcomm.org/trust-ping/2.0/ping\",\n",
    "    frm = tony_did_for_trust_ping,\n",
    "    to = [received_msg_decoded[\"from\"]]\n",
    ")\n",
    "\n",
    "tony_trust_ping_packed = await pack_encrypted(\n",
    "    resolvers_config = ResolversConfig(\n",
    "        secrets_resolver = secrets_resolver,\n",
    "        did_resolver = DIDResolverPeerDID()\n",
    "    ),\n",
    "    message = ping_msg,\n",
    "    frm = tony_did_for_trust_ping,\n",
    "    to = received_msg_decoded[\"from\"],\n",
    "    sign_frm = None,\n",
    "    pack_config = PackEncryptedConfig(protect_sender_id=False)\n",
    ")\n",
    "trust_ping_did_doc = json.loads(peer_did.resolve_peer_did(received_msg_decoded[\"from\"]))\n",
    "trust_ping_endpoint = trust_ping_did_doc[\"service\"][0][\"serviceEndpoint\"]\n",
    "headers = {\"Content-Type\": \"application/didcomm-encrypted+json\"}\n",
    "resp = requests.post(trust_ping_endpoint, headers=headers, json = json.loads(tony_trust_ping_packed.packed_msg))\n",
    "trust_ping_response = await unpack(\n",
    "    resolvers_config=ResolversConfig(\n",
    "        secrets_resolver=secrets_resolver,\n",
    "        did_resolver=DIDResolverPeerDID()\n",
    "    ),\n",
    "    packed_msg= resp.json()\n",
    ")\n",
    "print(trust_ping_response.message.type)#https://didcomm.org/trust-ping/2.0/ping-response"
   ]
  },
  {
   "cell_type": "markdown",
   "metadata": {},
   "source": [
    "##  Nessus Trust Ping"
   ]
  },
  {
   "cell_type": "code",
   "execution_count": 16,
   "metadata": {},
   "outputs": [
    {
     "ename": "ConnectionError",
     "evalue": "HTTPConnectionPool(host='nessus-tech.io', port=9100): Max retries exceeded with url: /message/invitation?inviter=Government&method=peer (Caused by NewConnectionError('<urllib3.connection.HTTPConnection object at 0x12d2b0dc0>: Failed to establish a new connection: [Errno 61] Connection refused'))",
     "output_type": "error",
     "traceback": [
      "\u001b[0;31m---------------------------------------------------------------------------\u001b[0m",
      "\u001b[0;31mConnectionRefusedError\u001b[0m                    Traceback (most recent call last)",
      "File \u001b[0;32m/opt/homebrew/lib/python3.10/site-packages/urllib3/connection.py:174\u001b[0m, in \u001b[0;36mHTTPConnection._new_conn\u001b[0;34m(self)\u001b[0m\n\u001b[1;32m    173\u001b[0m \u001b[38;5;28;01mtry\u001b[39;00m:\n\u001b[0;32m--> 174\u001b[0m     conn \u001b[38;5;241m=\u001b[39m \u001b[43mconnection\u001b[49m\u001b[38;5;241;43m.\u001b[39;49m\u001b[43mcreate_connection\u001b[49m\u001b[43m(\u001b[49m\n\u001b[1;32m    175\u001b[0m \u001b[43m        \u001b[49m\u001b[43m(\u001b[49m\u001b[38;5;28;43mself\u001b[39;49m\u001b[38;5;241;43m.\u001b[39;49m\u001b[43m_dns_host\u001b[49m\u001b[43m,\u001b[49m\u001b[43m \u001b[49m\u001b[38;5;28;43mself\u001b[39;49m\u001b[38;5;241;43m.\u001b[39;49m\u001b[43mport\u001b[49m\u001b[43m)\u001b[49m\u001b[43m,\u001b[49m\u001b[43m \u001b[49m\u001b[38;5;28;43mself\u001b[39;49m\u001b[38;5;241;43m.\u001b[39;49m\u001b[43mtimeout\u001b[49m\u001b[43m,\u001b[49m\u001b[43m \u001b[49m\u001b[38;5;241;43m*\u001b[39;49m\u001b[38;5;241;43m*\u001b[39;49m\u001b[43mextra_kw\u001b[49m\n\u001b[1;32m    176\u001b[0m \u001b[43m    \u001b[49m\u001b[43m)\u001b[49m\n\u001b[1;32m    178\u001b[0m \u001b[38;5;28;01mexcept\u001b[39;00m SocketTimeout:\n",
      "File \u001b[0;32m/opt/homebrew/lib/python3.10/site-packages/urllib3/util/connection.py:95\u001b[0m, in \u001b[0;36mcreate_connection\u001b[0;34m(address, timeout, source_address, socket_options)\u001b[0m\n\u001b[1;32m     94\u001b[0m \u001b[38;5;28;01mif\u001b[39;00m err \u001b[38;5;129;01mis\u001b[39;00m \u001b[38;5;129;01mnot\u001b[39;00m \u001b[38;5;28;01mNone\u001b[39;00m:\n\u001b[0;32m---> 95\u001b[0m     \u001b[38;5;28;01mraise\u001b[39;00m err\n\u001b[1;32m     97\u001b[0m \u001b[38;5;28;01mraise\u001b[39;00m socket\u001b[38;5;241m.\u001b[39merror(\u001b[38;5;124m\"\u001b[39m\u001b[38;5;124mgetaddrinfo returns an empty list\u001b[39m\u001b[38;5;124m\"\u001b[39m)\n",
      "File \u001b[0;32m/opt/homebrew/lib/python3.10/site-packages/urllib3/util/connection.py:85\u001b[0m, in \u001b[0;36mcreate_connection\u001b[0;34m(address, timeout, source_address, socket_options)\u001b[0m\n\u001b[1;32m     84\u001b[0m     sock\u001b[38;5;241m.\u001b[39mbind(source_address)\n\u001b[0;32m---> 85\u001b[0m \u001b[43msock\u001b[49m\u001b[38;5;241;43m.\u001b[39;49m\u001b[43mconnect\u001b[49m\u001b[43m(\u001b[49m\u001b[43msa\u001b[49m\u001b[43m)\u001b[49m\n\u001b[1;32m     86\u001b[0m \u001b[38;5;28;01mreturn\u001b[39;00m sock\n",
      "\u001b[0;31mConnectionRefusedError\u001b[0m: [Errno 61] Connection refused",
      "\nDuring handling of the above exception, another exception occurred:\n",
      "\u001b[0;31mNewConnectionError\u001b[0m                        Traceback (most recent call last)",
      "File \u001b[0;32m/opt/homebrew/lib/python3.10/site-packages/urllib3/connectionpool.py:703\u001b[0m, in \u001b[0;36mHTTPConnectionPool.urlopen\u001b[0;34m(self, method, url, body, headers, retries, redirect, assert_same_host, timeout, pool_timeout, release_conn, chunked, body_pos, **response_kw)\u001b[0m\n\u001b[1;32m    702\u001b[0m \u001b[38;5;66;03m# Make the request on the httplib connection object.\u001b[39;00m\n\u001b[0;32m--> 703\u001b[0m httplib_response \u001b[38;5;241m=\u001b[39m \u001b[38;5;28;43mself\u001b[39;49m\u001b[38;5;241;43m.\u001b[39;49m\u001b[43m_make_request\u001b[49m\u001b[43m(\u001b[49m\n\u001b[1;32m    704\u001b[0m \u001b[43m    \u001b[49m\u001b[43mconn\u001b[49m\u001b[43m,\u001b[49m\n\u001b[1;32m    705\u001b[0m \u001b[43m    \u001b[49m\u001b[43mmethod\u001b[49m\u001b[43m,\u001b[49m\n\u001b[1;32m    706\u001b[0m \u001b[43m    \u001b[49m\u001b[43murl\u001b[49m\u001b[43m,\u001b[49m\n\u001b[1;32m    707\u001b[0m \u001b[43m    \u001b[49m\u001b[43mtimeout\u001b[49m\u001b[38;5;241;43m=\u001b[39;49m\u001b[43mtimeout_obj\u001b[49m\u001b[43m,\u001b[49m\n\u001b[1;32m    708\u001b[0m \u001b[43m    \u001b[49m\u001b[43mbody\u001b[49m\u001b[38;5;241;43m=\u001b[39;49m\u001b[43mbody\u001b[49m\u001b[43m,\u001b[49m\n\u001b[1;32m    709\u001b[0m \u001b[43m    \u001b[49m\u001b[43mheaders\u001b[49m\u001b[38;5;241;43m=\u001b[39;49m\u001b[43mheaders\u001b[49m\u001b[43m,\u001b[49m\n\u001b[1;32m    710\u001b[0m \u001b[43m    \u001b[49m\u001b[43mchunked\u001b[49m\u001b[38;5;241;43m=\u001b[39;49m\u001b[43mchunked\u001b[49m\u001b[43m,\u001b[49m\n\u001b[1;32m    711\u001b[0m \u001b[43m\u001b[49m\u001b[43m)\u001b[49m\n\u001b[1;32m    713\u001b[0m \u001b[38;5;66;03m# If we're going to release the connection in ``finally:``, then\u001b[39;00m\n\u001b[1;32m    714\u001b[0m \u001b[38;5;66;03m# the response doesn't need to know about the connection. Otherwise\u001b[39;00m\n\u001b[1;32m    715\u001b[0m \u001b[38;5;66;03m# it will also try to release it and we'll have a double-release\u001b[39;00m\n\u001b[1;32m    716\u001b[0m \u001b[38;5;66;03m# mess.\u001b[39;00m\n",
      "File \u001b[0;32m/opt/homebrew/lib/python3.10/site-packages/urllib3/connectionpool.py:398\u001b[0m, in \u001b[0;36mHTTPConnectionPool._make_request\u001b[0;34m(self, conn, method, url, timeout, chunked, **httplib_request_kw)\u001b[0m\n\u001b[1;32m    397\u001b[0m     \u001b[38;5;28;01melse\u001b[39;00m:\n\u001b[0;32m--> 398\u001b[0m         \u001b[43mconn\u001b[49m\u001b[38;5;241;43m.\u001b[39;49m\u001b[43mrequest\u001b[49m\u001b[43m(\u001b[49m\u001b[43mmethod\u001b[49m\u001b[43m,\u001b[49m\u001b[43m \u001b[49m\u001b[43murl\u001b[49m\u001b[43m,\u001b[49m\u001b[43m \u001b[49m\u001b[38;5;241;43m*\u001b[39;49m\u001b[38;5;241;43m*\u001b[39;49m\u001b[43mhttplib_request_kw\u001b[49m\u001b[43m)\u001b[49m\n\u001b[1;32m    400\u001b[0m \u001b[38;5;66;03m# We are swallowing BrokenPipeError (errno.EPIPE) since the server is\u001b[39;00m\n\u001b[1;32m    401\u001b[0m \u001b[38;5;66;03m# legitimately able to close the connection after sending a valid response.\u001b[39;00m\n\u001b[1;32m    402\u001b[0m \u001b[38;5;66;03m# With this behaviour, the received response is still readable.\u001b[39;00m\n",
      "File \u001b[0;32m/opt/homebrew/lib/python3.10/site-packages/urllib3/connection.py:239\u001b[0m, in \u001b[0;36mHTTPConnection.request\u001b[0;34m(self, method, url, body, headers)\u001b[0m\n\u001b[1;32m    238\u001b[0m     headers[\u001b[38;5;124m\"\u001b[39m\u001b[38;5;124mUser-Agent\u001b[39m\u001b[38;5;124m\"\u001b[39m] \u001b[38;5;241m=\u001b[39m _get_default_user_agent()\n\u001b[0;32m--> 239\u001b[0m \u001b[38;5;28;43msuper\u001b[39;49m\u001b[43m(\u001b[49m\u001b[43mHTTPConnection\u001b[49m\u001b[43m,\u001b[49m\u001b[43m \u001b[49m\u001b[38;5;28;43mself\u001b[39;49m\u001b[43m)\u001b[49m\u001b[38;5;241;43m.\u001b[39;49m\u001b[43mrequest\u001b[49m\u001b[43m(\u001b[49m\u001b[43mmethod\u001b[49m\u001b[43m,\u001b[49m\u001b[43m \u001b[49m\u001b[43murl\u001b[49m\u001b[43m,\u001b[49m\u001b[43m \u001b[49m\u001b[43mbody\u001b[49m\u001b[38;5;241;43m=\u001b[39;49m\u001b[43mbody\u001b[49m\u001b[43m,\u001b[49m\u001b[43m \u001b[49m\u001b[43mheaders\u001b[49m\u001b[38;5;241;43m=\u001b[39;49m\u001b[43mheaders\u001b[49m\u001b[43m)\u001b[49m\n",
      "File \u001b[0;32m/opt/homebrew/Cellar/python@3.10/3.10.10/Frameworks/Python.framework/Versions/3.10/lib/python3.10/http/client.py:1282\u001b[0m, in \u001b[0;36mHTTPConnection.request\u001b[0;34m(self, method, url, body, headers, encode_chunked)\u001b[0m\n\u001b[1;32m   1281\u001b[0m \u001b[38;5;250m\u001b[39m\u001b[38;5;124;03m\"\"\"Send a complete request to the server.\"\"\"\u001b[39;00m\n\u001b[0;32m-> 1282\u001b[0m \u001b[38;5;28;43mself\u001b[39;49m\u001b[38;5;241;43m.\u001b[39;49m\u001b[43m_send_request\u001b[49m\u001b[43m(\u001b[49m\u001b[43mmethod\u001b[49m\u001b[43m,\u001b[49m\u001b[43m \u001b[49m\u001b[43murl\u001b[49m\u001b[43m,\u001b[49m\u001b[43m \u001b[49m\u001b[43mbody\u001b[49m\u001b[43m,\u001b[49m\u001b[43m \u001b[49m\u001b[43mheaders\u001b[49m\u001b[43m,\u001b[49m\u001b[43m \u001b[49m\u001b[43mencode_chunked\u001b[49m\u001b[43m)\u001b[49m\n",
      "File \u001b[0;32m/opt/homebrew/Cellar/python@3.10/3.10.10/Frameworks/Python.framework/Versions/3.10/lib/python3.10/http/client.py:1328\u001b[0m, in \u001b[0;36mHTTPConnection._send_request\u001b[0;34m(self, method, url, body, headers, encode_chunked)\u001b[0m\n\u001b[1;32m   1327\u001b[0m     body \u001b[38;5;241m=\u001b[39m _encode(body, \u001b[38;5;124m'\u001b[39m\u001b[38;5;124mbody\u001b[39m\u001b[38;5;124m'\u001b[39m)\n\u001b[0;32m-> 1328\u001b[0m \u001b[38;5;28;43mself\u001b[39;49m\u001b[38;5;241;43m.\u001b[39;49m\u001b[43mendheaders\u001b[49m\u001b[43m(\u001b[49m\u001b[43mbody\u001b[49m\u001b[43m,\u001b[49m\u001b[43m \u001b[49m\u001b[43mencode_chunked\u001b[49m\u001b[38;5;241;43m=\u001b[39;49m\u001b[43mencode_chunked\u001b[49m\u001b[43m)\u001b[49m\n",
      "File \u001b[0;32m/opt/homebrew/Cellar/python@3.10/3.10.10/Frameworks/Python.framework/Versions/3.10/lib/python3.10/http/client.py:1277\u001b[0m, in \u001b[0;36mHTTPConnection.endheaders\u001b[0;34m(self, message_body, encode_chunked)\u001b[0m\n\u001b[1;32m   1276\u001b[0m     \u001b[38;5;28;01mraise\u001b[39;00m CannotSendHeader()\n\u001b[0;32m-> 1277\u001b[0m \u001b[38;5;28;43mself\u001b[39;49m\u001b[38;5;241;43m.\u001b[39;49m\u001b[43m_send_output\u001b[49m\u001b[43m(\u001b[49m\u001b[43mmessage_body\u001b[49m\u001b[43m,\u001b[49m\u001b[43m \u001b[49m\u001b[43mencode_chunked\u001b[49m\u001b[38;5;241;43m=\u001b[39;49m\u001b[43mencode_chunked\u001b[49m\u001b[43m)\u001b[49m\n",
      "File \u001b[0;32m/opt/homebrew/Cellar/python@3.10/3.10.10/Frameworks/Python.framework/Versions/3.10/lib/python3.10/http/client.py:1037\u001b[0m, in \u001b[0;36mHTTPConnection._send_output\u001b[0;34m(self, message_body, encode_chunked)\u001b[0m\n\u001b[1;32m   1036\u001b[0m \u001b[38;5;28;01mdel\u001b[39;00m \u001b[38;5;28mself\u001b[39m\u001b[38;5;241m.\u001b[39m_buffer[:]\n\u001b[0;32m-> 1037\u001b[0m \u001b[38;5;28;43mself\u001b[39;49m\u001b[38;5;241;43m.\u001b[39;49m\u001b[43msend\u001b[49m\u001b[43m(\u001b[49m\u001b[43mmsg\u001b[49m\u001b[43m)\u001b[49m\n\u001b[1;32m   1039\u001b[0m \u001b[38;5;28;01mif\u001b[39;00m message_body \u001b[38;5;129;01mis\u001b[39;00m \u001b[38;5;129;01mnot\u001b[39;00m \u001b[38;5;28;01mNone\u001b[39;00m:\n\u001b[1;32m   1040\u001b[0m \n\u001b[1;32m   1041\u001b[0m     \u001b[38;5;66;03m# create a consistent interface to message_body\u001b[39;00m\n",
      "File \u001b[0;32m/opt/homebrew/Cellar/python@3.10/3.10.10/Frameworks/Python.framework/Versions/3.10/lib/python3.10/http/client.py:975\u001b[0m, in \u001b[0;36mHTTPConnection.send\u001b[0;34m(self, data)\u001b[0m\n\u001b[1;32m    974\u001b[0m \u001b[38;5;28;01mif\u001b[39;00m \u001b[38;5;28mself\u001b[39m\u001b[38;5;241m.\u001b[39mauto_open:\n\u001b[0;32m--> 975\u001b[0m     \u001b[38;5;28;43mself\u001b[39;49m\u001b[38;5;241;43m.\u001b[39;49m\u001b[43mconnect\u001b[49m\u001b[43m(\u001b[49m\u001b[43m)\u001b[49m\n\u001b[1;32m    976\u001b[0m \u001b[38;5;28;01melse\u001b[39;00m:\n",
      "File \u001b[0;32m/opt/homebrew/lib/python3.10/site-packages/urllib3/connection.py:205\u001b[0m, in \u001b[0;36mHTTPConnection.connect\u001b[0;34m(self)\u001b[0m\n\u001b[1;32m    204\u001b[0m \u001b[38;5;28;01mdef\u001b[39;00m \u001b[38;5;21mconnect\u001b[39m(\u001b[38;5;28mself\u001b[39m):\n\u001b[0;32m--> 205\u001b[0m     conn \u001b[38;5;241m=\u001b[39m \u001b[38;5;28;43mself\u001b[39;49m\u001b[38;5;241;43m.\u001b[39;49m\u001b[43m_new_conn\u001b[49m\u001b[43m(\u001b[49m\u001b[43m)\u001b[49m\n\u001b[1;32m    206\u001b[0m     \u001b[38;5;28mself\u001b[39m\u001b[38;5;241m.\u001b[39m_prepare_conn(conn)\n",
      "File \u001b[0;32m/opt/homebrew/lib/python3.10/site-packages/urllib3/connection.py:186\u001b[0m, in \u001b[0;36mHTTPConnection._new_conn\u001b[0;34m(self)\u001b[0m\n\u001b[1;32m    185\u001b[0m \u001b[38;5;28;01mexcept\u001b[39;00m SocketError \u001b[38;5;28;01mas\u001b[39;00m e:\n\u001b[0;32m--> 186\u001b[0m     \u001b[38;5;28;01mraise\u001b[39;00m NewConnectionError(\n\u001b[1;32m    187\u001b[0m         \u001b[38;5;28mself\u001b[39m, \u001b[38;5;124m\"\u001b[39m\u001b[38;5;124mFailed to establish a new connection: \u001b[39m\u001b[38;5;132;01m%s\u001b[39;00m\u001b[38;5;124m\"\u001b[39m \u001b[38;5;241m%\u001b[39m e\n\u001b[1;32m    188\u001b[0m     )\n\u001b[1;32m    190\u001b[0m \u001b[38;5;28;01mreturn\u001b[39;00m conn\n",
      "\u001b[0;31mNewConnectionError\u001b[0m: <urllib3.connection.HTTPConnection object at 0x12d2b0dc0>: Failed to establish a new connection: [Errno 61] Connection refused",
      "\nDuring handling of the above exception, another exception occurred:\n",
      "\u001b[0;31mMaxRetryError\u001b[0m                             Traceback (most recent call last)",
      "File \u001b[0;32m/opt/homebrew/lib/python3.10/site-packages/requests/adapters.py:439\u001b[0m, in \u001b[0;36mHTTPAdapter.send\u001b[0;34m(self, request, stream, timeout, verify, cert, proxies)\u001b[0m\n\u001b[1;32m    438\u001b[0m \u001b[38;5;28;01mif\u001b[39;00m \u001b[38;5;129;01mnot\u001b[39;00m chunked:\n\u001b[0;32m--> 439\u001b[0m     resp \u001b[38;5;241m=\u001b[39m \u001b[43mconn\u001b[49m\u001b[38;5;241;43m.\u001b[39;49m\u001b[43murlopen\u001b[49m\u001b[43m(\u001b[49m\n\u001b[1;32m    440\u001b[0m \u001b[43m        \u001b[49m\u001b[43mmethod\u001b[49m\u001b[38;5;241;43m=\u001b[39;49m\u001b[43mrequest\u001b[49m\u001b[38;5;241;43m.\u001b[39;49m\u001b[43mmethod\u001b[49m\u001b[43m,\u001b[49m\n\u001b[1;32m    441\u001b[0m \u001b[43m        \u001b[49m\u001b[43murl\u001b[49m\u001b[38;5;241;43m=\u001b[39;49m\u001b[43murl\u001b[49m\u001b[43m,\u001b[49m\n\u001b[1;32m    442\u001b[0m \u001b[43m        \u001b[49m\u001b[43mbody\u001b[49m\u001b[38;5;241;43m=\u001b[39;49m\u001b[43mrequest\u001b[49m\u001b[38;5;241;43m.\u001b[39;49m\u001b[43mbody\u001b[49m\u001b[43m,\u001b[49m\n\u001b[1;32m    443\u001b[0m \u001b[43m        \u001b[49m\u001b[43mheaders\u001b[49m\u001b[38;5;241;43m=\u001b[39;49m\u001b[43mrequest\u001b[49m\u001b[38;5;241;43m.\u001b[39;49m\u001b[43mheaders\u001b[49m\u001b[43m,\u001b[49m\n\u001b[1;32m    444\u001b[0m \u001b[43m        \u001b[49m\u001b[43mredirect\u001b[49m\u001b[38;5;241;43m=\u001b[39;49m\u001b[38;5;28;43;01mFalse\u001b[39;49;00m\u001b[43m,\u001b[49m\n\u001b[1;32m    445\u001b[0m \u001b[43m        \u001b[49m\u001b[43massert_same_host\u001b[49m\u001b[38;5;241;43m=\u001b[39;49m\u001b[38;5;28;43;01mFalse\u001b[39;49;00m\u001b[43m,\u001b[49m\n\u001b[1;32m    446\u001b[0m \u001b[43m        \u001b[49m\u001b[43mpreload_content\u001b[49m\u001b[38;5;241;43m=\u001b[39;49m\u001b[38;5;28;43;01mFalse\u001b[39;49;00m\u001b[43m,\u001b[49m\n\u001b[1;32m    447\u001b[0m \u001b[43m        \u001b[49m\u001b[43mdecode_content\u001b[49m\u001b[38;5;241;43m=\u001b[39;49m\u001b[38;5;28;43;01mFalse\u001b[39;49;00m\u001b[43m,\u001b[49m\n\u001b[1;32m    448\u001b[0m \u001b[43m        \u001b[49m\u001b[43mretries\u001b[49m\u001b[38;5;241;43m=\u001b[39;49m\u001b[38;5;28;43mself\u001b[39;49m\u001b[38;5;241;43m.\u001b[39;49m\u001b[43mmax_retries\u001b[49m\u001b[43m,\u001b[49m\n\u001b[1;32m    449\u001b[0m \u001b[43m        \u001b[49m\u001b[43mtimeout\u001b[49m\u001b[38;5;241;43m=\u001b[39;49m\u001b[43mtimeout\u001b[49m\n\u001b[1;32m    450\u001b[0m \u001b[43m    \u001b[49m\u001b[43m)\u001b[49m\n\u001b[1;32m    452\u001b[0m \u001b[38;5;66;03m# Send the request.\u001b[39;00m\n\u001b[1;32m    453\u001b[0m \u001b[38;5;28;01melse\u001b[39;00m:\n",
      "File \u001b[0;32m/opt/homebrew/lib/python3.10/site-packages/urllib3/connectionpool.py:785\u001b[0m, in \u001b[0;36mHTTPConnectionPool.urlopen\u001b[0;34m(self, method, url, body, headers, retries, redirect, assert_same_host, timeout, pool_timeout, release_conn, chunked, body_pos, **response_kw)\u001b[0m\n\u001b[1;32m    783\u001b[0m     e \u001b[38;5;241m=\u001b[39m ProtocolError(\u001b[38;5;124m\"\u001b[39m\u001b[38;5;124mConnection aborted.\u001b[39m\u001b[38;5;124m\"\u001b[39m, e)\n\u001b[0;32m--> 785\u001b[0m retries \u001b[38;5;241m=\u001b[39m \u001b[43mretries\u001b[49m\u001b[38;5;241;43m.\u001b[39;49m\u001b[43mincrement\u001b[49m\u001b[43m(\u001b[49m\n\u001b[1;32m    786\u001b[0m \u001b[43m    \u001b[49m\u001b[43mmethod\u001b[49m\u001b[43m,\u001b[49m\u001b[43m \u001b[49m\u001b[43murl\u001b[49m\u001b[43m,\u001b[49m\u001b[43m \u001b[49m\u001b[43merror\u001b[49m\u001b[38;5;241;43m=\u001b[39;49m\u001b[43me\u001b[49m\u001b[43m,\u001b[49m\u001b[43m \u001b[49m\u001b[43m_pool\u001b[49m\u001b[38;5;241;43m=\u001b[39;49m\u001b[38;5;28;43mself\u001b[39;49m\u001b[43m,\u001b[49m\u001b[43m \u001b[49m\u001b[43m_stacktrace\u001b[49m\u001b[38;5;241;43m=\u001b[39;49m\u001b[43msys\u001b[49m\u001b[38;5;241;43m.\u001b[39;49m\u001b[43mexc_info\u001b[49m\u001b[43m(\u001b[49m\u001b[43m)\u001b[49m\u001b[43m[\u001b[49m\u001b[38;5;241;43m2\u001b[39;49m\u001b[43m]\u001b[49m\n\u001b[1;32m    787\u001b[0m \u001b[43m\u001b[49m\u001b[43m)\u001b[49m\n\u001b[1;32m    788\u001b[0m retries\u001b[38;5;241m.\u001b[39msleep()\n",
      "File \u001b[0;32m/opt/homebrew/lib/python3.10/site-packages/urllib3/util/retry.py:592\u001b[0m, in \u001b[0;36mRetry.increment\u001b[0;34m(self, method, url, response, error, _pool, _stacktrace)\u001b[0m\n\u001b[1;32m    591\u001b[0m \u001b[38;5;28;01mif\u001b[39;00m new_retry\u001b[38;5;241m.\u001b[39mis_exhausted():\n\u001b[0;32m--> 592\u001b[0m     \u001b[38;5;28;01mraise\u001b[39;00m MaxRetryError(_pool, url, error \u001b[38;5;129;01mor\u001b[39;00m ResponseError(cause))\n\u001b[1;32m    594\u001b[0m log\u001b[38;5;241m.\u001b[39mdebug(\u001b[38;5;124m\"\u001b[39m\u001b[38;5;124mIncremented Retry for (url=\u001b[39m\u001b[38;5;124m'\u001b[39m\u001b[38;5;132;01m%s\u001b[39;00m\u001b[38;5;124m'\u001b[39m\u001b[38;5;124m): \u001b[39m\u001b[38;5;132;01m%r\u001b[39;00m\u001b[38;5;124m\"\u001b[39m, url, new_retry)\n",
      "\u001b[0;31mMaxRetryError\u001b[0m: HTTPConnectionPool(host='nessus-tech.io', port=9100): Max retries exceeded with url: /message/invitation?inviter=Government&method=peer (Caused by NewConnectionError('<urllib3.connection.HTTPConnection object at 0x12d2b0dc0>: Failed to establish a new connection: [Errno 61] Connection refused'))",
      "\nDuring handling of the above exception, another exception occurred:\n",
      "\u001b[0;31mConnectionError\u001b[0m                           Traceback (most recent call last)",
      "Input \u001b[0;32mIn [16]\u001b[0m, in \u001b[0;36m<cell line: 1>\u001b[0;34m()\u001b[0m\n\u001b[0;32m----> 1\u001b[0m nessus_invitation \u001b[38;5;241m=\u001b[39m json\u001b[38;5;241m.\u001b[39mloads(\u001b[43mrequests\u001b[49m\u001b[38;5;241;43m.\u001b[39;49m\u001b[43mget\u001b[49m\u001b[43m(\u001b[49m\u001b[38;5;124;43m'\u001b[39;49m\u001b[38;5;124;43mhttp://nessus-tech.io:9100/message/invitation?inviter=Government&method=peer\u001b[39;49m\u001b[38;5;124;43m'\u001b[39;49m\u001b[43m)\u001b[49m\u001b[38;5;241m.\u001b[39mtext)\n\u001b[1;32m      2\u001b[0m nessus_did_doc \u001b[38;5;241m=\u001b[39m json\u001b[38;5;241m.\u001b[39mloads(peer_did\u001b[38;5;241m.\u001b[39mresolve_peer_did(nessus_invitation[\u001b[38;5;124m\"\u001b[39m\u001b[38;5;124mfrom\u001b[39m\u001b[38;5;124m\"\u001b[39m]))\n\u001b[1;32m      3\u001b[0m \u001b[38;5;28mprint\u001b[39m()\n",
      "File \u001b[0;32m/opt/homebrew/lib/python3.10/site-packages/requests/api.py:76\u001b[0m, in \u001b[0;36mget\u001b[0;34m(url, params, **kwargs)\u001b[0m\n\u001b[1;32m     65\u001b[0m \u001b[38;5;250m\u001b[39m\u001b[38;5;124mr\u001b[39m\u001b[38;5;124;03m\"\"\"Sends a GET request.\u001b[39;00m\n\u001b[1;32m     66\u001b[0m \n\u001b[1;32m     67\u001b[0m \u001b[38;5;124;03m:param url: URL for the new :class:`Request` object.\u001b[39;00m\n\u001b[0;32m   (...)\u001b[0m\n\u001b[1;32m     72\u001b[0m \u001b[38;5;124;03m:rtype: requests.Response\u001b[39;00m\n\u001b[1;32m     73\u001b[0m \u001b[38;5;124;03m\"\"\"\u001b[39;00m\n\u001b[1;32m     75\u001b[0m kwargs\u001b[38;5;241m.\u001b[39msetdefault(\u001b[38;5;124m'\u001b[39m\u001b[38;5;124mallow_redirects\u001b[39m\u001b[38;5;124m'\u001b[39m, \u001b[38;5;28;01mTrue\u001b[39;00m)\n\u001b[0;32m---> 76\u001b[0m \u001b[38;5;28;01mreturn\u001b[39;00m \u001b[43mrequest\u001b[49m\u001b[43m(\u001b[49m\u001b[38;5;124;43m'\u001b[39;49m\u001b[38;5;124;43mget\u001b[39;49m\u001b[38;5;124;43m'\u001b[39;49m\u001b[43m,\u001b[49m\u001b[43m \u001b[49m\u001b[43murl\u001b[49m\u001b[43m,\u001b[49m\u001b[43m \u001b[49m\u001b[43mparams\u001b[49m\u001b[38;5;241;43m=\u001b[39;49m\u001b[43mparams\u001b[49m\u001b[43m,\u001b[49m\u001b[43m \u001b[49m\u001b[38;5;241;43m*\u001b[39;49m\u001b[38;5;241;43m*\u001b[39;49m\u001b[43mkwargs\u001b[49m\u001b[43m)\u001b[49m\n",
      "File \u001b[0;32m/opt/homebrew/lib/python3.10/site-packages/requests/api.py:61\u001b[0m, in \u001b[0;36mrequest\u001b[0;34m(method, url, **kwargs)\u001b[0m\n\u001b[1;32m     57\u001b[0m \u001b[38;5;66;03m# By using the 'with' statement we are sure the session is closed, thus we\u001b[39;00m\n\u001b[1;32m     58\u001b[0m \u001b[38;5;66;03m# avoid leaving sockets open which can trigger a ResourceWarning in some\u001b[39;00m\n\u001b[1;32m     59\u001b[0m \u001b[38;5;66;03m# cases, and look like a memory leak in others.\u001b[39;00m\n\u001b[1;32m     60\u001b[0m \u001b[38;5;28;01mwith\u001b[39;00m sessions\u001b[38;5;241m.\u001b[39mSession() \u001b[38;5;28;01mas\u001b[39;00m session:\n\u001b[0;32m---> 61\u001b[0m     \u001b[38;5;28;01mreturn\u001b[39;00m \u001b[43msession\u001b[49m\u001b[38;5;241;43m.\u001b[39;49m\u001b[43mrequest\u001b[49m\u001b[43m(\u001b[49m\u001b[43mmethod\u001b[49m\u001b[38;5;241;43m=\u001b[39;49m\u001b[43mmethod\u001b[49m\u001b[43m,\u001b[49m\u001b[43m \u001b[49m\u001b[43murl\u001b[49m\u001b[38;5;241;43m=\u001b[39;49m\u001b[43murl\u001b[49m\u001b[43m,\u001b[49m\u001b[43m \u001b[49m\u001b[38;5;241;43m*\u001b[39;49m\u001b[38;5;241;43m*\u001b[39;49m\u001b[43mkwargs\u001b[49m\u001b[43m)\u001b[49m\n",
      "File \u001b[0;32m/opt/homebrew/lib/python3.10/site-packages/requests/sessions.py:542\u001b[0m, in \u001b[0;36mSession.request\u001b[0;34m(self, method, url, params, data, headers, cookies, files, auth, timeout, allow_redirects, proxies, hooks, stream, verify, cert, json)\u001b[0m\n\u001b[1;32m    537\u001b[0m send_kwargs \u001b[38;5;241m=\u001b[39m {\n\u001b[1;32m    538\u001b[0m     \u001b[38;5;124m'\u001b[39m\u001b[38;5;124mtimeout\u001b[39m\u001b[38;5;124m'\u001b[39m: timeout,\n\u001b[1;32m    539\u001b[0m     \u001b[38;5;124m'\u001b[39m\u001b[38;5;124mallow_redirects\u001b[39m\u001b[38;5;124m'\u001b[39m: allow_redirects,\n\u001b[1;32m    540\u001b[0m }\n\u001b[1;32m    541\u001b[0m send_kwargs\u001b[38;5;241m.\u001b[39mupdate(settings)\n\u001b[0;32m--> 542\u001b[0m resp \u001b[38;5;241m=\u001b[39m \u001b[38;5;28;43mself\u001b[39;49m\u001b[38;5;241;43m.\u001b[39;49m\u001b[43msend\u001b[49m\u001b[43m(\u001b[49m\u001b[43mprep\u001b[49m\u001b[43m,\u001b[49m\u001b[43m \u001b[49m\u001b[38;5;241;43m*\u001b[39;49m\u001b[38;5;241;43m*\u001b[39;49m\u001b[43msend_kwargs\u001b[49m\u001b[43m)\u001b[49m\n\u001b[1;32m    544\u001b[0m \u001b[38;5;28;01mreturn\u001b[39;00m resp\n",
      "File \u001b[0;32m/opt/homebrew/lib/python3.10/site-packages/requests/sessions.py:655\u001b[0m, in \u001b[0;36mSession.send\u001b[0;34m(self, request, **kwargs)\u001b[0m\n\u001b[1;32m    652\u001b[0m start \u001b[38;5;241m=\u001b[39m preferred_clock()\n\u001b[1;32m    654\u001b[0m \u001b[38;5;66;03m# Send the request\u001b[39;00m\n\u001b[0;32m--> 655\u001b[0m r \u001b[38;5;241m=\u001b[39m \u001b[43madapter\u001b[49m\u001b[38;5;241;43m.\u001b[39;49m\u001b[43msend\u001b[49m\u001b[43m(\u001b[49m\u001b[43mrequest\u001b[49m\u001b[43m,\u001b[49m\u001b[43m \u001b[49m\u001b[38;5;241;43m*\u001b[39;49m\u001b[38;5;241;43m*\u001b[39;49m\u001b[43mkwargs\u001b[49m\u001b[43m)\u001b[49m\n\u001b[1;32m    657\u001b[0m \u001b[38;5;66;03m# Total elapsed time of the request (approximately)\u001b[39;00m\n\u001b[1;32m    658\u001b[0m elapsed \u001b[38;5;241m=\u001b[39m preferred_clock() \u001b[38;5;241m-\u001b[39m start\n",
      "File \u001b[0;32m/opt/homebrew/lib/python3.10/site-packages/requests/adapters.py:516\u001b[0m, in \u001b[0;36mHTTPAdapter.send\u001b[0;34m(self, request, stream, timeout, verify, cert, proxies)\u001b[0m\n\u001b[1;32m    512\u001b[0m     \u001b[38;5;28;01mif\u001b[39;00m \u001b[38;5;28misinstance\u001b[39m(e\u001b[38;5;241m.\u001b[39mreason, _SSLError):\n\u001b[1;32m    513\u001b[0m         \u001b[38;5;66;03m# This branch is for urllib3 v1.22 and later.\u001b[39;00m\n\u001b[1;32m    514\u001b[0m         \u001b[38;5;28;01mraise\u001b[39;00m SSLError(e, request\u001b[38;5;241m=\u001b[39mrequest)\n\u001b[0;32m--> 516\u001b[0m     \u001b[38;5;28;01mraise\u001b[39;00m \u001b[38;5;167;01mConnectionError\u001b[39;00m(e, request\u001b[38;5;241m=\u001b[39mrequest)\n\u001b[1;32m    518\u001b[0m \u001b[38;5;28;01mexcept\u001b[39;00m ClosedPoolError \u001b[38;5;28;01mas\u001b[39;00m e:\n\u001b[1;32m    519\u001b[0m     \u001b[38;5;28;01mraise\u001b[39;00m \u001b[38;5;167;01mConnectionError\u001b[39;00m(e, request\u001b[38;5;241m=\u001b[39mrequest)\n",
      "\u001b[0;31mConnectionError\u001b[0m: HTTPConnectionPool(host='nessus-tech.io', port=9100): Max retries exceeded with url: /message/invitation?inviter=Government&method=peer (Caused by NewConnectionError('<urllib3.connection.HTTPConnection object at 0x12d2b0dc0>: Failed to establish a new connection: [Errno 61] Connection refused'))"
     ]
    }
   ],
   "source": [
    "nessus_invitation = json.loads(requests.get('http://nessus-tech.io:9100/message/invitation?inviter=Government&method=peer').text)\n",
    "nessus_did_doc = json.loads(peer_did.resolve_peer_did(nessus_invitation[\"from\"]))\n",
    "print()\n",
    "ping_msg_to_nessus = Message(\n",
    "    body = { \"response_requested\": True },\n",
    "    id = str(uuid.uuid4()),\n",
    "    type = \"https://didcomm.org/trust-ping/2.0/ping\",\n",
    "    frm = tony_did_for_trust_ping,\n",
    "    to = [nessus_invitation[\"from\"]],\n",
    ")\n",
    "\n",
    "ping_msg_to_nessus_packed = await pack_encrypted(\n",
    "    resolvers_config = ResolversConfig(\n",
    "        secrets_resolver = secrets_resolver,\n",
    "        did_resolver = DIDResolverPeerDID()\n",
    "    ),\n",
    "    message = ping_msg_to_nessus,\n",
    "    frm = tony_did_for_trust_ping,\n",
    "    to = nessus_invitation[\"from\"],\n",
    "    sign_frm = None,\n",
    "    pack_config = PackEncryptedConfig(protect_sender_id=False)\n",
    ")\n",
    "print(f'packed message {ping_msg_to_nessus_packed.packed_msg}')\n",
    "nessus_endpoint = nessus_did_doc[\"service\"][0][\"serviceEndpoint\"]\n",
    "headers = {\"Content-Type\": \"application/didcomm-encrypted+json\"}\n",
    "resp = requests.post(nessus_endpoint, headers=headers, json = json.loads(ping_msg_to_nessus_packed.packed_msg))\n",
    "print(f'nessus response {resp.json()}')\n",
    "nessus_unpacked_response = await unpack(\n",
    "    resolvers_config=ResolversConfig(\n",
    "        secrets_resolver=secrets_resolver,\n",
    "        did_resolver=DIDResolverPeerDID()\n",
    "    ),\n",
    "    packed_msg= resp.json()\n",
    ")\n",
    "print(trust_ping_response.message.type)#https://didcomm.org/trust-ping/2.0/ping-response"
   ]
  },
  {
   "cell_type": "code",
   "execution_count": null,
   "metadata": {},
   "outputs": [],
   "source": []
  },
  {
   "cell_type": "code",
   "execution_count": null,
   "metadata": {},
   "outputs": [],
   "source": []
  },
  {
   "cell_type": "code",
   "execution_count": null,
   "metadata": {},
   "outputs": [],
   "source": []
  }
 ],
 "metadata": {
  "kernelspec": {
   "display_name": "Python 3 (ipykernel)",
   "language": "python",
   "name": "python3"
  },
  "language_info": {
   "codemirror_mode": {
    "name": "ipython",
    "version": 3
   },
   "file_extension": ".py",
   "mimetype": "text/x-python",
   "name": "python",
   "nbconvert_exporter": "python",
   "pygments_lexer": "ipython3",
   "version": "3.10.10"
  }
 },
 "nbformat": 4,
 "nbformat_minor": 2
}
