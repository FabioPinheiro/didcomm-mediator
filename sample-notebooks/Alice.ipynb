{
 "cells": [
  {
   "cell_type": "code",
   "execution_count": 35,
   "metadata": {},
   "outputs": [],
   "source": [
    "import json\n",
    "import base64\n",
    "import qrcode\n",
    "import requests\n",
    "import datetime\n",
    "import uuid\n",
    "import matplotlib.pyplot as plt\n",
    "from pymongo import MongoClient\n",
    "from typing import Optional, List\n",
    "from didcomm.common.types import DID, VerificationMethodType, VerificationMaterial, VerificationMaterialFormat\n",
    "from didcomm.did_doc.did_doc import DIDDoc, VerificationMethod, DIDCommService\n",
    "from didcomm.did_doc.did_resolver import DIDResolver\n",
    "from didcomm.message import Message, FromPrior\n",
    "from didcomm.secrets.secrets_resolver_demo import SecretsResolverDemo\n",
    "from didcomm.unpack import unpack, UnpackResult\n",
    "from didcomm.common.resolvers import ResolversConfig\n",
    "from didcomm.pack_encrypted import pack_encrypted, PackEncryptedConfig, PackEncryptedResult\n",
    "from peerdid.core.did_doc_types import DIDCommServicePeerDID\n",
    "from didcomm.secrets.secrets_util import generate_x25519_keys_as_jwk_dict, generate_ed25519_keys_as_jwk_dict, jwk_to_secret\n",
    "from peerdid import peer_did\n",
    "from peerdid.did_doc import DIDDocPeerDID\n",
    "from peerdid.types import VerificationMaterialAuthentication, VerificationMethodTypeAuthentication, VerificationMaterialAgreement, VerificationMethodTypeAgreement, VerificationMaterialFormatPeerDID"
   ]
  },
  {
   "cell_type": "code",
   "execution_count": 36,
   "metadata": {},
   "outputs": [],
   "source": [
    "secrets_resolver = SecretsResolverDemo()"
   ]
  },
  {
   "cell_type": "code",
   "execution_count": 37,
   "metadata": {},
   "outputs": [],
   "source": [
    "class DIDResolverPeerDID(DIDResolver):\n",
    "    async def resolve(self, did: DID) -> DIDDoc:\n",
    "        did_doc_json = peer_did.resolve_peer_did(did, format = VerificationMaterialFormatPeerDID.JWK)\n",
    "        did_doc = DIDDocPeerDID.from_json(did_doc_json)\n",
    "\n",
    "        return DIDDoc(\n",
    "            did=did_doc.did,\n",
    "            key_agreement_kids = did_doc.agreement_kids,\n",
    "            authentication_kids = did_doc.auth_kids,\n",
    "            verification_methods = [\n",
    "                VerificationMethod(\n",
    "                    id = m.id,\n",
    "                    type = VerificationMethodType.JSON_WEB_KEY_2020,\n",
    "                    controller = m.controller,\n",
    "                    verification_material = VerificationMaterial(\n",
    "                        format = VerificationMaterialFormat.JWK,\n",
    "                        value = json.dumps(m.ver_material.value)\n",
    "                    )\n",
    "                )\n",
    "                for m in did_doc.authentication + did_doc.key_agreement\n",
    "            ],\n",
    "             didcomm_services = []\n",
    "#                 DIDCommService(\n",
    "#                     id = s.id,\n",
    "#                     service_endpoint = s.service_endpoint,\n",
    "#                     routing_keys = s.routing_keys,\n",
    "#                     accept = s.accept\n",
    "#                 )\n",
    "#                 for s in did_doc.service\n",
    "#                 if isinstance(s, DIDCommServicePeerDID)\n",
    "#            ] if did_doc.service else []\n",
    "        )"
   ]
  },
  {
   "cell_type": "code",
   "execution_count": 38,
   "metadata": {},
   "outputs": [],
   "source": [
    "async def create_peer_did(self,\n",
    "                        auth_keys_count: int = 1,\n",
    "                        agreement_keys_count: int = 1,\n",
    "                        service_endpoint: Optional[str] = None,\n",
    "                        service_routing_keys: Optional[List[str]] = None\n",
    "                        ) -> str:\n",
    "        # 1. generate keys in JWK format\n",
    "        agreem_keys = [generate_x25519_keys_as_jwk_dict() for _ in range(agreement_keys_count)]\n",
    "        auth_keys = [generate_ed25519_keys_as_jwk_dict() for _ in range(auth_keys_count)]\n",
    "\n",
    "        # 2. prepare the keys for peer DID lib\n",
    "        agreem_keys_peer_did = [\n",
    "            VerificationMaterialAgreement(\n",
    "                type=VerificationMethodTypeAgreement.JSON_WEB_KEY_2020,\n",
    "                format=VerificationMaterialFormatPeerDID.JWK,\n",
    "                value=k[1],\n",
    "            )\n",
    "            for k in agreem_keys\n",
    "        ]\n",
    "        auth_keys_peer_did = [\n",
    "            VerificationMaterialAuthentication(\n",
    "                type=VerificationMethodTypeAuthentication.JSON_WEB_KEY_2020,\n",
    "                format=VerificationMaterialFormatPeerDID.JWK,\n",
    "                value=k[1],\n",
    "            )\n",
    "            for k in auth_keys\n",
    "        ]\n",
    "\n",
    "        # 3. generate service\n",
    "        service = None\n",
    "        if service_endpoint:\n",
    "            service = json.dumps(\n",
    "                DIDCommServicePeerDID(\n",
    "                    id=\"new-id\",\n",
    "                    service_endpoint=service_endpoint, routing_keys=service_routing_keys,\n",
    "                    accept=[\"didcomm/v2\"]\n",
    "                ).to_dict()\n",
    "            )\n",
    "\n",
    "        # 4. call peer DID lib\n",
    "        # if we have just one key (auth), then use numalg0 algorithm\n",
    "        # otherwise use numalg2 algorithm\n",
    "        if len(auth_keys_peer_did) == 1 and not agreem_keys_peer_did and not service:\n",
    "            did = peer_did.create_peer_did_numalgo_0(auth_keys_peer_did[0])\n",
    "        else:\n",
    "            did = peer_did.create_peer_did_numalgo_2(\n",
    "                encryption_keys=agreem_keys_peer_did,\n",
    "                signing_keys=auth_keys_peer_did,\n",
    "                service=service,\n",
    "            )\n",
    "\n",
    "        # 5. set KIDs as in DID DOC for secrets and store the secret in the secrets resolver\n",
    "        did_doc = DIDDocPeerDID.from_json(peer_did.resolve_peer_did(did))\n",
    "        for auth_key, kid in zip(auth_keys, did_doc.auth_kids):\n",
    "            private_key = auth_key[0]\n",
    "            private_key[\"kid\"] = kid\n",
    "            print(private_key)\n",
    "            await secrets_resolver.add_key(jwk_to_secret(private_key))\n",
    "\n",
    "        for agreem_key, kid in zip(agreem_keys, did_doc.agreement_kids):\n",
    "            private_key = agreem_key[0]\n",
    "            private_key[\"kid\"] = kid\n",
    "            print(private_key)\n",
    "            await secrets_resolver.add_key(jwk_to_secret(private_key))\n",
    "\n",
    "        return did\n"
   ]
  },
  {
   "cell_type": "markdown",
   "metadata": {},
   "source": [
    "### Alice get OOB from Mediator"
   ]
  },
  {
   "cell_type": "code",
   "execution_count": 39,
   "metadata": {},
   "outputs": [],
   "source": [
    "oob_url = requests.get(\"http://127.0.0.1:8000/oob_url\").text\n",
    "#oob_url = requests.get(\"https://mediator.rootsid.cloud/oob_url\").text"
   ]
  },
  {
   "cell_type": "code",
   "execution_count": 40,
   "metadata": {},
   "outputs": [
    {
     "name": "stdout",
     "output_type": "stream",
     "text": [
      "http://127.0.0.1:8000?_oob=eyJ0eXBlIjoiaHR0cHM6Ly9kaWRjb21tLm9yZy9vdXQtb2YtYmFuZC8yLjAvaW52aXRhdGlvbiIsImlkIjoiMzc3ODU4MWItZDEwZC00OTFlLTllMzEtYjUxYzM2MmViZjYxIiwiZnJvbSI6ImRpZDpwZWVyOjIuRXo2TFNjN0FiajVxWmlOQXFybXpOUm56eFFFa1paYmZOVVBQTm13ckN3NEdoM3p3NS5WejZNa25BekJIcFNIWHNCeWNRZDNtTkdwaGpXaVpQdDZ0SmJrRHJrTFlxemg1ZDVNLlNleUpwWkNJNkltNWxkeTFwWkNJc0luUWlPaUprYlNJc0luTWlPaUpvZEhSd09pOHZNVEkzTGpBdU1DNHhPamd3TURBaUxDSmhJanBiSW1ScFpHTnZiVzB2ZGpJaVhYMCIsImJvZHkiOnsiZ29hbF9jb2RlIjoicmVxdWVzdC1tZWRpYXRlIiwiZ29hbCI6IlJlcXVlc3RNZWRpYXRlIiwibGFiZWwiOiJNZWRpYXRvciIsImFjY2VwdCI6WyJkaWRjb21tL3YyIl19fQ\n"
     ]
    }
   ],
   "source": [
    "print(oob_url)"
   ]
  },
  {
   "cell_type": "code",
   "execution_count": 41,
   "metadata": {},
   "outputs": [
    {
     "name": "stdout",
     "output_type": "stream",
     "text": [
      "{'crv': 'Ed25519', 'x': 'fPHVn1M2RZtyCbMg0Fe2cRZiVp7rQsg7KtUB4LjfhHI', 'd': 'bUfpbHXLqW55uwijYkB9Nb0JbQJSS4k7W8JuZU4mCwY', 'kty': 'OKP', 'kid': 'did:peer:2.Ez6LScaETAToHifVtHEXwXyKyUijrznYjRnXMp224PJVwmSDJ.Vz6MknrzUmiWaUYDJBCNxSf4TiYSphimPKFD8t6HsuZf9gzPT#6MknrzUmiWaUYDJBCNxSf4TiYSphimPKFD8t6HsuZf9gzPT'}\n",
      "{'crv': 'X25519', 'x': 'DVXrKK2N2BK39A_bl2i1hVLbGUnWUMRBStUlSj1Jc00', 'd': 'eB2f2hmGQF11sWu9M7FRZdPCRraYhYhfCNvDuBFbgmw', 'kty': 'OKP', 'kid': 'did:peer:2.Ez6LScaETAToHifVtHEXwXyKyUijrznYjRnXMp224PJVwmSDJ.Vz6MknrzUmiWaUYDJBCNxSf4TiYSphimPKFD8t6HsuZf9gzPT#6LScaETAToHifVtHEXwXyKyUijrznYjRnXMp224PJVwmSDJ'}\n",
      "Alice's DID: did:peer:2.Ez6LScaETAToHifVtHEXwXyKyUijrznYjRnXMp224PJVwmSDJ.Vz6MknrzUmiWaUYDJBCNxSf4TiYSphimPKFD8t6HsuZf9gzPT\n"
     ]
    }
   ],
   "source": [
    "received_msg_encoded = oob_url.split(\"=\")[1]\n",
    "received_msg_decoded = json.loads(str(base64.urlsafe_b64decode(received_msg_encoded + \"==\"), \"utf-8\"))\n",
    "alice_did_for_mediator = await create_peer_did(1,1)\n",
    "print(\"Alice's DID:\", alice_did_for_mediator)"
   ]
  },
  {
   "cell_type": "markdown",
   "metadata": {},
   "source": [
    "### Alice request mediate"
   ]
  },
  {
   "cell_type": "code",
   "execution_count": 42,
   "metadata": {},
   "outputs": [],
   "source": [
    "alice_mediate_grant = Message(\n",
    "    custom_headers = [{\"return_route\": \"all\"}],\n",
    "    id = str(uuid.uuid4()),\n",
    "    type = \"https://didcomm.org/coordinate-mediation/2.0/mediate-request\",\n",
    "    body = {}\n",
    ")"
   ]
  },
  {
   "cell_type": "code",
   "execution_count": 43,
   "metadata": {},
   "outputs": [],
   "source": [
    "alice_mediate_grant_packed = await pack_encrypted(\n",
    "    resolvers_config = ResolversConfig(\n",
    "        secrets_resolver = secrets_resolver,\n",
    "        did_resolver = DIDResolverPeerDID()\n",
    "    ),\n",
    "    message = alice_mediate_grant,\n",
    "    frm = alice_did_for_mediator,\n",
    "    to = received_msg_decoded[\"from\"],\n",
    "    sign_frm = None,\n",
    "    pack_config = PackEncryptedConfig(protect_sender_id=False)\n",
    ")"
   ]
  },
  {
   "cell_type": "markdown",
   "metadata": {},
   "source": [
    "### Sending to Mediator"
   ]
  },
  {
   "cell_type": "code",
   "execution_count": 44,
   "metadata": {},
   "outputs": [
    {
     "name": "stdout",
     "output_type": "stream",
     "text": [
      "http://127.0.0.1:8000\n"
     ]
    }
   ],
   "source": [
    "mediator_did_doc = json.loads(peer_did.resolve_peer_did(received_msg_decoded[\"from\"]))\n",
    "mediator_endpoint = mediator_did_doc[\"service\"][0][\"serviceEndpoint\"]\n",
    "print(mediator_endpoint)"
   ]
  },
  {
   "cell_type": "code",
   "execution_count": 45,
   "metadata": {},
   "outputs": [],
   "source": [
    "headers = {\"Content-Type\": \"application/didcomm-encrypted+json\"}\n",
    "resp = requests.post(mediator_endpoint, headers=headers, data = alice_mediate_grant_packed.packed_msg)\n"
   ]
  },
  {
   "cell_type": "code",
   "execution_count": 46,
   "metadata": {},
   "outputs": [
    {
     "name": "stdout",
     "output_type": "stream",
     "text": [
      "{'protected': 'eyJ0eXAiOiJhcHBsaWNhdGlvbi9kaWRjb21tLWVuY3J5cHRlZCtqc29uIiwiYWxnIjoiRUNESC0xUFUrQTI1NktXIiwiZW5jIjoiQTI1NkNCQy1IUzUxMiIsImFwdSI6IlpHbGtPbkJsWlhJNk1pNUZlalpNVTJaYVFreHZlWE5PY1hCeVRHZFlUV3BFT0hwcFFuSlZlbkIzUlVoaGNXRmlhV2RYZUZGb1ZVdFJkbEpUTGxaNk5rMXJjMWt4TTJ0bFpHVlVRVzEwZHpKeVpHZHBTa05oVGpKYVYyOTNlSGt5UjB3eWNVaGhiVWhYTkdoUmJVc3VVMlY1U25CYVEwazJTVzAxYkdSNU1YQmFRMGx6U1c1UmFVOXBTbXRpVTBselNXNU5hVTlwU205a1NGSjNUMms0ZGsxVVNUTk1ha0YxVFVNMGVFOXFaM2ROUkVGcFRFTkthRWxxY0dKSmJWSndXa2RPZG1KWE1IWmtha2xwV0Znd0l6Wk1VMlphUWt4dmVYTk9jWEJ5VEdkWVRXcEVPSHBwUW5KVmVuQjNSVWhoY1dGaWFXZFhlRkZvVlV0UmRsSlQiLCJhcHYiOiJKdVBoZWQyZV8talhTUHQ1V0FuWW9taWV0ekVBXzJURG5ROTM4QVlMYV9JIiwic2tpZCI6ImRpZDpwZWVyOjIuRXo2TFNmWkJMb3lzTnFwckxnWE1qRDh6aUJyVXpwd0VIYXFhYmlnV3hRaFVLUXZSUy5WejZNa3NZMTNrZWRlVEFtdHcycmRnaUpDYU4yWldvd3h5MkdMMnFIYW1IVzRoUW1LLlNleUpwWkNJNkltNWxkeTFwWkNJc0luUWlPaUprYlNJc0luTWlPaUpvZEhSd09pOHZNVEkzTGpBdU1DNHhPamd3TURBaUxDSmhJanBiSW1ScFpHTnZiVzB2ZGpJaVhYMCM2TFNmWkJMb3lzTnFwckxnWE1qRDh6aUJyVXpwd0VIYXFhYmlnV3hRaFVLUXZSUyIsImVwayI6eyJjcnYiOiJYMjU1MTkiLCJ4IjoiM1pJVFZUcEVTaU1jV0JRUHBmWi14SFpMY0R1N24zTE1RYVpuY0Y1WUVEdyIsImt0eSI6Ik9LUCJ9fQ', 'recipients': [{'header': {'kid': 'did:peer:2.Ez6LScaETAToHifVtHEXwXyKyUijrznYjRnXMp224PJVwmSDJ.Vz6MknrzUmiWaUYDJBCNxSf4TiYSphimPKFD8t6HsuZf9gzPT#6LScaETAToHifVtHEXwXyKyUijrznYjRnXMp224PJVwmSDJ'}, 'encrypted_key': 'ijN2gU5NU_qkG2-Miig72q2I1KVnmQ2-FpmdITxMyCHKuxl0bPdgh-XpMjFnBh_YILpfFyN9nG37Ur-MvlBNKfPt7JRGla0V'}], 'iv': 'tbttGODbY4TDx3N4LHr1nQ', 'ciphertext': 'nCLidLRSNbo8Lk-qopS8QllPh_bWsYaa48Gm1F3pEE-QNyj5pRXW_IC_Z2nXb8bfevTybizcEjtGpX614LKg8FxjVqVa3MFZCb_c7e2ebricwp-n7Us81pdLN1O47L--_aSAHibT3BEv-7Gc-EUspm69DowoXOHNnR29mQleqKQ4tegCsmiYNj5SIaZg6Joic1mKXfp2Oi0NY9YOSeXvl9G-A-lWZ3cHAbcVd1O2_k2p7NRPv1ZqRFabl4maUFrTdJgyuCLTw4FI1ZjvFFyKwyPIT2HgFvZQrsouwIzcufkBOUmJ89NL1hlAfuzyWHbfHs_ieguiaFbTxe5FZ8-t_adAHkFylkz0TMfsrllYfYVDnOjmjzriayaTrwERZ7v3Vkh7bBwHR1PIAcGFKAOz-XJFjAg89r_eN9sPTfkwIN3YtwX5mAWw9uy8px3S6Lv1Z5U64_oguYgNw49GPAVag5mVng9A97Deze9Obz1cHbKAPGc_Q8zqe-YSJu3_dNJ1pN1nHYY8IrAS-4e9VIkhwoTEN8siaYuz8z0jblVDiDSmtlrSxbwyi9tQo4NUWmuUdItlilR2p9DmyTdmoePKX97hgc_g6t054dXM_mIxS91kFLu6yxzejS2YF_QOd3oXaktEiNp9_XojrjpMHUPpJJiHftCYawQrVR9uxQnZqhTUJKgIW_e13dmlu8IfbFMydesUitfaGgpJ9XKAZLfIqWdlnMXosm3hY2EAz2o6mdTLHJmU0gkOrkl331DqU4pAOZvXi-S4U9yr-wQ5lfwORS8GfQKvOM1Bm2ED4fncIaX8wY6BW3jDZAg5krhzplNwahTvnkeL8bp2GpGqYbrQDlRUHVHVZgoY0VWyHwJV_MOuJoMnb3ruV0QPYOwMtup_rPmy9vAxG7E3bCYj2Kum7D3YDBLKAZ1qdrHlFihAloKVSDeRL-NGGm0KI6Jvcimw0Ixcg7erUcD6PxstfvAstgFRC8FFImsXsL2GbpcMncAxXkHPHd2rU4YM1954ajoAl0LKR7ChI2ZkZpC-ocRgazuno-ITFdV2nZpVEnu7KdZ6x1SvYiPxGjycc2fGQh2jIPLRjfGynYBIq-1qzaqzmYj27a8xm1HMdv882Wq-YXo1Aml3MV5tHqichQkgFIZqNCe1X4hOYRk5Ot1Wesq3rRJtsfR9w475KOuum36tRb8GD-LPSrgZNU4k-q5cav-8Rv7rfO8lKfVo0BxJh7U80yZuOR_yMYaJA_eBtbdgJQ6z76lMoASJlWAYvAY0P56jie89hLEmDaiHa8w1Gwvncfnw-POs3yCDaR0oWJYO-KAfIs-9LkEUrIaKzdLQE7v-6fALTz6442mUD9Y0qch4tcvyrt1fqKYRoZaEjcuNunEFlsgN4T2IXoTEVdFfI-ygx0oDfyry0Ou7LTYseCHn-BiHZXvFxfOH_nFILrLPQEqzQZeZkek01KE0Oyb8wxTbdz6YDeH56xDapLmJeuOFVzh7SKcFe7sJeWw__ve8sm8DUz-uICABeNSOoGn76oqqxN8tW_jZjEdl3wdnkNlh1DYrc9kwZXnmnCVKhVkK2mtPQe5adR-zPhNMk-QnkSo_aT3YLwByEM9cm6JKaS0swO1XrvBE-VTrW6pDUUPD2--gwp6o_WcKn6quISjZP3zPGaMYRDiqtgrb6MMN5BnK8DuXRgX-h2mKFXa3_dz-QvBw-bpfYiahzlysNyTJAtGt54hAkDsYinHI7951I5JlnouAi1JHAwPru8aCiK8spulPnkdkQKSJTDliLnoIjQSqQ1l-5pmZpPZUIhv6MO0_GpEt_2KPXsnTo7LUBl2lFM9Un8NnDcJlUY8cBdiSCyAmKTF12lmzsFMgvTpZhGTzjQi3KuzQO7FU4lNa0v0_FS2jrMuOEAJw2fuuFyI0kleL4ttOtvoDOfrMMnUvcOA_tA', 'tag': 'f4awofs94KYJV29-8S_Q9wBflNDbxQbLNzyTv42g4tQ'}\n"
     ]
    }
   ],
   "source": [
    "print(resp.json())"
   ]
  },
  {
   "cell_type": "markdown",
   "metadata": {},
   "source": [
    "### Get mediator grant response"
   ]
  },
  {
   "cell_type": "code",
   "execution_count": 48,
   "metadata": {},
   "outputs": [
    {
     "name": "stdout",
     "output_type": "stream",
     "text": [
      "https://didcomm.org/coordinate-mediation/2.0/mediate-grant\n",
      "Routing Key: did:peer:2.Ez6LSr263J6eD48X3UGHz1TjYR5g29rRP9xyEAKJptMsXGTbF.Vz6MkpJY8EQdtC2375datU4r8ojuxS2MgG2ANY7KPK6hKRMA2.SeyJpZCI6Im5ldy1pZCIsInQiOiJkbSIsInMiOiJodHRwOi8vMTI3LjAuMC4xOjgwMDAiLCJhIjpbImRpZGNvbW0vdjIiXX0\n",
      "Mediator new DID: did:peer:2.Ez6LSfZBLoysNqprLgXMjD8ziBrUzpwEHaqabigWxQhUKQvRS.Vz6MksY13kedeTAmtw2rdgiJCaN2ZWowxy2GL2qHamHW4hQmK.SeyJpZCI6Im5ldy1pZCIsInQiOiJkbSIsInMiOiJodHRwOi8vMTI3LjAuMC4xOjgwMDAiLCJhIjpbImRpZGNvbW0vdjIiXX0\n"
     ]
    }
   ],
   "source": [
    "mediator_unpack_msg = await unpack(\n",
    "    resolvers_config=ResolversConfig(\n",
    "        secrets_resolver=secrets_resolver,\n",
    "        did_resolver=DIDResolverPeerDID()\n",
    "    ),\n",
    "    packed_msg= resp.json()\n",
    ")\n",
    "print(mediator_unpack_msg.message.type)\n",
    "print(\"Routing Key: \" + mediator_unpack_msg.message.body[\"routing_did\"])\n",
    "print(\"Mediator new DID: \" + mediator_unpack_msg.message.from_prior.sub)\n",
    "# mediator rotated did\n",
    "mediator_routing_key = mediator_unpack_msg.message.body[\"routing_did\"]\n",
    "mediator_did = mediator_unpack_msg.message.from_prior.sub"
   ]
  },
  {
   "cell_type": "markdown",
   "metadata": {},
   "source": [
    "### Keylist update"
   ]
  },
  {
   "cell_type": "markdown",
   "metadata": {},
   "source": [
    "Alice create a new DID to share with  other peers using mediator routing keys "
   ]
  },
  {
   "cell_type": "code",
   "execution_count": 49,
   "metadata": {},
   "outputs": [
    {
     "name": "stdout",
     "output_type": "stream",
     "text": [
      "{'crv': 'Ed25519', 'x': 'SaPToniDj0HJ5527fSdXB3_KOnqzRfUUzH-cBXasJfs', 'd': 'N5szuGaTymP-wwjoVTxjDrDfIkYIreqy0xMfh4Eq3dI', 'kty': 'OKP', 'kid': 'did:peer:2.Ez6LSdBb86vqRsHYn2vKv3zdYMCucjkvCB4KYZokFcQSAsaUK.Vz6MkjQihMYQmbbsfwRopdvEDUJX33DP2HLwjAv8PpLmPGCkz.SeyJpZCI6Im5ldy1pZCIsInQiOiJkbSIsInMiOlt7InVyaSI6ImRpZDpwZWVyOjIuRXo2TFNyMjYzSjZlRDQ4WDNVR0h6MVRqWVI1ZzI5clJQOXh5RUFLSnB0TXNYR1RiRi5WejZNa3BKWThFUWR0QzIzNzVkYXRVNHI4b2p1eFMyTWdHMkFOWTdLUEs2aEtSTUEyLlNleUpwWkNJNkltNWxkeTFwWkNJc0luUWlPaUprYlNJc0luTWlPaUpvZEhSd09pOHZNVEkzTGpBdU1DNHhPamd3TURBaUxDSmhJanBiSW1ScFpHTnZiVzB2ZGpJaVhYMCJ9XSwiYSI6WyJkaWRjb21tL3YyIl19#6MkjQihMYQmbbsfwRopdvEDUJX33DP2HLwjAv8PpLmPGCkz'}\n",
      "{'crv': 'X25519', 'x': 'FmSevlqusquDp0xVJpXhiwpKvVkA5mX6iHOvNtd0WRQ', 'd': 'CK1MhXVoGxrn6lNQAxBFdxFS7kc5osRP2aU_zOOwjEw', 'kty': 'OKP', 'kid': 'did:peer:2.Ez6LSdBb86vqRsHYn2vKv3zdYMCucjkvCB4KYZokFcQSAsaUK.Vz6MkjQihMYQmbbsfwRopdvEDUJX33DP2HLwjAv8PpLmPGCkz.SeyJpZCI6Im5ldy1pZCIsInQiOiJkbSIsInMiOlt7InVyaSI6ImRpZDpwZWVyOjIuRXo2TFNyMjYzSjZlRDQ4WDNVR0h6MVRqWVI1ZzI5clJQOXh5RUFLSnB0TXNYR1RiRi5WejZNa3BKWThFUWR0QzIzNzVkYXRVNHI4b2p1eFMyTWdHMkFOWTdLUEs2aEtSTUEyLlNleUpwWkNJNkltNWxkeTFwWkNJc0luUWlPaUprYlNJc0luTWlPaUpvZEhSd09pOHZNVEkzTGpBdU1DNHhPamd3TURBaUxDSmhJanBiSW1ScFpHTnZiVzB2ZGpJaVhYMCJ9XSwiYSI6WyJkaWRjb21tL3YyIl19#6LSdBb86vqRsHYn2vKv3zdYMCucjkvCB4KYZokFcQSAsaUK'}\n",
      "Alice's DID for Bob: did:peer:2.Ez6LSdBb86vqRsHYn2vKv3zdYMCucjkvCB4KYZokFcQSAsaUK.Vz6MkjQihMYQmbbsfwRopdvEDUJX33DP2HLwjAv8PpLmPGCkz.SeyJpZCI6Im5ldy1pZCIsInQiOiJkbSIsInMiOlt7InVyaSI6ImRpZDpwZWVyOjIuRXo2TFNyMjYzSjZlRDQ4WDNVR0h6MVRqWVI1ZzI5clJQOXh5RUFLSnB0TXNYR1RiRi5WejZNa3BKWThFUWR0QzIzNzVkYXRVNHI4b2p1eFMyTWdHMkFOWTdLUEs2aEtSTUEyLlNleUpwWkNJNkltNWxkeTFwWkNJc0luUWlPaUprYlNJc0luTWlPaUpvZEhSd09pOHZNVEkzTGpBdU1DNHhPamd3TURBaUxDSmhJanBiSW1ScFpHTnZiVzB2ZGpJaVhYMCJ9XSwiYSI6WyJkaWRjb21tL3YyIl19\n"
     ]
    }
   ],
   "source": [
    "#alice_did_new = await create_peer_did(1, 1, service_endpoint=mediator_endpoint, service_routing_keys=[mediator_routing_key])\n",
    "alice_did_for_bob = await create_peer_did(1, 1, service_endpoint=[{\"uri\": mediator_routing_key}])\n",
    "\n",
    "print(\"Alice's DID for Bob:\", alice_did_for_bob)"
   ]
  },
  {
   "cell_type": "markdown",
   "metadata": {},
   "source": [
    "Alice create and send the keylist update message"
   ]
  },
  {
   "cell_type": "code",
   "execution_count": 50,
   "metadata": {},
   "outputs": [],
   "source": [
    "alice_keylist_update = Message(\n",
    "    id = \"unique-id-293e9a922efff\",\n",
    "    type = \"https://didcomm.org/coordinate-mediation/2.0/keylist-update\",\n",
    "    body = {\n",
    "        \"updates\":[\n",
    "        {\n",
    "            \"recipient_did\": alice_did_for_bob,\n",
    "            \"action\": \"add\"\n",
    "        }\n",
    "    ]\n",
    "    }\n",
    ")"
   ]
  },
  {
   "cell_type": "code",
   "execution_count": 51,
   "metadata": {},
   "outputs": [],
   "source": [
    "alice_keylist_update_packed_msg = await pack_encrypted(\n",
    "    resolvers_config = ResolversConfig(\n",
    "        secrets_resolver = secrets_resolver,\n",
    "        did_resolver = DIDResolverPeerDID()\n",
    "    ),\n",
    "    message = alice_keylist_update,\n",
    "    frm = alice_did_for_mediator,\n",
    "    to = mediator_did,\n",
    "    sign_frm = None,\n",
    "    pack_config = PackEncryptedConfig(protect_sender_id=False)\n",
    ")"
   ]
  },
  {
   "cell_type": "code",
   "execution_count": 52,
   "metadata": {},
   "outputs": [],
   "source": [
    "headers = {\"Content-Type\": \"application/didcomm-encrypted+json\"}\n",
    "resp = requests.post(mediator_endpoint, headers=headers, data = alice_keylist_update_packed_msg.packed_msg)"
   ]
  },
  {
   "cell_type": "code",
   "execution_count": 53,
   "metadata": {},
   "outputs": [
    {
     "name": "stdout",
     "output_type": "stream",
     "text": [
      "https://didcomm.org/coordinate-mediation/2.0/keylist-update-response\n",
      "{'updated': [{'recipient_did': 'did:peer:2.Ez6LSdBb86vqRsHYn2vKv3zdYMCucjkvCB4KYZokFcQSAsaUK.Vz6MkjQihMYQmbbsfwRopdvEDUJX33DP2HLwjAv8PpLmPGCkz.SeyJpZCI6Im5ldy1pZCIsInQiOiJkbSIsInMiOlt7InVyaSI6ImRpZDpwZWVyOjIuRXo2TFNyMjYzSjZlRDQ4WDNVR0h6MVRqWVI1ZzI5clJQOXh5RUFLSnB0TXNYR1RiRi5WejZNa3BKWThFUWR0QzIzNzVkYXRVNHI4b2p1eFMyTWdHMkFOWTdLUEs2aEtSTUEyLlNleUpwWkNJNkltNWxkeTFwWkNJc0luUWlPaUprYlNJc0luTWlPaUpvZEhSd09pOHZNVEkzTGpBdU1DNHhPamd3TURBaUxDSmhJanBiSW1ScFpHTnZiVzB2ZGpJaVhYMCJ9XSwiYSI6WyJkaWRjb21tL3YyIl19', 'action': 'add', 'result': 'success'}]}\n"
     ]
    }
   ],
   "source": [
    "mediator_unpack_msg2 = await unpack(\n",
    "    resolvers_config=ResolversConfig(\n",
    "        secrets_resolver=secrets_resolver,\n",
    "        did_resolver=DIDResolverPeerDID()\n",
    "    ),\n",
    "    packed_msg= resp.json()\n",
    ")\n",
    "print(mediator_unpack_msg2.message.type)\n",
    "print(mediator_unpack_msg2.message.body)\n"
   ]
  },
  {
   "cell_type": "markdown",
   "metadata": {},
   "source": [
    "### Alice can now send her DID to Bob."
   ]
  },
  {
   "cell_type": "markdown",
   "metadata": {},
   "source": [
    "### Alice check status of queued messages from the Mediator"
   ]
  },
  {
   "cell_type": "code",
   "execution_count": 54,
   "metadata": {},
   "outputs": [],
   "source": [
    "alice_status_check = Message(\n",
    "    id = \"unique-id-293e9a922efffxxx\",\n",
    "    type = \"https://didcomm.org/messagepickup/3.0/status-request\",\n",
    "    body = {}\n",
    ")"
   ]
  },
  {
   "cell_type": "code",
   "execution_count": 55,
   "metadata": {},
   "outputs": [],
   "source": [
    "alice_status_check_packed_msg = await pack_encrypted(\n",
    "    resolvers_config = ResolversConfig(\n",
    "        secrets_resolver = secrets_resolver,\n",
    "        did_resolver = DIDResolverPeerDID()\n",
    "    ),\n",
    "    message = alice_status_check,\n",
    "    to = mediator_did,\n",
    "    frm = alice_did_for_mediator,\n",
    "    sign_frm = None,\n",
    "    pack_config = PackEncryptedConfig(protect_sender_id=False)\n",
    ")\n",
    "headers = {\"Content-Type\": \"application/didcomm-encrypted+json\"}\n",
    "resp3 = requests.post(mediator_endpoint, headers=headers, data = alice_status_check_packed_msg.packed_msg)"
   ]
  },
  {
   "cell_type": "code",
   "execution_count": 56,
   "metadata": {},
   "outputs": [
    {
     "name": "stdout",
     "output_type": "stream",
     "text": [
      "https://didcomm.org/messagepickup/3.0/status\n",
      "Messages in Mediator queue: 0\n"
     ]
    }
   ],
   "source": [
    "mediator_unpack_status = await unpack(\n",
    "    resolvers_config=ResolversConfig(\n",
    "        secrets_resolver=secrets_resolver,\n",
    "        did_resolver=DIDResolverPeerDID()\n",
    "    ),\n",
    "    packed_msg= resp3.json()\n",
    ")\n",
    "print(mediator_unpack_status.message.type)\n",
    "print(\"Messages in Mediator queue: \" + str(mediator_unpack_status.message.body[\"message_count\"]))"
   ]
  },
  {
   "cell_type": "markdown",
   "metadata": {},
   "source": [
    "### If there are messages, Alice can pickup from the mediator (delivery request)"
   ]
  },
  {
   "cell_type": "code",
   "execution_count": 80,
   "metadata": {},
   "outputs": [],
   "source": [
    "alice_delivery_request = Message(\n",
    "    id = \"unique-id-293e9a922efffxxxff\",\n",
    "    type = \"https://didcomm.org/messagepickup/3.0/delivery-request\",\n",
    "    body = {\"limit\": 1}\n",
    ")"
   ]
  },
  {
   "cell_type": "code",
   "execution_count": 81,
   "metadata": {},
   "outputs": [],
   "source": [
    "alice_delivery_request_packed_msg = await pack_encrypted(\n",
    "    resolvers_config = ResolversConfig(\n",
    "        secrets_resolver = secrets_resolver,\n",
    "        did_resolver = DIDResolverPeerDID()\n",
    "    ),\n",
    "    message = alice_delivery_request,\n",
    "    to = mediator_did,\n",
    "    frm = alice_did_for_mediator,\n",
    "    sign_frm = None,\n",
    "    pack_config = PackEncryptedConfig(protect_sender_id=False)\n",
    ")\n",
    "headers = {\"Content-Type\": \"application/didcomm-encrypted+json\"}\n",
    "resp4 = requests.post(mediator_endpoint, headers=headers, data = alice_delivery_request_packed_msg.packed_msg)"
   ]
  },
  {
   "cell_type": "code",
   "execution_count": 82,
   "metadata": {},
   "outputs": [
    {
     "name": "stdout",
     "output_type": "stream",
     "text": [
      "https://didcomm.org/messagepickup/3.0/delivery\n",
      "{'recipient_key': None}\n"
     ]
    }
   ],
   "source": [
    "mediator_delivery = await unpack(\n",
    "    resolvers_config=ResolversConfig(\n",
    "        secrets_resolver=secrets_resolver,\n",
    "        did_resolver=DIDResolverPeerDID()\n",
    "    ),\n",
    "    packed_msg= resp4.json()\n",
    ")\n",
    "print(mediator_delivery.message.type)\n",
    "print(mediator_delivery.message.body)"
   ]
  },
  {
   "cell_type": "code",
   "execution_count": 83,
   "metadata": {},
   "outputs": [],
   "source": [
    "bob_packed_msg = mediator_delivery.message.attachments[0].data.json\n",
    "msg_id = mediator_delivery.message.attachments[0].id"
   ]
  },
  {
   "cell_type": "code",
   "execution_count": 84,
   "metadata": {},
   "outputs": [
    {
     "name": "stdout",
     "output_type": "stream",
     "text": [
      "{'protected': 'eyJ0eXAiOiJhcHBsaWNhdGlvbi9kaWRjb21tLWVuY3J5cHRlZCtqc29uIiwiYWxnIjoiRUNESC0xUFUrQTI1NktXIiwiZW5jIjoiQTI1NkNCQy1IUzUxMiIsImFwdSI6IlpHbGtPbkJsWlhJNk1pNUZlalpNVTNCS1MwWXlORkJOVTIxWVRYTlpTRVpZWlVVM1VrRmhNV1owY25WWVJreENhMFJTUVZOWGRETXhjMFpGTGxaNk5rMXJkWE5RZEhsV05uRkxRMmxwVlRreWVEWXlaRzlwTTNsMVRHcGFjRTF6VUZkcVJWcHhjbEJoTTNFM2FHTXVVMlY1U25CYVEwazJTVzAxYkdSNU1YQmFRMGx6U1c1UmFVOXBTbXRpVTBselNXNU5hVTlwU205a1NGSjNZM3B2ZGt3elpETmtlVFZzWlVkR2RHTkhlR3hNYlU1MllsTTVhV0l5U1dsTVEwcG9TV3B3WWtsdFVuQmFSMDUyWWxjd2RtUnFTV2xZV0RBak5reFRjRXBMUmpJMFVFMVRiVmhOYzFsSVJsaGxSVGRTUVdFeFpuUnlkVmhHVEVKclJGSkJVMWQwTXpGelJrVSIsImFwdiI6Imw5NllfX3M5cHYxbG1CaEdxb0h2eF96eHBPamxxMVY2QUdGWWRVcDBBQjQiLCJza2lkIjoiZGlkOnBlZXI6Mi5FejZMU3BKS0YyNFBNU21YTXNZSEZYZUU3UkFhMWZ0cnVYRkxCa0RSQVNXdDMxc0ZFLlZ6Nk1rdXNQdHlWNnFLQ2lpVTkyeDYyZG9pM3l1TGpacE1zUFdqRVpxclBhM3E3aGMuU2V5SnBaQ0k2SW01bGR5MXBaQ0lzSW5RaU9pSmtiU0lzSW5NaU9pSm9kSFJ3Y3pvdkwzZDNkeTVsZUdGdGNHeGxMbU52YlM5aWIySWlMQ0poSWpwYkltUnBaR052YlcwdmRqSWlYWDAjNkxTcEpLRjI0UE1TbVhNc1lIRlhlRTdSQWExZnRydVhGTEJrRFJBU1d0MzFzRkUiLCJlcGsiOnsiY3J2IjoiWDI1NTE5IiwieCI6IjNEQWR6UUtNYkkwUk5RNUtISG1Xa3gxd2EzcHJMaG96eUJoQ2ZWZlZkU1UiLCJrdHkiOiJPS1AifX0', 'recipients': [{'header': {'kid': 'did:peer:2.Ez6LSdiyKeupskKv1GvBoYYaSGLfwBzE9AAkm4jc5vrqsVDsF.Vz6Mkf2FzueL7AGjtuDAmiY8QjiXeRLzSJ725UR5RTdBjpZfG.SeyJpZCI6Im5ldy1pZCIsInQiOiJkbSIsInMiOlt7InVyaSI6ImRpZDpwZWVyOjIuRXo2TFNpOXoybnFpZU5OejdDUHpvS0JOcWhIbTF5UDlkY05DOVRuenh1UjJrQUtFeC5WejZNa3BTb2ZXS2M0RkxXU0pEeVh1OEd4UHNTMzZHWGVBb0FTcUNQenRTVVhRODJQLlNleUpwWkNJNkltNWxkeTFwWkNJc0luUWlPaUprYlNJc0luTWlPaUpvZEhSd2N6b3ZMMjFsWkdsaGRHOXlMbkp2YjNSemFXUXVZMnh2ZFdRaUxDSmhJanBiSW1ScFpHTnZiVzB2ZGpJaVhYMCJ9XSwiYSI6WyJkaWRjb21tL3YyIl19#6LSdiyKeupskKv1GvBoYYaSGLfwBzE9AAkm4jc5vrqsVDsF'}, 'encrypted_key': 'MjND-Fs_Lb41vaSUYuunw750NiPhQSklwgDiBxjxIVMLEaYWADODvQJISOrHQlcUEgLfwf2HkHtPckJTEqoCs5HzgtoCvXs5'}], 'iv': 'AaHKShjhCagcm8kz8oCHfA', 'ciphertext': 'hlgog7notP24Y37UBB8gdD7RaGlxOSkwJ1vevu4eb3a8X6TpWiQxOTCsML0XgqvGSI8mPMOoNZhfHNVt6Lf83AEHFCpD1UnDrAXXDCtF4EsrbxmcVIx8Zc-OG_Y-NJ51NwLNiSMr_TGL7qzr9OFkZfdudBcD3ba5_rr5gXYrt0ptnTgiPGMtKh2hjuxQSWHrSsCgCEJA86uGcM8HydFOYfOC8r3i6CgHSKq-1xs7hMZ-5DQ3GIypFc4MUrmM8iPd8QoSV41AObf0oG5HazkpsQ', 'tag': 'KxS3OATXWMfOlMHw7pIA7u1tNtVmL0eZHZ86P8YMu_M'}\n"
     ]
    }
   ],
   "source": [
    "print(bob_packed_msg)"
   ]
  },
  {
   "cell_type": "code",
   "execution_count": 85,
   "metadata": {},
   "outputs": [],
   "source": [
    "bob_msg = await unpack(\n",
    "    resolvers_config=ResolversConfig(\n",
    "        secrets_resolver=secrets_resolver,\n",
    "        did_resolver=DIDResolverPeerDID()\n",
    "    ),\n",
    "    packed_msg= bob_packed_msg\n",
    ")"
   ]
  },
  {
   "cell_type": "code",
   "execution_count": 86,
   "metadata": {},
   "outputs": [
    {
     "name": "stdout",
     "output_type": "stream",
     "text": [
      "Message ID: 631c54e4fbf4f431f98da39b\n",
      "Hola Alice\n"
     ]
    }
   ],
   "source": [
    "print(\"Message ID:\", msg_id)\n",
    "print(bob_msg.message.body[\"content\"])"
   ]
  },
  {
   "cell_type": "markdown",
   "metadata": {},
   "source": [
    "### Alice acknowledge so the mediator can delete the message"
   ]
  },
  {
   "cell_type": "code",
   "execution_count": 87,
   "metadata": {},
   "outputs": [],
   "source": [
    "alice_ack = Message(\n",
    "    id = \"unique-id-293e9a922efffxxxffsss\",\n",
    "    type = \"https://didcomm.org/messagepickup/3.0/messages-received\",\n",
    "    body = {\"message_id_list\": [msg_id]}\n",
    ")"
   ]
  },
  {
   "cell_type": "code",
   "execution_count": 88,
   "metadata": {},
   "outputs": [],
   "source": [
    "alice_ack_packed_msg = await pack_encrypted(\n",
    "    resolvers_config = ResolversConfig(\n",
    "        secrets_resolver = secrets_resolver,\n",
    "        did_resolver = DIDResolverPeerDID()\n",
    "    ),\n",
    "    message = alice_ack,\n",
    "    to = mediator_did,\n",
    "    frm = alice_did_for_mediator,\n",
    "    sign_frm = None,\n",
    "    pack_config = PackEncryptedConfig(protect_sender_id=False)\n",
    ")\n",
    "headers = {\"Content-Type\": \"application/didcomm-encrypted+json\"}\n",
    "resp5 = requests.post(mediator_endpoint, headers=headers, data = alice_ack_packed_msg.packed_msg)"
   ]
  },
  {
   "cell_type": "code",
   "execution_count": 89,
   "metadata": {},
   "outputs": [
    {
     "name": "stdout",
     "output_type": "stream",
     "text": [
      "https://didcomm.org/messagepickup/3.0/status\n",
      "{'message_count': 0, 'live_delivery': False}\n"
     ]
    }
   ],
   "source": [
    "mediator_ack_status = await unpack(\n",
    "    resolvers_config=ResolversConfig(\n",
    "        secrets_resolver=secrets_resolver,\n",
    "        did_resolver=DIDResolverPeerDID()\n",
    "    ),\n",
    "    packed_msg= resp5.json()\n",
    ")\n",
    "print(mediator_ack_status.message.type)\n",
    "print(mediator_ack_status.message.body)"
   ]
  },
  {
   "cell_type": "code",
   "execution_count": null,
   "metadata": {},
   "outputs": [],
   "source": []
  }
 ],
 "metadata": {
  "kernelspec": {
   "display_name": "Python 3 (ipykernel)",
   "language": "python",
   "name": "python3"
  },
  "language_info": {
   "codemirror_mode": {
    "name": "ipython",
    "version": 3
   },
   "file_extension": ".py",
   "mimetype": "text/x-python",
   "name": "python",
   "nbconvert_exporter": "python",
   "pygments_lexer": "ipython3",
   "version": "3.9.13"
  }
 },
 "nbformat": 4,
 "nbformat_minor": 2
}
