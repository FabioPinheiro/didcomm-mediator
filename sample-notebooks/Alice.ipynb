{
 "cells": [
  {
   "cell_type": "code",
   "execution_count": 1,
   "metadata": {},
   "outputs": [],
   "source": [
    "import json\n",
    "import base64\n",
    "import qrcode\n",
    "import requests\n",
    "import datetime\n",
    "import uuid\n",
    "import matplotlib.pyplot as plt\n",
    "from pymongo import MongoClient\n",
    "from typing import Optional, List\n",
    "from didcomm.common.types import DID, VerificationMethodType, VerificationMaterial, VerificationMaterialFormat\n",
    "from didcomm.did_doc.did_doc import DIDDoc, VerificationMethod, DIDCommService\n",
    "from didcomm.did_doc.did_resolver import DIDResolver\n",
    "from didcomm.message import Message, FromPrior\n",
    "from didcomm.secrets.secrets_resolver_demo import SecretsResolverDemo\n",
    "from didcomm.unpack import unpack, UnpackResult\n",
    "from didcomm.common.resolvers import ResolversConfig\n",
    "from didcomm.pack_encrypted import pack_encrypted, PackEncryptedConfig, PackEncryptedResult\n",
    "from peerdid.core.did_doc_types import DIDCommServicePeerDID\n",
    "from didcomm.secrets.secrets_util import generate_x25519_keys_as_jwk_dict, generate_ed25519_keys_as_jwk_dict, jwk_to_secret\n",
    "from peerdid import peer_did\n",
    "from peerdid.did_doc import DIDDocPeerDID\n",
    "from peerdid.types import VerificationMaterialAuthentication, VerificationMethodTypeAuthentication, VerificationMaterialAgreement, VerificationMethodTypeAgreement, VerificationMaterialFormatPeerDID"
   ]
  },
  {
   "cell_type": "code",
   "execution_count": 55,
   "metadata": {},
   "outputs": [],
   "source": [
    "secrets_resolver = SecretsResolverDemo()"
   ]
  },
  {
   "cell_type": "code",
   "execution_count": 56,
   "metadata": {},
   "outputs": [],
   "source": [
    "class DIDResolverPeerDID(DIDResolver):\n",
    "    async def resolve(self, did: DID) -> DIDDoc:\n",
    "        did_doc_json = peer_did.resolve_peer_did(did, format = VerificationMaterialFormatPeerDID.JWK)\n",
    "        did_doc = DIDDocPeerDID.from_json(did_doc_json)\n",
    "\n",
    "        return DIDDoc(\n",
    "            did=did_doc.did,\n",
    "            key_agreement_kids = did_doc.agreement_kids,\n",
    "            authentication_kids = did_doc.auth_kids,\n",
    "            verification_methods = [\n",
    "                VerificationMethod(\n",
    "                    id = m.id,\n",
    "                    type = VerificationMethodType.JSON_WEB_KEY_2020,\n",
    "                    controller = m.controller,\n",
    "                    verification_material = VerificationMaterial(\n",
    "                        format = VerificationMaterialFormat.JWK,\n",
    "                        value = json.dumps(m.ver_material.value)\n",
    "                    )\n",
    "                )\n",
    "                for m in did_doc.authentication + did_doc.key_agreement\n",
    "            ],\n",
    "             didcomm_services = []\n",
    "#                 DIDCommService(\n",
    "#                     id = s.id,\n",
    "#                     service_endpoint = s.service_endpoint,\n",
    "#                     routing_keys = s.routing_keys,\n",
    "#                     accept = s.accept\n",
    "#                 )\n",
    "#                 for s in did_doc.service\n",
    "#                 if isinstance(s, DIDCommServicePeerDID)\n",
    "#            ] if did_doc.service else []\n",
    "        )"
   ]
  },
  {
   "cell_type": "code",
   "execution_count": 57,
   "metadata": {},
   "outputs": [],
   "source": [
    "async def create_peer_did(self,\n",
    "                        auth_keys_count: int = 1,\n",
    "                        agreement_keys_count: int = 1,\n",
    "                        service_endpoint: Optional[str] = None,\n",
    "                        service_routing_keys: Optional[List[str]] = None\n",
    "                        ) -> str:\n",
    "        # 1. generate keys in JWK format\n",
    "        agreem_keys = [generate_x25519_keys_as_jwk_dict() for _ in range(agreement_keys_count)]\n",
    "        auth_keys = [generate_ed25519_keys_as_jwk_dict() for _ in range(auth_keys_count)]\n",
    "\n",
    "        # 2. prepare the keys for peer DID lib\n",
    "        agreem_keys_peer_did = [\n",
    "            VerificationMaterialAgreement(\n",
    "                type=VerificationMethodTypeAgreement.JSON_WEB_KEY_2020,\n",
    "                format=VerificationMaterialFormatPeerDID.JWK,\n",
    "                value=k[1],\n",
    "            )\n",
    "            for k in agreem_keys\n",
    "        ]\n",
    "        auth_keys_peer_did = [\n",
    "            VerificationMaterialAuthentication(\n",
    "                type=VerificationMethodTypeAuthentication.JSON_WEB_KEY_2020,\n",
    "                format=VerificationMaterialFormatPeerDID.JWK,\n",
    "                value=k[1],\n",
    "            )\n",
    "            for k in auth_keys\n",
    "        ]\n",
    "\n",
    "        # 3. generate service\n",
    "        service = None\n",
    "        if service_endpoint:\n",
    "            service = json.dumps(\n",
    "                DIDCommServicePeerDID(\n",
    "                    id=\"new-id\",\n",
    "                    service_endpoint=service_endpoint, routing_keys=service_routing_keys,\n",
    "                    accept=[\"didcomm/v2\"]\n",
    "                ).to_dict()\n",
    "            )\n",
    "\n",
    "        # 4. call peer DID lib\n",
    "        # if we have just one key (auth), then use numalg0 algorithm\n",
    "        # otherwise use numalg2 algorithm\n",
    "        if len(auth_keys_peer_did) == 1 and not agreem_keys_peer_did and not service:\n",
    "            did = peer_did.create_peer_did_numalgo_0(auth_keys_peer_did[0])\n",
    "        else:\n",
    "            did = peer_did.create_peer_did_numalgo_2(\n",
    "                encryption_keys=agreem_keys_peer_did,\n",
    "                signing_keys=auth_keys_peer_did,\n",
    "                service=service,\n",
    "            )\n",
    "\n",
    "        # 5. set KIDs as in DID DOC for secrets and store the secret in the secrets resolver\n",
    "        did_doc = DIDDocPeerDID.from_json(peer_did.resolve_peer_did(did))\n",
    "        for auth_key, kid in zip(auth_keys, did_doc.auth_kids):\n",
    "            private_key = auth_key[0]\n",
    "            private_key[\"kid\"] = kid\n",
    "            print(private_key)\n",
    "            await secrets_resolver.add_key(jwk_to_secret(private_key))\n",
    "\n",
    "        for agreem_key, kid in zip(agreem_keys, did_doc.agreement_kids):\n",
    "            private_key = agreem_key[0]\n",
    "            private_key[\"kid\"] = kid\n",
    "            print(private_key)\n",
    "            await secrets_resolver.add_key(jwk_to_secret(private_key))\n",
    "\n",
    "        return did\n"
   ]
  },
  {
   "cell_type": "markdown",
   "metadata": {},
   "source": [
    "### Alice get OOB from Mediator"
   ]
  },
  {
   "cell_type": "code",
   "execution_count": 90,
   "metadata": {},
   "outputs": [],
   "source": [
    "#oob_url = requests.get(\"http://127.0.0.1:8000/oob_url\").text\n",
    "oob_url = requests.get(\"https://mediator.rootsid.cloud/oob_url\").text"
   ]
  },
  {
   "cell_type": "code",
   "execution_count": 91,
   "metadata": {},
   "outputs": [
    {
     "name": "stdout",
     "output_type": "stream",
     "text": [
      "https://mediator.rootsid.cloud?_oob=eyJ0eXBlIjoiaHR0cHM6Ly9kaWRjb21tLm9yZy9vdXQtb2YtYmFuZC8yLjAvaW52aXRhdGlvbiIsImlkIjoiMWFiYmQyNjYtZjA2OC00ZTRiLWE1YWUtOWJlNWNhM2IxZWEyIiwiZnJvbSI6ImRpZDpwZWVyOjIuRXo2TFNvN2dyZUFRNEdaUnVwYXJRQzFjeXN4dWJjQ0ZqVlZaZHN2RFNvY0VrTDk3MS5WejZNa3RpRmg3aDNqSGNIdHhvU1dDTmoxb0I1WVJzVGdvWDhTbkRvOUhCWm1kUmR4LlNleUpwWkNJNkltNWxkeTFwWkNJc0luUWlPaUprYlNJc0luTWlPaUpvZEhSd2N6b3ZMMjFsWkdsaGRHOXlMbkp2YjNSemFXUXVZMnh2ZFdRaUxDSmhJanBiSW1ScFpHTnZiVzB2ZGpJaVhYMCIsImJvZHkiOnsiZ29hbF9jb2RlIjoicmVnaXN0ZXIiLCJnb2FsIjoiUmVnaXN0ZXJpbm1lZGlhdG9yIiwiYWNjZXB0IjpbImRpZGNvbW0vdjIiLCJkaWRjb21tL2FpcDI7ZW52PXJmYzU4NyJdfX0\n"
     ]
    }
   ],
   "source": [
    "print(oob_url)"
   ]
  },
  {
   "cell_type": "code",
   "execution_count": 59,
   "metadata": {},
   "outputs": [
    {
     "name": "stdout",
     "output_type": "stream",
     "text": [
      "{'crv': 'Ed25519', 'x': '4py7CtgBb0j5ZIYzPgL0Dngw50GbVvRi07zSbeKDyyY', 'd': '_qhLOJD2aYwMj-hxUJvFf1Bd50QxxVhM9vJOHNaVpeM', 'kty': 'OKP', 'kid': 'did:peer:2.Ez6LSkar1ZjKti7RePcctPAaU5J74SFeVBDuWmPxQAAQzigSG.Vz6MkuhroGYaWxMoirinKxiZESyStmusrLQZNRBy5xbrrtei1#6MkuhroGYaWxMoirinKxiZESyStmusrLQZNRBy5xbrrtei1'}\n",
      "{'crv': 'X25519', 'x': 'hFueyuhF3IkPpmfY9BzObViCsx08RpCeXYBFrTlKvE0', 'd': 'eBbvDPaCM52Q5QYsg-JKgXF2nd44k5aerK7k5yPESFQ', 'kty': 'OKP', 'kid': 'did:peer:2.Ez6LSkar1ZjKti7RePcctPAaU5J74SFeVBDuWmPxQAAQzigSG.Vz6MkuhroGYaWxMoirinKxiZESyStmusrLQZNRBy5xbrrtei1#6LSkar1ZjKti7RePcctPAaU5J74SFeVBDuWmPxQAAQzigSG'}\n",
      "Alice's DID: did:peer:2.Ez6LSkar1ZjKti7RePcctPAaU5J74SFeVBDuWmPxQAAQzigSG.Vz6MkuhroGYaWxMoirinKxiZESyStmusrLQZNRBy5xbrrtei1\n"
     ]
    }
   ],
   "source": [
    "received_msg_encoded = oob_url.split(\"=\")[1]\n",
    "received_msg_decoded = json.loads(str(base64.urlsafe_b64decode(received_msg_encoded + \"==\"), \"utf-8\"))\n",
    "alice_did_for_mediator = await create_peer_did(1,1)\n",
    "print(\"Alice's DID:\", alice_did_for_mediator)"
   ]
  },
  {
   "cell_type": "markdown",
   "metadata": {},
   "source": [
    "### Alice request mediate"
   ]
  },
  {
   "cell_type": "code",
   "execution_count": 60,
   "metadata": {},
   "outputs": [],
   "source": [
    "alice_mediate_grant = Message(\n",
    "    custom_headers = [{\"return_route\": \"all\"}],\n",
    "    id = str(uuid.uuid4()),\n",
    "    type = \"https://didcomm.org/coordinate-mediation/2.0/mediate-request\",\n",
    "    body = {}\n",
    ")"
   ]
  },
  {
   "cell_type": "code",
   "execution_count": 61,
   "metadata": {},
   "outputs": [],
   "source": [
    "alice_mediate_grant_packed = await pack_encrypted(\n",
    "    resolvers_config = ResolversConfig(\n",
    "        secrets_resolver = secrets_resolver,\n",
    "        did_resolver = DIDResolverPeerDID()\n",
    "    ),\n",
    "    message = alice_mediate_grant,\n",
    "    frm = alice_did_for_mediator,\n",
    "    to = received_msg_decoded[\"from\"],\n",
    "    sign_frm = None,\n",
    "    pack_config = PackEncryptedConfig(protect_sender_id=False)\n",
    ")"
   ]
  },
  {
   "cell_type": "markdown",
   "metadata": {},
   "source": [
    "### Sending to Mediator"
   ]
  },
  {
   "cell_type": "code",
   "execution_count": 62,
   "metadata": {},
   "outputs": [
    {
     "name": "stdout",
     "output_type": "stream",
     "text": [
      "https://mediator.rootsid.cloud\n"
     ]
    }
   ],
   "source": [
    "mediator_did_doc = json.loads(peer_did.resolve_peer_did(received_msg_decoded[\"from\"]))\n",
    "mediator_endpoint = mediator_did_doc[\"service\"][0][\"serviceEndpoint\"]\n",
    "print(mediator_endpoint)"
   ]
  },
  {
   "cell_type": "code",
   "execution_count": 63,
   "metadata": {},
   "outputs": [],
   "source": [
    "headers = {\"Content-Type\": \"application/didcomm-encrypted+json\"}\n",
    "resp = requests.post(mediator_endpoint, headers=headers, data = alice_mediate_grant_packed.packed_msg)\n"
   ]
  },
  {
   "cell_type": "code",
   "execution_count": 64,
   "metadata": {},
   "outputs": [
    {
     "name": "stdout",
     "output_type": "stream",
     "text": [
      "{\"protected\":\"eyJ0eXAiOiJhcHBsaWNhdGlvbi9kaWRjb21tLWVuY3J5cHRlZCtqc29uIiwiYWxnIjoiRUNESC0xUFUrQTI1NktXIiwiZW5jIjoiQTI1NkNCQy1IUzUxMiIsImFwdSI6IlpHbGtPbkJsWlhJNk1pNUZlalpNVTJjeWIybDJTa3BuUzJzMGFEZHpXVmsyTkVOTlNsZE9kV0ZIU0VkWk1rWkhVbkZxVFVaS1UzRktNVGxTTGxaNk5rMXJjV1l6WTFWSE1UZFpkM3BrWmpaU05qZDZWWFozUkRZNFZXOUhRVnAyYzNCaGREbE9VamRFV0RWbmRsWXVVMlY1U25CYVEwazJTVzAxYkdSNU1YQmFRMGx6U1c1UmFVOXBTbXRpVTBselNXNU5hVTlwU205a1NGSjNZM3B2ZGt3eU1XeGFSMnhvWkVjNWVVeHVTblppTTFKNllWZFJkVmt5ZUhaa1YxRnBURU5LYUVscWNHSkpiVkp3V2tkT2RtSlhNSFprYWtscFdGZ3dJelpNVTJjeWIybDJTa3BuUzJzMGFEZHpXVmsyTkVOTlNsZE9kV0ZIU0VkWk1rWkhVbkZxVFVaS1UzRktNVGxTIiwiYXB2IjoiNGp2MlFPWXU0LWR4U25weTE5dzlHRFN1eC1xcWdsM0F6WlRyQWRydmJVMCIsInNraWQiOiJkaWQ6cGVlcjoyLkV6NkxTZzJvaXZKSmdLazRoN3NZWTY0Q01KV051YUdIR1kyRkdScWpNRkpTcUoxOVIuVno2TWtxZjNjVUcxN1l3emRmNlI2N3pVdndENjhVb0dBWnZzcGF0OU5SN0RYNWd2Vi5TZXlKcFpDSTZJbTVsZHkxcFpDSXNJblFpT2lKa2JTSXNJbk1pT2lKb2RIUndjem92TDIxbFpHbGhkRzl5TG5KdmIzUnphV1F1WTJ4dmRXUWlMQ0poSWpwYkltUnBaR052YlcwdmRqSWlYWDAjNkxTZzJvaXZKSmdLazRoN3NZWTY0Q01KV051YUdIR1kyRkdScWpNRkpTcUoxOVIiLCJlcGsiOnsiY3J2IjoiWDI1NTE5IiwieCI6Ild0M05CTldXb01NUzc3SW1OVGZPa2RfZmZTbW84NlBBMFFOOWRRZ0htWEkiLCJrdHkiOiJPS1AifX0\",\"recipients\":[{\"header\":{\"kid\":\"did:peer:2.Ez6LSkar1ZjKti7RePcctPAaU5J74SFeVBDuWmPxQAAQzigSG.Vz6MkuhroGYaWxMoirinKxiZESyStmusrLQZNRBy5xbrrtei1#6LSkar1ZjKti7RePcctPAaU5J74SFeVBDuWmPxQAAQzigSG\"},\"encrypted_key\":\"IraLyIUvKe_Xd90yvKJEYuhI4ZQDAoKT5A8sfQuCakwcJoKf76wY_tImUb5YNeNgS3G2d9XwWEQxfS7kLnNiJZKRSggYzm7Y\"}],\"iv\":\"ksXykII_YvuK27_33oZfzA\",\"ciphertext\":\"ra_G0M90lsK8-cxt-qQ_mEpXazEn6WlmIK_Giye7W1UfH0-SBYWa58ugusM4sTTZtlaIN4bqBcwaSvyXiDtt8WNI1-C9Q3pLv4cNWyTeDN7IoVYc6lhDpEON4lSOqtMhpErbhRWulQsnPCKBqAn03EeDjd7klrpA6O9YaHxFR94j4B3pKrBq6riQELdjElevIMuRSb7B15Q2W3IxRHcShZ0I-HbiBk4wBjuB86GRKI3BkG0jW7SSMHX7-rL1YdR3g7hxhM0sPscguG5H4BuUzTQnZ4nxtKlE6zZRlsMWAEpCp388f6wQuMOKQs4PL6VwQolsgqDHRKn-Ee86Ov7IexcW7aNti4gOM75rxjg_a5J88QATIgexaEdMLGLdZ5S2gWH4xWSIEjJJrTp1pHivsfuS2eRcwmWT64wL6TwT94aSh8JLEeqEaIle49C9vkIGzuPgjciBdrte1kqtvXKq1P_2Kz6D4km2f3UMN9pwAWKx8poef-psWSKtr0xOelZtxB-Bz0q4X9Gl2DpU3bcLttD0dahjYOCfMY2so431Wt7RAq12PDgPTb0o5MRaXI9PpqGdCyQzDawaBhZgJYEVFfoo0_NeTQvwuNgohbK1J9QVo8UCmFZxrCRxH32spRLAKr_1rhuDcD_6bDK77vIoaCvv5EkMkvpsDaDu6bi0Ks-_clgja7VfqkHrO9fiKH5_yYSt5zMmiCAJXj6B6caNZKijAgNlZ3JPbD8WODKfFlLDWCJV98LLBo3a2_K5UkqMdVe673bK5wvKgHoKI89xi8Tqk8zIa2vPsrbkDVeL9L_3yYU83gDRDViSpulau2GbImDnWxxyi5VMdHdRXNlshdUx1nzEOH8oCi0BteZudGn8skzszYz_zw8_SubL2Zy4N77oOYfUYkBAAR0M8mnvp4SH5GvSHOf2mYvg4t9VB-5Z4PrCjlYUKIw8e91l5y3UgXt8YWHAA-XXNJisgHGkGlLcmmzvwU758lGgvIa2nT1Haldf52NjX113F-yUlbi_P--Vcb4rnwSmTfJoN4_U3g8qcZP9UC14dw5l_p7ceztji0YAE8X-FfciurmlPvG7_NsPIrgExWvX4TAo4U9q1GHjSzwhfpE0AeRRjHPMIfmhJdUnpUUw_vbtGVfMaJdyVvf8lq4oQGIe9tSwk_ujrTXGk-WE4fAZ-e54-U70FBNOUAw-pLzQpHKHvwx4zXR9jbJj_sqCxnxAD6wGcPhSvZOGW1s5YVYfd4DMBUEELtBz6xoduaJlv6jLoiR1TLlZ64MmZphhJKGnJNDU8K7GMa2SMAx-yicj1BH3P77aYbixXMuRRmmScj1zrv0OlyRrFqRz362VVghafrOBUsloS2aBapUEPZzrRwzziZXSNbkwKpWcJBEI0xbKieTkxFt1dKlE6mQqiFgN92E3GfN0AuF9yIPlvlgQooBJr9zg-YYNUELayWEJPasu_MoO9XIqf3Uznk8NQ0dwKASeASBtdUg0QxuE1TKpvMSNLC0Gtp4Y8Jzqt60QAJp6NtLz8AIrmI-p1peVd9j59ujdUvMbgRb-HdGc6DhYB-iGa4uJZ7GiUwWPIYYilTego4HhVvGUZGGlG7tgwpK8JCWEuypntLgGWa1y3BTrPZhg4OZ2Ovd27xP5749a-yuDDryp4FirP0Eikwtmhfw-DZw4HMiAfh0F_QLlC7KW87hpZ3mdJUGuyQTZtWMgC7Brx_jJjCjwggHojI7RMAOUIwfMBHPRedicSBEjDo4rCVAI7bMqOQ-buWz6Zu5eYlY_JmoJGII4lKJfWysZiQJzWAG-VaB-MYsUyOIeRQTO7sXsJHX4bTul7BAeM_sGGtd1aKXEw7SHU2RKMO74jgmOVcdbDSt-iGqr1ZMFXTVo4NtlZkFqFeCuZbq30FtW00kFIqWeO4PzR96UGtko2NxYOV5KwnfD5cia2fs_DJmfKBTKXiKuzy2W2b6uifTFX6Nbau2YwfkLt_dCJCAypUzhXZEeG7VWQrQ5YodNIeZ6OojZbxrSWX8\",\"tag\":\"Bk-DzF_z6Wllc5QnQlEYv2jFk7LuJHWf4Q-WiR5-HH0\"}\n"
     ]
    }
   ],
   "source": [
    "print(resp.json())"
   ]
  },
  {
   "cell_type": "markdown",
   "metadata": {},
   "source": [
    "### Get mediator grant response"
   ]
  },
  {
   "cell_type": "code",
   "execution_count": 65,
   "metadata": {},
   "outputs": [
    {
     "name": "stdout",
     "output_type": "stream",
     "text": [
      "https://didcomm.org/coordinate-mediation/2.0/mediate-grant\n",
      "Routing Key: did:peer:2.Ez6LSi9z2nqieNNz7CPzoKBNqhHm1yP9dcNC9TnzxuR2kAKEx.Vz6MkpSofWKc4FLWSJDyXu8GxPsS36GXeAoASqCPztSUXQ82P.SeyJpZCI6Im5ldy1pZCIsInQiOiJkbSIsInMiOiJodHRwczovL21lZGlhdG9yLnJvb3RzaWQuY2xvdWQiLCJhIjpbImRpZGNvbW0vdjIiXX0\n",
      "Mediator new DID: did:peer:2.Ez6LSg2oivJJgKk4h7sYY64CMJWNuaGHGY2FGRqjMFJSqJ19R.Vz6Mkqf3cUG17Ywzdf6R67zUvwD68UoGAZvspat9NR7DX5gvV.SeyJpZCI6Im5ldy1pZCIsInQiOiJkbSIsInMiOiJodHRwczovL21lZGlhdG9yLnJvb3RzaWQuY2xvdWQiLCJhIjpbImRpZGNvbW0vdjIiXX0\n"
     ]
    }
   ],
   "source": [
    "mediator_unpack_msg = await unpack(\n",
    "    resolvers_config=ResolversConfig(\n",
    "        secrets_resolver=secrets_resolver,\n",
    "        did_resolver=DIDResolverPeerDID()\n",
    "    ),\n",
    "    packed_msg= resp.json()\n",
    ")\n",
    "print(mediator_unpack_msg.message.type)\n",
    "print(\"Routing Key: \" + mediator_unpack_msg.message.body[\"routing_did\"])\n",
    "print(\"Mediator new DID: \" + mediator_unpack_msg.message.from_prior.sub)\n",
    "# mediator rotated did\n",
    "mediator_routing_key = mediator_unpack_msg.message.body[\"routing_did\"]\n",
    "mediator_did = mediator_unpack_msg.message.from_prior.sub"
   ]
  },
  {
   "cell_type": "markdown",
   "metadata": {},
   "source": [
    "### Keylist update"
   ]
  },
  {
   "cell_type": "markdown",
   "metadata": {},
   "source": [
    "Alice create a new DID to share with  other peers using mediator routing keys "
   ]
  },
  {
   "cell_type": "code",
   "execution_count": 66,
   "metadata": {},
   "outputs": [
    {
     "name": "stdout",
     "output_type": "stream",
     "text": [
      "{'crv': 'Ed25519', 'x': 'CHQdSTu0xveIbwO19wf-ZLhX3lgB66NjukTR11QrQWM', 'd': 'FZxCKuHv546KJte-j7zek_w_ekpRS4oDCPavmGzOFO4', 'kty': 'OKP', 'kid': 'did:peer:2.Ez6LSdiyKeupskKv1GvBoYYaSGLfwBzE9AAkm4jc5vrqsVDsF.Vz6Mkf2FzueL7AGjtuDAmiY8QjiXeRLzSJ725UR5RTdBjpZfG.SeyJpZCI6Im5ldy1pZCIsInQiOiJkbSIsInMiOlt7InVyaSI6ImRpZDpwZWVyOjIuRXo2TFNpOXoybnFpZU5OejdDUHpvS0JOcWhIbTF5UDlkY05DOVRuenh1UjJrQUtFeC5WejZNa3BTb2ZXS2M0RkxXU0pEeVh1OEd4UHNTMzZHWGVBb0FTcUNQenRTVVhRODJQLlNleUpwWkNJNkltNWxkeTFwWkNJc0luUWlPaUprYlNJc0luTWlPaUpvZEhSd2N6b3ZMMjFsWkdsaGRHOXlMbkp2YjNSemFXUXVZMnh2ZFdRaUxDSmhJanBiSW1ScFpHTnZiVzB2ZGpJaVhYMCJ9XSwiYSI6WyJkaWRjb21tL3YyIl19#6Mkf2FzueL7AGjtuDAmiY8QjiXeRLzSJ725UR5RTdBjpZfG'}\n",
      "{'crv': 'X25519', 'x': 'Hm650RKQm2hiMilQYRW9d6BTGb_-OYCdboCY-p0fcVI', 'd': 'EIbvCVcqejsXA5kAg1UhmglwZv2C0RfNOvNnz1NZMGI', 'kty': 'OKP', 'kid': 'did:peer:2.Ez6LSdiyKeupskKv1GvBoYYaSGLfwBzE9AAkm4jc5vrqsVDsF.Vz6Mkf2FzueL7AGjtuDAmiY8QjiXeRLzSJ725UR5RTdBjpZfG.SeyJpZCI6Im5ldy1pZCIsInQiOiJkbSIsInMiOlt7InVyaSI6ImRpZDpwZWVyOjIuRXo2TFNpOXoybnFpZU5OejdDUHpvS0JOcWhIbTF5UDlkY05DOVRuenh1UjJrQUtFeC5WejZNa3BTb2ZXS2M0RkxXU0pEeVh1OEd4UHNTMzZHWGVBb0FTcUNQenRTVVhRODJQLlNleUpwWkNJNkltNWxkeTFwWkNJc0luUWlPaUprYlNJc0luTWlPaUpvZEhSd2N6b3ZMMjFsWkdsaGRHOXlMbkp2YjNSemFXUXVZMnh2ZFdRaUxDSmhJanBiSW1ScFpHTnZiVzB2ZGpJaVhYMCJ9XSwiYSI6WyJkaWRjb21tL3YyIl19#6LSdiyKeupskKv1GvBoYYaSGLfwBzE9AAkm4jc5vrqsVDsF'}\n",
      "Alice's DID for Bob: did:peer:2.Ez6LSdiyKeupskKv1GvBoYYaSGLfwBzE9AAkm4jc5vrqsVDsF.Vz6Mkf2FzueL7AGjtuDAmiY8QjiXeRLzSJ725UR5RTdBjpZfG.SeyJpZCI6Im5ldy1pZCIsInQiOiJkbSIsInMiOlt7InVyaSI6ImRpZDpwZWVyOjIuRXo2TFNpOXoybnFpZU5OejdDUHpvS0JOcWhIbTF5UDlkY05DOVRuenh1UjJrQUtFeC5WejZNa3BTb2ZXS2M0RkxXU0pEeVh1OEd4UHNTMzZHWGVBb0FTcUNQenRTVVhRODJQLlNleUpwWkNJNkltNWxkeTFwWkNJc0luUWlPaUprYlNJc0luTWlPaUpvZEhSd2N6b3ZMMjFsWkdsaGRHOXlMbkp2YjNSemFXUXVZMnh2ZFdRaUxDSmhJanBiSW1ScFpHTnZiVzB2ZGpJaVhYMCJ9XSwiYSI6WyJkaWRjb21tL3YyIl19\n"
     ]
    }
   ],
   "source": [
    "#alice_did_new = await create_peer_did(1, 1, service_endpoint=mediator_endpoint, service_routing_keys=[mediator_routing_key])\n",
    "alice_did_for_bob = await create_peer_did(1, 1, service_endpoint=[{\"uri\": mediator_routing_key}])\n",
    "\n",
    "print(\"Alice's DID for Bob:\", alice_did_for_bob)"
   ]
  },
  {
   "cell_type": "markdown",
   "metadata": {},
   "source": [
    "Alice create and send the keylist update message"
   ]
  },
  {
   "cell_type": "code",
   "execution_count": 67,
   "metadata": {},
   "outputs": [],
   "source": [
    "alice_keylist_update = Message(\n",
    "    id = \"unique-id-293e9a922efff\",\n",
    "    type = \"https://didcomm.org/coordinate-mediation/2.0/keylist-update\",\n",
    "    body = {\n",
    "        \"updates\":[\n",
    "        {\n",
    "            \"recipient_did\": alice_did_for_bob,\n",
    "            \"action\": \"add\"\n",
    "        }\n",
    "    ]\n",
    "    }\n",
    ")"
   ]
  },
  {
   "cell_type": "code",
   "execution_count": 74,
   "metadata": {},
   "outputs": [],
   "source": [
    "alice_keylist_update_packed_msg = await pack_encrypted(\n",
    "    resolvers_config = ResolversConfig(\n",
    "        secrets_resolver = secrets_resolver,\n",
    "        did_resolver = DIDResolverPeerDID()\n",
    "    ),\n",
    "    message = alice_keylist_update,\n",
    "    frm = alice_did_for_mediator,\n",
    "    to = mediator_did,\n",
    "    sign_frm = None,\n",
    "    pack_config = PackEncryptedConfig(protect_sender_id=False)\n",
    ")"
   ]
  },
  {
   "cell_type": "code",
   "execution_count": 75,
   "metadata": {},
   "outputs": [],
   "source": [
    "headers = {\"Content-Type\": \"application/didcomm-encrypted+json\"}\n",
    "resp = requests.post(mediator_endpoint, headers=headers, data = alice_keylist_update_packed_msg.packed_msg)"
   ]
  },
  {
   "cell_type": "code",
   "execution_count": 76,
   "metadata": {},
   "outputs": [
    {
     "name": "stdout",
     "output_type": "stream",
     "text": [
      "https://didcomm.org/coordinate-mediation/2.0/keylist-update-response\n",
      "{'updated': [{'recipient_did': 'did:peer:2.Ez6LSdiyKeupskKv1GvBoYYaSGLfwBzE9AAkm4jc5vrqsVDsF.Vz6Mkf2FzueL7AGjtuDAmiY8QjiXeRLzSJ725UR5RTdBjpZfG.SeyJpZCI6Im5ldy1pZCIsInQiOiJkbSIsInMiOlt7InVyaSI6ImRpZDpwZWVyOjIuRXo2TFNpOXoybnFpZU5OejdDUHpvS0JOcWhIbTF5UDlkY05DOVRuenh1UjJrQUtFeC5WejZNa3BTb2ZXS2M0RkxXU0pEeVh1OEd4UHNTMzZHWGVBb0FTcUNQenRTVVhRODJQLlNleUpwWkNJNkltNWxkeTFwWkNJc0luUWlPaUprYlNJc0luTWlPaUpvZEhSd2N6b3ZMMjFsWkdsaGRHOXlMbkp2YjNSemFXUXVZMnh2ZFdRaUxDSmhJanBiSW1ScFpHTnZiVzB2ZGpJaVhYMCJ9XSwiYSI6WyJkaWRjb21tL3YyIl19', 'action': 'add', 'result': 'no_change'}]}\n"
     ]
    }
   ],
   "source": [
    "mediator_unpack_msg2 = await unpack(\n",
    "    resolvers_config=ResolversConfig(\n",
    "        secrets_resolver=secrets_resolver,\n",
    "        did_resolver=DIDResolverPeerDID()\n",
    "    ),\n",
    "    packed_msg= resp.json()\n",
    ")\n",
    "print(mediator_unpack_msg2.message.type)\n",
    "print(mediator_unpack_msg2.message.body)\n"
   ]
  },
  {
   "cell_type": "markdown",
   "metadata": {},
   "source": [
    "### Alice can now send her DID to Bob."
   ]
  },
  {
   "cell_type": "markdown",
   "metadata": {},
   "source": [
    "### Alice check status of queued messages from the Mediator"
   ]
  },
  {
   "cell_type": "code",
   "execution_count": 77,
   "metadata": {},
   "outputs": [],
   "source": [
    "alice_status_check = Message(\n",
    "    id = \"unique-id-293e9a922efffxxx\",\n",
    "    type = \"https://didcomm.org/messagepickup/3.0/status-request\",\n",
    "    body = {}\n",
    ")"
   ]
  },
  {
   "cell_type": "code",
   "execution_count": 78,
   "metadata": {},
   "outputs": [],
   "source": [
    "alice_status_check_packed_msg = await pack_encrypted(\n",
    "    resolvers_config = ResolversConfig(\n",
    "        secrets_resolver = secrets_resolver,\n",
    "        did_resolver = DIDResolverPeerDID()\n",
    "    ),\n",
    "    message = alice_status_check,\n",
    "    to = mediator_did,\n",
    "    frm = alice_did_for_mediator,\n",
    "    sign_frm = None,\n",
    "    pack_config = PackEncryptedConfig(protect_sender_id=False)\n",
    ")\n",
    "headers = {\"Content-Type\": \"application/didcomm-encrypted+json\"}\n",
    "resp3 = requests.post(mediator_endpoint, headers=headers, data = alice_status_check_packed_msg.packed_msg)"
   ]
  },
  {
   "cell_type": "code",
   "execution_count": 79,
   "metadata": {},
   "outputs": [
    {
     "name": "stdout",
     "output_type": "stream",
     "text": [
      "https://didcomm.org/messagepickup/3.0/status\n",
      "Messages in Mediator queue: 1\n"
     ]
    }
   ],
   "source": [
    "mediator_unpack_status = await unpack(\n",
    "    resolvers_config=ResolversConfig(\n",
    "        secrets_resolver=secrets_resolver,\n",
    "        did_resolver=DIDResolverPeerDID()\n",
    "    ),\n",
    "    packed_msg= resp3.json()\n",
    ")\n",
    "print(mediator_unpack_status.message.type)\n",
    "print(\"Messages in Mediator queue: \" + str(mediator_unpack_status.message.body[\"message_count\"]))"
   ]
  },
  {
   "cell_type": "markdown",
   "metadata": {},
   "source": [
    "### If there are messages, Alice can pickup from the mediator (delivery request)"
   ]
  },
  {
   "cell_type": "code",
   "execution_count": 80,
   "metadata": {},
   "outputs": [],
   "source": [
    "alice_delivery_request = Message(\n",
    "    id = \"unique-id-293e9a922efffxxxff\",\n",
    "    type = \"https://didcomm.org/messagepickup/3.0/delivery-request\",\n",
    "    body = {\"limit\": 1}\n",
    ")"
   ]
  },
  {
   "cell_type": "code",
   "execution_count": 81,
   "metadata": {},
   "outputs": [],
   "source": [
    "alice_delivery_request_packed_msg = await pack_encrypted(\n",
    "    resolvers_config = ResolversConfig(\n",
    "        secrets_resolver = secrets_resolver,\n",
    "        did_resolver = DIDResolverPeerDID()\n",
    "    ),\n",
    "    message = alice_delivery_request,\n",
    "    to = mediator_did,\n",
    "    frm = alice_did_for_mediator,\n",
    "    sign_frm = None,\n",
    "    pack_config = PackEncryptedConfig(protect_sender_id=False)\n",
    ")\n",
    "headers = {\"Content-Type\": \"application/didcomm-encrypted+json\"}\n",
    "resp4 = requests.post(mediator_endpoint, headers=headers, data = alice_delivery_request_packed_msg.packed_msg)"
   ]
  },
  {
   "cell_type": "code",
   "execution_count": 82,
   "metadata": {},
   "outputs": [
    {
     "name": "stdout",
     "output_type": "stream",
     "text": [
      "https://didcomm.org/messagepickup/3.0/delivery\n",
      "{'recipient_key': None}\n"
     ]
    }
   ],
   "source": [
    "mediator_delivery = await unpack(\n",
    "    resolvers_config=ResolversConfig(\n",
    "        secrets_resolver=secrets_resolver,\n",
    "        did_resolver=DIDResolverPeerDID()\n",
    "    ),\n",
    "    packed_msg= resp4.json()\n",
    ")\n",
    "print(mediator_delivery.message.type)\n",
    "print(mediator_delivery.message.body)"
   ]
  },
  {
   "cell_type": "code",
   "execution_count": 83,
   "metadata": {},
   "outputs": [],
   "source": [
    "bob_packed_msg = mediator_delivery.message.attachments[0].data.json\n",
    "msg_id = mediator_delivery.message.attachments[0].id"
   ]
  },
  {
   "cell_type": "code",
   "execution_count": 84,
   "metadata": {},
   "outputs": [
    {
     "name": "stdout",
     "output_type": "stream",
     "text": [
      "{'protected': 'eyJ0eXAiOiJhcHBsaWNhdGlvbi9kaWRjb21tLWVuY3J5cHRlZCtqc29uIiwiYWxnIjoiRUNESC0xUFUrQTI1NktXIiwiZW5jIjoiQTI1NkNCQy1IUzUxMiIsImFwdSI6IlpHbGtPbkJsWlhJNk1pNUZlalpNVTNCS1MwWXlORkJOVTIxWVRYTlpTRVpZWlVVM1VrRmhNV1owY25WWVJreENhMFJTUVZOWGRETXhjMFpGTGxaNk5rMXJkWE5RZEhsV05uRkxRMmxwVlRreWVEWXlaRzlwTTNsMVRHcGFjRTF6VUZkcVJWcHhjbEJoTTNFM2FHTXVVMlY1U25CYVEwazJTVzAxYkdSNU1YQmFRMGx6U1c1UmFVOXBTbXRpVTBselNXNU5hVTlwU205a1NGSjNZM3B2ZGt3elpETmtlVFZzWlVkR2RHTkhlR3hNYlU1MllsTTVhV0l5U1dsTVEwcG9TV3B3WWtsdFVuQmFSMDUyWWxjd2RtUnFTV2xZV0RBak5reFRjRXBMUmpJMFVFMVRiVmhOYzFsSVJsaGxSVGRTUVdFeFpuUnlkVmhHVEVKclJGSkJVMWQwTXpGelJrVSIsImFwdiI6Imw5NllfX3M5cHYxbG1CaEdxb0h2eF96eHBPamxxMVY2QUdGWWRVcDBBQjQiLCJza2lkIjoiZGlkOnBlZXI6Mi5FejZMU3BKS0YyNFBNU21YTXNZSEZYZUU3UkFhMWZ0cnVYRkxCa0RSQVNXdDMxc0ZFLlZ6Nk1rdXNQdHlWNnFLQ2lpVTkyeDYyZG9pM3l1TGpacE1zUFdqRVpxclBhM3E3aGMuU2V5SnBaQ0k2SW01bGR5MXBaQ0lzSW5RaU9pSmtiU0lzSW5NaU9pSm9kSFJ3Y3pvdkwzZDNkeTVsZUdGdGNHeGxMbU52YlM5aWIySWlMQ0poSWpwYkltUnBaR052YlcwdmRqSWlYWDAjNkxTcEpLRjI0UE1TbVhNc1lIRlhlRTdSQWExZnRydVhGTEJrRFJBU1d0MzFzRkUiLCJlcGsiOnsiY3J2IjoiWDI1NTE5IiwieCI6IjNEQWR6UUtNYkkwUk5RNUtISG1Xa3gxd2EzcHJMaG96eUJoQ2ZWZlZkU1UiLCJrdHkiOiJPS1AifX0', 'recipients': [{'header': {'kid': 'did:peer:2.Ez6LSdiyKeupskKv1GvBoYYaSGLfwBzE9AAkm4jc5vrqsVDsF.Vz6Mkf2FzueL7AGjtuDAmiY8QjiXeRLzSJ725UR5RTdBjpZfG.SeyJpZCI6Im5ldy1pZCIsInQiOiJkbSIsInMiOlt7InVyaSI6ImRpZDpwZWVyOjIuRXo2TFNpOXoybnFpZU5OejdDUHpvS0JOcWhIbTF5UDlkY05DOVRuenh1UjJrQUtFeC5WejZNa3BTb2ZXS2M0RkxXU0pEeVh1OEd4UHNTMzZHWGVBb0FTcUNQenRTVVhRODJQLlNleUpwWkNJNkltNWxkeTFwWkNJc0luUWlPaUprYlNJc0luTWlPaUpvZEhSd2N6b3ZMMjFsWkdsaGRHOXlMbkp2YjNSemFXUXVZMnh2ZFdRaUxDSmhJanBiSW1ScFpHTnZiVzB2ZGpJaVhYMCJ9XSwiYSI6WyJkaWRjb21tL3YyIl19#6LSdiyKeupskKv1GvBoYYaSGLfwBzE9AAkm4jc5vrqsVDsF'}, 'encrypted_key': 'MjND-Fs_Lb41vaSUYuunw750NiPhQSklwgDiBxjxIVMLEaYWADODvQJISOrHQlcUEgLfwf2HkHtPckJTEqoCs5HzgtoCvXs5'}], 'iv': 'AaHKShjhCagcm8kz8oCHfA', 'ciphertext': 'hlgog7notP24Y37UBB8gdD7RaGlxOSkwJ1vevu4eb3a8X6TpWiQxOTCsML0XgqvGSI8mPMOoNZhfHNVt6Lf83AEHFCpD1UnDrAXXDCtF4EsrbxmcVIx8Zc-OG_Y-NJ51NwLNiSMr_TGL7qzr9OFkZfdudBcD3ba5_rr5gXYrt0ptnTgiPGMtKh2hjuxQSWHrSsCgCEJA86uGcM8HydFOYfOC8r3i6CgHSKq-1xs7hMZ-5DQ3GIypFc4MUrmM8iPd8QoSV41AObf0oG5HazkpsQ', 'tag': 'KxS3OATXWMfOlMHw7pIA7u1tNtVmL0eZHZ86P8YMu_M'}\n"
     ]
    }
   ],
   "source": [
    "print(bob_packed_msg)"
   ]
  },
  {
   "cell_type": "code",
   "execution_count": 85,
   "metadata": {},
   "outputs": [],
   "source": [
    "bob_msg = await unpack(\n",
    "    resolvers_config=ResolversConfig(\n",
    "        secrets_resolver=secrets_resolver,\n",
    "        did_resolver=DIDResolverPeerDID()\n",
    "    ),\n",
    "    packed_msg= bob_packed_msg\n",
    ")"
   ]
  },
  {
   "cell_type": "code",
   "execution_count": 86,
   "metadata": {},
   "outputs": [
    {
     "name": "stdout",
     "output_type": "stream",
     "text": [
      "Message ID: 631c54e4fbf4f431f98da39b\n",
      "Hola Alice\n"
     ]
    }
   ],
   "source": [
    "print(\"Message ID:\", msg_id)\n",
    "print(bob_msg.message.body[\"content\"])"
   ]
  },
  {
   "cell_type": "markdown",
   "metadata": {},
   "source": [
    "### Alice acknowledge so the mediator can delete the message"
   ]
  },
  {
   "cell_type": "code",
   "execution_count": 87,
   "metadata": {},
   "outputs": [],
   "source": [
    "alice_ack = Message(\n",
    "    id = \"unique-id-293e9a922efffxxxffsss\",\n",
    "    type = \"https://didcomm.org/messagepickup/3.0/messages-received\",\n",
    "    body = {\"message_id_list\": [msg_id]}\n",
    ")"
   ]
  },
  {
   "cell_type": "code",
   "execution_count": 88,
   "metadata": {},
   "outputs": [],
   "source": [
    "alice_ack_packed_msg = await pack_encrypted(\n",
    "    resolvers_config = ResolversConfig(\n",
    "        secrets_resolver = secrets_resolver,\n",
    "        did_resolver = DIDResolverPeerDID()\n",
    "    ),\n",
    "    message = alice_ack,\n",
    "    to = mediator_did,\n",
    "    frm = alice_did_for_mediator,\n",
    "    sign_frm = None,\n",
    "    pack_config = PackEncryptedConfig(protect_sender_id=False)\n",
    ")\n",
    "headers = {\"Content-Type\": \"application/didcomm-encrypted+json\"}\n",
    "resp5 = requests.post(mediator_endpoint, headers=headers, data = alice_ack_packed_msg.packed_msg)"
   ]
  },
  {
   "cell_type": "code",
   "execution_count": 89,
   "metadata": {},
   "outputs": [
    {
     "name": "stdout",
     "output_type": "stream",
     "text": [
      "https://didcomm.org/messagepickup/3.0/status\n",
      "{'message_count': 0, 'live_delivery': False}\n"
     ]
    }
   ],
   "source": [
    "mediator_ack_status = await unpack(\n",
    "    resolvers_config=ResolversConfig(\n",
    "        secrets_resolver=secrets_resolver,\n",
    "        did_resolver=DIDResolverPeerDID()\n",
    "    ),\n",
    "    packed_msg= resp5.json()\n",
    ")\n",
    "print(mediator_ack_status.message.type)\n",
    "print(mediator_ack_status.message.body)"
   ]
  },
  {
   "cell_type": "code",
   "execution_count": null,
   "metadata": {},
   "outputs": [],
   "source": []
  }
 ],
 "metadata": {
  "kernelspec": {
   "display_name": "Python 3 (ipykernel)",
   "language": "python",
   "name": "python3"
  },
  "language_info": {
   "codemirror_mode": {
    "name": "ipython",
    "version": 3
   },
   "file_extension": ".py",
   "mimetype": "text/x-python",
   "name": "python",
   "nbconvert_exporter": "python",
   "pygments_lexer": "ipython3",
   "version": "3.9.13"
  }
 },
 "nbformat": 4,
 "nbformat_minor": 2
}
